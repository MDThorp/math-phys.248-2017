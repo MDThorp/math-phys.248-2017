{
 "cells": [
  {
   "cell_type": "markdown",
   "metadata": {
    "deletable": true,
    "editable": true
   },
   "source": [
    "# Lab Monday March 13th\n",
    "\n",
    "\n",
    "## 3D cube for transformation\n",
    "\n",
    "* We would like to extend the concept of transformations to 3D.\n",
    "* As an example we first _draw_ a cube by creating an array that has points distributed along the eight edges of a cube.\n",
    "* For this we will look at a couple of array manipulation methods in numpy, such as \n",
    "    * [numpy.ravel](https://docs.scipy.org/doc/numpy/reference/generated/numpy.ravel.html)\n",
    "    * [numpy.reshape](https://docs.scipy.org/doc/numpy/reference/generated/numpy.reshape.html#numpy.reshape)\n",
    "* and at iterators\n",
    "* you will need this for Assignment 4\n",
    "* [cube example](./cube.ipynb)"
   ]
  },
  {
   "cell_type": "markdown",
   "metadata": {
    "deletable": true,
    "editable": true
   },
   "source": [
    "\n",
    "## implicit multi-variable Newton Raphson\n",
    "\n",
    "Following the material from [Lecture 2 Week 10](../Week.10/Lecture.2.ipynb) implement an implicit Newton-Raphson solve for the skydiver solving simultaneously for the height $h(t)$ and velocity $v(t)$.\n",
    "\n",
    "* Implement the coeffecient matrix $\\matrix{F}$."
   ]
  },
  {
   "cell_type": "code",
   "execution_count": null,
   "metadata": {
    "collapsed": true
   },
   "outputs": [],
   "source": []
  },
  {
   "cell_type": "markdown",
   "metadata": {},
   "source": [
    "* Implement the Jacoby matrix"
   ]
  },
  {
   "cell_type": "code",
   "execution_count": null,
   "metadata": {
    "collapsed": true
   },
   "outputs": [],
   "source": []
  },
  {
   "cell_type": "markdown",
   "metadata": {},
   "source": [
    "* Implement one NR-step by using a Gauss elemination step to solve the set of linear equations and determine the correction vector $\\delta$."
   ]
  },
  {
   "cell_type": "code",
   "execution_count": null,
   "metadata": {
    "collapsed": true
   },
   "outputs": [],
   "source": []
  },
  {
   "cell_type": "markdown",
   "metadata": {},
   "source": [
    "* apply the correction vector $\\delta$"
   ]
  },
  {
   "cell_type": "code",
   "execution_count": null,
   "metadata": {
    "collapsed": true
   },
   "outputs": [],
   "source": []
  },
  {
   "cell_type": "markdown",
   "metadata": {},
   "source": [
    "* make the next time step"
   ]
  },
  {
   "cell_type": "code",
   "execution_count": null,
   "metadata": {
    "collapsed": true
   },
   "outputs": [],
   "source": []
  },
  {
   "cell_type": "markdown",
   "metadata": {},
   "source": [
    "At each step visualize your results to make sure you are doing the right thing. This will save debugging time later. \n",
    "\n",
    "* Finally: compare your result with the explicit solution."
   ]
  },
  {
   "cell_type": "code",
   "execution_count": null,
   "metadata": {
    "collapsed": true
   },
   "outputs": [],
   "source": []
  }
 ],
 "metadata": {
  "anaconda-cloud": {},
  "kernelspec": {
   "display_name": "Python 3",
   "language": "python",
   "name": "python3"
  },
  "language_info": {
   "codemirror_mode": {
    "name": "ipython",
    "version": 3
   },
   "file_extension": ".py",
   "mimetype": "text/x-python",
   "name": "python",
   "nbconvert_exporter": "python",
   "pygments_lexer": "ipython3",
   "version": "3.5.2"
  }
 },
 "nbformat": 4,
 "nbformat_minor": 1
}
