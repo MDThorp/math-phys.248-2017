{
 "cells": [
  {
   "cell_type": "markdown",
   "metadata": {
    "deletable": true,
    "editable": true
   },
   "source": [
    "# Lab Monday March 13th\n",
    "\n",
    "\n",
    "## Revisit Lab Week 10\n",
    "\n",
    "* make sure you have completed the [Lab in Week 10](../Week.10/Lab.ipynb)"
   ]
  },
  {
   "cell_type": "markdown",
   "metadata": {
    "deletable": true,
    "editable": true
   },
   "source": [
    "\n",
    "## Implicit multi-variable Newton Raphson\n",
    "\n",
    "Following the material from [Lecture 2 Week 10](../Week.10/Lecture.2.ipynb) implement an implicit Newton-Raphson solve for the skydiver solving simultaneously for the height $h(t)$ and velocity $v(t)$.\n",
    "\n",
    "* Implement the coeffecient matrix $\\matrix{F}$ and the constant vector $\\vec{c}$"
   ]
  },
  {
   "cell_type": "code",
   "execution_count": null,
   "metadata": {
    "collapsed": true
   },
   "outputs": [],
   "source": [
    "%pylab nbagg "
   ]
  },
  {
   "cell_type": "code",
   "execution_count": null,
   "metadata": {
    "collapsed": true
   },
   "outputs": [],
   "source": [
    "k = 0.0022; g = 9.8 \n",
    "vn = 0; hn = 0\n",
    "dt = 3 "
   ]
  },
  {
   "cell_type": "code",
   "execution_count": 2,
   "metadata": {
    "collapsed": false,
    "deletable": true,
    "editable": true
   },
   "outputs": [
    {
     "name": "stdout",
     "output_type": "stream",
     "text": [
      "Populating the interactive namespace from numpy and matplotlib\n"
     ]
    }
   ],
   "source": [
    "def F_matrix(Y,k,dt):\n",
    "    return np.matrix([[-1. + dt*k*Y[0] ,0],[dt,-1]])\n",
    "c = array([vn - dt*g,hn])"
   ]
  },
  {
   "cell_type": "markdown",
   "metadata": {
    "deletable": true,
    "editable": true
   },
   "source": [
    "* Implement the Jacoby matrix and RHS G(Y)"
   ]
  },
  {
   "cell_type": "code",
   "execution_count": 3,
   "metadata": {
    "collapsed": true,
    "deletable": true,
    "editable": true
   },
   "outputs": [],
   "source": [
    "def G_jacoby(Y,k,dt):\n",
    "    return np.matrix([[-1. + 2.*dt*k*Y[0] ,0],[dt,-1]])\n",
    "def G_rhs(Y,c,dt,k):\n",
    "    G[0]= - Y[0] + c[0] + dt*k*Y[0]**2\n",
    "    # G_2(\\vec{Y}) = -Y_2 + c_2 + dt\\, Y_1 $$\n",
    "\n",
    "    return G"
   ]
  },
  {
   "cell_type": "markdown",
   "metadata": {
    "deletable": true,
    "editable": true
   },
   "source": [
    "* Implement one NR-step by using a Gauss elemination step to solve the set of linear equations and determine the correction vector $\\delta$."
   ]
  },
  {
   "cell_type": "code",
   "execution_count": null,
   "metadata": {
    "collapsed": true,
    "deletable": true,
    "editable": true
   },
   "outputs": [],
   "source": []
  },
  {
   "cell_type": "markdown",
   "metadata": {
    "deletable": true,
    "editable": true
   },
   "source": [
    "* apply the correction vector $\\delta$"
   ]
  },
  {
   "cell_type": "code",
   "execution_count": null,
   "metadata": {
    "collapsed": true,
    "deletable": true,
    "editable": true
   },
   "outputs": [],
   "source": []
  },
  {
   "cell_type": "markdown",
   "metadata": {
    "deletable": true,
    "editable": true
   },
   "source": [
    "* make the next time step"
   ]
  },
  {
   "cell_type": "code",
   "execution_count": null,
   "metadata": {
    "collapsed": true,
    "deletable": true,
    "editable": true
   },
   "outputs": [],
   "source": []
  },
  {
   "cell_type": "markdown",
   "metadata": {
    "deletable": true,
    "editable": true
   },
   "source": [
    "At each step visualize your results to make sure you are doing the right thing. This will save debugging time later. \n",
    "\n",
    "* Finally: compare your result with the explicit solution."
   ]
  },
  {
   "cell_type": "code",
   "execution_count": null,
   "metadata": {
    "collapsed": true,
    "deletable": true,
    "editable": true
   },
   "outputs": [],
   "source": []
  }
 ],
 "metadata": {
  "anaconda-cloud": {},
  "kernelspec": {
   "display_name": "Python 3",
   "language": "python",
   "name": "python3"
  },
  "language_info": {
   "codemirror_mode": {
    "name": "ipython",
    "version": 3
   },
   "file_extension": ".py",
   "mimetype": "text/x-python",
   "name": "python",
   "nbconvert_exporter": "python",
   "pygments_lexer": "ipython3",
   "version": "3.5.2"
  }
 },
 "nbformat": 4,
 "nbformat_minor": 1
}
