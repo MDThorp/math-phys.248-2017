{
 "cells": [
  {
   "cell_type": "markdown",
   "metadata": {},
   "source": [
    "# Topics of this class, some header\n",
    "\n",
    "**Content:**\n",
    "\n",
    "* get to know [WENDI](http://wendi.phys.uvic.ca)\n",
    "* the command line interface (CLI)\n",
    "  - theory\n",
    "  - in-class example, simple shell script\n",
    "* git pull course repo  \n",
    "* introduction to Python programing: what you need to know for the Ludolphine number project\n",
    "  - introduce the elements, e.g. flow control, numpy, basic plotting, random numbers"
   ]
  },
  {
   "cell_type": "markdown",
   "metadata": {},
   "source": [
    " ## 1. Wendi\n",
    "* Log into [Wendi](http://wendi.phys.uvic.ca)\n",
    "* navigate to PHYSMATH248 area\n",
    "* opening a notebook, always use _Python 3_\n",
    "* open a terminal"
   ]
  },
  {
   "cell_type": "markdown",
   "metadata": {},
   "source": [
    "\n",
    "## 2. Command line interface CLI\n",
    "\n",
    "* General explanation of concepts\n",
    "* Specific details\n",
    "\n",
    "* A simple demonstration task\n",
    "\n",
    "\n",
    "###  The unix command line\n",
    "\n",
    "#### the shell\n",
    "The program that provides the command line (not all of the commands) is the shell. A common shell is `bash`. Try `> man bash`. The command line is a unix process. Launching a command on the command line interface (CLI) spawns a child process.\n",
    "\n",
    "#### file manipulation\n",
    "```\n",
    "  emacs, vi (more powerful) or nano \n",
    "  more/less/tail/head\n",
    "  cat\n",
    "  touch\n",
    "  cp\n",
    "  rm\n",
    "  grep\n",
    "  wc (-l)\n",
    "```\n",
    "\n",
    "#### file system\n",
    "```\n",
    "  ls (-l, many other options)\n",
    "  cd  (. or .. or ~ or actual directory)\n",
    "  pwd\n",
    "  mkdir\n",
    "  rmdir\n",
    "  mv  (works on files and directories)  \n",
    "  du (-sh)\n",
    "  df (-h)\n",
    "```\n",
    "\n",
    "\n",
    "#### helpful commands\n",
    "```\n",
    "  man (command)\n",
    "  history\n",
    "```\n",
    "\n",
    "#### networking\n",
    "```\n",
    "  ssh\n",
    "  scp\n",
    "  whoami\n",
    "  rsync \t\n",
    "  ftp\n",
    "  wget\n",
    "```\n",
    "\n",
    "#### processes\n",
    "```\n",
    "  top\n",
    "  ps\n",
    "  pipes and filters: use | to pipe between command, use > to redirect output\n",
    "```\n",
    "  \n",
    "#### customizing your CLI\n",
    "You can define variables and aliases in the .bashrc file. The details on how this is set up depends on the particular Linux/Unix/Mac flavour.\n",
    "\n",
    "```\n",
    "   alias\n",
    "   environment variables\n",
    "```\n",
    "\n",
    "#### shell scripts\n",
    "\n",
    "You can combine a sequence of shell commands into a file and use as a shell script. You have to make the file with the script executable (`chmod u+x file_name.sh`). See file `example.sh` in the [example directory](https://github.com/fherwig/physmath248_pilot/blob/master/examples/example.sh).\n",
    "\n",
    "#### Resources\n",
    "You can find numerous online tutorials and support resources on the internet, such as (search yourself for other and let us know what you find useful) [last updated: 01/2015]:\n",
    "* <http://linuxcommand.org/lc3_learning_the_shell.php>\n",
    "* <http://www.emacswiki.org/emacs/LearningEmacs>\n",
    "* <https://www.youtube.com/watch?v=hbzRWQjA6kI>\n",
    "* <https://www.youtube.com/watch?v=pYUGzgYAgEo>\n",
    "* <https://www.youtube.com/watch?v=3DA1grSp4mU>\n",
    "* you can do very advanced things, as shown, for example, in this [bash tutorial](http://www.funtoo.org/Bash_by_Example,_Part_1), [thanks for the suggestion](https://github.com/Hoverbear)\n",
    "\n",
    "These tutorials may differ in which shell and/or command line editor they us. Don't get confused by that.\n",
    "\n",
    "**Homework:** unix command cheat sheet\n",
    "Familiarize yourself with the CLI, e.g. follow through online resources. Work in a team! Help each other! Look up each command using the `man` command, remind yourself what the command does, try it out, and create a brief reference page for yourself. It should look like this:\n",
    "```\n",
    "ls - list files and directories\n",
    "mv - move file or directory to different place\n",
    "...\n",
    "```\n",
    "\n",
    "**Exercise:**\n",
    "\n",
    "- create a directory and go into it\n",
    "- create a text file (with touch), edit it with the CLI editor of your choice to fill it with the names of lots of people you know\n",
    "- move the file to another name.\n",
    "- how many lines does it have?\n",
    "- search through the file for all incidences of a particular letter or string, and count them with 'wc'\n",
    "- use 'man' to look at the various options for 'grep', and then look for lines that do NOT have the letter 'e' in it.\n",
    "- go up one directory, and use 'du -h' on 1) the entire directory tree, and 2) just the new directory.\n",
    "- use 'man' to look at the options for 'rm', and then delete *ONLY* the entire directory you just created in one command.\n",
    "- use 'history' to see what you just did!\n",
    "- save "
   ]
  },
  {
   "cell_type": "markdown",
   "metadata": {},
   "source": [
    "### git at the CLI\n",
    "\n",
    "#### unfinished business from last class\n",
    "\n",
    "* Explain basic concept along figures in intro chapters in the [Pro Git book](http://www.git-scm.com/book/en/v2)\n",
    "\n",
    "#### Pull course repo\n",
    "The course notes that you are looking at right now are hosted on the [course repo](https://github.com/delooper/math-phys.248-2017) which is public. \n",
    "\n",
    "* enter the terminal of your Wendi session \n",
    "* clone the course repo to your `PHYSMATH248` directory\n",
    "* get `name_of_repo` from github page, https vs. ssh\n",
    "\n",
    "```\n",
    "$ cd notebooks/PHYSMATH248/\n",
    "$ git clone `name_of_repo`\n",
    "```\n",
    "\n",
    "* check repo in Wendi"
   ]
  },
  {
   "cell_type": "markdown",
   "metadata": {},
   "source": [
    "## Intro to Python programing\n",
    "\n",
    "The main programming environment in this class will be [Python](https://www.python.org), and specifically the interactive [ipython](http://ipython.org) environment. The latter provides in combination with the [matplotlib](http://matplotlib.org) package and further extension packages, such as [numpy](http://www.numpy.org) and [scipy](http://www.scipy.org) a very powerful environment for scientific computing. \n",
    "\n",
    "### starting a new notebook\n",
    "* unless otherwise told we **always start Python 3** notebooks\n",
    "* start notebook, give it a name \n",
    "* many things missing, e.g. `sqrt`\n",
    "* a key python feature: modules providing additional functionality, such as `numpy` \n",
    "* load libraries needed, such as numpy: `import numpy as np`"
   ]
  },
  {
   "cell_type": "code",
   "execution_count": null,
   "metadata": {
    "collapsed": false
   },
   "outputs": [],
   "source": []
  },
  {
   "cell_type": "markdown",
   "metadata": {},
   "source": [
    "* magic command `%pylab nbagg` loads numpy and matlab into interactive namespace\n",
    "* very convenient - but beware of **namespace** mingling $\\rightarrow$ _discuss name spaces_ "
   ]
  },
  {
   "cell_type": "code",
   "execution_count": null,
   "metadata": {
    "collapsed": false
   },
   "outputs": [],
   "source": []
  },
  {
   "cell_type": "code",
   "execution_count": null,
   "metadata": {
    "collapsed": false
   },
   "outputs": [],
   "source": []
  },
  {
   "cell_type": "code",
   "execution_count": null,
   "metadata": {
    "collapsed": false
   },
   "outputs": [],
   "source": []
  },
  {
   "cell_type": "markdown",
   "metadata": {},
   "source": [
    "* note that at this point we have three different ways to do a sqrt\n",
    "* see _Keyboard shortcuts_: `Esc` and `Enter` swich between _Command_ mode and _Edit_ mode, learn a few keyboard shortcuts, such as `a` and `b` to add cell after and before current cell in _Command_ mode, or `dd` to delete cell in _Command_mode\n",
    "\n",
    "### simple tasks in python\n",
    "\n",
    "#### variables\n",
    "* variables and choosing variable names: \n",
    "\t- don't use possible function names or other things as variable names that could mean something\n",
    "\t- use mnemonic names\n",
    "\t- be mindful of name space\n",
    "* strings, slicing\n",
    "* lists, tuples, arrays (tupple is immutable)"
   ]
  },
  {
   "cell_type": "code",
   "execution_count": null,
   "metadata": {
    "collapsed": true
   },
   "outputs": [],
   "source": [
    "# this is a comment\n"
   ]
  },
  {
   "cell_type": "code",
   "execution_count": null,
   "metadata": {
    "collapsed": false
   },
   "outputs": [],
   "source": []
  },
  {
   "cell_type": "markdown",
   "metadata": {},
   "source": [
    "#### flow control: for and while loops, if statement"
   ]
  },
  {
   "cell_type": "code",
   "execution_count": null,
   "metadata": {
    "collapsed": false
   },
   "outputs": [],
   "source": []
  },
  {
   "cell_type": "code",
   "execution_count": null,
   "metadata": {
    "collapsed": false
   },
   "outputs": [],
   "source": []
  },
  {
   "cell_type": "markdown",
   "metadata": {},
   "source": [
    "* the importance of syntax in python\n",
    "\n",
    "#### functions: \n",
    "- `def` \n",
    "- function arguments: mandatory and optional\n",
    "- lambda functions: "
   ]
  },
  {
   "cell_type": "code",
   "execution_count": null,
   "metadata": {
    "collapsed": false
   },
   "outputs": [],
   "source": []
  },
  {
   "cell_type": "code",
   "execution_count": null,
   "metadata": {
    "collapsed": false
   },
   "outputs": [],
   "source": []
  },
  {
   "cell_type": "markdown",
   "metadata": {},
   "source": [
    "#### your own module\n",
    "* add functions and variables into file calles `mymod.py` in the _present working directory_\n",
    "* import module and use it"
   ]
  },
  {
   "cell_type": "code",
   "execution_count": null,
   "metadata": {
    "collapsed": false
   },
   "outputs": [],
   "source": []
  },
  {
   "cell_type": "code",
   "execution_count": null,
   "metadata": {
    "collapsed": false
   },
   "outputs": [],
   "source": []
  },
  {
   "cell_type": "markdown",
   "metadata": {},
   "source": [
    "#### help and documentation\n",
    "* getting help: `help(function)` or `function?`\n",
    "* comments and documentation: doc strings\n",
    "* add docstrings to your own module"
   ]
  },
  {
   "cell_type": "code",
   "execution_count": null,
   "metadata": {
    "collapsed": true
   },
   "outputs": [],
   "source": []
  },
  {
   "cell_type": "markdown",
   "metadata": {},
   "source": [
    "#### example of using library\n",
    "* random numbers: google _numpy random_"
   ]
  },
  {
   "cell_type": "code",
   "execution_count": null,
   "metadata": {
    "collapsed": false
   },
   "outputs": [],
   "source": []
  },
  {
   "cell_type": "markdown",
   "metadata": {},
   "source": [
    "#### basic plotting\n",
    "* workhorse: [matplotlib](http://matplotlib.org)"
   ]
  },
  {
   "cell_type": "code",
   "execution_count": null,
   "metadata": {
    "collapsed": false
   },
   "outputs": [],
   "source": []
  },
  {
   "cell_type": "code",
   "execution_count": null,
   "metadata": {
    "collapsed": false
   },
   "outputs": [],
   "source": []
  },
  {
   "cell_type": "code",
   "execution_count": null,
   "metadata": {
    "collapsed": false
   },
   "outputs": [],
   "source": []
  },
  {
   "cell_type": "markdown",
   "metadata": {},
   "source": [
    "__Exercise:__\n",
    "* Review this [brief introduction to python](https://github.com/fherwig/physmath248_pilot/blob/master/docs/python-language-intro.pdf) and implement your own ipython notebook of the language elements covered in this short document."
   ]
  },
  {
   "cell_type": "markdown",
   "metadata": {
    "collapsed": true
   },
   "source": [
    "### Example from W1L2\n",
    "1. Create a code cell and define a few constants, such as $\\pi$ and the speed of light.\n",
    "2. Create Markdown cell and **describe** how you can use these constants to calculate the time delay for a long-wave radio transmission from the aequator to the north pole. Use $\\LaTeX$ in markdown cells for type setting math formulas.\n",
    "3. Create a code cell to carry out your calculation. Add reasonable comments.\n",
    "4. Add a final markdown cell to summarize your finding."
   ]
  },
  {
   "cell_type": "code",
   "execution_count": null,
   "metadata": {
    "collapsed": true
   },
   "outputs": [],
   "source": []
  }
 ],
 "metadata": {
  "anaconda-cloud": {},
  "kernelspec": {
   "display_name": "Python 3",
   "language": "python",
   "name": "python3"
  },
  "language_info": {
   "codemirror_mode": {
    "name": "ipython",
    "version": 3
   },
   "file_extension": ".py",
   "mimetype": "text/x-python",
   "name": "python",
   "nbconvert_exporter": "python",
   "pygments_lexer": "ipython3",
   "version": "3.5.2"
  }
 },
 "nbformat": 4,
 "nbformat_minor": 1
}
