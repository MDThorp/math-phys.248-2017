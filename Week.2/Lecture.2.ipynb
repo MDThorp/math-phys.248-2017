{
 "cells": [
  {
   "cell_type": "markdown",
   "metadata": {},
   "source": [
    "Week 2, Lecture 2\n",
    "# shell, markdown, python, plotting, examples\n",
    "\n",
    "**Content:**\n",
    "\n",
    "* more shell\n",
    "\t- shell scripts\n",
    "\t- bash and the .bashrc, defining aliases and environment variables\n",
    "* markdown in notebooks\n",
    "* example from Lecture W1L2\n",
    "* more python, \n",
    "  - data types\n",
    "  - functions\n",
    "  - modules\n",
    "  - simple input/output\n",
    "* basic plotting with python\n",
    "\n",
    "##  more shell\n",
    "\n",
    "* In this section we will provide more examples of the shell and command line. \n",
    "* Before we start, lets have a look at [codeacademy's shell course](https://www.codecademy.com/learn/learn-the-command-line). It is recommended you browse through that course. \n",
    "* Next lets review the basic shell commands from Lecture W2L1. Then complete Lab W2L1.4.\n",
    "\n",
    "### more tricks\n",
    "* piping\n",
    "* background process\n",
    "* killing a job\n",
    "* redirecting output\n",
    "\n",
    "### shell scripts\n",
    "\n",
    "You can enter combine shell commands into a file and execute the file as a program.\n",
    "\n",
    "**Example shell script:**\n",
    "\n",
    "```\n",
    "# this is a comment\n",
    "# if you make this file executable you can use it like a program\n",
    "# each line will be executed one after another as if you typed\n",
    "# it in on the command line\n",
    "#\n",
    "# chmod u+x example.sh\n",
    "# is the command that would make this script an executable\n",
    "# then just type example.sh on the command line and hit return\n",
    "ls\n",
    "mkdir example_dir\n",
    "cd example_dir\n",
    "touch example.txt\n",
    "pwd\n",
    "```\n",
    "In order to use the file as an executable program you need to change the permission with the `chmod` command. \n",
    "\n",
    "**Example:** Write a shell script that will copy all files in your home directory to your `/students` directory and back when needed.\n",
    "\n",
    "### configure your shell\n",
    "At startup the shell will execute the shell commands in `.bashrc`.\n",
    "* have a look at `.bashrc` $\\rightarrow$ add some aliases:\n",
    "    - an environment variable of your workspace\n",
    "    - a `cd` shortcut to change to your workspace\n",
    "    - an alias for your an editor"
   ]
  },
  {
   "cell_type": "markdown",
   "metadata": {},
   "source": [
    "## More python\n",
    "Recall the [Markdown example](../examples/example_markdown_notebook_essentials.ipynb). In these Markdown cells you can do math type setting using $\\LaTeX$. Tutorials can be found online, such as [this one](https://www.latex-tutorial.com/tutorials/beginners/latex-amsmath).\n",
    "For example, this is a matrix:\n",
    "$$\n",
    "\\begin{matrix}\n",
    "a_{11} & a_{12}\\\\\n",
    "a_{21} & a_{22}\n",
    "\\end{matrix}\n",
    "$$"
   ]
  },
  {
   "cell_type": "markdown",
   "metadata": {},
   "source": [
    "### Example: markdown and python cells\n",
    "1. Create a code cell and define a few constants, such as $\\pi$ and the speed of light.\n",
    "2. Create Markdown cell and **describe** how you can use these constants to calculate the time delay for a long-wave radio transmission from the aequator to the north pole. Use $\\LaTeX$ in markdown cells for type setting math formulas.\n",
    "3. Create a code cell to carry out your calculation. Add reasonable comments.\n",
    "4. Add a final markdown cell to summarize your finding."
   ]
  },
  {
   "cell_type": "markdown",
   "metadata": {},
   "source": [
    "__Exercise:__\n",
    "* Review this [brief introduction to python](https://github.com/fherwig/physmath248_pilot/blob/master/docs/python-language-intro.pdf) and implement your own ipython notebook of the language elements covered in this short document."
   ]
  },
  {
   "cell_type": "markdown",
   "metadata": {},
   "source": [
    "### reading data from a file"
   ]
  },
  {
   "cell_type": "code",
   "execution_count": null,
   "metadata": {
    "collapsed": false
   },
   "outputs": [],
   "source": [
    "%pylab nbagg"
   ]
  },
  {
   "cell_type": "code",
   "execution_count": null,
   "metadata": {
    "collapsed": true
   },
   "outputs": [],
   "source": [
    "# show file\n"
   ]
  },
  {
   "cell_type": "code",
   "execution_count": null,
   "metadata": {
    "collapsed": false
   },
   "outputs": [],
   "source": [
    "# show content of file\n"
   ]
  },
  {
   "cell_type": "code",
   "execution_count": null,
   "metadata": {
    "collapsed": false
   },
   "outputs": [],
   "source": [
    "# open file and attach to file object variable\n"
   ]
  },
  {
   "cell_type": "code",
   "execution_count": null,
   "metadata": {
    "collapsed": false
   },
   "outputs": [],
   "source": [
    "# what is in f\n"
   ]
  },
  {
   "cell_type": "code",
   "execution_count": null,
   "metadata": {
    "collapsed": true
   },
   "outputs": [],
   "source": [
    "# read data and save it into variables\n",
    "ind=[];elem=[];A=[];X=[]\n",
    "i=0\n",
    "for line in f.readlines():\n",
    "    a,b,c,d=line.split()\n",
    "    i += 1         # the first column in the file contains the charge \n",
    "    ind.append(i)  # number; we don't need it, but an index variable \n",
    "    elem.append(b) # would be useful\n",
    "    A.append(c)\n",
    "    X.append(d)"
   ]
  },
  {
   "cell_type": "code",
   "execution_count": null,
   "metadata": {
    "collapsed": false
   },
   "outputs": [],
   "source": [
    "# read ini abund tester\n",
    "for i in range(len(ind)):\n",
    "    print (ind[i],elem[i],A[i],X[i])"
   ]
  },
  {
   "cell_type": "markdown",
   "metadata": {},
   "source": [
    "### python package and modules\n",
    "\n",
    "As you start adding functions to your own library it may be useful to learn how to organize your own module a bit more conveniently. An easy way to do this is to create a directory, e.g. `pylib` in your home directory. In that directory create an empty file with the name `__init__.py`. Then add into that directory files with names ending in `.py`. Each of these files is a loadable module in your `pylib` package. You can load the package by adding the path in which the package directory is located (e.g. `/home/user/pylib`) to the python path. In a workstation or virtual machine this can be done by adding the line \n",
    "```\n",
    "export PYTHONPATH=\"/home/user/pylib\"\n",
    "```\n",
    "to your `.bashrc` file (and start a new terminal). Alternatively this can be done from the ipython notebook with the command\n",
    "```\n",
    "In [3]: import sys\n",
    "In [4]: sys.path.append('/home/user/pylib')\n",
    "```\n",
    "which has the disadvantage that it has to be done each time again.\n",
    "\n",
    "\n",
    "**private methods:**\n",
    "By convention python adopts a single leading underscore for private objects in a module and a double leading underscore for private objects in a class."
   ]
  },
  {
   "cell_type": "markdown",
   "metadata": {},
   "source": [
    "## Units and constants\n",
    "\n",
    "## Units\n",
    "\n",
    "Physics is about numbers with units. We have seen the power of the priniciple of dimensional homogeneity when we derived an expression for the drag coefficient. We can draw units into our python work using - of coruse - appropriate packages. One of them can be found in the `astropy` package. You will be able to install it using the usual procedure in your phast machine. Have a look at these places for documentation:\n",
    "\n",
    "* [Units and Quantities](http://docs.astropy.org/en/latest/units/index.html)\n",
    "* [Quantity](http://docs.astropy.org/en/latest/units/quantity.html)\n",
    "\n",
    "Here is an example:\n",
    "* calculate how long a $50\\mathrm{W}$ light bulb could shine with the energy that is consumed by destruction when a car going at $120\\mathrm{km/h}$ hits a rigid wall.\n",
    "* before solving this problem make a guess! you may be surprised\n",
    "\n",
    "Here we use the [astropy]() package."
   ]
  },
  {
   "cell_type": "code",
   "execution_count": null,
   "metadata": {
    "collapsed": false
   },
   "outputs": [],
   "source": []
  },
  {
   "cell_type": "code",
   "execution_count": null,
   "metadata": {
    "collapsed": false
   },
   "outputs": [],
   "source": []
  },
  {
   "cell_type": "code",
   "execution_count": null,
   "metadata": {
    "collapsed": false
   },
   "outputs": [],
   "source": []
  },
  {
   "cell_type": "markdown",
   "metadata": {},
   "source": [
    "**Constants:** `astropy` also provides constants:"
   ]
  },
  {
   "cell_type": "code",
   "execution_count": null,
   "metadata": {
    "collapsed": false
   },
   "outputs": [],
   "source": [
    "from astropy import constants as const\n",
    "const.L_sun\n",
    "const.G"
   ]
  },
  {
   "cell_type": "markdown",
   "metadata": {},
   "source": [
    "\n",
    "## Basic plotting with python\n",
    "Some plotting examples and how they working in ipython notebooks. \n",
    "\n",
    "### Example 1: a simple line plot\n",
    "We will start with plotting a polynomial\n",
    "$$\n",
    "f(x) = ax^3 + bx^2 + cx + d\n",
    "$$"
   ]
  },
  {
   "cell_type": "code",
   "execution_count": null,
   "metadata": {
    "collapsed": false
   },
   "outputs": [],
   "source": [
    "# intialize %pylab nbagg\n",
    "#\n",
    "# a simple sin plot with y and x axis labels and title, legend\n",
    "# lines have shape, color and glyph\n",
    "# use different linestyles\n",
    "# markevery\n"
   ]
  },
  {
   "cell_type": "code",
   "execution_count": null,
   "metadata": {
    "collapsed": false
   },
   "outputs": [],
   "source": [
    "# let's add some mock data\n"
   ]
  },
  {
   "cell_type": "code",
   "execution_count": null,
   "metadata": {
    "collapsed": false
   },
   "outputs": [],
   "source": []
  },
  {
   "cell_type": "markdown",
   "metadata": {},
   "source": [
    "### Example 2: a 2D plot\n",
    "We want to plot\n",
    "$$ z(x,y) = \\sin(x)\\cos(x) $$"
   ]
  },
  {
   "cell_type": "code",
   "execution_count": null,
   "metadata": {
    "collapsed": false
   },
   "outputs": [],
   "source": [
    "# experiment with x being a vector -> sin(x) vector\n"
   ]
  },
  {
   "cell_type": "code",
   "execution_count": null,
   "metadata": {
    "collapsed": false
   },
   "outputs": [],
   "source": [
    "# can x be matrix?\n"
   ]
  },
  {
   "cell_type": "markdown",
   "metadata": {},
   "source": [
    "* how to build a 2D array out of x and y vectors that represent the x and y axis? [numpy.meshgrid](https://docs.scipy.org/doc/numpy/reference/generated/numpy.meshgrid.html)"
   ]
  },
  {
   "cell_type": "code",
   "execution_count": null,
   "metadata": {
    "collapsed": false
   },
   "outputs": [],
   "source": []
  },
  {
   "cell_type": "code",
   "execution_count": null,
   "metadata": {
    "collapsed": false
   },
   "outputs": [],
   "source": [
    "# show x, y"
   ]
  },
  {
   "cell_type": "code",
   "execution_count": null,
   "metadata": {
    "collapsed": false
   },
   "outputs": [],
   "source": [
    "xv,yv = meshgrid(x,y)\n",
    "#yv"
   ]
  },
  {
   "cell_type": "code",
   "execution_count": null,
   "metadata": {
    "collapsed": false
   },
   "outputs": [],
   "source": [
    "z=sin(xv)*cos(yv)\n",
    "#z"
   ]
  },
  {
   "cell_type": "code",
   "execution_count": null,
   "metadata": {
    "collapsed": false
   },
   "outputs": [],
   "source": [
    "ifig = 2; close(ifig); figure(ifig)\n",
    "imshow(z)"
   ]
  },
  {
   "cell_type": "markdown",
   "metadata": {},
   "source": [
    "`imshow` allows for a variety of interpolations, see [images example](http://matplotlib.org/examples/images_contours_and_fields/interpolation_methods.html):"
   ]
  },
  {
   "cell_type": "code",
   "execution_count": null,
   "metadata": {
    "collapsed": false
   },
   "outputs": [],
   "source": [
    "ifig = 3; close(ifig); figure(ifig)\n",
    "imshow(z,interpolation='none')"
   ]
  },
  {
   "cell_type": "markdown",
   "metadata": {},
   "source": [
    "There are lots of interesting examples in the [matplotlib gallery](http://matplotlib.org/gallery.html). It is recommended to try some of these out."
   ]
  },
  {
   "cell_type": "code",
   "execution_count": null,
   "metadata": {
    "collapsed": true
   },
   "outputs": [],
   "source": []
  }
 ],
 "metadata": {
  "anaconda-cloud": {},
  "kernelspec": {
   "display_name": "Python 3",
   "language": "python",
   "name": "python3"
  },
  "language_info": {
   "codemirror_mode": {
    "name": "ipython",
    "version": 3
   },
   "file_extension": ".py",
   "mimetype": "text/x-python",
   "name": "python",
   "nbconvert_exporter": "python",
   "pygments_lexer": "ipython3",
   "version": "3.5.2"
  }
 },
 "nbformat": 4,
 "nbformat_minor": 1
}
