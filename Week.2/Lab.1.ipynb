{
 "cells": [
  {
   "cell_type": "markdown",
   "metadata": {},
   "source": [
    "# The Ludolphine project\n",
    "\n",
    "In this lab you will setup your personal Bitbucket repository and clone it to your WENDI instance. You will also write your first program. The goal is to determine the Ludolphione number $\\pi$. There are many ways it can be done. We want to implement two simple methods that are easy to do with a computer but hard and tedious without."
   ]
  },
  {
   "cell_type": "code",
   "execution_count": 1,
   "metadata": {
    "collapsed": false
   },
   "outputs": [
    {
     "name": "stdout",
     "output_type": "stream",
     "text": [
      "Populating the interactive namespace from numpy and matplotlib\n"
     ]
    }
   ],
   "source": [
    "#setup environment\n",
    "%pylab nbagg"
   ]
  },
  {
   "cell_type": "markdown",
   "metadata": {},
   "source": [
    "## Lab 1: Setup your personal Bitbucket account"
   ]
  },
  {
   "cell_type": "markdown",
   "metadata": {},
   "source": [
    "## Lab 2: Numerically integrating the area of a circle\n",
    "\n",
    "1. Sketch out the algorithm you want to use. This involves some kind of flow-diagram and writing out the program in pseudo-programing language.\n",
    "2. Implement algorithm; while you write it add reasonable comments, short and relevant.\n",
    "3. Run algorithm and generate results.\n",
    "4. Test the program carefully. What can you do to convince yourself that your algorithm is working correctly?"
   ]
  },
  {
   "cell_type": "markdown",
   "metadata": {},
   "source": [
    "### 1. sketch \n",
    "* calculate only a quarter\n",
    "* circumference is at $y = \\sqrt{r^2 - x^2}$, and $r=1$"
   ]
  },
  {
   "cell_type": "code",
   "execution_count": null,
   "metadata": {
    "collapsed": true
   },
   "outputs": [],
   "source": [
    "y = lambda x: sqrt(1 - x**2)\n",
    "n=10\n",
    "x=linspace(0,1,n)\n",
    "x10=linspace(0,1,10*n)"
   ]
  },
  {
   "cell_type": "code",
   "execution_count": null,
   "metadata": {
    "collapsed": false
   },
   "outputs": [],
   "source": [
    "bar(x,y(x),1./(n-1))\n",
    "plot(x10,y(x10),'r-')\n",
    "xlim(0,1.1)"
   ]
  },
  {
   "cell_type": "markdown",
   "metadata": {
    "collapsed": true
   },
   "source": [
    "* divide interval [0,1] into n sections\n",
    "* calculate y(x) at each left boundary\n",
    "* calculate rectangle\n",
    "* add all rectangles\n",
    "\n",
    "### 2. Algorithm"
   ]
  },
  {
   "cell_type": "code",
   "execution_count": null,
   "metadata": {
    "collapsed": true
   },
   "outputs": [],
   "source": []
  },
  {
   "cell_type": "markdown",
   "metadata": {},
   "source": [
    "### 3. Testing"
   ]
  },
  {
   "cell_type": "markdown",
   "metadata": {},
   "source": [
    "\n",
    "## Lab 3: Monte Carlo method\n",
    "\n",
    "* how could one determine $\\pi$ using Monte Carlo?\n",
    "\n",
    "### Sketch\n",
    "* generate random points in a square\n",
    "* decide if point is in circle with the same diameter as the side of the square\n",
    "* the ratio of the area of the circle to the area of the square is proportional to the ratio of the points in the circle to the points in the square\n"
   ]
  },
  {
   "cell_type": "code",
   "execution_count": null,
   "metadata": {
    "collapsed": true
   },
   "outputs": [],
   "source": []
  },
  {
   "cell_type": "markdown",
   "metadata": {},
   "source": [
    "### Algorithm"
   ]
  },
  {
   "cell_type": "code",
   "execution_count": null,
   "metadata": {
    "collapsed": true
   },
   "outputs": [],
   "source": []
  },
  {
   "cell_type": "markdown",
   "metadata": {},
   "source": [
    "### Testing"
   ]
  },
  {
   "cell_type": "code",
   "execution_count": null,
   "metadata": {
    "collapsed": true
   },
   "outputs": [],
   "source": []
  },
  {
   "cell_type": "markdown",
   "metadata": {},
   "source": [
    "## Lab 4: Convergence\n",
    "In both cases the accuracy of the result will depend on the number of rectangles used, or the number of MC points. It can be expected that for higher resolution the accuracy should be higher. In this lab you should show how the accuracy depends on the numerical resolution in both cases. Discuss your results and evaluate the convergence behaviour of both methods."
   ]
  },
  {
   "cell_type": "code",
   "execution_count": null,
   "metadata": {
    "collapsed": true
   },
   "outputs": [],
   "source": []
  }
 ],
 "metadata": {
  "anaconda-cloud": {},
  "kernelspec": {
   "display_name": "Python 3",
   "language": "python",
   "name": "python3"
  },
  "language_info": {
   "codemirror_mode": {
    "name": "ipython",
    "version": 3
   },
   "file_extension": ".py",
   "mimetype": "text/x-python",
   "name": "python",
   "nbconvert_exporter": "python",
   "pygments_lexer": "ipython3",
   "version": "3.5.2"
  }
 },
 "nbformat": 4,
 "nbformat_minor": 1
}
