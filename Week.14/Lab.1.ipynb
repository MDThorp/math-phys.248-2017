{
 "cells": [
  {
   "cell_type": "markdown",
   "metadata": {},
   "source": [
    "## Week 14 - Lab 1 - Practice Final Exam Review\n"
   ]
  },
  {
   "cell_type": "markdown",
   "metadata": {},
   "source": [
    "**Final Exam Problem Setup**\n",
    "\n",
    "We have two billiard balls $A$ and $B$, constrained to move along a frictionless line $x \\geq 0$. There is no gravity.  At position $x=0$ is an immovable elastic wall.  Billiard $A$ has mass $m_A$. Billiard $B$ has mass $m_B$.\n",
    "\n",
    "<img src=\"F.Q1.Setup.png\" /img>\n",
    "\n",
    "The initial position of billard $A$ is $x=1$. The initial position of billiard $B$ is at $x=2$. \n",
    "\n",
    "As the wall is completely elastic, when billiard $A$ collides with the wall, its velocity instantaneously reverses, i.e. $v_A' = - v_A$. *Here the prime indicates the velocity after the collision, not the derivative*. \n",
    "\n",
    "When billiard $A$ and $B$ collide, the new velocity of billiard $A$ and $B$ are given by:\n",
    "\n",
    "$$v_A' = \\frac{m_A-m_B}{m_A+m_B}v_A + \\frac{2m_B}{m_A+m_B}v_B$$\n",
    "$$v_B' = \\frac{m_B-m_A}{m_A+m_B}v_B + \\frac{2m_A}{m_A+m_B}v_A$$\n",
    "\n",
    "Thus provided $m_B > m_A$ billiard $A$ with undergo a sequence of velocity sign changes as it collides with billiard $B$ and the wall, in succession, until billiard $B$ escapes (to the right) at a larger velocity than billiard $A$. "
   ]
  },
  {
   "cell_type": "markdown",
   "metadata": {},
   "source": [
    "**Problem 1:**\n",
    "\n",
    "Write an algorithm that takes as input the initial velocity of billiard $A$, $B$, and the masses\n",
    "of billiards $A$ and $B$ respectively.  The output will be a pair $(c_1,c_2)$ where $c_1$ is the number of  collisions billiard $A$ makes with the wall, and $c_2$ is the number of collisions billiard $A$ makes with billiard $B$, before $B$ escapes to the right. \n",
    " \n",
    "<img src=\"F.Q1.Context.png\" /img>\n",
    "\n",
    "Note, the radius of the billiards is not relevant for any of the problems in this notebook. "
   ]
  },
  {
   "cell_type": "code",
   "execution_count": 10,
   "metadata": {
    "collapsed": false
   },
   "outputs": [
    {
     "name": "stdout",
     "output_type": "stream",
     "text": [
      "(1, 3)\n",
      "(5, 6)\n",
      "(15, 17)\n",
      "(49, 51)\n",
      "(157, 158)\n",
      "(496, 498)\n"
     ]
    }
   ],
   "source": [
    "## returns pair collisions with wall, collisions of balls. \n",
    "def collCount( va, vb, ma, mb ):\n",
    "    varr = [ [va, vb] ]\n",
    "    ## loop until \"escape\" which is vb>=va>=0\n",
    "    while (va < 0.0) or (vb<va):\n",
    "        ## decide which collision type.\n",
    "        if (va<0.0):\n",
    "            va = -va\n",
    "        else:\n",
    "            nva = (ma-mb)*va/(ma+mb) + (2.0*mb*vb)/(ma+mb)\n",
    "            nvb = (mb-ma)*vb/(ma+mb) + (2.0*ma*va)/(ma+mb)\n",
    "            va = nva\n",
    "            vb = nvb\n",
    "        varr.append( [va, vb] )\n",
    "    ca, cb = 0, 0\n",
    "    for x in varr:\n",
    "        if x[0]<0.0:\n",
    "            ca += 1\n",
    "        else:\n",
    "            cb += 1\n",
    "    return ca, cb\n",
    "\n",
    "for i in range(6):\n",
    "    mb = 10**i\n",
    "    print(collCount(0.0, -1.0, 1.0, mb))\n"
   ]
  },
  {
   "cell_type": "markdown",
   "metadata": {},
   "source": [
    "**Problem 2: **\n",
    "\n",
    "For $m_A=1$ and $m_B = 10^2, 10^4, 10^6, \\cdots $, let the initial velocity of \n",
    "billiard $A$ be zero and the initial velocity of billiard $B$ be $-1$. \n",
    "\n",
    "Print out: \n",
    "\n",
    "    a) The number of collisions of A with the wall. \n",
    "    b) The number of collisions of B with A. \n",
    "    c) The total number of collisions of all types, i.e. (a)+(b). "
   ]
  },
  {
   "cell_type": "code",
   "execution_count": 13,
   "metadata": {
    "collapsed": false
   },
   "outputs": [
    {
     "name": "stdout",
     "output_type": "stream",
     "text": [
      "mb == 10^0 ca 1 cb 3 tot 4\n",
      "mb == 10^2 ca 15 cb 17 tot 32\n",
      "mb == 10^4 ca 157 cb 158 tot 315\n",
      "mb == 10^6 ca 1570 cb 1572 tot 3142\n",
      "mb == 10^8 ca 15707 cb 15709 tot 31416\n",
      "mb == 10^10 ca 157079 cb 157081 tot 314160\n",
      "mb == 10^12 ca 1570796 cb 1570797 tot 3141593\n",
      "mb == 10^14 ca 15707963 cb 15707964 tot 31415927\n"
     ]
    }
   ],
   "source": [
    "for i in range(7):\n",
    "    mb = 10**(2*i)\n",
    "    ca, cb = collCount(0.0, -1.0, 1.0, mb)\n",
    "    print(\"mb == 10^\", 2*i, ' ca ', ca, ' cb ', cb, ' tot ', ca+cb, sep='')"
   ]
  },
  {
   "cell_type": "markdown",
   "metadata": {
    "collapsed": true
   },
   "source": [
    "You should begin to see a pattern in your answer to Problem 2. \n",
    "\n",
    "**Problem 3: **\n",
    "\n",
    "Infer a function $f(m_B)$ so that the limit\n",
    "\n",
    "$$\\lim_{m_B \\to \\infty} \\frac{coll(m_B)}{f(m_B)} = L$$\n",
    "\n",
    "exists, with $L \\neq 0$.  \n",
    "\n",
    "$coll(m_B)$ is the sum of the number of collisions between $A$ and $B$, as well as $A$ and the wall, i.e. the answer to 2(c). "
   ]
  },
  {
   "cell_type": "code",
   "execution_count": 14,
   "metadata": {
    "collapsed": false
   },
   "outputs": [
    {
     "name": "stdout",
     "output_type": "stream",
     "text": [
      "mb == 10^0 tot/f 4.0\n",
      "mb == 10^2 tot/f 3.2\n",
      "mb == 10^4 tot/f 3.15\n",
      "mb == 10^6 tot/f 3.142\n",
      "mb == 10^8 tot/f 3.1416\n",
      "mb == 10^10 tot/f 3.1416\n",
      "mb == 10^12 tot/f 3.141593\n"
     ]
    }
   ],
   "source": [
    "import math as ma\n",
    "## f(x) = sqrt(x)\n",
    "\n",
    "for i in range(7):\n",
    "    mb = 10**(2*i)\n",
    "    ca, cb = collCount(0.0, -1.0, 1.0, mb)\n",
    "    print(\"mb == 10^\", 2*i, ' tot/f ', (ca+cb)/ma.sqrt(mb), sep='')"
   ]
  },
  {
   "cell_type": "markdown",
   "metadata": {},
   "source": [
    "**Problem 4: **\n",
    "\n",
    "To demonstrate how quickly $coll(m_B)/f(m_B)$ converges to $L$, create a plot consisting of:\n",
    "\n",
    "    1) A horizontal line at height L. \n",
    "    2) coll(m_B)/f(m_B) for m_B=1, 10, 10^2, 10^3, 10^4, 10^5, 10^6. \n",
    "\n",
    "Perhaps your x-coordinate should be $n$ where $m_B=10^n$.  Make the horizontal line (1) a different colour from (2)."
   ]
  },
  {
   "cell_type": "code",
   "execution_count": 28,
   "metadata": {
    "collapsed": false
   },
   "outputs": [
    {
     "data": {
      "text/plain": [
       "[<matplotlib.lines.Line2D at 0x7f51dff84dd8>]"
      ]
     },
     "execution_count": 28,
     "metadata": {},
     "output_type": "execute_result"
    },
    {
     "data": {
      "image/png": "[encoded data removed]",
      "text/plain": [
       "<matplotlib.figure.Figure at 0x7f51cefa5828>"
      ]
     },
     "metadata": {},
     "output_type": "display_data"
    }
   ],
   "source": [
    "import matplotlib.pyplot as plt\n",
    "%matplotlib inline\n",
    "\n",
    "x = [i for i in range(12)]\n",
    "y = [sum(collCount(0.0, -1.0, 1.0, 10**xi))/ma.sqrt(10**xi) for xi in x]\n",
    "\n",
    "plt.plot(x,y, 'ro')\n",
    "plt.plot([x[0], x[-1]], [ma.pi, ma.pi])"
   ]
  },
  {
   "cell_type": "markdown",
   "metadata": {},
   "source": [
    "**Problem 5:**\n",
    "\n",
    "Write an algorithm that takes as input any initial masses, positions and initial velocities and outputs a (matplotlib) plot like the one below, which depicts the path both mass $A$ and $B$ take, including all collisions. \n",
    "\n",
    "<img src=\"F.Q1.Context.png\" /img>\n"
   ]
  },
  {
   "cell_type": "code",
   "execution_count": 38,
   "metadata": {
    "collapsed": false
   },
   "outputs": [
    {
     "data": {
      "text/plain": [
       "[<matplotlib.lines.Line2D at 0x7f51e7f8ce48>]"
      ]
     },
     "execution_count": 38,
     "metadata": {},
     "output_type": "execute_result"
    },
    {
     "data": {
      "image/png": "[encoded data removed]",
      "text/plain": [
       "<matplotlib.figure.Figure at 0x7f51e7f8c160>"
      ]
     },
     "metadata": {},
     "output_type": "display_data"
    }
   ],
   "source": [
    "## returns list of positions and times, I suppose. \n",
    "## tlist, xalist, xblist. \n",
    "def collPos( va, vb, ma, mb ):\n",
    "    varr = [ [va, vb] ]\n",
    "    tl = [0.0]\n",
    "    xal = [1.0]\n",
    "    xbl = [2.0]\n",
    "    \n",
    "    ## loop until \"escape\" which is vb>=va>=0\n",
    "    while (va < 0.0) or (vb<va):\n",
    "        ## decide which collision type.\n",
    "        if (va<0.0):\n",
    "            dt = -xal[-1]/va\n",
    "            tl.append(tl[-1] + dt)\n",
    "            xal.append(xal[-1] + dt*va)\n",
    "            xbl.append(xbl[-1] + dt*vb)\n",
    "            \n",
    "            va = -va\n",
    "        else:\n",
    "            dt = (xbl[-1]-xal[-1])/(va-vb)\n",
    "            tl.append(tl[-1] + dt)\n",
    "            xal.append(xal[-1] + dt*va)\n",
    "            xbl.append(xbl[-1] + dt*vb)\n",
    "            \n",
    "            nva = (ma-mb)*va/(ma+mb) + (2.0*mb*vb)/(ma+mb)\n",
    "            nvb = (mb-ma)*vb/(ma+mb) + (2.0*ma*va)/(ma+mb)\n",
    "            va = nva\n",
    "            vb = nvb\n",
    "        varr.append( [va, vb] )\n",
    "        \n",
    "    ## throw in one more location and time...\n",
    "    dt=tl[-1]-tl[-2]\n",
    "    tl.append(tl[-1] + dt)\n",
    "    xal.append(xal[-1] + dt*va)\n",
    "    xbl.append(xbl[-1] + dt*vb)\n",
    "\n",
    "    return tl, xal, xbl\n",
    "\n",
    "tl, xal, xbl = collPos( 0.0, -1.0, 1.0, 4.0 )\n",
    "plt.plot( xal, tl, 'r-')\n",
    "plt.plot( xbl, tl, 'g-')"
   ]
  },
  {
   "cell_type": "code",
   "execution_count": null,
   "metadata": {
    "collapsed": true
   },
   "outputs": [],
   "source": []
  }
 ],
 "metadata": {
  "anaconda-cloud": {},
  "kernelspec": {
   "display_name": "Python [default]",
   "language": "python",
   "name": "python3"
  },
  "language_info": {
   "codemirror_mode": {
    "name": "ipython",
    "version": 3
   },
   "file_extension": ".py",
   "mimetype": "text/x-python",
   "name": "python",
   "nbconvert_exporter": "python",
   "pygments_lexer": "ipython3",
   "version": "3.5.2"
  }
 },
 "nbformat": 4,
 "nbformat_minor": 0
}
