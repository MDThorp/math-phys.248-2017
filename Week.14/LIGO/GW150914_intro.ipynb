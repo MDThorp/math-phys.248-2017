{
 "cells": [
  {
   "cell_type": "markdown",
   "metadata": {
    "deletable": true,
    "editable": true
   },
   "source": [
    "# The GW150914 gravitational wave signal\n",
    "\n",
    "## LIGO science introduction\n",
    "* [Brian Greene Explains The Discovery Of Gravitational Waves](https://www.youtube.com/watch?v=s06_jRK939I)\n",
    "* [LIGO Detects Gravitational Waves](https://www.youtube.com/watch?v=B4XzLDM3Py8)\n",
    "* [Warped Space and Time Around Colliding Black Holes](Warped Space and Time Around Colliding Black Holes)\n",
    "\n",
    "## LIGO data analysis\n",
    "The [official LIGO notebook](https://losc.ligo.org/s/events/GW150914/GW150914_tutorial.html) contains lots of additional useful information. \n",
    "\n",
    "We have downloaded the data of the GW150914 event."
   ]
  },
  {
   "cell_type": "code",
   "execution_count": null,
   "metadata": {
    "collapsed": false,
    "deletable": true,
    "editable": true
   },
   "outputs": [],
   "source": [
    "# Standard python numerical analysis imports:\n",
    "import numpy as np\n",
    "from scipy import signal\n",
    "from scipy.interpolate import interp1d\n",
    "from scipy.signal import butter, filtfilt, iirdesign, zpk2tf, freqz\n",
    "\n",
    "# the ipython magic below must be commented out in the .py file, since it doesn't work.\n",
    "%pylab nbagg\n",
    "import h5py # read hdf5\n",
    "\n",
    "# LIGO-specific readligo.py \n",
    "import readligo as rl"
   ]
  },
  {
   "cell_type": "markdown",
   "metadata": {
    "deletable": true,
    "editable": true
   },
   "source": [
    "## Adding a numerical relativity template\n",
    "\n",
    "Now let's also read in a theoretical (numerical relativity) template, \n",
    "generated with parameters favored by the output from the GW150914 parameter estimation (see the GW150914 detection paper, https://dcc.ligo.org/P150914/public ).\n",
    "\n",
    "This NR template corresponds to the signal expected from a pair of black holes with masses of around 36 and 29 solar masses, merging into a single black hole of 62 solar masses, at a distance of around 410 Mpc. \n",
    "\n",
    "You can fetch the template time series from the following URL, and put it in your working directory / folder:\n",
    "* https://losc.ligo.org/s/events/GW150914/GW150914_4_NR_waveform.txt\n"
   ]
  },
  {
   "cell_type": "code",
   "execution_count": null,
   "metadata": {
    "collapsed": false,
    "deletable": true,
    "editable": true
   },
   "outputs": [],
   "source": [
    "# read in the NR template\n",
    "NRtime, NR_H1 = np.genfromtxt('GW150914_4_NR_waveform.txt').transpose()"
   ]
  },
  {
   "cell_type": "code",
   "execution_count": null,
   "metadata": {
    "collapsed": false,
    "deletable": true,
    "editable": true
   },
   "outputs": [],
   "source": [
    "close(13),figure(13)\n",
    "plot(NRtime,NR_H1)\n",
    "xlabel('time') \n",
    "ylabel('strain')"
   ]
  },
  {
   "cell_type": "code",
   "execution_count": null,
   "metadata": {
    "collapsed": false,
    "deletable": true,
    "editable": true
   },
   "outputs": [],
   "source": [
    "#----------------------------------------------------------------\n",
    "# Load LIGO data from a single file\n",
    "#----------------------------------------------------------------\n",
    "# First from H1\n",
    "fn_H1 = 'H-H1_LOSC_4_V1-1126259446-32.hdf5'\n",
    "strain_H1, time_H1, chan_dict_H1 = rl.loaddata(fn_H1, 'H1')\n",
    "# and then from L1\n",
    "fn_L1 = 'L-L1_LOSC_4_V1-1126259446-32.hdf5'\n",
    "strain_L1, time_L1, chan_dict_L1 = rl.loaddata(fn_L1, 'L1')\n",
    "\n",
    "# sampling rate:\n",
    "fs = 4096\n",
    "# both H1 and L1 will have the same time vector, so:\n",
    "time = time_H1\n",
    "# the time sample interval (uniformly sampled!)\n",
    "dt = time[1] - time[0]"
   ]
  },
  {
   "cell_type": "code",
   "execution_count": null,
   "metadata": {
    "collapsed": false,
    "deletable": true,
    "editable": true
   },
   "outputs": [],
   "source": [
    "# let's have a look what this data looks like"
   ]
  },
  {
   "cell_type": "code",
   "execution_count": null,
   "metadata": {
    "collapsed": false,
    "deletable": true,
    "editable": true
   },
   "outputs": [],
   "source": [
    "#time, strain_H1\n",
    "sqrt(average(strain_H1**2))"
   ]
  },
  {
   "cell_type": "code",
   "execution_count": null,
   "metadata": {
    "collapsed": false,
    "deletable": true,
    "editable": true
   },
   "outputs": [],
   "source": [
    "close(1);figure(1)\n",
    "plot(time_H1-time_H1[0],strain_H1)"
   ]
  },
  {
   "cell_type": "markdown",
   "metadata": {
    "deletable": true,
    "editable": true
   },
   "source": [
    "## First look at the data from H1 and L1"
   ]
  },
  {
   "cell_type": "code",
   "execution_count": null,
   "metadata": {
    "collapsed": true,
    "deletable": true,
    "editable": true
   },
   "outputs": [],
   "source": [
    "# plot +- 5 seconds around the event:\n",
    "tevent = 1126259462.422         # Mon Sep 14 09:50:45 GMT 2015 \n",
    "deltat = 5.                     # seconds around the event\n",
    "# index into the strain time series for this time interval:\n",
    "indxt = np.where((time_H1 >= tevent-deltat) & (time_H1 < tevent+deltat))"
   ]
  },
  {
   "cell_type": "code",
   "execution_count": null,
   "metadata": {
    "collapsed": false,
    "deletable": true,
    "editable": true
   },
   "outputs": [],
   "source": [
    "len(time_H1)"
   ]
  },
  {
   "cell_type": "code",
   "execution_count": null,
   "metadata": {
    "collapsed": false,
    "deletable": true,
    "editable": true
   },
   "outputs": [],
   "source": [
    "len(indxt[0])"
   ]
  },
  {
   "cell_type": "code",
   "execution_count": null,
   "metadata": {
    "collapsed": false,
    "deletable": true,
    "editable": true
   },
   "outputs": [],
   "source": [
    "plt.figure()\n",
    "plt.plot(time_H1[indxt]-tevent,strain_H1[indxt],'r',label='H1 strain')\n",
    "plt.plot(time_L1[indxt]-tevent,strain_L1[indxt],'g',label='L1 strain')\n",
    "plt.xlabel('time (s) since '+str(tevent))\n",
    "plt.ylabel('strain')\n",
    "plt.legend(loc='lower right')\n",
    "plt.title('Advanced LIGO strain data near GW150914')\n",
    "plt.savefig('GW150914_strain.png')"
   ]
  },
  {
   "cell_type": "markdown",
   "metadata": {
    "deletable": true,
    "editable": true
   },
   "source": [
    "The data are dominated by **low frequency noise**; there is no way to see a signal here, without some signal processing.\n",
    "\n",
    "There are very low frequency oscillations that are putting the mean of the L1 strain at -2.0e-18 at the time around this event, so it appears offset from the H1 strain. These low frequency oscillations are essentially ignored in LIGO data analysis (see bandpassing, below).\n",
    "\n",
    "We will be \"whitening\" the data, below. "
   ]
  },
  {
   "cell_type": "markdown",
   "metadata": {
    "deletable": true,
    "editable": true
   },
   "source": [
    "## Data in the Fourier domain - ASDs\n",
    "\n",
    "Plotting these data in the Fourier domain gives us an idea of the frequency content of the data. ***A way to visualize the frequency content of the data is to plot the amplitude spectral density, ASD.***\n",
    "\n",
    "***The ASDs are the square root of the power spectral densities (PSDs), which are averages of the square of the fast fourier transforms (FFTs) of the data.***\n",
    "\n",
    "### PSD and ASD\n",
    "Consulting [Spectral density](https://en.wikipedia.org/wiki/Spectral_density) Wikipedia page:\n",
    "\n",
    "\n",
    "* _According to Fourier analysis any physical signal can be decomposed into a number of discrete frequencies, or a spectrum of frequencies over a continuous range._ Let's have a look at a [simple example](https://georgemdallas.wordpress.com/2014/05/14/wavelets-4-dummies-signal-processing-fourier-transforms-and-heisenberg) and then at the [animation on the Fourier transform Wikipedia page](https://en.wikipedia.org/wiki/Fourier_transform)\n",
    "* _The power spectrum $S_{xx}(f)$ of a time series $x(t)$ describes the distribution of power into frequency components composing that signal. _\n",
    "\n",
    "#### How do we get the PSD?\n",
    "This would be very similar to the energy spectral density:\n",
    "\n",
    "* the energy of a signal $x(t)$ is  $$\\int\\limits_{-\\infty}^\\infty |x(t)|^2\\, dt$$\n",
    "* the Fourier transform is $$\\hat{x}(f)=\\int\\limits_{-\\infty}^\\infty e^{-2\\pi ift}x(t) dt$$\n",
    "* the energy of the signal is same if integrated over time or frequency [Parseval's theorem](https://en.wikipedia.org/wiki/Parseval%27s_theorem) $$\\int\\limits_{-\\infty}^\\infty |x(t)|^2\\, dt = \\int\\limits_{-\\infty}^\\infty |\\hat{x}(f)|^2\\, df$$\n",
    "* the energy spectral density of a signal x(t) is defined as $$S_{xx}(f) = |\\hat{x}(f)|^2 $$\n",
    "* the PSD is essentially the same but for stationary processes and is applicable to account for the noise"
   ]
  },
  {
   "cell_type": "markdown",
   "metadata": {
    "deletable": true,
    "editable": true
   },
   "source": [
    "### Application to the GW problem\n",
    "ASDs are an estimate of the \"strain-equivalent noise\" of the detectors versus frequency,\n",
    "which limit the ability of the detectors to identify GW signals.\n",
    "\n",
    "They are in units of strain/rt(Hz).\n",
    "So, if you want to know the root-mean-square (rms) strain noise in a frequency band,\n",
    "integrate (sum) the squares of the ASD over that band, then take the square-root.\n",
    "\n",
    "There's a signal in these data! \n",
    "For the moment, let's ignore that, and assume it's all noise."
   ]
  },
  {
   "cell_type": "code",
   "execution_count": null,
   "metadata": {
    "collapsed": false,
    "deletable": true,
    "editable": true
   },
   "outputs": [],
   "source": [
    "# number of sample for the fast fourier transform:\n",
    "NFFT = 1*fs\n",
    "fmin = 10\n",
    "fmax = 2000\n",
    "Pxx_H1, freqs = mlab.psd(strain_H1, Fs = fs, NFFT = NFFT)\n",
    "Pxx_L1, freqs = mlab.psd(strain_L1, Fs = fs, NFFT = NFFT)\n",
    "\n",
    "# We will use interpolations of the ASDs computed above for whitening:\n",
    "psd_H1 = interp1d(freqs, Pxx_H1)\n",
    "psd_L1 = interp1d(freqs, Pxx_L1)\n",
    "\n",
    "# plot the ASDs:\n",
    "plt.figure()\n",
    "plt.loglog(freqs, np.sqrt(Pxx_H1),'r',label='H1 strain')\n",
    "plt.loglog(freqs, np.sqrt(Pxx_L1),'g',label='L1 strain')\n",
    "plt.axis([fmin, fmax, 1e-24, 1e-19])\n",
    "plt.grid('on')\n",
    "plt.ylabel('ASD (strain/rtHz)')\n",
    "plt.xlabel('Freq (Hz)')\n",
    "plt.legend(loc='upper center')\n",
    "plt.title('Advanced LIGO strain data near GW150914')\n",
    "plt.savefig('GW150914_ASDs.png')"
   ]
  },
  {
   "cell_type": "markdown",
   "metadata": {
    "deletable": true,
    "editable": true
   },
   "source": [
    "NOTE that we only plot the data between fmin = 10 Hz and fmax = 2000 Hz.\n",
    "\n",
    "Below fmin, the data **are not properly calibrated**. That's OK, because the noise is so high below fmin that LIGO cannot sense gravitational wave strain from astrophysical sources in that band.\n",
    "\n",
    "The sample rate is fs = 4096 Hz (2^12 Hz), so the data cannot capture frequency content above the Nyquist frequency = fs/2 = 2048 Hz. That's OK, because GW150914 only has detectable frequency content in the range 20 Hz - 300 Hz.\n",
    "\n",
    "You can see strong spectral lines in the data; they are all of instrumental origin. Some are engineered into the detectors (mirror suspension resonances at ~500 Hz and harmonics, calibration lines, control dither lines, etc) and some (60 Hz and harmonics) are unwanted. We'll return to these, later.\n",
    "\n",
    "You can't see the signal in this plot, since it is relatively weak and less than a second long, while this plot averages over 32 seconds of data. So this plot is entirely dominated by instrumental noise."
   ]
  },
  {
   "cell_type": "markdown",
   "metadata": {
    "deletable": true,
    "editable": true
   },
   "source": [
    "## Whitening\n",
    "\n",
    "From the ASD above, we can see that the data are very strongly \"colored\" - noise fluctuations are much larger at low and high frequencies and near spectral lines, reaching a roughly flat (\"white\") minimum in the band around 80 to 300 Hz. [White noise](https://en.wikipedia.org/wiki/White_noise) is a random signal with a constant PSD.\n",
    "\n",
    "We can \"whiten\" the data (dividing it by the noise amplitude spectrum, in the fourier domain), suppressing the extra noise at low frequencies and at the spectral lines, to better see the weak signals in the most sensitive band.\n",
    "\n",
    "Whitening is always one of the first steps in astrophysical data analysis (searches, parameter estimation).\n",
    "Whitening requires no prior knowledge of spectral lines, etc; only the data are needed.\n",
    "\n",
    "The resulting time series is no longer in units of strain; now in units of \"sigmas\" away from the mean."
   ]
  },
  {
   "cell_type": "code",
   "execution_count": null,
   "metadata": {
    "collapsed": true,
    "deletable": true,
    "editable": true
   },
   "outputs": [],
   "source": [
    "# function to writen data\n",
    "def whiten(strain, interp_psd, dt):\n",
    "    Nt = len(strain)\n",
    "    freqs = np.fft.rfftfreq(Nt, dt)\n",
    "\n",
    "    # whitening: transform to freq domain, divide by asd, then transform back, \n",
    "    # taking care to get normalization right.\n",
    "    hf = np.fft.rfft(strain)\n",
    "    white_hf = hf / (np.sqrt(interp_psd(freqs) /dt/2.))\n",
    "    white_ht = np.fft.irfft(white_hf, n=Nt)\n",
    "    return white_ht\n",
    "\n",
    "# now whiten the data from H1 and L1, and also the NR template:\n",
    "strain_H1_whiten = whiten(strain_H1,psd_H1,dt)\n",
    "strain_L1_whiten = whiten(strain_L1,psd_L1,dt)\n",
    "NR_H1_whiten = whiten(NR_H1,psd_H1,dt)"
   ]
  },
  {
   "cell_type": "markdown",
   "metadata": {
    "deletable": true,
    "editable": true
   },
   "source": [
    "Now plot the whitened strain data, along with the best-fit numerical relativity (NR) template.\n",
    "\n",
    "To get rid of remaining high frequency noise, we will also bandpass the data (see bandpassing, below)."
   ]
  },
  {
   "cell_type": "code",
   "execution_count": null,
   "metadata": {
    "collapsed": false,
    "deletable": true,
    "editable": true
   },
   "outputs": [],
   "source": [
    "# We need to suppress the high frequencies with some bandpassing:\n",
    "bb, ab = butter(4, [20.*2./fs, 300.*2./fs], btype='band')\n",
    "strain_H1_whitenbp = filtfilt(bb, ab, strain_H1_whiten)\n",
    "strain_L1_whitenbp = filtfilt(bb, ab, strain_L1_whiten)\n",
    "NR_H1_whitenbp = filtfilt(bb, ab, NR_H1_whiten)\n",
    "\n",
    "# plot the data after whitening:\n",
    "# first, shift L1 by 7 ms, and invert. See the GW150914 detection paper for why!\n",
    "strain_L1_shift = -np.roll(strain_L1_whitenbp,int(0.007*fs))\n",
    "\n",
    "plt.figure()\n",
    "plt.plot(time-tevent,strain_H1_whitenbp,'r',label='H1 strain')\n",
    "plt.plot(time-tevent,strain_L1_shift,'g',label='L1 strain')\n",
    "plt.plot(NRtime+0.002,NR_H1_whitenbp,'k',label='matched NR waveform')\n",
    "plt.xlim([-0.1,0.05])\n",
    "plt.ylim([-4,4])\n",
    "plt.xlabel('time (s) since '+str(tevent))\n",
    "plt.ylabel('whitented strain')\n",
    "plt.legend(loc='lower left')\n",
    "plt.title('Advanced LIGO WHITENED strain data near GW150914')\n",
    "plt.savefig('GW150914_strain_whitened.png')"
   ]
  },
  {
   "cell_type": "markdown",
   "metadata": {
    "deletable": true,
    "editable": true
   },
   "source": [
    "The signal is now clearly visible in the whitened and bandpassed data. The \"DC\" offset between H1 and L1 data visible in the first plot is no longer visible here; the bandpassing cuts off frequency components below around 20 Hz and above 300 Hz. \n",
    "\n",
    "The signal is visible as an oscillation sweeping from low to high frequency from -0.10 seconds to 0, then damping down into the random noise. \n",
    "\n",
    "The signal looks roughly the same in both detectors. We had to shift the L1 data by 7 ms to get it to line up with the data from H1, because the source is roughly in the direction of the line connecting H1 to L1, and the wave travels at the speed of light, so it hits L1 7 ms earlier. Also, the orientation of L1 with respect to H1 means that we have to flip the sign of the signal in L1 for it to match the signal in H1.\n",
    "\n",
    "It's exactly the kind of signal we expect from the inspiral, merger and ringdown of two massive black holes, as evidenced by the good match with the numerical relativity (NR) waveform, in black.\n",
    "\n",
    "LIGO uses a rather elaborate software suite to match the data against a family of such signal waveforms (\"templates\"), to find the best match. This procedure helps LIGO to \"optimally\" separate signals from instrumental noise, and to infer the parameters of the source (masses, spins, sky location, orbit orientation, etc) from the best match templates."
   ]
  },
  {
   "cell_type": "markdown",
   "metadata": {
    "deletable": true,
    "editable": true
   },
   "source": [
    "## Spectrograms\n",
    "\n",
    "Now let's plot a short time-frequency [spectrogram](https://en.wikipedia.org/wiki/Spectrogram) around GW150914:"
   ]
  },
  {
   "cell_type": "code",
   "execution_count": null,
   "metadata": {
    "collapsed": false,
    "deletable": true,
    "editable": true
   },
   "outputs": [],
   "source": [
    "tevent = 1126259462.422         # Mon Sep 14 09:50:45 GMT 2015 \n",
    "deltat = 10.                    # seconds around the event\n",
    "# index into the strain time series for this time interval:\n",
    "indxt = np.where((time_H1 >= tevent-deltat) & (time_H1 < tevent+deltat))\n",
    "\n",
    "# pick a shorter FTT time interval, like 1/8 of a second:\n",
    "NFFT = fs/8\n",
    "# and with a lot of overlap, to resolve short-time features:\n",
    "NOVL = NFFT*15/16\n",
    "# and choose a window that minimizes \"spectral leakage\" \n",
    "# (https://en.wikipedia.org/wiki/Spectral_leakage)\n",
    "window = np.blackman(NFFT)\n",
    "\n",
    "# the right colormap is all-important! See:\n",
    "# http://matplotlib.org/examples/color/colormaps_reference.html\n",
    "# viridis seems to be the best for our purposes, but it's new; if you don't have it, you can settle for ocean.\n",
    "spec_cmap='viridis'\n",
    "#spec_cmap='ocean'\n",
    "\n",
    "# Plot the H1 spectrogram:\n",
    "plt.figure()\n",
    "spec_H1, freqs, bins, im = plt.specgram(strain_H1[indxt], NFFT=NFFT, Fs=fs, window=window, \n",
    "                                        noverlap=NOVL, cmap=spec_cmap, xextent=[-deltat,deltat])\n",
    "plt.xlabel('time (s) since '+str(tevent))\n",
    "plt.ylabel('Frequency (Hz)')\n",
    "plt.colorbar()\n",
    "plt.axis([-deltat, deltat, 0, 2000])\n",
    "plt.title('aLIGO H1 strain data near GW150914')\n",
    "plt.savefig('GW150914_H1_spectrogram.png')\n",
    "\n",
    "# Plot the L1 spectrogram:\n",
    "plt.figure()\n",
    "spec_H1, freqs, bins, im = plt.specgram(strain_L1[indxt], NFFT=NFFT, Fs=fs, window=window, \n",
    "                                        noverlap=NOVL, cmap=spec_cmap, xextent=[-deltat,deltat])\n",
    "plt.xlabel('time (s) since '+str(tevent))\n",
    "plt.ylabel('Frequency (Hz)')\n",
    "plt.colorbar()\n",
    "plt.axis([-deltat, deltat, 0, 2000])\n",
    "plt.title('aLIGO L1 strain data near GW150914')\n",
    "plt.savefig('GW150914_L1_spectrogram.png')\n"
   ]
  },
  {
   "cell_type": "markdown",
   "metadata": {
    "deletable": true,
    "editable": true
   },
   "source": [
    "In the above spectrograms, you can see lots of excess power below ~20 Hz, as well as strong spectral lines at 500, 1000, 1500 Hz (also evident in the ASDs above). The lines at multiples of 500 Hz are the harmonics of the \"violin modes\" of the fibers holding up the mirrors of the LIGO interferometers.\n",
    "\n",
    "The signal is just bately visible here, at time=0 and below 500 Hz. We need to zoom in around the event time, and to the frequency range from [20, 400] Hz, and use the whitened data generated above."
   ]
  },
  {
   "cell_type": "code",
   "execution_count": null,
   "metadata": {
    "collapsed": false,
    "deletable": true,
    "editable": true
   },
   "outputs": [],
   "source": [
    "#  plot the whitened data, zooming in on the signal region:\n",
    "tevent = 1126259462.422          # Mon Sep 14 09:50:45 GMT 2015 \n",
    "deltat = 10.                      # seconds around the event\n",
    "# index into the strain time series for this time interval:\n",
    "indxt = np.where((time_H1 >= tevent-deltat) & (time_H1 < tevent+deltat))\n",
    "\n",
    "# pick a shorter FTT time interval, like 1/16 of a second:\n",
    "NFFT = fs/16\n",
    "# and with a lot of overlap, to resolve short-time features:\n",
    "NOVL = NFFT*15/16\n",
    "# and choose a window that minimizes \"spectral leakage\" \n",
    "# (https://en.wikipedia.org/wiki/Spectral_leakage)\n",
    "window = np.blackman(NFFT)\n",
    "\n",
    "# Plot the H1 whitened spectrogram around the signal\n",
    "plt.figure()\n",
    "spec_H1, freqs, bins, im = plt.specgram(strain_H1_whiten[indxt], NFFT=NFFT, Fs=fs, window=window, \n",
    "                                        noverlap=NOVL, cmap=spec_cmap, xextent=[-deltat,deltat])\n",
    "plt.xlabel('time (s) since '+str(tevent))\n",
    "plt.ylabel('Frequency (Hz)')\n",
    "plt.colorbar()\n",
    "plt.axis([-0.5, 0.5, 0, 500])\n",
    "plt.title('aLIGO H1 strain data near GW150914')\n",
    "plt.savefig('GW150914_H1_spectrogram_whitened.png')\n",
    "\n",
    "# Plot the L1 whitened spectrogram around the signal\n",
    "plt.figure()\n",
    "spec_H1, freqs, bins, im = plt.specgram(strain_L1_whiten[indxt], NFFT=NFFT, Fs=fs, window=window, \n",
    "                                        noverlap=NOVL, cmap=spec_cmap, xextent=[-deltat,deltat])\n",
    "plt.xlabel('time (s) since '+str(tevent))\n",
    "plt.ylabel('Frequency (Hz)')\n",
    "plt.colorbar()\n",
    "plt.axis([-0.5, 0.5, 0, 500])\n",
    "plt.title('aLIGO L1 strain data near GW150914')\n",
    "plt.savefig('GW150914_L1_spectrogram_whitened.png')\n"
   ]
  },
  {
   "cell_type": "markdown",
   "metadata": {
    "deletable": true,
    "editable": true
   },
   "source": [
    "See the smudge between -0.2 and 0 seconds? That's our signal!\n",
    "You can see it 'chirping' from lower to higher frequency over a small fraction of a second."
   ]
  },
  {
   "cell_type": "markdown",
   "metadata": {
    "deletable": true,
    "editable": true
   },
   "source": [
    "## Time-domain filtering - Bandpassing+notching\n",
    "\n",
    "Now let's filter the signal in the time domain, using bandpassing to reveal the signal in the frequency band [40 , 300 Hz], and notching of spectral lines to remove those noise sources from the data."
   ]
  },
  {
   "cell_type": "code",
   "execution_count": null,
   "metadata": {
    "collapsed": false,
    "deletable": true,
    "editable": true
   },
   "outputs": [],
   "source": [
    "# generate linear time-domain filter coefficients, common to both H1 and L1.\n",
    "# First, define some functions:\n",
    "\n",
    "# This function will generate digital filter coefficients for bandstops (notches).\n",
    "# Understanding it requires some signal processing expertise, which we won't get into here.\n",
    "def iir_bandstops(fstops, fs, order=4):\n",
    "    \"\"\"ellip notch filter\n",
    "    fstops is a list of entries of the form [frequency (Hz), df, df2]                           \n",
    "    where df is the pass width and df2 is the stop width (narrower                              \n",
    "    than the pass width). Use caution if passing more than one freq at a time,                  \n",
    "    because the filter response might behave in ways you don't expect.\n",
    "    \"\"\"\n",
    "    nyq = 0.5 * fs\n",
    "\n",
    "    # Zeros zd, poles pd, and gain kd for the digital filter\n",
    "    zd = np.array([])\n",
    "    pd = np.array([])\n",
    "    kd = 1\n",
    "\n",
    "    # Notches\n",
    "    for fstopData in fstops:\n",
    "        fstop = fstopData[0]\n",
    "        df = fstopData[1]\n",
    "        df2 = fstopData[2]\n",
    "        low = (fstop - df) / nyq\n",
    "        high = (fstop + df) / nyq\n",
    "        low2 = (fstop - df2) / nyq\n",
    "        high2 = (fstop + df2) / nyq\n",
    "        z, p, k = iirdesign([low,high], [low2,high2], gpass=1, gstop=6,\n",
    "                            ftype='ellip', output='zpk')\n",
    "        zd = np.append(zd,z)\n",
    "        pd = np.append(pd,p)\n",
    "\n",
    "    # Set gain to one at 100 Hz...better not notch there                                        \n",
    "    bPrelim,aPrelim = zpk2tf(zd, pd, 1)\n",
    "    outFreq, outg0 = freqz(bPrelim, aPrelim, 100/nyq)\n",
    "\n",
    "    # Return the numerator and denominator of the digital filter                                \n",
    "    b,a = zpk2tf(zd,pd,k)\n",
    "    return b, a\n",
    "\n",
    "def get_filter_coefs(fs):\n",
    "    \n",
    "    # assemble the filter b,a coefficients:\n",
    "    coefs = []\n",
    "\n",
    "    # bandpass filter parameters\n",
    "    lowcut=43\n",
    "    highcut=260\n",
    "    order = 4\n",
    "\n",
    "    # bandpass filter coefficients \n",
    "    nyq = 0.5*fs\n",
    "    low = lowcut / nyq\n",
    "    high = highcut / nyq\n",
    "    bb, ab = butter(order, [low, high], btype='band')\n",
    "    coefs.append((bb,ab))\n",
    "\n",
    "    # Frequencies of notches at known instrumental spectral line frequencies.\n",
    "    # You can see these lines in the ASD above, so it is straightforward to make this list.\n",
    "    notchesAbsolute = np.array(\n",
    "        [14.0,34.70, 35.30, 35.90, 36.70, 37.30, 40.95, 60.00, \n",
    "         120.00, 179.99, 304.99, 331.49, 510.02, 1009.99])\n",
    "\n",
    "    # notch filter coefficients:\n",
    "    for notchf in notchesAbsolute:                      \n",
    "        bn, an = iir_bandstops(np.array([[notchf,1,0.1]]), fs, order=4)\n",
    "        coefs.append((bn,an))\n",
    "\n",
    "    # Manually do a wider notch filter around 510 Hz etc.          \n",
    "    bn, an = iir_bandstops(np.array([[510,200,20]]), fs, order=4)\n",
    "    coefs.append((bn, an))\n",
    "\n",
    "    # also notch out the forest of lines around 331.5 Hz\n",
    "    bn, an = iir_bandstops(np.array([[331.5,10,1]]), fs, order=4)\n",
    "    coefs.append((bn, an))\n",
    "    \n",
    "    return coefs\n",
    "\n",
    "# and then define the filter function:\n",
    "def filter_data(data_in,coefs):\n",
    "    data = data_in.copy()\n",
    "    for coef in coefs:\n",
    "        b,a = coef\n",
    "        # filtfilt applies a linear filter twice, once forward and once backwards.\n",
    "        # The combined filter has linear phase.\n",
    "        data = filtfilt(b, a, data)\n",
    "    return data\n"
   ]
  },
  {
   "cell_type": "markdown",
   "metadata": {
    "deletable": true,
    "editable": true
   },
   "source": [
    "To visualize the effect of this filter, let's generate \"white\" gaussian noise, and filter it."
   ]
  },
  {
   "cell_type": "code",
   "execution_count": null,
   "metadata": {
    "collapsed": false,
    "deletable": true,
    "editable": true
   },
   "outputs": [],
   "source": [
    "# get filter coefficients\n",
    "coefs = get_filter_coefs(fs)\n",
    "\n",
    "# generate random gaussian \"data\"\n",
    "data = np.random.randn(128*fs)\n",
    "\n",
    "# filter it:\n",
    "resp = filter_data(data,coefs)\n",
    "\n",
    "# compute the amplitude spectral density (ASD) of the original data, and the filtered data:\n",
    "NFFT = fs/2\n",
    "Pxx_data, freqs = mlab.psd(data, Fs = fs, NFFT = NFFT)\n",
    "Pxx_resp, freqs = mlab.psd(resp, Fs = fs, NFFT = NFFT)\n",
    "\n",
    "# The asd is the square root; and let's normalize it to 1:\n",
    "norm = np.sqrt(Pxx_data).mean()\n",
    "asd_data = np.sqrt(Pxx_data)/norm\n",
    "asd_resp = np.sqrt(Pxx_resp)/norm\n",
    "\n",
    "# get the predicted filter frequency response using signal.freqz:\n",
    "Nc = 2000\n",
    "filt_resp = np.ones(Nc)\n",
    "for coef in coefs:\n",
    "    b,a = coef\n",
    "    w,r = signal.freqz(b,a,worN=Nc)\n",
    "    filt_resp = filt_resp*np.abs(r)\n",
    "freqf = (fs * 0.5 / np.pi) * w\n",
    "# We \"double pass\" the filtering using filtfilt, so we square the filter response\n",
    "filt_resp = filt_resp**2\n",
    "\n",
    "# plot the ASDs\n",
    "plt.figure()\n",
    "plt.plot(freqs,  asd_data,'b',label='white noise')\n",
    "plt.plot(freqs,  asd_resp,'m',label='filtered white noise')\n",
    "plt.plot(freqf, filt_resp,'k--',label='filter response')\n",
    "plt.xlim([0,600])\n",
    "plt.grid('on')\n",
    "plt.ylabel('ASD (strain/rtHz)')\n",
    "plt.xlabel('Freq (Hz)')\n",
    "plt.legend(loc='center right')\n",
    "plt.savefig('GW150914_filter.png')"
   ]
  },
  {
   "cell_type": "markdown",
   "metadata": {
    "deletable": true,
    "editable": true
   },
   "source": [
    "From the above, you can see that the gaussian noise (blue) is \"white\" - it is flat in frequency (all the way up to Nyquist frequency of 2048 Hz, but we'lve cut it off at 600 Hz to see the effect of filtering). You can see in the filtered data (magenta) the effects of the bandpassing and the notches.\n",
    "\n",
    "Now let's filter the data, and plot the results:"
   ]
  },
  {
   "cell_type": "code",
   "execution_count": null,
   "metadata": {
    "collapsed": false,
    "deletable": true,
    "editable": true
   },
   "outputs": [],
   "source": [
    "# filter the data:\n",
    "strain_H1_filt = filter_data(strain_H1, coefs)\n",
    "strain_L1_filt = filter_data(strain_L1, coefs)\n",
    "\n",
    "# filter NR template as we do with the data:\n",
    "NR_H1_filt = filter_data(NR_H1, coefs)\n",
    "\n",
    "# plot the data prior to filtering:\n",
    "plt.figure()\n",
    "plt.plot(time-tevent,strain_H1,'r',label='H1 strain')\n",
    "plt.plot(time-tevent,strain_L1,'g',label='L1 strain')\n",
    "plt.xlim([-0.2,0.1])\n",
    "plt.xlabel('time (s) since '+str(tevent))\n",
    "plt.ylabel('strain')\n",
    "plt.legend(loc='lower right')\n",
    "plt.title('aLIGO strain data near GW150914')\n",
    "plt.savefig('GW150914_H1_strain_unfiltered.png')\n",
    "\n",
    "# plot the data after filtering:\n",
    "# first, shift L1 by 7 ms, and invert. See the GW150914 detection paper for why!\n",
    "strain_L1_fils = -np.roll(strain_L1_filt,int(0.007*fs))\n",
    "# We also have to shift the NR template by 2 ms to get it to line up properly with the data\n",
    "plt.figure()\n",
    "plt.plot(time-tevent,strain_H1_filt,'r',label='H1 strain')\n",
    "plt.plot(time-tevent,strain_L1_fils,'g',label='L1 strain')\n",
    "plt.plot(NRtime+0.002,NR_H1_filt,'k',label='matched NR waveform')\n",
    "plt.xlim([-0.2,0.1])\n",
    "plt.ylim([-1.5e-21,1.5e-21])\n",
    "plt.xlabel('time (s) since '+str(tevent))\n",
    "plt.ylabel('strain')\n",
    "plt.legend(loc='lower left')\n",
    "plt.title('aLIGO FILTERED strain data near GW150914')\n",
    "plt.savefig('GW150914_H1_strain_filtered.png')"
   ]
  },
  {
   "cell_type": "markdown",
   "metadata": {
    "deletable": true,
    "editable": true
   },
   "source": [
    "The filtered data peak at around 1.e-21, 1000 times smaller than the scale in the first plot. The \"DC\" offset between H1 and L1 data visible in the first plot is no longer visible here; the bandpassing cuts off frequency components below around 40 Hz. \n",
    "\n",
    "Now, as with whitening, the signal is visible as an oscillation sweeping from low to high frequency from -0.10 seconds to 0, then damping down into the random noise. Again, it looks roughly the same in both detectors, after shifting and flipping the L1 data with respect to H1. It's exactly the kind of signal we expect from the inspiral, merger and ringdown of two massive black holes.\n",
    "\n",
    "And as with whitening, the NR waveform looks, by eye, to be a good match to the data in both detectors; the signal is consistent with the waveform predicted from General Relativity."
   ]
  },
  {
   "cell_type": "markdown",
   "metadata": {
    "deletable": true,
    "editable": true
   },
   "source": [
    "## Make sound files\n",
    "\n",
    "Make wav (sound) files from the filtered, downsampled data, +-2s around the event."
   ]
  },
  {
   "cell_type": "code",
   "execution_count": null,
   "metadata": {
    "collapsed": false,
    "deletable": true,
    "editable": true
   },
   "outputs": [],
   "source": [
    "# make wav (sound) files from the whitened data, +-2s around the event.\n",
    "\n",
    "from scipy.io import wavfile\n",
    "\n",
    "# function to keep the data within integer limits, and write to wavfile:\n",
    "def write_wavfile(filename,fs,data):\n",
    "    d = np.int16(data/np.max(np.abs(data)) * 32767 * 0.9)\n",
    "    wavfile.write(filename,int(fs), d)\n",
    "\n",
    "tevent = 1126259462.422         # Mon Sep 14 09:50:45 GMT 2015 \n",
    "deltat = 2.                     # seconds around the event\n",
    "\n",
    "# index into the strain time series for this time interval:\n",
    "indxt = np.where((time >= tevent-deltat) & (time < tevent+deltat))\n",
    "\n",
    "# write the files:\n",
    "write_wavfile(\"GW150914_H1_whitenbp.wav\",int(fs), strain_H1_whitenbp[indxt])\n",
    "write_wavfile(\"GW150914_L1_whitenbp.wav\",int(fs), strain_L1_whitenbp[indxt])\n",
    "write_wavfile(\"GW150914_NR_whitenbp.wav\",int(fs), NR_H1_whitenbp)\n"
   ]
  },
  {
   "cell_type": "markdown",
   "metadata": {
    "deletable": true,
    "editable": true
   },
   "source": [
    "With good headphones, you'll hear a faint thump in the middle.\n",
    "\n",
    "We can enhance this by increasing the frequency; \n",
    "this is the \"audio\" equivalent of the enhanced visuals that NASA employs on telescope images with \"false color\".\n",
    "\n",
    "The code below will shift the data up by 400 Hz (by taking an FFT, shifting/rolling the frequency series, then inverse fft-ing). The resulting sound file will be noticibly more high-pitched, and the signal will be easier to hear."
   ]
  },
  {
   "cell_type": "code",
   "execution_count": null,
   "metadata": {
    "collapsed": false,
    "deletable": true,
    "editable": true
   },
   "outputs": [],
   "source": [
    "# function that shifts frequency of a band-passed signal\n",
    "def reqshift(data,fshift=100,sample_rate=4096):\n",
    "    \"\"\"Frequency shift the signal by constant\n",
    "    \"\"\"\n",
    "    x = np.fft.rfft(data)\n",
    "    T = len(data)/float(sample_rate)\n",
    "    df = 1.0/T\n",
    "    nbins = int(fshift/df)\n",
    "    # print T,df,nbins,x.real.shape\n",
    "    y = np.roll(x.real,nbins) + 1j*np.roll(x.imag,nbins)\n",
    "    z = np.fft.irfft(y)\n",
    "    return z\n",
    "\n",
    "# parameters for frequency shift\n",
    "fs = 4096\n",
    "fshift = 400.\n",
    "speedup = 1.\n",
    "fss = int(float(fs)*float(speedup))\n",
    "\n",
    "# shift frequency of the data\n",
    "strain_H1_shifted = reqshift(strain_H1_whitenbp,fshift=fshift,sample_rate=fs)\n",
    "strain_L1_shifted = reqshift(strain_L1_whitenbp,fshift=fshift,sample_rate=fs)\n",
    "NR_H1_shifted = reqshift(NR_H1_whitenbp,fshift=fshift,sample_rate=fs)\n",
    "\n",
    "# write the files:\n",
    "write_wavfile(\"GW150914_H1_shifted.wav\",int(fs), strain_H1_shifted[indxt])\n",
    "write_wavfile(\"GW150914_L1_shifted.wav\",int(fs), strain_L1_shifted[indxt])\n",
    "write_wavfile(\"GW150914_NR_shifted.wav\",int(fs), NR_H1_shifted)\n"
   ]
  },
  {
   "cell_type": "code",
   "execution_count": null,
   "metadata": {
    "collapsed": true,
    "deletable": true,
    "editable": true
   },
   "outputs": [],
   "source": []
  },
  {
   "cell_type": "code",
   "execution_count": null,
   "metadata": {
    "collapsed": true,
    "deletable": true,
    "editable": true
   },
   "outputs": [],
   "source": []
  }
 ],
 "metadata": {
  "kernelspec": {
   "display_name": "Python 2",
   "language": "python",
   "name": "python2"
  },
  "language_info": {
   "codemirror_mode": {
    "name": "ipython",
    "version": 2
   },
   "file_extension": ".py",
   "mimetype": "text/x-python",
   "name": "python",
   "nbconvert_exporter": "python",
   "pygments_lexer": "ipython2",
   "version": "2.7.12"
  }
 },
 "nbformat": 4,
 "nbformat_minor": 0
}
