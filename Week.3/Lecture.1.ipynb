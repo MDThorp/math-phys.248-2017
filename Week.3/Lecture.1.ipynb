{
 "cells": [
  {
   "cell_type": "markdown",
   "metadata": {},
   "source": [
    "# Week 3 \n",
    "\n",
    "## Day 1: Using numbers in Python. \n",
    "\n",
    "* Limitations of data types such as integers and floats. \n",
    "\n",
    "* Sympy, and other numerical data types. "
   ]
  },
  {
   "cell_type": "markdown",
   "metadata": {},
   "source": [
    "## Before we begin\n",
    "\n",
    "Notice that you can always determine the data type Python is using in an expression with the **type** keyword."
   ]
  },
  {
   "cell_type": "code",
   "execution_count": 1,
   "metadata": {
    "collapsed": false
   },
   "outputs": [
    {
     "name": "stdout",
     "output_type": "stream",
     "text": [
      "<class 'float'>\n",
      "<class 'float'>\n",
      "<class 'int'>\n"
     ]
    }
   ],
   "source": [
    "print(type(1.0))\n",
    "print(type(1.))\n",
    "print(type(1))"
   ]
  },
  {
   "cell_type": "markdown",
   "metadata": {},
   "source": [
    "### Some experiments with Python number types. \n",
    "\n",
    "We will do some elementary experiments with Python numerical data types, to explore their limitations. \n",
    "\n",
    "Let's start with a basic *expansive* process.   Given a number $x$ we will *double* it, \n",
    "$$x \\longmapsto 2x$$\n",
    "and then to keep things at a fixed scale, we will subtract whichever integer $k$ it takes so that\n",
    "$0 \\leq 2x - k < 1$.  \n",
    "\n",
    "What we are doing would sometimes be called *iteration* of the function\n",
    "$$ f(x) = 2x - \\lfloor 2x \\rfloor $$\n",
    "\n",
    "$\\lfloor x \\rfloor$ is the largest integer less than or equal to $x$, i.e. $f(x)$ is the process\n",
    "of doubling $x$, then removing the integer part.  $0 \\leq f(x) < 1$ always. \n",
    "\n",
    "In Python:"
   ]
  },
  {
   "cell_type": "code",
   "execution_count": 2,
   "metadata": {
    "collapsed": false
   },
   "outputs": [
    {
     "name": "stdout",
     "output_type": "stream",
     "text": [
      "3.141592653589793\n",
      "0 0.28318530717958623\n",
      "1 0.5663706143591725\n",
      "2 0.13274122871834493\n",
      "3 0.26548245743668986\n",
      "4 0.5309649148733797\n",
      "5 0.061929829746759424\n",
      "6 0.12385965949351885\n",
      "7 0.2477193189870377\n",
      "8 0.4954386379740754\n",
      "9 0.9908772759481508\n",
      "10 0.9817545518963016\n",
      "11 0.9635091037926031\n",
      "12 0.9270182075852063\n",
      "13 0.8540364151704125\n",
      "14 0.708072830340825\n",
      "15 0.41614566068165004\n",
      "16 0.8322913213633001\n",
      "17 0.6645826427266002\n",
      "18 0.32916528545320034\n",
      "19 0.6583305709064007\n",
      "20 0.31666114181280136\n",
      "21 0.6333222836256027\n",
      "22 0.26664456725120544\n",
      "23 0.5332891345024109\n",
      "24 0.06657826900482178\n",
      "25 0.13315653800964355\n",
      "26 0.2663130760192871\n",
      "27 0.5326261520385742\n",
      "28 0.06525230407714844\n",
      "29 0.13050460815429688\n",
      "30 0.26100921630859375\n",
      "31 0.5220184326171875\n",
      "32 0.044036865234375\n",
      "33 0.08807373046875\n",
      "34 0.1761474609375\n",
      "35 0.352294921875\n",
      "36 0.70458984375\n",
      "37 0.4091796875\n",
      "38 0.818359375\n",
      "39 0.63671875\n",
      "40 0.2734375\n",
      "41 0.546875\n",
      "42 0.09375\n",
      "43 0.1875\n",
      "44 0.375\n",
      "45 0.75\n",
      "46 0.5\n",
      "47 0.0\n",
      "48 0.0\n",
      "49 0.0\n"
     ]
    }
   ],
   "source": [
    "def f(x):\n",
    "    x = 2*x\n",
    "    while (x >= 1): x = x - 1\n",
    "    while (x < 0): x = x + 1\n",
    "    return x\n",
    "\n",
    "import math as ma\n",
    "\n",
    "x = ma.pi\n",
    "print(x)\n",
    "for i in range(50):\n",
    "    x = f(x)\n",
    "    print(i, x)"
   ]
  },
  {
   "cell_type": "markdown",
   "metadata": {
    "collapsed": true
   },
   "source": [
    "So in less than $47$ iterations, $f$ converts π to $0$.  \n",
    "\n",
    "* * *\n",
    "\n",
    "*Fact*: if π was represented accurately, the above sequence should *never* terminate. \n",
    "\n",
    "Denote $f(f(f(\\cdots f(x) \\cdots )))$ by $f^{(n)}(x)$, i.e. applying $f$ $n$-times, iteratively, to $x$.  \n",
    "\n",
    "*Observation*: The only real numbers $x \\in \\mathbb R$ such that for some integer $n \\in \\{0,1,2,3,\\cdots\\}$ $f^{(n)}(x) = 0$ are:\n",
    "$$ \\{ \\frac{p}{2^k} : p \\in \\mathbb Z, k \\in \\{0,1,2,3,\\cdots\\} \\}$$\n",
    "i.e. $x$ has to be a *rational* number, numerator an integer, and denominator a power of $2$. \n",
    "\n",
    "\n",
    "\n",
    "Thus for rational numbers like $\\frac{1}{3}$, the sequence $f^{(n)}(1/3)$ should never terminate at $0$. \n",
    "\n",
    "For rational numbers this sequence turns out to be always *periodic*, for example:\n",
    "$$ f(1/3) = \\lfloor 2/3 \\rfloor = 2/3$$\n",
    "$$ f(2/3) = \\lfloor 4/3 \\rfloor = 1/3$$\n",
    "$$ f(1/3) = \\lfloor 2/3 \\rfloor = 2/3$$\n",
    "so the sequence $f^{(n)}(1/3)$ is $$1/3, 2/3, 1/3, 2/3, \\cdots $$ \n",
    "\n",
    "*But* if we make $1/3$ a floating point number, look what happens:"
   ]
  },
  {
   "cell_type": "code",
   "execution_count": 3,
   "metadata": {
    "collapsed": false
   },
   "outputs": [
    {
     "name": "stdout",
     "output_type": "stream",
     "text": [
      "0 0.6666666666666666\n",
      "1 0.33333333333333326\n",
      "2 0.6666666666666665\n",
      "3 0.33333333333333304\n",
      "4 0.6666666666666661\n",
      "5 0.33333333333333215\n",
      "6 0.6666666666666643\n",
      "7 0.3333333333333286\n",
      "8 0.6666666666666572\n",
      "9 0.3333333333333144\n",
      "10 0.6666666666666288\n",
      "11 0.33333333333325754\n",
      "12 0.6666666666665151\n",
      "13 0.33333333333303017\n",
      "14 0.6666666666660603\n",
      "15 0.3333333333321207\n",
      "16 0.6666666666642413\n",
      "17 0.3333333333284827\n",
      "18 0.6666666666569654\n",
      "19 0.3333333333139308\n",
      "20 0.6666666666278616\n",
      "21 0.3333333332557231\n",
      "22 0.6666666665114462\n",
      "23 0.3333333330228925\n",
      "24 0.666666666045785\n",
      "25 0.3333333320915699\n",
      "26 0.6666666641831398\n",
      "27 0.3333333283662796\n",
      "28 0.6666666567325592\n",
      "29 0.3333333134651184\n",
      "30 0.6666666269302368\n",
      "31 0.33333325386047363\n",
      "32 0.6666665077209473\n",
      "33 0.33333301544189453\n",
      "34 0.6666660308837891\n",
      "35 0.3333320617675781\n",
      "36 0.6666641235351562\n",
      "37 0.3333282470703125\n",
      "38 0.666656494140625\n",
      "39 0.33331298828125\n",
      "40 0.6666259765625\n",
      "41 0.333251953125\n",
      "42 0.66650390625\n",
      "43 0.3330078125\n",
      "44 0.666015625\n",
      "45 0.33203125\n",
      "46 0.6640625\n",
      "47 0.328125\n",
      "48 0.65625\n",
      "49 0.3125\n",
      "50 0.625\n",
      "51 0.25\n",
      "52 0.5\n",
      "53 0.0\n",
      "54 0.0\n",
      "55 0.0\n",
      "56 0.0\n",
      "57 0.0\n"
     ]
    }
   ],
   "source": [
    "x = 1/3\n",
    "for i in range(58):\n",
    "    x = f(x)\n",
    "    print(i, x)"
   ]
  },
  {
   "cell_type": "markdown",
   "metadata": {},
   "source": [
    "This is one of the dangers of floating point numbers.  It can result in computation errors in a suprising array of situations.  These errors tend to be called **round off errors**. \n",
    "\n",
    "In cases where you need to perform iterations like this and you are looking for *absolute* precision, Python has various other data types you could consider.  For example, the rational number data type. "
   ]
  },
  {
   "cell_type": "code",
   "execution_count": 4,
   "metadata": {
    "collapsed": false
   },
   "outputs": [
    {
     "name": "stdout",
     "output_type": "stream",
     "text": [
      "1/17\n",
      "0 2/17\n",
      "1 4/17\n",
      "2 8/17\n",
      "3 16/17\n",
      "4 15/17\n",
      "5 13/17\n",
      "6 9/17\n",
      "7 1/17\n",
      "8 2/17\n",
      "9 4/17\n",
      "10 8/17\n",
      "11 16/17\n",
      "12 15/17\n",
      "13 13/17\n",
      "14 9/17\n",
      "15 1/17\n",
      "16 2/17\n",
      "17 4/17\n",
      "18 8/17\n",
      "19 16/17\n"
     ]
    }
   ],
   "source": [
    "import fractions as frac\n",
    "\n",
    "x = frac.Fraction(1,17)\n",
    "print(x)\n",
    "for i in range(20):\n",
    "    x = f(x)\n",
    "    print(i, x)\n",
    "    "
   ]
  },
  {
   "cell_type": "code",
   "execution_count": 5,
   "metadata": {
    "collapsed": false
   },
   "outputs": [
    {
     "name": "stdout",
     "output_type": "stream",
     "text": [
      "2\n",
      "4\n",
      "8\n",
      "16\n",
      "32\n",
      "64\n",
      "128\n",
      "256\n",
      "512\n",
      "1024\n",
      "2048\n",
      "4096\n",
      "8192\n",
      "16384\n",
      "32768\n",
      "65536\n",
      "131072\n",
      "262144\n",
      "524288\n",
      "1048576\n",
      "2097152\n",
      "4194304\n",
      "8388608\n",
      "16777216\n",
      "33554432\n",
      "67108864\n",
      "134217728\n",
      "268435456\n",
      "536870912\n",
      "1073741824\n",
      "2147483648\n",
      "4294967296\n",
      "8589934592\n",
      "17179869184\n",
      "34359738368\n",
      "68719476736\n",
      "137438953472\n",
      "274877906944\n",
      "549755813888\n",
      "1099511627776\n",
      "2199023255552\n",
      "4398046511104\n",
      "8796093022208\n",
      "17592186044416\n",
      "35184372088832\n",
      "70368744177664\n",
      "140737488355328\n",
      "281474976710656\n",
      "562949953421312\n",
      "1125899906842624\n",
      "2251799813685248\n",
      "4503599627370496\n",
      "9007199254740992\n",
      "18014398509481984\n",
      "36028797018963968\n",
      "72057594037927936\n",
      "144115188075855872\n",
      "288230376151711744\n",
      "576460752303423488\n",
      "1152921504606846976\n",
      "2305843009213693952\n",
      "4611686018427387904\n",
      "9223372036854775808\n",
      "18446744073709551616\n",
      "36893488147419103232\n",
      "73786976294838206464\n",
      "147573952589676412928\n",
      "295147905179352825856\n",
      "590295810358705651712\n",
      "1180591620717411303424\n",
      "2361183241434822606848\n",
      "4722366482869645213696\n",
      "9444732965739290427392\n",
      "18889465931478580854784\n",
      "37778931862957161709568\n",
      "75557863725914323419136\n",
      "151115727451828646838272\n",
      "302231454903657293676544\n",
      "604462909807314587353088\n",
      "1208925819614629174706176\n",
      "2417851639229258349412352\n",
      "4835703278458516698824704\n",
      "9671406556917033397649408\n",
      "19342813113834066795298816\n",
      "38685626227668133590597632\n",
      "77371252455336267181195264\n",
      "154742504910672534362390528\n",
      "309485009821345068724781056\n",
      "618970019642690137449562112\n",
      "1237940039285380274899124224\n",
      "2475880078570760549798248448\n",
      "4951760157141521099596496896\n",
      "9903520314283042199192993792\n",
      "19807040628566084398385987584\n",
      "39614081257132168796771975168\n",
      "79228162514264337593543950336\n",
      "158456325028528675187087900672\n",
      "316912650057057350374175801344\n",
      "633825300114114700748351602688\n",
      "1267650600228229401496703205376\n"
     ]
    }
   ],
   "source": [
    "x = 1\n",
    "for i in range(100):\n",
    "    x = x*2\n",
    "    print(x)"
   ]
  },
  {
   "cell_type": "markdown",
   "metadata": {},
   "source": [
    "## Some peculiarities of integers\n",
    "\n",
    "Python has a few peculiarities relating to integers. We mention a few here. \n",
    "\n",
    "* There are two division operations:\n",
    "  - 1/3  and\n",
    "  - 1//3\n",
    "  \n",
    "Let's see what they do. "
   ]
  },
  {
   "cell_type": "code",
   "execution_count": 6,
   "metadata": {
    "collapsed": false
   },
   "outputs": [
    {
     "name": "stdout",
     "output_type": "stream",
     "text": [
      "0.3333333333333333\n",
      "<class 'float'> \n",
      "\n",
      "0\n",
      "<class 'int'>\n"
     ]
    }
   ],
   "source": [
    "print(1/3) ## is a float\n",
    "print(type(1/3), \"\\n\")\n",
    "\n",
    "print(1//3)\n",
    "print(type(1//3))"
   ]
  },
  {
   "cell_type": "markdown",
   "metadata": {},
   "source": [
    "## The difference \n",
    "\n",
    "The expression $1/3$ is perhaps closest to what we might expect.  It is a floating-point approximation to the fraction $1/3$. \n",
    "\n",
    "The expression $1//3$ is an integer.  It denotes *integer division*.  Precisely, given any integer $n$ and a positive integer $d$ there are unique integers $q, r$ with $0 \\leq r < d$ such that\n",
    "\n",
    "$$ n = qd + r $$\n",
    "\n",
    "$n$ is called the *numerator*, $d$ the *denominator*, $q$ the *quotient* and $r$ the *remainder*.  \n",
    "\n",
    " * The operator $n \\% d$ produces $r$.  \n",
    " * The operator $n // d$ produces $q$."
   ]
  },
  {
   "cell_type": "code",
   "execution_count": 7,
   "metadata": {
    "collapsed": false
   },
   "outputs": [
    {
     "name": "stdout",
     "output_type": "stream",
     "text": [
      "-4 = -1 * 4 + 0\n",
      "-3 = -1 * 4 + 1\n",
      "-2 = -1 * 4 + 2\n",
      "-1 = -1 * 4 + 3\n",
      "0 = 0 * 4 + 0\n",
      "1 = 0 * 4 + 1\n",
      "2 = 0 * 4 + 2\n",
      "3 = 0 * 4 + 3\n"
     ]
    }
   ],
   "source": [
    "def divalg(n,d):\n",
    "    print(n, \"=\", n//d, \"*\", d, \"+\", n%d)\n",
    "\n",
    "for i in range(-4, 4):\n",
    "    divalg(i,4)\n",
    "    \n",
    "##   % is usually called the \"mod operator\", giving r the \"remainder\". "
   ]
  },
  {
   "cell_type": "markdown",
   "metadata": {},
   "source": [
    "Now we have $f$ simulated accurately on our computers.  The unfortunate side-effect \n",
    "of this is that numbers like $\\pi$ are not rational numbers.   Another unfortunate side-effect is that some procedures, even if they work with integers converge towards irrational numbers like $\\pi$, which is difficult to approximate with fractions.  For instance, the function\n",
    "\n",
    "$$ x \\longmapsto \\frac{x^2+2}{2x}$$\n",
    "\n",
    "converges to $\\sqrt{2}$ on iteration.  This is Newton's method for the polynomial $$x^2 - 2 = 0$$"
   ]
  },
  {
   "cell_type": "code",
   "execution_count": 8,
   "metadata": {
    "collapsed": false
   },
   "outputs": [
    {
     "name": "stdout",
     "output_type": "stream",
     "text": [
      "1.5\n",
      "1.4166666666666667\n",
      "1.4142156862745099\n",
      "1.4142135623746899\n",
      "1.414213562373095\n",
      "1.414213562373095\n",
      "\n",
      "\n",
      "\n",
      "3/2\n",
      "17/12\n",
      "577/408\n",
      "665857/470832\n",
      "886731088897/627013566048\n",
      "1572584048032918633353217/1111984844349868137938112\n",
      "\n",
      "\n",
      "1.4142135623730951\n"
     ]
    }
   ],
   "source": [
    "def f(x):\n",
    "    return (x**2+2)/(2*x)\n",
    "\n",
    "x = 1\n",
    "for i in range(6):\n",
    "    x = f(x)\n",
    "    print(x)\n",
    "print(\"\\n\\n\")\n",
    "\n",
    "x = frac.Fraction(1,1)\n",
    "for i in range(6):\n",
    "    x = f(x)\n",
    "    print(x)\n",
    "print(\"\\n\")\n",
    "print(float(x))"
   ]
  },
  {
   "cell_type": "markdown",
   "metadata": {},
   "source": [
    "There are a variety of ways to further simulate irrational numbers.  One could use arbitrary-precision floating point numbers, but this only pushes off the round-off error problem a little further. \n",
    "\n",
    "Let's explore this a little.  The library *mpmath* has arbitrary precision floating point numbers. "
   ]
  },
  {
   "cell_type": "code",
   "execution_count": 9,
   "metadata": {
    "collapsed": false
   },
   "outputs": [
    {
     "name": "stdout",
     "output_type": "stream",
     "text": [
      "<class 'mpmath.ctx_mp_python.mpf'>\n",
      "1.5\n",
      "1.416666666666666666666666666666666666666666666666666666666666666666666666666666666666666666666666667\n",
      "1.414215686274509803921568627450980392156862745098039215686274509803921568627450980392156862745098039\n",
      "1.41421356237468991062629557889013491011655962211574404458490501920005437183538926835899004315764434\n",
      "1.414213562373095048801689623502530243614981925776197428498289498623195824228923621784941836735830357\n",
      "1.414213562373095048801688724209698078569671875377234001561013133113265255630339978531787161250710475\n",
      "1.414213562373095048801688724209698078569671875376948073176679737990732478462107038850387534327641602\n",
      "1.414213562373095048801688724209698078569671875376948073176679737990732478462107038850387534327641573\n",
      "1.414213562373095048801688724209698078569671875376948073176679737990732478462107038850387534327641573\n",
      "1.414213562373095048801688724209698078569671875376948073176679737990732478462107038850387534327641573\n",
      "1.414213562373095048801688724209698078569671875376948073176679737990732478462107038850387534327641573\n",
      "1.414213562373095048801688724209698078569671875376948073176679737990732478462107038850387534327641573\n"
     ]
    }
   ],
   "source": [
    "import mpmath as mp\n",
    "\n",
    "mp.mp.dps = 100\n",
    "#print(mp.pi)\n",
    "\n",
    "x = mp.mpf(1.0)\n",
    "#x = 1.0\n",
    "print(type(x))\n",
    "for i in range(12):\n",
    "    x = f(x)\n",
    "    print(x)\n",
    "    "
   ]
  },
  {
   "cell_type": "code",
   "execution_count": null,
   "metadata": {
    "collapsed": false
   },
   "outputs": [],
   "source": []
  },
  {
   "cell_type": "markdown",
   "metadata": {},
   "source": [
    "Floating point numbers are (presented as) numbers of the form $A\\cdot 10^B$ where $A$ and $B$ are integers.\n",
    "\n",
    "For example, to represent the number $$1.0324=10324 \\cdot 10^{-4}$$ \n",
    "Python would store this as a pair of integers $(10324, -4)$. \n",
    "\n",
    "* The first integer, $10324$ is called the *significand*.  \n",
    "* The second integer $-4$ is called the *exponent*.  \n",
    "* $10$ is called the *base*.  \n",
    "\n",
    "Since integers are stored with a fixed amount of system memory \n",
    "(typically one $64$-bit or $32$-bit register) they are of \n",
    "limited size. This means that floating point numbers have \n",
    "limits on what kinds of numbers they can describe. It also means that even the\n",
    "addition and multiplication operation for floating point numbers are subject to usually small, but sometimes large errors. \n",
    "\n",
    "To determine how many decimal-places of precision your Python interface has, we compute $1.0 + 10^k$ for $k$ various negative integers.\n",
    "On my laptop $k=-15$ is the limit of precision."
   ]
  },
  {
   "cell_type": "code",
   "execution_count": 10,
   "metadata": {
    "collapsed": false
   },
   "outputs": [
    {
     "name": "stdout",
     "output_type": "stream",
     "text": [
      "1.0 + 10^-14 = 1.00000000000001\n",
      "1.0 + 10^-15 = 1.000000000000001\n",
      "1.0 + 10^-16 = 1.0\n"
     ]
    }
   ],
   "source": [
    "for i in range(14, 17):\n",
    "    print(\"1.0 + 10^-\",i,\" = \", 1.0 + pow(10, -i), sep='')\n",
    "    "
   ]
  },
  {
   "cell_type": "markdown",
   "metadata": {},
   "source": [
    "This indicates we have $15$ decimal places of accuracy in our number system.  Technically floating point types are stored as $A \\cdot 2^B$ with $A$ and $B$ stored in binary.  It is only when floating point numbers are presented to users as text strings that they are converted to the $A \\cdot 10^B$ format.  \n",
    "\n",
    "We repeat the test again in binary."
   ]
  },
  {
   "cell_type": "code",
   "execution_count": 11,
   "metadata": {
    "collapsed": false
   },
   "outputs": [
    {
     "name": "stdout",
     "output_type": "stream",
     "text": [
      "1.0 + 2^-50 = 1.0000000000000009\n",
      "1.0 + 2^-51 = 1.0000000000000004\n",
      "1.0 + 2^-52 = 1.0000000000000002\n",
      "1.0 + 2^-53 = 1.0\n",
      "1.0 + 2^-54 = 1.0\n",
      "1.0 + 2^-55 = 1.0\n"
     ]
    }
   ],
   "source": [
    "for i in range(50, 56):\n",
    "    print(\"1.0 + 2^-\",i,\" = \", 1.0 + pow(2, -i), sep='')"
   ]
  },
  {
   "cell_type": "markdown",
   "metadata": {},
   "source": [
    "This indicates that Python uses (roughly) $52$ bits for the significand and the remaining bits for the sign and exponent."
   ]
  },
  {
   "cell_type": "markdown",
   "metadata": {},
   "source": [
    "There are further ideas from *algebra* that allow one to accurately manipulate algebraic expressions\n",
    "like $$ 1 + 23\\pi - \\pi^2 + \\pi^{201} - 100\\pi^{198}.$$\n",
    "The tools in algebra are called *polynomial rings*, *quotient rings* and *Groebner basis* and we have access to these tools through the **Sympy library**.\n"
   ]
  },
  {
   "cell_type": "code",
   "execution_count": 12,
   "metadata": {
    "collapsed": false
   },
   "outputs": [],
   "source": [
    "import sympy as sp"
   ]
  },
  {
   "cell_type": "code",
   "execution_count": 13,
   "metadata": {
    "collapsed": false
   },
   "outputs": [
    {
     "name": "stdout",
     "output_type": "stream",
     "text": [
      " 3         \n",
      "x  + sin(x)\n"
     ]
    }
   ],
   "source": [
    "x = sp.Symbol('x')\n",
    "f = x**3 + sp.sin(x)\n",
    "sp.pprint(f)"
   ]
  },
  {
   "cell_type": "code",
   "execution_count": 14,
   "metadata": {
    "collapsed": false
   },
   "outputs": [
    {
     "name": "stdout",
     "output_type": "stream",
     "text": [
      "<class 'sympy.core.add.Add'>\n"
     ]
    }
   ],
   "source": [
    "print(type(f))"
   ]
  },
  {
   "cell_type": "code",
   "execution_count": 15,
   "metadata": {
    "collapsed": false
   },
   "outputs": [
    {
     "name": "stdout",
     "output_type": "stream",
     "text": [
      "sin(x) + cos(x)\n"
     ]
    }
   ],
   "source": [
    "g = sp.sin(x) + sp.cos(x)\n",
    "sp.pprint(g)"
   ]
  },
  {
   "cell_type": "code",
   "execution_count": 16,
   "metadata": {
    "collapsed": false
   },
   "outputs": [
    {
     "data": {
      "text/plain": [
       "sin(x) + cos(x)"
      ]
     },
     "execution_count": 16,
     "metadata": {},
     "output_type": "execute_result"
    }
   ],
   "source": [
    "sp.simplify(g)"
   ]
  },
  {
   "cell_type": "code",
   "execution_count": 17,
   "metadata": {
    "collapsed": false
   },
   "outputs": [
    {
     "name": "stdout",
     "output_type": "stream",
     "text": [
      "                 2\n",
      "(sin(x) + cos(x)) \n"
     ]
    }
   ],
   "source": [
    "G = g**2\n",
    "sp.pprint(G)"
   ]
  },
  {
   "cell_type": "code",
   "execution_count": 18,
   "metadata": {
    "collapsed": false
   },
   "outputs": [
    {
     "name": "stdout",
     "output_type": "stream",
     "text": [
      "   2                           2   \n",
      "sin (x) + 2⋅sin(x)⋅cos(x) + cos (x)\n",
      "sin(2⋅x) + 1\n"
     ]
    }
   ],
   "source": [
    "G = sp.expand(G)\n",
    "sp.pprint(G)\n",
    "G1 = sp.simplify(G)\n",
    "sp.pprint(G1)"
   ]
  },
  {
   "cell_type": "code",
   "execution_count": 19,
   "metadata": {
    "collapsed": false
   },
   "outputs": [
    {
     "name": "stdout",
     "output_type": "stream",
     "text": [
      "sin(2⋅x) + 1\n"
     ]
    }
   ],
   "source": [
    "G = sp.simplify(G)\n",
    "sp.pprint(G)"
   ]
  },
  {
   "cell_type": "code",
   "execution_count": 20,
   "metadata": {
    "collapsed": false
   },
   "outputs": [
    {
     "name": "stdout",
     "output_type": "stream",
     "text": [
      "     2    4\n",
      "1 + π  + π \n",
      "             3\n",
      "⎛     2    4⎞ \n",
      "⎝1 + π  + π ⎠ \n",
      "       2      4      6      8      10    12\n",
      "1 + 3⋅π  + 6⋅π  + 7⋅π  + 6⋅π  + 3⋅π   + π  \n"
     ]
    }
   ],
   "source": [
    "p = sp.pi**4 + sp.pi**2 + 1\n",
    "sp.pprint(p)\n",
    "p1 = p**3\n",
    "sp.pprint(p1)\n",
    "p2 = sp.expand(p1)\n",
    "sp.pprint(p2)"
   ]
  },
  {
   "cell_type": "code",
   "execution_count": 21,
   "metadata": {
    "collapsed": false
   },
   "outputs": [
    {
     "name": "stdout",
     "output_type": "stream",
     "text": [
      " 3         \n",
      "x  + sin(x)\n"
     ]
    }
   ],
   "source": [
    "sp.pprint(f)"
   ]
  },
  {
   "cell_type": "code",
   "execution_count": 22,
   "metadata": {
    "collapsed": false
   },
   "outputs": [
    {
     "name": "stdout",
     "output_type": "stream",
     "text": [
      "   2         \n",
      "3⋅x  + cos(x)\n"
     ]
    }
   ],
   "source": [
    "fp = sp.diff( f, x )\n",
    "sp.pprint(fp)"
   ]
  },
  {
   "cell_type": "code",
   "execution_count": 23,
   "metadata": {
    "collapsed": false
   },
   "outputs": [
    {
     "name": "stdout",
     "output_type": "stream",
     "text": [
      " 4         \n",
      "x          \n",
      "── - cos(x)\n",
      "4          \n"
     ]
    }
   ],
   "source": [
    "F = sp.integrate(f, x)\n",
    "sp.pprint(F)"
   ]
  },
  {
   "cell_type": "code",
   "execution_count": 24,
   "metadata": {
    "collapsed": false
   },
   "outputs": [
    {
     "name": "stdout",
     "output_type": "stream",
     "text": [
      "   ⎛ 2⎞\n",
      "cos⎝x ⎠\n"
     ]
    }
   ],
   "source": [
    "f = sp.cos(x**2)\n",
    "sp.pprint(f)"
   ]
  },
  {
   "cell_type": "code",
   "execution_count": 25,
   "metadata": {
    "collapsed": false
   },
   "outputs": [
    {
     "name": "stdout",
     "output_type": "stream",
     "text": [
      "              ⎛√2⋅x⎞       \n",
      "√2⋅√π⋅fresnelc⎜────⎟⋅Γ(1/4)\n",
      "              ⎝ √π ⎠       \n",
      "───────────────────────────\n",
      "          8⋅Γ(5/4)         \n"
     ]
    }
   ],
   "source": [
    "F = sp.integrate(f, x)\n",
    "sp.pprint(F)"
   ]
  },
  {
   "cell_type": "code",
   "execution_count": 26,
   "metadata": {
    "collapsed": false
   },
   "outputs": [],
   "source": [
    "## convert to a callable functio\n",
    "Fc = sp.lambdify(x, F, \"mpmath\")"
   ]
  },
  {
   "cell_type": "code",
   "execution_count": 27,
   "metadata": {
    "collapsed": false
   },
   "outputs": [
    {
     "data": {
      "text/plain": [
       "mpf('0.9739445540762238703270888161050438615801240483997039217923950730282253753724721779861370060233436194668')"
      ]
     },
     "execution_count": 27,
     "metadata": {},
     "output_type": "execute_result"
    }
   ],
   "source": [
    "## Call it!\n",
    "Fc(1.2)"
   ]
  },
  {
   "cell_type": "code",
   "execution_count": 34,
   "metadata": {
    "collapsed": false
   },
   "outputs": [
    {
     "data": {
      "text/plain": [
       "<matplotlib.text.Text at 0x7fdaf99b1f28>"
      ]
     },
     "execution_count": 34,
     "metadata": {},
     "output_type": "execute_result"
    },
    {
     "data": {
      "image/png": "[encoded data removed]",
      "text/plain": [
       "<matplotlib.figure.Figure at 0x7fdaf9b666a0>"
      ]
     },
     "metadata": {},
     "output_type": "display_data"
    }
   ],
   "source": [
    "## plot it. (we did not complete this in class)\n",
    "x = np.linspace(-12.0, 12.0, 800)\n",
    "y= [Fc(xi) for xi in x]\n",
    "\n",
    "import matplotlib.pyplot as mpl\n",
    "mpl.plot(x,y,'r-')\n",
    "mpl.title(\"Fresnel Function\")"
   ]
  },
  {
   "cell_type": "code",
   "execution_count": null,
   "metadata": {
    "collapsed": true
   },
   "outputs": [],
   "source": []
  }
 ],
 "metadata": {
  "anaconda-cloud": {},
  "kernelspec": {
   "display_name": "Python [default]",
   "language": "python",
   "name": "python3"
  },
  "language_info": {
   "codemirror_mode": {
    "name": "ipython",
    "version": 3
   },
   "file_extension": ".py",
   "mimetype": "text/x-python",
   "name": "python",
   "nbconvert_exporter": "python",
   "pygments_lexer": "ipython3",
   "version": "3.5.2"
  }
 },
 "nbformat": 4,
 "nbformat_minor": 1
}
