{
 "cells": [
  {
   "cell_type": "markdown",
   "metadata": {},
   "source": [
    "# Week 3 \n",
    "\n",
    "## Day 1: Using numbers in Python. \n",
    "\n",
    "* Limitations of data types such as integers and floats. \n",
    "\n",
    "* Sympy, and other numerical data types. "
   ]
  },
  {
   "cell_type": "markdown",
   "metadata": {},
   "source": [
    "## Before we begin\n",
    "\n",
    "Notice that you can always determine the data type Python is using in an expression with the **type** keyword."
   ]
  },
  {
   "cell_type": "code",
   "execution_count": null,
   "metadata": {
    "collapsed": false
   },
   "outputs": [],
   "source": [
    "print(type(1.0))\n",
    "print(type(1.))\n",
    "print(type(1))"
   ]
  },
  {
   "cell_type": "markdown",
   "metadata": {},
   "source": [
    "### Some experiments with Python number types. \n",
    "\n",
    "We will do some elementary experiments with Python numerical data types, to explore their limitations. \n",
    "\n",
    "Let's start with a basic *expansive* process.   Given a number $x$ we will *double* it, \n",
    "$$x \\longmapsto 2x$$\n",
    "and then to keep things at a fixed scale, we will subtract whichever integer $k$ it takes so that\n",
    "$0 \\leq 2x - k < 1$.  \n",
    "\n",
    "What we are doing would sometimes be called *iteration* of the function\n",
    "$$ f(x) = 2x - \\lfloor 2x \\rfloor $$\n",
    "\n",
    "$\\lfloor x \\rfloor$ is the largest integer less than or equal to $x$, i.e. $f(x)$ is the process\n",
    "of doubling $x$, then removing the integer part.  $0 \\leq f(x) < 1$ always. \n",
    "\n",
    "In Python:"
   ]
  },
  {
   "cell_type": "code",
   "execution_count": null,
   "metadata": {
    "collapsed": false
   },
   "outputs": [],
   "source": [
    "def f(x):\n",
    "    x = 2*x\n",
    "    while (x >= 1): x = x - 1\n",
    "    while (x < 0): x = x + 1\n",
    "    return x\n",
    "\n",
    "import math as ma\n",
    "\n",
    "x = ma.pi\n",
    "print(x)\n",
    "for i in range(50):\n",
    "    x = f(x)\n",
    "    print(i, x)"
   ]
  },
  {
   "cell_type": "markdown",
   "metadata": {
    "collapsed": true
   },
   "source": [
    "So in less than $47$ iterations, $f$ converts π to $0$.  \n",
    "\n",
    "* * *\n",
    "\n",
    "*Fact*: if π was represented accurately, the above sequence should *never* terminate. \n",
    "\n",
    "Denote $f(f(f(\\cdots f(x) \\cdots )))$ by $f^{(n)}(x)$, i.e. applying $f$ $n$-times, iteratively, to $x$.  \n",
    "\n",
    "*Observation*: The only real numbers $x \\in \\mathbb R$ such that for some integer $n \\in \\{0,1,2,3,\\cdots\\}$ $f^{(n)}(x) = 0$ are:\n",
    "$$ \\{ \\frac{p}{2^k} : p \\in \\mathbb Z, k \\in \\{0,1,2,3,\\cdots\\} \\}$$\n",
    "i.e. $x$ has to be a *rational* number, numerator an integer, and denominator a power of $2$. \n",
    "\n",
    "\n",
    "\n",
    "Thus for rational numbers like $\\frac{1}{3}$, the sequence $f^{(n)}(1/3)$ should never terminate at $0$. \n",
    "\n",
    "For rational numbers this sequence turns out to be always *periodic*, for example:\n",
    "$$ f(1/3) = \\lfloor 2/3 \\rfloor = 2/3$$\n",
    "$$ f(2/3) = \\lfloor 4/3 \\rfloor = 1/3$$\n",
    "$$ f(1/3) = \\lfloor 2/3 \\rfloor = 2/3$$\n",
    "so the sequence $f^{(n)}(1/3)$ is $$1/3, 2/3, 1/3, 2/3, \\cdots $$ \n",
    "\n",
    "*But* if we make $1/3$ a floating point number, look what happens:"
   ]
  },
  {
   "cell_type": "code",
   "execution_count": null,
   "metadata": {
    "collapsed": true
   },
   "outputs": [],
   "source": [
    "x = 1/3\n",
    "for i in range(58):\n",
    "    x = f(x)\n",
    "    print(i, x)"
   ]
  },
  {
   "cell_type": "markdown",
   "metadata": {},
   "source": [
    "This is one of the dangers of floating point numbers.  It can result in computation errors in a suprising array of situations.  These errors tend to be called **round off errors**. \n",
    "\n",
    "In cases where you need to perform iterations like this and you are looking for *absolute* precision, Python has various other data types you could consider.  For example, the rational number data type. "
   ]
  },
  {
   "cell_type": "code",
   "execution_count": null,
   "metadata": {
    "collapsed": false
   },
   "outputs": [],
   "source": [
    "import fractions as frac\n",
    "\n",
    "x = frac.Fraction(1,17)\n",
    "print(x)\n",
    "for i in range(20):\n",
    "    x = f(x)\n",
    "    print(i, x)\n",
    "    "
   ]
  },
  {
   "cell_type": "code",
   "execution_count": null,
   "metadata": {
    "collapsed": false
   },
   "outputs": [],
   "source": [
    "x = 1\n",
    "for i in range(100):\n",
    "    x = x*2\n",
    "    print(x)"
   ]
  },
  {
   "cell_type": "markdown",
   "metadata": {},
   "source": [
    "## Some peculiarities of integers\n",
    "\n",
    "Python has a few peculiarities relating to integers. We mention a few here. \n",
    "\n",
    "* There are two division operations:\n",
    "  - 1/3  and\n",
    "  - 1//3\n",
    "  \n",
    "Let's see what they do. "
   ]
  },
  {
   "cell_type": "code",
   "execution_count": null,
   "metadata": {
    "collapsed": false
   },
   "outputs": [],
   "source": [
    "print(1/3) ## is a float\n",
    "print(type(1/3), \"\\n\")\n",
    "\n",
    "print(1//3)\n",
    "print(type(1//3))"
   ]
  },
  {
   "cell_type": "markdown",
   "metadata": {},
   "source": [
    "## The difference \n",
    "\n",
    "The expression $1/3$ is perhaps closest to what we might expect.  It is a floating-point approximation to the fraction $1/3$. \n",
    "\n",
    "The expression $1//3$ is an integer.  It denotes *integer division*.  Precisely, given any integer $n$ and a positive integer $d$ there are unique integers $q, r$ with $0 \\leq r < d$ such that\n",
    "\n",
    "$$ n = qd + r $$\n",
    "\n",
    "$n$ is called the *numerator*, $d$ the *denominator*, $q$ the *quotient* and $r$ the *remainder*.  \n",
    "\n",
    " * The operator $n \\% d$ produces $r$.  \n",
    " * The operator $n // d$ produces $q$."
   ]
  },
  {
   "cell_type": "code",
   "execution_count": null,
   "metadata": {
    "collapsed": false
   },
   "outputs": [],
   "source": [
    "def divalg(n,d):\n",
    "    print(n, \"=\", n//d, \"*\", d, \"+\", n%d)\n",
    "\n",
    "for i in range(-4, 4):\n",
    "    divalg(i,4)\n",
    "    \n",
    "##   % is usually called the \"mod operator\", giving r the \"remainder\". "
   ]
  },
  {
   "cell_type": "markdown",
   "metadata": {},
   "source": [
    "Now we have $f$ simulated accurately on our computers.  The unfortunate side-effect \n",
    "of this is that numbers like $\\pi$ are not rational numbers.   Another unfortunate side-effect is that some procedures, even if they work with integers converge towards irrational numbers like $\\pi$, which is difficult to approximate with fractions.  For instance, the function\n",
    "\n",
    "$$ x \\longmapsto \\frac{x^2+2}{2x}$$\n",
    "\n",
    "converges to $\\sqrt{2}$ on iteration.  This is Newton's method for the polynomial $$x^2 - 2 = 0$$"
   ]
  },
  {
   "cell_type": "code",
   "execution_count": null,
   "metadata": {
    "collapsed": false
   },
   "outputs": [],
   "source": [
    "def f(x):\n",
    "    return (x**2+2)/(2*x)\n",
    "\n",
    "x = 1\n",
    "for i in range(6):\n",
    "    x = f(x)\n",
    "    print(x)\n",
    "print(\"\\n\\n\")\n",
    "\n",
    "x = frac.Fraction(1,1)\n",
    "for i in range(6):\n",
    "    x = f(x)\n",
    "    print(x)\n",
    "print(\"\\n\")\n",
    "print(float(x))"
   ]
  },
  {
   "cell_type": "markdown",
   "metadata": {},
   "source": [
    "There are a variety of ways to further simulate irrational numbers.  One could use arbitrary-precision floating point numbers, but this only pushes off the round-off error problem a little further. \n",
    "\n",
    "Let's explore this a little.  The library *mpmath* has arbitrary precision floating point numbers. "
   ]
  },
  {
   "cell_type": "code",
   "execution_count": null,
   "metadata": {
    "collapsed": false
   },
   "outputs": [],
   "source": [
    "import mpmath as mp\n",
    "\n",
    "mp.mp.dps = 100\n",
    "#print(mp.pi)\n",
    "\n",
    "x = mp.mpf(1.0)\n",
    "#x = 1.0\n",
    "print(type(x))\n",
    "for i in range(12):\n",
    "    x = f(x)\n",
    "    print(x)\n",
    "    "
   ]
  },
  {
   "cell_type": "code",
   "execution_count": null,
   "metadata": {
    "collapsed": false
   },
   "outputs": [],
   "source": []
  },
  {
   "cell_type": "markdown",
   "metadata": {},
   "source": [
    "Floating point numbers are (presented as) numbers of the form $A\\cdot 10^B$ where $A$ and $B$ are integers.\n",
    "\n",
    "For example, to represent the number $$1.0324=10324 \\cdot 10^{-4}$$ \n",
    "Python would store this as a pair of integers $(10324, -4)$. \n",
    "\n",
    "* The first integer, $10324$ is called the *significand*.  \n",
    "* The second integer $-4$ is called the *exponent*.  \n",
    "* $10$ is called the *base*.  \n",
    "\n",
    "Since integers are stored with a fixed amount of system memory \n",
    "(typically one $64$-bit or $32$-bit register) they are of \n",
    "limited size. This means that floating point numbers have \n",
    "limits on what kinds of numbers they can describe. It also means that even the\n",
    "addition and multiplication operation for floating point numbers are subject to usually small, but sometimes large errors. \n",
    "\n",
    "To determine how many decimal-places of precision your Python interface has, we compute $1.0 + 10^k$ for $k$ various negative integers.\n",
    "On my laptop $k=-15$ is the limit of precision."
   ]
  },
  {
   "cell_type": "code",
   "execution_count": null,
   "metadata": {
    "collapsed": false
   },
   "outputs": [],
   "source": [
    "for i in range(14, 17):\n",
    "    print(\"1.0 + 10^-\",i,\" = \", 1.0 + pow(10, -i), sep='')\n",
    "    "
   ]
  },
  {
   "cell_type": "markdown",
   "metadata": {},
   "source": [
    "This indicates we have $15$ decimal places of accuracy in our number system.  Technically floating point types are stored as $A \\cdot 2^B$ with $A$ and $B$ stored in binary.  It is only when floating point numbers are presented to users as text strings that they are converted to the $A \\cdot 10^B$ format.  \n",
    "\n",
    "We repeat the test again in binary."
   ]
  },
  {
   "cell_type": "code",
   "execution_count": null,
   "metadata": {
    "collapsed": false
   },
   "outputs": [],
   "source": [
    "for i in range(50, 56):\n",
    "    print(\"1.0 + 2^-\",i,\" = \", 1.0 + pow(2, -i), sep='')"
   ]
  },
  {
   "cell_type": "markdown",
   "metadata": {},
   "source": [
    "This indicates that Python uses (roughly) $52$ bits for the significand and the remaining bits for the sign and exponent."
   ]
  },
  {
   "cell_type": "markdown",
   "metadata": {},
   "source": [
    "There are further ideas from *algebra* that allow one to accurately manipulate algebraic expressions\n",
    "like $$ 1 + 23\\pi - \\pi^2 + \\pi^{201} - 100\\pi^{198}.$$\n",
    "The tools in algebra are called *polynomial rings*, *quotient rings* and *Groebner basis* and we have access to these tools through the **Sympy library**.\n"
   ]
  },
  {
   "cell_type": "code",
   "execution_count": null,
   "metadata": {
    "collapsed": false
   },
   "outputs": [],
   "source": [
    "import sympy as sp"
   ]
  },
  {
   "cell_type": "code",
   "execution_count": null,
   "metadata": {
    "collapsed": false
   },
   "outputs": [],
   "source": [
    "x = sp.Symbol('x')\n",
    "f = x**3 + sp.sin(x)\n",
    "sp.pprint(f)"
   ]
  },
  {
   "cell_type": "code",
   "execution_count": null,
   "metadata": {
    "collapsed": false
   },
   "outputs": [],
   "source": [
    "print(type(f))"
   ]
  },
  {
   "cell_type": "code",
   "execution_count": null,
   "metadata": {
    "collapsed": false
   },
   "outputs": [],
   "source": [
    "g = sp.sin(x) + sp.cos(x)\n",
    "sp.pprint(g)"
   ]
  },
  {
   "cell_type": "code",
   "execution_count": null,
   "metadata": {
    "collapsed": false
   },
   "outputs": [],
   "source": [
    "sp.simplify(g)"
   ]
  },
  {
   "cell_type": "code",
   "execution_count": null,
   "metadata": {
    "collapsed": false
   },
   "outputs": [],
   "source": [
    "G = g**2\n",
    "sp.pprint(G)"
   ]
  },
  {
   "cell_type": "code",
   "execution_count": null,
   "metadata": {
    "collapsed": false
   },
   "outputs": [],
   "source": [
    "G = sp.expand(G)\n",
    "sp.pprint(G)\n",
    "G1 = sp.simplify(G)\n",
    "sp.pprint(G1)"
   ]
  },
  {
   "cell_type": "code",
   "execution_count": null,
   "metadata": {
    "collapsed": false
   },
   "outputs": [],
   "source": [
    "G = sp.simplify(G)\n",
    "sp.pprint(G)"
   ]
  },
  {
   "cell_type": "code",
   "execution_count": null,
   "metadata": {
    "collapsed": false
   },
   "outputs": [],
   "source": [
    "p = sp.pi**4 + sp.pi**2 + 1\n",
    "sp.pprint(p)\n",
    "p1 = p**3\n",
    "sp.pprint(p1)\n",
    "p2 = sp.expand(p1)\n",
    "sp.pprint(p2)"
   ]
  },
  {
   "cell_type": "code",
   "execution_count": null,
   "metadata": {
    "collapsed": false
   },
   "outputs": [],
   "source": [
    "sp.pprint(f)"
   ]
  },
  {
   "cell_type": "code",
   "execution_count": null,
   "metadata": {
    "collapsed": false
   },
   "outputs": [],
   "source": [
    "fp = sp.diff( f, x )\n",
    "sp.pprint(fp)"
   ]
  },
  {
   "cell_type": "code",
   "execution_count": null,
   "metadata": {
    "collapsed": false
   },
   "outputs": [],
   "source": [
    "F = sp.integrate(f, x)\n",
    "sp.pprint(F)"
   ]
  },
  {
   "cell_type": "code",
   "execution_count": null,
   "metadata": {
    "collapsed": false
   },
   "outputs": [],
   "source": [
    "f = sp.cos(x**2)\n",
    "sp.pprint(f)"
   ]
  },
  {
   "cell_type": "code",
   "execution_count": null,
   "metadata": {
    "collapsed": false
   },
   "outputs": [],
   "source": [
    "F = sp.integrate(f, x)\n",
    "sp.pprint(F)"
   ]
  },
  {
   "cell_type": "code",
   "execution_count": null,
   "metadata": {
    "collapsed": false
   },
   "outputs": [],
   "source": [
    "## convert to a callable functio\n",
    "Fc = sp.lambdify(x, F, \"mpmath\")"
   ]
  },
  {
   "cell_type": "code",
   "execution_count": null,
   "metadata": {
    "collapsed": false
   },
   "outputs": [],
   "source": [
    "## Call it!\n",
    "Fc(1.2)"
   ]
  },
  {
   "cell_type": "code",
   "execution_count": null,
   "metadata": {
    "collapsed": false
   },
   "outputs": [],
   "source": [
    "## plot it. (we did not complete this in class)\n",
    "x = np.linspace(-12.0, 12.0, 800)\n",
    "y= [Fc(xi) for xi in x]\n",
    "\n",
    "import matplotlib.pyplot as mpl\n",
    "mpl.plot(x,y,'r-')\n",
    "mpl.title(\"Fresnel Function\")"
   ]
  },
  {
   "cell_type": "code",
   "execution_count": null,
   "metadata": {
    "collapsed": true
   },
   "outputs": [],
   "source": []
  }
 ],
 "metadata": {
  "anaconda-cloud": {},
  "kernelspec": {
   "display_name": "Python 3",
   "language": "python",
   "name": "python3"
  },
  "language_info": {
   "codemirror_mode": {
    "name": "ipython",
    "version": 3
   },
   "file_extension": ".py",
   "mimetype": "text/x-python",
   "name": "python",
   "nbconvert_exporter": "python",
   "pygments_lexer": "ipython3",
   "version": "3.5.2"
  }
 },
 "nbformat": 4,
 "nbformat_minor": 1
}
