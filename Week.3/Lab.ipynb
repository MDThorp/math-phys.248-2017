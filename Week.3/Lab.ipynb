{
 "cells": [
  {
   "cell_type": "markdown",
   "metadata": {},
   "source": [
    "# Week 3 Lab - Quiz + \n",
    "\n",
    "\n",
    "## Part 1:\n",
    "\n",
    "* Log into your BitBucket account and create a repository called \"mp248\". \n",
    "\n",
    "* Give user \"ryan_budney\" *write* access to your bitbucket mp248 repo. This is so we can grade your labs, homework and exams. \n",
    "\n",
    "* **Clone** your mp248 repo into your WENDI session. \n",
    "\n",
    "* Create a text file titled \"experiment.txt\", **add**, **commit** and **push** to your mp248 repo.  If you have any troubles, contact a TA or instructor. \n",
    "\n",
    "* If the WENDI server starts to fail for you -- stalled windows, commands not running in the terminal, etc please try to back-up your work and then:\n",
    " - Log in directly to http://wendi.phys.uvic.ca/\n",
    " - Click \"log out\"\n",
    " - Click \"stop my server\"\n",
    " - Log-in again. "
   ]
  },
  {
   "cell_type": "markdown",
   "metadata": {},
   "source": [
    "## Part 2: Quiz\n",
    "\n",
    "* In your **mp248** repository, create the subdirectory **quiz.1**. \n",
    "\n",
    "* Create a routine that compute the Riemann sum for the function $f(x) = \\sin(x)$ over the interval $[0,\\pi]$. Use the right endpoint for your Riemann sum.  Write your routine in a way so that you can easily compute the Riemann sum for $n=10, 50, 100$ subdivisions. \n",
    "\n",
    "* Give your i-python notebook the name *solution.ipynb* in the *quiz.1* directory, then **add**, **commit** and **push** to your bitbucket account. "
   ]
  },
  {
   "cell_type": "markdown",
   "metadata": {},
   "source": [
    "## Part 3:\n",
    "\n",
    "* Create the subdirectory **lab.3** in your bitbucket **mp248** repository. \n",
    "\n",
    "* The code below, starts with the variable $x=1$. It performs a loop 50 times where:\n",
    " * $x$ is doubled\n",
    " * If $x \\geq 101$ the variable is replaced by $x-101$ until $0 \\leq x < 101$.  \n",
    " \n",
    "At the end of the loop, $x$ is printed to the screen. "
   ]
  },
  {
   "cell_type": "code",
   "execution_count": null,
   "metadata": {
    "collapsed": true
   },
   "outputs": [],
   "source": [
    "x=1\n",
    "for i in range(50):\n",
    "    global x\n",
    "    x=x*2\n",
    "    x=x%101\n",
    "\n",
    "print(\"x ==\",x)"
   ]
  },
  {
   "cell_type": "markdown",
   "metadata": {},
   "source": [
    "* Part a)\n",
    "\n",
    "What happens if you comment-out the line \"global x\" in the code above?\n",
    "\n",
    "* Part b) \n",
    "\n",
    "Modify the code so that you find the first occurance when $x=3$.  You might need to modify the number of times the for loop iterates.  Print $i$ to the screen for the first occurance with $x=3$. "
   ]
  },
  {
   "cell_type": "code",
   "execution_count": null,
   "metadata": {
    "collapsed": true
   },
   "outputs": [],
   "source": []
  },
  {
   "cell_type": "markdown",
   "metadata": {},
   "source": [
    "* Create a Python function that takes as arguments $(f,n,a,b)$ where\n",
    "    - $f$ is a callable Python function\n",
    "    - $n$ is an integer\n",
    "    - $a,b$ are real numbers representing an interval $[a,b]$.\n",
    "    - The function should return the right-endpoint Riemann sum for $f$ on $[a,b]$ using $n$ intervals. "
   ]
  },
  {
   "cell_type": "code",
   "execution_count": null,
   "metadata": {
    "collapsed": true
   },
   "outputs": [],
   "source": []
  },
  {
   "cell_type": "markdown",
   "metadata": {},
   "source": [
    "* How many subdivisions do you need so that your Riemann sum for $f(x)=\\sin(x)$ over $[0,\\pi]$ is accurate\n",
    "  to within $1/10$?  How about $1/100$? "
   ]
  },
  {
   "cell_type": "code",
   "execution_count": null,
   "metadata": {
    "collapsed": true
   },
   "outputs": [],
   "source": []
  },
  {
   "cell_type": "markdown",
   "metadata": {},
   "source": [
    "* Give your notebook the name lab.ipynb, then **add**, **commit** and **push** it before the end of your lab. Make sure it is in your **lab.3** directory. "
   ]
  },
  {
   "cell_type": "code",
   "execution_count": null,
   "metadata": {
    "collapsed": true
   },
   "outputs": [],
   "source": []
  }
 ],
 "metadata": {
  "anaconda-cloud": {},
  "kernelspec": {
   "display_name": "Python [default]",
   "language": "python",
   "name": "python3"
  },
  "language_info": {
   "codemirror_mode": {
    "name": "ipython",
    "version": 3
   },
   "file_extension": ".py",
   "mimetype": "text/x-python",
   "name": "python",
   "nbconvert_exporter": "python",
   "pygments_lexer": "ipython3",
   "version": "3.5.2"
  }
 },
 "nbformat": 4,
 "nbformat_minor": 1
}
