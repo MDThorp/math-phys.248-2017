{
 "cells": [
  {
   "cell_type": "markdown",
   "metadata": {},
   "source": [
    "# Course introduction to tools and resources\n",
    "\n",
    "* course introduction\n",
    "* the online platform WENDI\n",
    "* distributed version control"
   ]
  },
  {
   "cell_type": "markdown",
   "metadata": {},
   "source": [
    "## Course introduction\n",
    "\n",
    "This is a second year course _Computer Assisted Mathematics/Physics_. This course is offered jointly by the Mathematics and Physics & Astronomy Departments.\n",
    "\n",
    "**Math 248 and PHYS 248**\n",
    "\n",
    "The calendar entry summarizes the goal of this course:\n",
    "\n",
    "> Use of a high-level computer language for mathematical and scientific  experimentation, simulation, and calculation. Programming of mathematics using available functions and routines and also writing short programs for symbolic and numerical computations, visualization, graphical output, and data management.  The purpose of the course is to become competent with a high-level mathematics language and to practice programming in such a language. The emphasis is on hands-on coding for experimentation in a variety of mathematical and physical contexts, rather than the theory behind it. \n",
    "\n",
    "Participating in this course is an opportunity. It is still a relatively new course and your feedback and suggestions are especially appreciated and explicitily requested in this course. "
   ]
  },
  {
   "cell_type": "markdown",
   "metadata": {},
   "source": [
    "### Main ways in which scientists and mathematicians use computers\n",
    "\n",
    "#### Data\n",
    "Data is generated all the time when experiments or simulations are carried out. Confronting both with each other or with models involves:\n",
    "\n",
    "* move, store, archive data\n",
    "* analyse data \n",
    "* model data\n",
    "* statistics (see below)\n",
    "* visualise data\n",
    "\n",
    "#### Simulation\n",
    "\n",
    "If we understand the physics then the **correct** (need to talk about that more ...) solution of the **appropriate** laws of nature, such as the _Conservation Laws_ of energy, momentum, mass, charge, etc, should resemble aspects of the real world as revealed through observational data.\n",
    "\n",
    "Real-world problems have some challenges though:\n",
    "\n",
    "* multi-physics: include simultaneously different physics components, such as conservation laws of mass, momentum and energy as well as the Maxwell equations for a magneto-hydrodynamics problem\n",
    "* multi-scale: processes on vastly different temporal and spatial scales are simultaneously important and interacting\n",
    "\n",
    "Numerical simulations combine the above challenges in ways impossible with purely analytical approaches. The simulations of high quality are numerical experiments that reveal the complex and non-linear behaviour of the appropriate combination of physics laws. This approach provides scientific insight in ways that complement traditional theory and physical experimental.\n",
    "\n",
    "**Note:** models and simulations are different things!\n",
    "\n",
    "#### Numerical analysis\n",
    "\n",
    "Solve mathematical problems numerically. Examples include: \n",
    "\n",
    "* integrating a function or differential equation\n",
    "* finding the root of an equation\n",
    "* solving a linear algebra problem with many variables\n",
    "\n",
    "#### Symbolic computing\n",
    "\n",
    "Despite the availability of powerful simulation codes and libraries to rapidly deploy proven methods in numerical analysis we need to be able to work with complicated mathematics in an analytical fashion. The laws of physics come in the language of mathematics, and we need to _speak_ that language to understand physics and to write down new physics insights. Symbolic computing is a powerful way to support that. \n",
    "\n",
    "\n",
    "#### Utilities\n",
    "There are numerous tasks that we have to be familiar with, and that are common to more than one of the above roles. These utilities enable science and any type of quantitative analysis.\n",
    "\n",
    "1. reading and writing data (IO) \n",
    "2. visualizing, plotting data\n",
    "3. programming\n",
    "3. (distributed) version control\n",
    "4. documentation and sharing software\n",
    "5. networking & storage\n",
    "6. using libraries (e.g. for numerical analysis!)\n",
    "8. parallel/threaded computing\n",
    "9. debugging techniques\n",
    "\n",
    "\n",
    "__In this course it is the goal that you obtain an introduction to all of the above by looking at specific physics and mathematics examples.__"
   ]
  },
  {
   "cell_type": "markdown",
   "metadata": {},
   "source": [
    "### Computer language\n",
    "This course could be taught in several languages. We have choosen [Python](https://www.python.org) for a number of reasons:\n",
    "* freely available\n",
    "* very mature\n",
    "* used by scientist in their day-to-day operation, and by many others (including, apparently, Youtube, Dropbox and Google)\n",
    "* extendable, e.g. [symbolic computing](http://www.sympy.org/en/index.html), [astronomy](http://www.astropython.org), [math, science and engeneering](http://www.scipy.org) and much, much more\n",
    "* integrate data aquistion, model building, analysis, simulation and visualisation in one framework\n",
    "\n",
    "\n",
    "### Literature and online resources\n",
    "\n",
    "We will not follow one individual text book in this course, but many topics in this course are covered in books on Python-based Computational Physics and Mathematics: \n",
    "\n",
    "1. [Newman: Computational Physics _with Python_](http://www-personal.umich.edu/~mejn/computational-physics) (Some chapters are online)\n",
    "2. [Stickler & Schachinger: Basic Concepts in Computational Physics](http://voyager.library.uvic.ca/vwebv/holdingsInfo?bibId=3086030) (available as ebook from the UVic library)\n",
    "3. [Langtangen: A Primer on Scientific Programming with Python](http://voyager.library.uvic.ca/vwebv/holdingsInfo?searchId=4972&recCount=25&recPointer=13&bibId=2865846) (available as ebook from the UVic library)\n",
    "4. [Roundy: Introduction to Computational Physics](http://www.lulu.com/ca/en/shop/david-roundy/introduction-to-computational-physics/ebook/product-17437845.html) (free ebook)\n",
    "5. [Cunningham: Python in 24 hours](http://voyager.library.uvic.ca/vwebv/holdingsInfo?searchId=5015&recCount=25&recPointer=17&bibId=3208444) (available as ebook from the UVic library)\n",
    "6. [Pierro: Annotated Algorithms in Python](https://books.google.ca/books/about/Annotated_Algorithms_in_Python.html?id=cZyPngEACAAJ&redir_esc=y)\n",
    "7. Specifically for numerical work there is the classic text [Press etal.: Numerical Recipes](http://www.nr.com) also available from our library!\n",
    "\n",
    "A lot of course resources are online, including online tutorials e.g. [codeacademy.org](https://www.codecademy.com/learn/python) or [lernpython.org](http://www.learnpython.org). "
   ]
  },
  {
   "cell_type": "markdown",
   "metadata": {},
   "source": [
    "### Tools\n",
    "How are we going to access a computer in this course? Where do we get the software? How is it installed? Do we have to pay for it? Do we need a special type of computer with a particular operating system? (BTW - What is an operating system?)\n",
    "\n",
    "We will use two technologies, which ensure that\n",
    "\n",
    "* free\n",
    "* relatively easy and immediate startup\n",
    "* available on your device \n",
    "* \n",
    "\n",
    "\n",
    "\n",
    "### Your laptop\n",
    "You are expected to have some kind of laptop and be able to bring it to class and to the tutorial. The kind (Mac, Windows, Linux) does not matter. If your laptop does not satisfy one of the following, please contact a TA:\n",
    "* Your laptop must be able to connect to the wireless network on campus.\n",
    "* You can arrive for class/tutorial with a battery charge that lasts for one hour.\n",
    "* You have at least 2GB of memory.\n",
    "* You have at least 6GB of spare disk space on your laptop.\n",
    "\n",
    "### The _physma_ virtual machine\n",
    "We need a _workshop_ where we can go and find or install all the things we need to do our math and physics related tasks. We want to have all the same system so that we are not bogged down too much by technical problems. We are going to create a virtual machine for that purpose. There are many virtualization technologies out there. [VirtualBox](https://www.virtualbox.org) is a freely available tool that works very well. A virtualization software provides a virtual computer into which we can install a variety of different operating systems, such as various flavours of Linux. Linux is a unix-like operating system (OS) and serves well as a teaching platform. All the tools that we will need are available as open source or feely downloadable. At the end of this class your personal version of the **physma** virtual machine will be useful tool that allows you to perform many tasks during your further undergraduate education, and beyond!\n",
    "\n",
    "**Action:** Demonstrate making the _physma_ VM\n",
    "\n",
    "**Homework:** (Homework is meant to be done before the next class.)\n",
    "* Create your own _physma_ virtual machine  following the [detailed instructions](https://github.com/fherwig/physmath248_pilot/blob/master/physma_virtual_machine.ipynb). "
   ]
  },
  {
   "cell_type": "markdown",
   "metadata": {},
   "source": [
    "## WENDI: ipython notebooks in the cloud\n",
    "\n",
    "**URL:** https://206.12.59.73\n",
    "\n",
    "You will see a warning screen:\n",
    "![gold_canfar_warning](../images/gold_canfar_warning.png)\n",
    "Click through advanced and accept the security warnings and exceptions. \n",
    "\n",
    "Choose the PHYSMATH248 directory. The _README_ notebook provides further instructions. \n",
    "\n",
    "### Example Get to know the ipython notebooks\n",
    "\n",
    "### Markdown cells and Code cells\n",
    "1. Create a code cell and define a few constants, such as $\\pi$ and the speed of light.\n",
    "2. Create Markdown cell and **describe** how you can use these constants to calculate the time delay for a long-wave radio transmission from the aequator to the north pole. Use $\\LaTeX$ in markdown cells for type setting math formulas.\n",
    "3. Create a code cell to carry out your calculation. Add reasonable comments.\n",
    "4. Add a final markdown cell to summarize your finding."
   ]
  },
  {
   "cell_type": "markdown",
   "metadata": {},
   "source": [
    "## Distributed version control"
   ]
  },
  {
   "cell_type": "code",
   "execution_count": null,
   "metadata": {
    "collapsed": true
   },
   "outputs": [],
   "source": []
  }
 ],
 "metadata": {
  "anaconda-cloud": {},
  "kernelspec": {
   "display_name": "Python 3",
   "language": "python",
   "name": "python3"
  },
  "language_info": {
   "codemirror_mode": {
    "name": "ipython",
    "version": 3
   },
   "file_extension": ".py",
   "mimetype": "text/x-python",
   "name": "python",
   "nbconvert_exporter": "python",
   "pygments_lexer": "ipython3",
   "version": "3.5.2"
  }
 },
 "nbformat": 4,
 "nbformat_minor": 1
}
