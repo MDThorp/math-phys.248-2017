{
 "cells": [
  {
   "cell_type": "markdown",
   "metadata": {
    "collapsed": true
   },
   "source": [
    "# Homework Assignment 1\n",
    "\n",
    "*All* homework assignments are due at *noon* on the due date.  This assignment is due on **Wednesday January 25th**. \n",
    "\n",
    "This assignment is a continuation of your first two labs, and quiz 1.  \n",
    "\n",
    "We ask you to construct two Python functions.  \n",
    "\n",
    "(a) The function **int_mid** should be a callable function which takes as arguments \n",
    "\n",
    "$$ (f, a, b, n) $$\n",
    "\n",
    "where $f$ is a callable function.  $a$ and $b$ are floats, and $n$ is a positive integer. \n",
    "\n",
    "**int_mid**(f,a,b,n)   should return the mid-point Riemann sum corresponding to the integral\n",
    "\n",
    "$$\\int_a^b f(x) dx$$\n",
    "\n",
    "where one divides the interval $[a,b]$ into $n$ equally-spaced sub-intervals.  See the <a href=\"https://en.wikipedia.org/wiki/Riemann_sum#Middle_sum\">Mid-Point Method</a> (also called the middle-sum). \n",
    "\n"
   ]
  },
  {
   "cell_type": "code",
   "execution_count": 4,
   "metadata": {
    "collapsed": false
   },
   "outputs": [],
   "source": [
    "import math as ma # please use the Python math library for this homework assignment"
   ]
  },
  {
   "cell_type": "code",
   "execution_count": 8,
   "metadata": {
    "collapsed": true
   },
   "outputs": [],
   "source": [
    "## This returns the result of the mid-point Riemann sum using an n equal-length subdivision of [a,b]\n",
    "## for the function f. f is a callable function taking one float argument. n a positive integer, and\n",
    "## a < b floats. \n",
    "def int_mid(f,a,b,n):\n",
    "    retval = 0.0\n",
    "    dx = (b-a)/n\n",
    "    for i in range(n):\n",
    "        retval += f(a+(i+0.5)*dx)*dx\n",
    "    return retval\n"
   ]
  },
  {
   "cell_type": "markdown",
   "metadata": {},
   "source": [
    "Ensure you include the code block below executes and gives *reasonable* answers.  Include the executed codeblock in your homework submission. "
   ]
  },
  {
   "cell_type": "code",
   "execution_count": 9,
   "metadata": {
    "collapsed": false
   },
   "outputs": [
    {
     "name": "stdout",
     "output_type": "stream",
     "text": [
      "2.0000091385518233\n",
      "1.7182810329584566\n",
      "1.718281820504037\n"
     ]
    }
   ],
   "source": [
    "print(int_mid(ma.sin, 0.0, ma.pi, 300))\n",
    "print(int_mid(ma.exp, 0.0, 1, 300))\n",
    "print(int_mid(ma.exp, 0.0, 1, 3000))"
   ]
  },
  {
   "cell_type": "markdown",
   "metadata": {},
   "source": [
    "(b) The function **int_simp** should take the same input $(f,a,b,n)$ but return the output of the <a href=\"https://en.wikipedia.org/wiki/Simpson's_rule\">**Simpson's 3/8 rule**</a> (look down the page for \"Simpson's 3/8 rule (for n intervals)\"). "
   ]
  },
  {
   "cell_type": "code",
   "execution_count": 12,
   "metadata": {
    "collapsed": false
   },
   "outputs": [],
   "source": [
    "## This returns the result of the Simpson 3/8 method, using an n equal-length subdivision of [a,b]\n",
    "##  for the function f. f is a callable function taking one float argument. n a positive integer, and\n",
    "## a < b floats. \n",
    "def int_simp(f,a,b,n):\n",
    "    retval = 0.0\n",
    "    dx = (b-a)/n\n",
    "    for i in range(n+1):\n",
    "        if (i==0) or (i==n):\n",
    "            retval += (3/8)*dx*f(a+i*dx)\n",
    "        elif (i % 3 == 0):\n",
    "            retval += (6/8)*dx*f(a+i*dx)\n",
    "        else:\n",
    "            retval += (9/8)*dx*f(a+i*dx)\n",
    "    return retval"
   ]
  },
  {
   "cell_type": "markdown",
   "metadata": {},
   "source": [
    "Similarly, execute the lines below and include the executed output in your i-python notebook. "
   ]
  },
  {
   "cell_type": "code",
   "execution_count": 13,
   "metadata": {
    "collapsed": false
   },
   "outputs": [
    {
     "name": "stdout",
     "output_type": "stream",
     "text": [
      "2.0000000003006533\n",
      "1.718281828461697\n",
      "1.7182818284590475\n"
     ]
    }
   ],
   "source": [
    "print(int_simp(ma.sin, 0.0, ma.pi, 300))\n",
    "print(int_simp(ma.exp, 0.0, 1, 300))\n",
    "print(int_simp(ma.exp, 0.0, 1, 3000))"
   ]
  },
  {
   "cell_type": "markdown",
   "metadata": {},
   "source": [
    "Please upload your completed **asst.1.ipynb** notebook into a directory called **Homework** in your **mp248** BitBucket repository (you will have to create this) *before* the due date and time, because: \n",
    "\n",
    "* We will have a script checking for the presence of your assignment. It will be started in the morning of the due date.   \n",
    "\n",
    "* If there is any problems with your submission, and provided you submit more than an hour early, we will make a comment on the issues in the *Feedback* for the assignment on *Course Spaces*. \n",
    "\n",
    "* If you submit only at the last moment, the only feedback you will receive for the assignment is its final grade. \n",
    "\n",
    "* Your final grade will be based on the version that is present in your repository at noon on the due date.  We aim to give you preliminary feedback on sufficiently-early submissions. \n",
    "\n",
    "One way to ensure your file is in the correct location on BitBucket is to find the file using your web browser (on BitBucket, click \"source\" and navigate). You should see **mp248/Homework/asst.1.ipynb** on a line near the top of the page, when you are viewing your asst.1.ipynb file -- do not worry that BitBucket does not properly render your asst.1.ipynb file.  BitBucket renders the file similarly to the output of \"cat asst.1.ipynb\" command, executed in a WENDI terminal. \n"
   ]
  },
  {
   "cell_type": "code",
   "execution_count": null,
   "metadata": {
    "collapsed": true
   },
   "outputs": [],
   "source": []
  }
 ],
 "metadata": {
  "anaconda-cloud": {},
  "kernelspec": {
   "display_name": "Python [default]",
   "language": "python",
   "name": "python3"
  },
  "language_info": {
   "codemirror_mode": {
    "name": "ipython",
    "version": 3
   },
   "file_extension": ".py",
   "mimetype": "text/x-python",
   "name": "python",
   "nbconvert_exporter": "python",
   "pygments_lexer": "ipython3",
   "version": "3.5.2"
  }
 },
 "nbformat": 4,
 "nbformat_minor": 1
}
