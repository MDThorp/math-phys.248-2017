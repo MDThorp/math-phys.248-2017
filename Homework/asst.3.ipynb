{
 "cells": [
  {
   "cell_type": "markdown",
   "metadata": {},
   "source": [
    "## Homework Assignment 3\n",
    "\n",
    "In this assignment we ask you to further investigate the crime statistics. \n",
    "\n",
    "In [Lecture 2, Week 8](../Week.8/Lecture.2.ipynb) we did a PCA analysis of the crime data where we did daily counts of crimes, *binned* by crime type.  In this assignment we ask you to start your analysis using a few other binning techniques.  We will then ask you to investigate the results, making plots of the data. \n",
    "\n",
    "**Problem 1)** Do a PCA analysis where you bin the data into $86*6=516$ bins. There are $86$ crime types, and six $4$-hour periods in a day:\n",
    " - midnight to 4am\n",
    " - 4am to 8am\n",
    " - 8am to noon\n",
    " - noon to 4pm\n",
    " - 4pm to 8pm\n",
    " - 8pm to midnight\n",
    " \n",
    "Thus, for every day, we will have a $516$-component vector that describes the counts of the various crime types in each $4$-hour period.  \n",
    "\n",
    " 1a) Do PCA analysis on this *binning* of the data.  For the pre-grading script, please print your **explained_variance__**. \n",
    "\n",
    " 1b) Interpret the first four largest eigenvectors.  If the crimes types corellate, what if any relation is there between them? If there is an inverse corellation, what might be the cause of this inverse corellation?\n",
    " \n",
    " Things to consider (for problems 1,2,3):\n",
    "  - Do the crimes happen in different locations?  A heat map would help with this. \n",
    "  - Do the crime happen  at different times?  A plot might help with this. \n",
    "  - If you notice any strong trends (corellation or inverse-corellation), perhaps make a plot and try a least-squares interpolation. \n",
    " "
   ]
  },
  {
   "cell_type": "code",
   "execution_count": null,
   "metadata": {
    "collapsed": false
   },
   "outputs": [],
   "source": [
    "## A little code to load the vicpd library from the Week.8 directory.\n",
    "##  we could of course just move the vicpd.py file. . . but we could also do this.\n",
    "import os, sys\n",
    "dirn, modn = os.path.split(\"../Week.8/vicpd.py\")\n",
    "modn = os.path.splitext(modn)[0]\n",
    "path = list(sys.path)\n",
    "sys.path.insert(0, dirn)\n",
    "try:\n",
    "     vpd = __import__(modn)\n",
    "finally:\n",
    "    sys.path[:] = path # restore"
   ]
  },
  {
   "cell_type": "code",
   "execution_count": null,
   "metadata": {
    "collapsed": false
   },
   "outputs": [],
   "source": [
    "## You will need this. . .\n",
    "import matplotlib.pyplot as plt\n",
    "%matplotlib inline\n",
    "#%matplotlib nbagg\n",
    "import numpy as np\n",
    "from sklearn.decomposition import PCA"
   ]
  },
  {
   "cell_type": "code",
   "execution_count": null,
   "metadata": {
    "collapsed": false
   },
   "outputs": [],
   "source": [
    "## Problem 1, PCA analysis.\n",
    "\n"
   ]
  },
  {
   "cell_type": "code",
   "execution_count": null,
   "metadata": {
    "collapsed": false
   },
   "outputs": [],
   "source": [
    "## Problem 1, exploration of PCA results. \n",
    "\n"
   ]
  },
  {
   "cell_type": "markdown",
   "metadata": {},
   "source": [
    "**Problem 2)** Re-do problem (1), but using time bins shifted by $2$ hours, i.e. we will consider our days to **start** at 2am, with time bins 2am to 6am,  6am to 10am, . . ., 10pm to 2am.  Do your results change significantly?  If any of your first four largest eigenvectors have changed substantially, describe the changes.  If you see any new, strong correllations or inverse-correllations try to find explanations for them.  Print your **explained_variance__** again for the pre-grading script. "
   ]
  },
  {
   "cell_type": "code",
   "execution_count": null,
   "metadata": {
    "collapsed": false
   },
   "outputs": [],
   "source": [
    "## Problem 2, PCA analysis.\n",
    "\n"
   ]
  },
  {
   "cell_type": "code",
   "execution_count": null,
   "metadata": {
    "collapsed": false
   },
   "outputs": [],
   "source": [
    "## Problem 2, explanation of PCA results. \n",
    "\n"
   ]
  },
  {
   "cell_type": "markdown",
   "metadata": {},
   "source": [
    "**Problem 3)** Re-do Problem (1) using four $6$-hour bins 4am-10am, 10am-4pm, 4pm-10pm and 10pm-4am, together with five bins for daily temperatures, and of course the bins for crime type.  \n",
    "\n",
    "You will have a collection of $k$ vectors in $\\mathbb R^n$ with $n=4 \\cdot 86 \\cdot 5 = 1720$ and $k$ equal to the number of days in the database.  \n",
    "\n",
    "Divide the temperature range into these five bins: \n",
    "$$T \\leq 5.1, \\hskip 1cm 5.1<T\\leq 8.4, \\hskip 1cm 8.4<T\\leq 12.3 \\hskip 1cm 12.3<T \\leq 15.9, \\hskip 1cm 15.9<T$$\n",
    "and use mean temperatures.  These are roughly the divisions of Victoria's temperature-range into its pentiles. \n",
    "\n",
    "Like problems (1) and (2), print the output of your **explained_variance__** for the pre-grading script. "
   ]
  },
  {
   "cell_type": "code",
   "execution_count": null,
   "metadata": {
    "collapsed": false
   },
   "outputs": [],
   "source": [
    "## Problem 3, PCA analysis.\n",
    "\n"
   ]
  },
  {
   "cell_type": "code",
   "execution_count": null,
   "metadata": {
    "collapsed": false
   },
   "outputs": [],
   "source": [
    "## Problem 3, explanation of PCA results. \n",
    "\n"
   ]
  },
  {
   "cell_type": "markdown",
   "metadata": {
    "collapsed": true
   },
   "source": [
    "### When complete\n",
    "\n",
    "Save your assignment in **Homework/asst.3.ipynb** in your **mp248** bitbucket repository.  \n",
    "\n",
    "A pre-grading script will start running on Monday (Feb 27th), and will give you feedback in your Grades Feedback item for Assignment 3 (Simple Submissions) on Course Spaces.  The script will only be able to tell you if it can find your assignment, and if the eigenvalues of the PCA analysis are close to the right answer, to about 8 decimal places. \n",
    "\n",
    "The assignment that is on your BitBucket repository at **noon**, of **March 8th** is the assignment that will be graded. \n"
   ]
  },
  {
   "cell_type": "code",
   "execution_count": null,
   "metadata": {
    "collapsed": true
   },
   "outputs": [],
   "source": []
  }
 ],
 "metadata": {
  "anaconda-cloud": {},
  "kernelspec": {
   "display_name": "Python [conda root]",
   "language": "python",
   "name": "conda-root-py"
  },
  "language_info": {
   "codemirror_mode": {
    "name": "ipython",
    "version": 3
   },
   "file_extension": ".py",
   "mimetype": "text/x-python",
   "name": "python",
   "nbconvert_exporter": "python",
   "pygments_lexer": "ipython3",
   "version": "3.5.2"
  }
 },
 "nbformat": 4,
 "nbformat_minor": 1
}
