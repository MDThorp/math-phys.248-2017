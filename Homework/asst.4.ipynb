{
 "cells": [
  {
   "cell_type": "markdown",
   "metadata": {
    "deletable": true,
    "editable": true
   },
   "source": [
    "# Homework Assignment 4\n",
    "Due Friday March 24 at noon"
   ]
  },
  {
   "cell_type": "markdown",
   "metadata": {
    "deletable": true,
    "editable": true
   },
   "source": [
    "\n",
    "## Problem 1\n",
    "Parts 4,5,6 & 8 are bonus questions. Bonus questions will be looked at superficially, and if done well may compensate defficiencies in other parts. But they will not be used for the grade of the homework. COnsider bonus question optional exercise, it is not needed to complete the assignment. \n",
    "\n",
    "#### The Lorenz equations\n",
    "\n",
    "One of the most celebrated sets of differential equations in physics is the [Lorenz equations](https://en.wikipedia.org/wiki/Lorenz_system):\n",
    "$$ \\frac{dx}{dt} = \\sigma(y-x) $$ $$\\frac{dy}{dt} = rx -y -xz$$ $$\\frac{dz}{dt} = xy - bz$$ where $\\sigma$, $r$ and $b$ are constants. (The names of these constants may seem arbirtrary and odd but are always used in these equations -- _for historical reasons_.\n",
    "\n",
    "Read about these equations, when and why they were introduced? What special behaviour do they show?\n",
    "\n",
    "1. Write a program to implement an explicit solution to the Lorenz equations. Always use the range from $t = 0$ to $t = 50 $ with the intial condition $(x,y,z) = (1,1,1)$, and consider three cases for $\\sigma$, $r$ and $b$ as shown in the code cell below.\n",
    "2. Have your program make a plot of $x, y$ and $z$ as a function of time for each case for a time step size of $0.01$ and $0.0001$ for each case. \n",
    "3. Create for the high-resolution cases a 3D line plot for each case using `from mpl_toolkits.mplot3d import Axes3D`.\n",
    "4. **Bonus question:** Create a table in which you categorize the behaviour for each case and each of the two integration resolutions as _semi-regular_ (sr) and _irregular_ (ir). Summarize how the behaviour depends on paramters as well as resulution. \n",
    "5. **Bonus question:** Plot the distribution of the x coordiante of case 1 with `h = 0.01` and `h = 0.0001`.\n",
    "6. **Bonus question:** How can we check convergence? The solution are very irregular and non-deterministic. But we can use a global norm. For example, consider taking the difference of the maximum and the minimum of all values in the x, y and z coordinate, and taking the average of these three difference. Calculate this global norm (`a_norm`) for these step sizes: `hh=[0.02,0.01,0.007,0.004,0.003,0.002,0.001,0.0005,0.0001,0.00005]` for case 1 and plot his norm as a function of the step size.\n",
    "7. Setup the same solution with `scipy.integrate.odeint`. The solution can be found [Wikipedia's Lorenz system page](https://en.wikipedia.org/wiki/Lorenz_system). Students are encouraged to first try to figure out the solution yourelf. **Bonus question:** What is the step size this method needs to accomplish the same value for `a_norm` as the explicit solution with $h=0.0001$. What is the reason for this difference?\n",
    "8. **Bonus question:**: How can you animate your solution? Sudy the [matplotlib animation examples](http://matplotlib.org/examples/animation/index.html) to get some ideas.\n"
   ]
  },
  {
   "cell_type": "code",
   "execution_count": null,
   "metadata": {
    "collapsed": true,
    "deletable": true,
    "editable": true
   },
   "outputs": [],
   "source": [
    "# 1 : 'benchmark'\n",
    "case = 3\n",
    "if case == 1:\n",
    "    r = 28.0\n",
    "    s = 10.0\n",
    "    b = 8.0 / 3.0\n",
    "elif case == 2:\n",
    "    r = 38.0\n",
    "    s = 7.0\n",
    "    b = 7.0 / 3.0\n",
    "elif case == 3:\n",
    "    r = 28.0\n",
    "    s = 12.0\n",
    "    b = 2.0 / 3.0"
   ]
  },
  {
   "cell_type": "markdown",
   "metadata": {
    "deletable": true,
    "editable": true
   },
   "source": [
    "Table for bonus question 4.:\n",
    "\n",
    "regularity    | case 1 | case 2 | case 3\n",
    "-----|---|---|---\n",
    "h = 0.01 | ? |? |? \n",
    "h = 0.0001 | ? |?|?"
   ]
  },
  {
   "cell_type": "markdown",
   "metadata": {
    "deletable": true,
    "editable": true
   },
   "source": [
    "## Problem 2\n",
    "1. Construct a helix in 3D with the circular component in x, y and the stretch component in z direction. In each direction the values span the range $[-1,1]$ and the helix has 5 rotations. Make a plot in 3D using `from mpl_toolkits.mplot3d import Axes3D` with the view `ax.view_init(elev=45, azim=30)`.\n",
    "2. Perform a shear transformation in the x direction that is proporitional to $1.5y$ of the helix and plot with view `ax.view_init(elev=80, azim=10)`.\n",
    "3. Perform a rotation around the y-axis by $33\\deg$."
   ]
  }
 ],
 "metadata": {
  "kernelspec": {
   "display_name": "Python 3",
   "language": "python",
   "name": "python3"
  },
  "language_info": {
   "codemirror_mode": {
    "name": "ipython",
    "version": 3
   },
   "file_extension": ".py",
   "mimetype": "text/x-python",
   "name": "python",
   "nbconvert_exporter": "python",
   "pygments_lexer": "ipython3",
   "version": "3.5.2"
  }
 },
 "nbformat": 4,
 "nbformat_minor": 2
}
