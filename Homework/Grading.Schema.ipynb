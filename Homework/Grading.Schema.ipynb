{
 "cells": [
  {
   "cell_type": "markdown",
   "metadata": {},
   "source": [
    "## Grading key for assignments and exams\n",
    "\n",
    "This is the grading schema we will use for the homework and exams.  Be advised, this document might evolve during the course of the semester -- we hope mostly for clarity. \n",
    "\n",
    "The maximum grade on any assignment is 10.  It is computed by averaging the grades of each problem, which are also scored out of 10. \n",
    "\n",
    "* * *\n",
    "\n",
    "* 1/4 point for **minor** errors, such as:\n",
    "    - Failing to document a function.  What does the function do?  How are the arguments relevant?  What data types does your function accept... and work as intended? \n",
    "    - Having un-used variables.\n",
    "    - Including libraries you do not use. \n",
    "\n",
    "* 1/2 point for **small** errors, such as:\n",
    "    - Calling a similar but incorrect library function. For example, some people used float division \"/\" when they really required integer division \"//\". Both calls perform similar tasks, but if you need the output to be an integer you need to use \"//\".  \n",
    "    - Using the wrong file name.\n",
    "    - Storing files in the wrong directories.\n",
    "    - Naming your Bitbucket root directory incorrectly. \n",
    "    - Setting up an index/range incorrectly, such as range(0,n-1) vs. range(0,n).  Or using i-1 when i was called for. \n",
    "    - approriate reflection on reliability and accuracy of results is missing.\n",
    "    \n",
    "* 1 or more points are deducted for **major errors**, such as:\n",
    "    - Using a library that **does not do** what you expect.  If you are using a library -- especially one we have not discussed in class -- the onus is on you to read the documentation to ensure the library call achieves what you desire.  For example, using a least-squares library call that does not compute the fit that you desire. \n",
    "    - Writing an algorithm that **by design** can not do what we are asking for. This includes issues like calling good algorithms in a way in which their execution provides data that you should expect is not useful. \n",
    "    - Submitting a notebook in which the python cells do not execute (we are using the physma VM (Lubuntu 15) with the Anaconda Python 3.5 distribution as reference plattform.\n",
    "    - Algorithm provided gives obiously wrong answer without reflection on what may be the cause.\n",
    " \n",
    "In questions where there is a clear divison into parts, the solution key will indicate how many points are available for completing that task successfully. \n",
    " "
   ]
  },
  {
   "cell_type": "markdown",
   "metadata": {
    "collapsed": true
   },
   "source": [
    "### A word on documentation of code\n",
    "\n",
    "We expect you to *document* your code in this course.  Generally speaking, what this means is we expect to see some words of commented-out text (using either a '''*docstring*''' or the comment symbol \\#) where you explain what the code *does*, what *input* it expects, and what *output* it gives.  Particular attention should be made for usability -- if there are any issues.  For example, if you are documenting a function, is there any input for which your function fails?  Uses enormous amounts of memory?  Or is noticably slow?  \n",
    "\n",
    "Generally speaking you do not need to document heavily, especially if your coding style leads to 'easy reading'.  The Python programming language is designed to be particularly easy to read. . . if you use it well.  \n",
    "\n",
    "For example, here is an implementation of the [Division Algorithm](https://en.wikipedia.org/wiki/Division_algorithm), with basic documentation."
   ]
  },
  {
   "cell_type": "code",
   "execution_count": null,
   "metadata": {
    "collapsed": true
   },
   "outputs": [],
   "source": [
    "## Performs the division algorithm. n and d are integers, we assume d>0\n",
    "## returns a pair (q,r) with q and r integers satisfying:\n",
    "##  n = dq + r   with  0 <= r < d\n",
    "def divAlg(n,d):\n",
    "    return (n//d, n%d)"
   ]
  },
  {
   "cell_type": "markdown",
   "metadata": {},
   "source": [
    "Notice the \"we assume d>0\" comment is another way to tell the reader that there is no guarantee the code is meaningfu if $d\\leq 0$.  In particular, it could very well crash the Python interpreter -- and it does with $d=0$. "
   ]
  },
  {
   "cell_type": "code",
   "execution_count": null,
   "metadata": {
    "collapsed": true
   },
   "outputs": [],
   "source": []
  }
 ],
 "metadata": {
  "anaconda-cloud": {},
  "kernelspec": {
   "display_name": "Python [conda root]",
   "language": "python",
   "name": "conda-root-py"
  },
  "language_info": {
   "codemirror_mode": {
    "name": "ipython",
    "version": 3
   },
   "file_extension": ".py",
   "mimetype": "text/x-python",
   "name": "python",
   "nbconvert_exporter": "python",
   "pygments_lexer": "ipython3",
   "version": "3.5.2"
  }
 },
 "nbformat": 4,
 "nbformat_minor": 1
}
