{
 "cells": [
  {
   "cell_type": "markdown",
   "metadata": {},
   "source": [
    "# Homework Assignment 2, due Wednesday February 8th at noon\n"
   ]
  },
  {
   "cell_type": "markdown",
   "metadata": {},
   "source": [
    "## Problem 1\n",
    "\n",
    "In [Week 4 Lecture 2](../Week.4/Lecture.2.ipynb) we discussed [Euler's Method](https://en.wikipedia.org/wiki/Euler_method) for approximating solutions to first-order ODEs\n",
    "\n",
    "$$\\frac{dy}{dt} = f(t, y(t)).$$\n",
    "\n",
    "In this homework problem, we ask you to implement Euler's method, as well as some other methods of approximating solutions for the ODE:\n",
    "\n",
    "$$\\frac{dy}{dt} = 1+y^2$$\n",
    "\n",
    "and discuss the relative errors of the methods. \n",
    "\n",
    "a) Using Sympy, find the solution to the above **ODE** with $y(0)=0$. Plot the solution, and evaluate $y(1.5)$ as a floating-point, accurate to at least $10$ decimal places. \n",
    "\n",
    "b) Using Euler's method, approximate the solution with $y(0)=0$ for various step-lengths $\\Delta t \\in \\{ \\frac{1}{10}, \\frac{1}{100}, \\frac{1}{1000} \\}$.  How small does $\\Delta t$ need to be to get the Euler-approximate solution at $t=1.5$ to within $\\frac{1}{10}$ of the actual solution?  Plot your approximate solutions, along with the exact solution from (a) in one plot, and be sure to include a legend.  Consider Euler's method to be the approximation\n",
    "$$y(t+\\Delta t) \\simeq y(t) + (\\Delta t) f(t, y(t))$$\n",
    "\n",
    "c) Implement the [**mid-point Euler method**](https://en.wikipedia.org/wiki/Euler_method), and repeat part (b) using this method.  The method can be summarized as the approximation:\n",
    "\n",
    "$$ y(t + \\Delta t) \\simeq y(t) + (\\Delta t) f\\bigg(t+\\frac{\\Delta t}{2}, y(t) + \\Delta t \\frac{f(t,y(t))}{2}\\bigg)$$\n",
    "\n",
    "d) Repeat the steps of (b) using the approximation inspired by the second-order Taylor expansion of $y$:\n",
    "$$ y(t + \\Delta t) \\simeq y(t) + (\\Delta t)f(t, y(t)) + \\frac{\\Delta t^2}{2} \\bigg( \\frac{\\partial f}{\\partial t}(t,y(t)) + \\frac{\\partial f}{\\partial y}(t,y(t)) f(t,y(t)) \\bigg)$$\n",
    "Let's call this the *second-order Euler method*. \n",
    "\n",
    "e) Which of these methods appears to have the smallest errors for a given step-length?  Do you see round-off error affecting any of your computations?   And is there any essential feature of the exact solution missing in your approximate solutions that you compute in parts (b), (c) and (d)? "
   ]
  },
  {
   "cell_type": "code",
   "execution_count": null,
   "metadata": {
    "collapsed": true
   },
   "outputs": [],
   "source": []
  },
  {
   "cell_type": "markdown",
   "metadata": {},
   "source": [
    "## Problem 2\n",
    "\n",
    "Some 2d plots. . . let's also have them use sympy. \n",
    "\n",
    "Consider the function\n",
    "$$ f(x,y) = \\frac{\\sin(xy)}{1+x^2+y^2}$$\n",
    "\n",
    "a) Create an expression for this function in Sympy.  \n",
    "\n",
    "b) Use Sympy's **lambdify** command to convert the expression into a callable function. \n",
    "\n",
    "c) Create a [contour plot](http://matplotlib.org/examples/pylab_examples/contour_demo.html) of your function created in (b) over the domain \n",
    "$$\\{ (x,y) : -4 \\leq x \\leq 4, -4 \\leq y \\leq 4 \\}$$\n",
    "Ensure the contours $f=-0.24, -0.14, -0.08, 0.0, 0.08, 0.15, 0.24$ are visible and labelled as in the \"single color - negative contours dashed\" example. To display only these contours you will want to use the [**levels** keyword](http://matplotlib.org/examples/pylab_examples/contour_image.html). \n",
    "\n",
    "d) Compute $\\frac{\\partial f}{\\partial x}$ using Sympy. \n",
    "\n",
    "e) Repeat (b) using $\\frac{\\partial f}{\\partial x}$ instead of $f$. \n",
    "\n",
    "c) Repeat (c) using your function from (e). Use the same levels. \n"
   ]
  },
  {
   "cell_type": "markdown",
   "metadata": {},
   "source": [
    "When you have completed the assignment, please save it to your **mp248** Bitbucket repository, in the file **Homework/asst.2.ipynb**\n",
    "\n",
    "As before, your submission that will be graded will be the one in your repository at **noon** on the due date (Wednesday).  If you submit your assignment sufficiently-early, a *pre-grading script* will scan your assignment and notify you of any significant issues via your *CourseSpaces* \"Simple Submissions\" entry for Assignment 2. Please read the feedback item for details.  Also pay attention to the time-stamp, this will give you an idea of *when* the script read your submission.  The script will start running occasionally over the week-end, and be run more often (likely offering more informative feedback) closer to the submission deadline. \n"
   ]
  },
  {
   "cell_type": "code",
   "execution_count": null,
   "metadata": {
    "collapsed": true
   },
   "outputs": [],
   "source": []
  }
 ],
 "metadata": {
  "anaconda-cloud": {},
  "kernelspec": {
   "display_name": "Python [default]",
   "language": "python",
   "name": "python3"
  },
  "language_info": {
   "codemirror_mode": {
    "name": "ipython",
    "version": 3
   },
   "file_extension": ".py",
   "mimetype": "text/x-python",
   "name": "python",
   "nbconvert_exporter": "python",
   "pygments_lexer": "ipython3",
   "version": "3.5.2"
  }
 },
 "nbformat": 4,
 "nbformat_minor": 2
}
