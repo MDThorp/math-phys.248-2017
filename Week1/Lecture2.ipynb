{
 "cells": [
  {
   "cell_type": "markdown",
   "metadata": {},
   "source": [
    "# Course introduction to tools and resources\n",
    "\n",
    "* course introduction\n",
    "* the online platform WENDI\n",
    "* distributed version control\n",
    "\n",
    "## Course introduction"
   ]
  },
  {
   "cell_type": "markdown",
   "metadata": {},
   "source": [
    "## WENDI: ipython notebooks in the cloud\n",
    "\n",
    "**URL:** https://206.12.59.73\n",
    "\n",
    "You will see a warning screen:\n",
    "![gold_canfar_warning](../images/gold_canfar_warning.png)\n",
    "Click through advanced and accept the security warnings and exceptions. \n",
    "\n",
    "Choose the PHYSMATH248 directory. The _README_ notebook provides further instructions. \n",
    "\n",
    "### Example Get to know the ipython notebooks\n",
    "\n",
    "### Markdown cells and Code cells\n",
    "1. Create a code cell and define a few constants, such as $\\pi$ and the speed of light.\n",
    "2. Create Markdown cell and **describe** how you can use these constants to calculate the time delay for a long-wave radio transmission from the aequator to the north pole. Use $\\LaTeX$ in markdown cells for type setting math formulas.\n",
    "3. Create a code cell to carry out your calculation. Add reasonable comments.\n",
    "4. Add a final markdown cell to summarize your finding."
   ]
  },
  {
   "cell_type": "markdown",
   "metadata": {},
   "source": [
    "## Distributed version control"
   ]
  },
  {
   "cell_type": "code",
   "execution_count": null,
   "metadata": {
    "collapsed": true
   },
   "outputs": [],
   "source": []
  }
 ],
 "metadata": {
  "anaconda-cloud": {},
  "kernelspec": {
   "display_name": "Python [default]",
   "language": "python",
   "name": "python3"
  },
  "language_info": {
   "codemirror_mode": {
    "name": "ipython",
    "version": 3
   },
   "file_extension": ".py",
   "mimetype": "text/x-python",
   "name": "python",
   "nbconvert_exporter": "python",
   "pygments_lexer": "ipython3",
   "version": "3.5.2"
  }
 },
 "nbformat": 4,
 "nbformat_minor": 1
}
