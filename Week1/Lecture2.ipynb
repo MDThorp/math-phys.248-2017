{
 "cells": [
  {
   "cell_type": "markdown",
   "metadata": {},
   "source": [
    "# Course introduction to tools and resources\n",
    "\n",
    "* course introduction\n",
    "* the online platform WENDI\n",
    "* distributed version control"
   ]
  },
  {
   "cell_type": "markdown",
   "metadata": {},
   "source": [
    "## Course introduction\n",
    "\n",
    "This is a 2$^\\mathrm{nd}$ year course _\n",
    "Computer Assisted Mathematics/Physics_. This course is offered jointly \n",
    "by the Mathematics and Physics & Astronomy Departments.\n",
    "\n",
    "**Math 248 and PHYS 248**\n",
    "\n",
    "The calendar entry summarizes the goal of this course:\n",
    "\n",
    "> Use of a high-level computer language for mathematical and scientific  experimentation, simulation, and calculation. Programming of mathematics using available functions and routines and also writing short programs for symbolic and numerical computations, visualization, graphical output, and data management.  The purpose of the course is to become competent with a high-level mathematics language and to practice programming in such a language. The emphasis is on hands-on coding for experimentation in a variety of mathematical and physical contexts, rather than the theory behind it. \n",
    "\n",
    "Participating in this course is an opportunity. It is still a relatively new course and your feedback and suggestions are especially appreciated and explicitily requested in this course. "
   ]
  },
  {
   "cell_type": "markdown",
   "metadata": {},
   "source": [
    "### Main ways in which scientists and mathematicians use computers\n",
    "\n",
    "#### Data\n",
    "Data is generated all the time when experiments or simulations are carried out. Confronting both with each other or with models involves:\n",
    "\n",
    "* move, store, archive data\n",
    "* analyse data \n",
    "* model data\n",
    "* statistics (see below)\n",
    "* visualise data\n",
    "\n",
    "#### Simulation\n",
    "\n",
    "If we understand the physics then the **correct** (need to talk about that more ...) solution of the **appropriate** laws of nature, such as the _Conservation Laws_ of energy, momentum, mass, charge, etc, should resemble aspects of the real world as revealed through observational data.\n",
    "\n",
    "Then solve the relevant fundamental laws of physics. Real-world problems have some challenges though:\n",
    "\n",
    "* multi-physics: include simultaneously different physics components, such as conservation laws of mass, momentum and energy as well as the Maxwell equations for a magneto-hydrodynamics problem\n",
    "* multi-scale: processes on vastly different temporal and spatial scales are simultaneously important and interacting\n",
    "\n",
    "Numerical simulations combine the above challenges in ways impossible with purely analytical approaches. The simulations of high quality are numerical experiments that reveal the complex and non-linear behaviour of the appropriate combination of physics laws. This approach provides scientific insight in wasy that complement traditional theory and physical experimental.\n",
    "\n",
    "**Note:** models and simulations are different things!\n",
    "\n",
    "### Numerical analysis\n",
    "\n",
    "Solve mathematical problems numerically. Examples include: \n",
    "\n",
    "* integrating a function or differential equation\n",
    "* finding the root of an equation\n",
    "* solving a linear algebra problem with many variables\n",
    "\n",
    "Although many would associate _data_ with statistics, I would put it here. Applying a statistical analysis requires lots of methods and techniques of numerical analysis.\n",
    "\n",
    "\n",
    "### Symbolic computing\n",
    "\n",
    "Despite the availability of powerful simulation codes and libraries to rapidly deploy proven methods in numerical analysis we need to be able to work with complicated mathematics in an analytical fashion. The laws of physics come in the language of mathematics, and we need to _speak_ that language to understand physics and to write down new physics insights. Symbolic computing is a powerful way to support that. \n",
    "\n",
    "\n",
    "### Utilities\n",
    "There are numerous tasks that we have to be familiar with that are common to more than one of the above roles, or that make our live simply easier.\n",
    "\n",
    "1. reading and writing data (IO) \n",
    "2. visualizing, plotting data\n",
    "3. programming\n",
    "3. (distributed) version control\n",
    "4. documentation and sharing software\n",
    "5. networking & storage\n",
    "6. using libraries (e.g. for numerical analysis!)\n",
    "8. parallel/threaded computing\n",
    "9. debugging techniques\n",
    "\n",
    "\n",
    "__In this course it is the goal that you obtain an introduction to all of the above by looking at specific physics examples.__"
   ]
  },
  {
   "cell_type": "markdown",
   "metadata": {},
   "source": [
    "## WENDI: ipython notebooks in the cloud\n",
    "\n",
    "**URL:** https://206.12.59.73\n",
    "\n",
    "You will see a warning screen:\n",
    "![gold_canfar_warning](../images/gold_canfar_warning.png)\n",
    "Click through advanced and accept the security warnings and exceptions. \n",
    "\n",
    "Choose the PHYSMATH248 directory. The _README_ notebook provides further instructions. \n",
    "\n",
    "### Example Get to know the ipython notebooks\n",
    "\n",
    "### Markdown cells and Code cells\n",
    "1. Create a code cell and define a few constants, such as $\\pi$ and the speed of light.\n",
    "2. Create Markdown cell and **describe** how you can use these constants to calculate the time delay for a long-wave radio transmission from the aequator to the north pole. Use $\\LaTeX$ in markdown cells for type setting math formulas.\n",
    "3. Create a code cell to carry out your calculation. Add reasonable comments.\n",
    "4. Add a final markdown cell to summarize your finding."
   ]
  },
  {
   "cell_type": "markdown",
   "metadata": {},
   "source": [
    "## Distributed version control"
   ]
  },
  {
   "cell_type": "code",
   "execution_count": null,
   "metadata": {
    "collapsed": true
   },
   "outputs": [],
   "source": []
  }
 ],
 "metadata": {
  "anaconda-cloud": {},
  "kernelspec": {
   "display_name": "Python 3",
   "language": "python",
   "name": "python3"
  },
  "language_info": {
   "codemirror_mode": {
    "name": "ipython",
    "version": 3
   },
   "file_extension": ".py",
   "mimetype": "text/x-python",
   "name": "python",
   "nbconvert_exporter": "python",
   "pygments_lexer": "ipython3",
   "version": "3.5.2"
  }
 },
 "nbformat": 4,
 "nbformat_minor": 1
}
