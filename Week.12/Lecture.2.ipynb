{
 "cells": [
  {
   "cell_type": "markdown",
   "metadata": {},
   "source": [
    "# Back to Newton iterators. . .\n",
    "\n",
    "We will continue the exploration from the Monday class and the labs. \n",
    "\n",
    "Let's start with adding the points of failure to our basins of attraction plot.  \n",
    "\n",
    "First, we cut-and-paste our code from Monday. \n"
   ]
  },
  {
   "cell_type": "code",
   "execution_count": 1,
   "metadata": {
    "collapsed": false
   },
   "outputs": [
    {
     "name": "stdout",
     "output_type": "stream",
     "text": [
      "x ==  -0.500000000000000  y ==  -0.866025403784439  \n",
      "x ==  -0.500000000000000  y ==  0.866025403784439  \n",
      "x ==  1.00000000000000  y ==  0  \n"
     ]
    }
   ],
   "source": [
    "import sympy as sp\n",
    "import numpy as np\n",
    "import math as ma\n",
    "import sys\n",
    "import matplotlib.pyplot as plt\n",
    "import matplotlib.image as mpimg\n",
    "%matplotlib nbagg\n",
    "\n",
    "#expaths = [\"/usr/lib/python3/dist-packages\", \"/usr/local/lib/python3.5/dist-packages\"]\n",
    "#for xp in expaths:\n",
    "#    if (xp not in sys.path):\n",
    "#        sys.path.append(xp)\n",
    "#import tqdm\n",
    "from sympy.utilities.autowrap import ufuncify\n",
    "\n",
    "x,y = sp.symbols(\"x y\", real=True)\n",
    "sol = sp.solve([x**3 - 3*x*y**2 - 1, 3*x**2*y-y**3 ])\n",
    "#sp.pprint(sol)\n",
    "\n",
    "solf = []\n",
    "for S in sol:\n",
    "    print('x == ', S[x].evalf(), ' ', end='')\n",
    "    print('y == ', S[y].evalf(), ' ')\n",
    "    solf.append( (S[x].evalf(), S[y].evalf()) )\n",
    "solf = np.array(solf)\n",
    "\n",
    "f = sp.Matrix([x**3 - 3*x*y**2 - 1, 3*x**2*y-y**3 ])\n",
    "#print(\"f == \")\n",
    "#sp.pprint(f)\n",
    "Df = sp.Matrix([f.diff(x).T, f.diff(y).T]).T\n",
    "#sp.pprint(Df)\n",
    "x0, y0 = sp.symbols('x_0 y_0')\n",
    "#print(\"Df using x_0, y_0\")\n",
    "Df = Df.subs([(x,x0), (y,y0)])\n",
    "#sp.pprint(Df)\n",
    "\n",
    "NIT = sp.Matrix([x0, y0]) - (Df**-1)*(f.subs([(x,x0), (y,y0)]))\n",
    "NIT.simplify()\n",
    "#print(\"Newton iterator.\")\n",
    "#sp.pprint(NIT)\n",
    "\n",
    "\n",
    "nit = []\n",
    "for i in range(2):\n",
    "    nit.append(ufuncify([x0,y0], NIT[i,0]) )\n",
    "\n",
    "nitv = lambda x,y: np.array([nit[0](x,y), nit[1](x,y)])\n",
    "\n",
    "## and the determinant of the derivative\n",
    "## we will use this as an abort criterion for Newton's method.\n",
    "ddf = ufuncify([x0,y0], Df.det())"
   ]
  },
  {
   "cell_type": "code",
   "execution_count": null,
   "metadata": {
    "collapsed": true
   },
   "outputs": [],
   "source": [
    "## colors for the 4 roots, and one for a failed algorithm\n",
    "cList = [[1.0,1.0,1.0], [1.0, 0.2, 0.2], [0.2, 1.0, 0.2], [0.2, 0.2, 1.0], [0.0, 0.0, 0.0]]\n",
    "\n",
    "## routine to run Newton's method with a given initial condition. \n",
    "## returns the appropriate color from cList, depending on the root found, \n",
    "## or if the routine aborts. \n",
    "\n",
    "## z0 is the initial value, it will be a numpy pair z0 = [x0,y0]\n",
    "## n is the number of iterations we allow before we abort.\n",
    "def newtit( z0, n ):\n",
    "    retval = cList[-1]\n",
    "    for i in range(n):\n",
    "        ## check to see how close we are to roots. . .\n",
    "        droot = []\n",
    "        for i in range(solf.shape[0]):\n",
    "            dif = solf[i]-z0\n",
    "            droot.append( ( ma.sqrt(sum(dif*dif)), i ) )\n",
    "            \n",
    "        droot = sorted(droot)\n",
    "        if droot[0][0]<0.000001:\n",
    "            retval = cList[droot[0][1]]\n",
    "            break\n",
    "            \n",
    "        ## if not close, check to see if Det(Df) is too small\n",
    "        if abs(ddf(*z0))<0.000001:\n",
    "            break\n",
    "            \n",
    "        ## if not, iterate. \n",
    "        z0 = nitv(*z0)\n",
    "    \n",
    "    return retval"
   ]
  },
  {
   "cell_type": "code",
   "execution_count": null,
   "metadata": {
    "collapsed": false
   },
   "outputs": [],
   "source": [
    "## routine to generate picture.\n",
    "\n",
    "xarr = np.linspace(-3.0, 3.0, 600)\n",
    "yarr = np.linspace(-3.0, 3.0, 600)\n",
    "\n",
    "img = []\n",
    "\n",
    "for y in yarr:\n",
    "#for j in tqdm.tqdm(range(yarr.shape[0])):\n",
    "#    y = yarr[j]\n",
    "    bline = []\n",
    "    for x in xarr:\n",
    "        bline.append( newtit( (x,y), 40 ) )\n",
    "    img.append(bline)\n",
    "    "
   ]
  },
  {
   "cell_type": "markdown",
   "metadata": {},
   "source": [
    "\n"
   ]
  },
  {
   "cell_type": "code",
   "execution_count": null,
   "metadata": {
    "collapsed": false
   },
   "outputs": [],
   "source": [
    "plt.close()\n",
    "\n",
    "fig, ax = plt.subplots(figsize=(10,10))\n",
    "\n",
    "plt.plot( [r[0] for r in solf], [r[1] for r in solf], 'wo')\n",
    "\n",
    "implot = plt.imshow( img, extent=[-3,3,-3,3], aspect=1.0 )"
   ]
  },
  {
   "cell_type": "markdown",
   "metadata": {},
   "source": [
    "## And now, let's find the points of failure\n",
    "\n",
    "Let's review Newton's method from the complex-variable perspective.  Our function is\n",
    "\n",
    "$$f(z) = z^3 - 1$$\n",
    "\n",
    "Newton's method is to solve for $L(z)=0$ where $L(z)$ is the linear approximation at the previous estimate for the root, $z_0$. \n",
    "\n",
    "$$L(z) = f(z_0) + Df_{z_0}(z-z_0) $$\n",
    "\n",
    "With some algebra we see solving the equation $L(z)=0$ is equivalent to:\n",
    "\n",
    "$$z_0^3 - 1 + 3z_0^2(z-z_0) = 0$$"
   ]
  },
  {
   "cell_type": "markdown",
   "metadata": {
    "collapsed": true
   },
   "source": [
    ". . . which gives, \n",
    "\n",
    "$$ z = z_0 + \\frac{1-z_0^3}{3z_0^2} $$\n",
    "\n",
    "So we call $N(z) = z + \\frac{1-z^3}{3z^2}$ the **Newton iterator**. "
   ]
  },
  {
   "cell_type": "markdown",
   "metadata": {},
   "source": [
    "Clearly the Newton iterator is undefined only at $z=0$.   So we define\n",
    "\n",
    "$$F_1 = \\{ 0 \\} $$\n",
    "\n",
    "as the points of failure, in one step.  We let $F_2$ be the points that fail in two iterations of the Newton iterator, i.e. $z \\in F_2$ means $N(z) \\in F_1$.  In general, $z \\in F_n$ means $N(z) \\in F_{n-1}$. \n",
    "\n",
    "We set up the problem of *solving* for the points in $F_n$ recursively.  Since $F_1 = \\{0\\}$ we know $z \\in F_2$ means that $N(z) = 0$, i.e. \n",
    "\n",
    "$$0 = z + \\frac{1-z^3}{3z^2}$$\n",
    "\n",
    "$$0 = 3z^3 + 1 -z^3 = 2z^3 + 1$$\n",
    "\n",
    "which we could solve with the [**numpy.roots**](https://docs.scipy.org/doc/numpy/reference/generated/numpy.roots.html) command, or sympy's [**sympy.polys.polytools.nroots**](http://docs.sympy.org/dev/modules/polys/reference.html) command. \n",
    "\n",
    "More generally, we need to solve\n",
    "\n",
    "$$N(z) \\in F_{n-1}$$\n",
    "\n",
    "to find $z_n \\in F_n$. \n",
    "\n",
    "i.e. \n",
    "\n",
    "$$ z + \\frac{1-z^3}{3z^2} \\in F_{n-1} $$\n",
    "\n",
    "if we denote an element of $F_{n-1}$ by $z_{n-1}$ we are solving for\n",
    "\n",
    "$$ z + \\frac{1-z^3}{3z^2} = z_{n-1} $$\n",
    "\n",
    "equivalently, \n",
    "\n",
    "$$ 3z^3 + 1-z^3 = 3z_{n-1}z^2 $$\n",
    "\n",
    "$$ 2z^3 -3z_{n-1}z^2 + 1 = 0$$\n",
    "\n",
    "which we can solve with **numpy.roots**, or **sympy.polys.polytools.nroots**. "
   ]
  },
  {
   "cell_type": "code",
   "execution_count": null,
   "metadata": {
    "collapsed": false
   },
   "outputs": [],
   "source": [
    "## Let'd do it.  A routine to iteratively compute the sets F_n.  \n",
    "\n",
    "## a list of sets FS[n] will be F_{n+1} described above, i.e. FS[0] = {0}, \n",
    "## FS[1] = roots of 2z^3 + 1 = 0, etc. \n",
    "FS = [ [0.0+0.0j] ]\n",
    "\n",
    "\n"
   ]
  },
  {
   "cell_type": "markdown",
   "metadata": {},
   "source": [
    "### Newton's method can fail in other ways. . .\n",
    "\n",
    "In the case of polynomial root finding, it's an interesting fact that there is only two modes of failure of Newton's method:\n",
    "\n",
    " 1) The *catastrophic failure* of the Newton iterator being undefined, which we explored in the previous plot.  \n",
    " \n",
    " 2) The less dramatic failure, or Newton's method iterating forever and not finding the root.  For polynomial root finding, it's an interesting fact that this only happens for **periodic** orbits.  This is a sequence of points that repeats:\n",
    " \n",
    " $$z_0 \\longmapsto N(z_0) \\longmapsto N^{(2)}(z_0) \\longmapsto \\cdots \\longmapsto N^{(k)}(z_0) = z_0 $$\n",
    " \n",
    " The minimal integer $k\\geq 1$ is called the **period** of the orbit.  Period one points are called **fixed points** of the iterator, etc. \n",
    " \n",
    " We will write some code to find these periodic orbits, below. "
   ]
  },
  {
   "cell_type": "markdown",
   "metadata": {},
   "source": [
    "We are looking for solutions to the equation\n",
    "\n",
    "$$N^{(k)}(z) = z$$\n",
    "\n",
    "with $N(z) = z + \\frac{1-z^3}{3z^2}$. \n",
    "\n",
    "Perhaps before we attack this 'head on' we should make some partial attempts at it.  First off, what might be an efficient way to compute $N^{(k)}(z)$? \n",
    "\n",
    "Let's try in Sympy. "
   ]
  },
  {
   "cell_type": "code",
   "execution_count": null,
   "metadata": {
    "collapsed": false
   },
   "outputs": [],
   "source": [
    "z = sp.Symbol('z')\n",
    "f = z + (1-z**3)/(3*z**2)\n",
    "sp.pprint(f)"
   ]
  },
  {
   "cell_type": "markdown",
   "metadata": {},
   "source": [
    "### A problem!\n",
    "\n",
    "One can not write down nice closed-form descriptions of the roots of high-degree polynomials, thus Sympy fails. \n",
    "\n",
    "Another interesting feature is that, in our set up, points of period 1 are automatically considered points of period 2 -- we have not written any code to ensure the cycle is *shortest possible*.  \n",
    "\n",
    "We can perhaps use this to our advantage.  "
   ]
  },
  {
   "cell_type": "markdown",
   "metadata": {},
   "source": [
    "### A pattern emerges\n",
    "\n",
    "We see a nice pattern developing. The function $f^{(k)}(z)$ we can apparently always write as\n",
    "\n",
    "$$f^{(k)}(z) = \\frac{p_k(z)}{q_k(z)}$$\n",
    "\n",
    "where $p_k(z)$ and $q_k(z)$ are polynomials with (apparently) integer coefficients.  Let's see if we can solve for these polynomials efficiently. "
   ]
  },
  {
   "cell_type": "markdown",
   "metadata": {},
   "source": [
    "If $f^{(k-1)}(z) = \\frac{p_{k-1}(z)}{q_{k-1}(z)}$ then\n",
    "$$f^{(k)}(z) = f(f^{(k-1)}(z)) = \\frac{ 2\\left( \\frac{p_{k-1}(z)}{q_{k-1}(z)}\\right)^3 + 1}{3 \\left(\\frac{p_{k-1}(z)}{q_{k-1}(z)}\\right)^2}$$\n",
    "which if we multiply-through by $q_{k-1}(z)^3$ gives"
   ]
  },
  {
   "cell_type": "markdown",
   "metadata": {},
   "source": [
    "$$f^{(k)}(z) = \\frac{2p_{k-1}(z)^3 + q_{k-1}(z)^3}{3p_{k-1}(z)^2 \\cdot q_{k-1}(z) }$$\n",
    "which gives us the recursion\n",
    "\n",
    "$$p_k(z) = 2p_{k-1}(z)^3 + q_{k-1}(z)^3 \\hskip 1cm q_k(z) = 3p_{k-1}(z)^2 \\cdot q_{k-1}(z)$$\n",
    "with\n",
    "$$p_0(z) = z \\hskip 1cm q_0(z) = 1$$\n",
    "\n",
    "moreover, periodic points of period $k$ are ones where\n",
    "\n",
    "$$f^{(k)}(z) = z$$\n",
    "\n",
    "i.e. \n",
    "\n",
    "$$p_k(z) - z q_k(z) = 0$$\n",
    "\n",
    "This is a polynomial equation, which we can solve with the **numpy.roots** or **sympy.polys.polytools.nroots** command. \n",
    "\n",
    "But before we resort to floating-point approximations, let's see if we can use our observation about divisibility of polynomials. i.e. we know that if\n",
    "\n",
    "$$p_1(z) - zq_1(z) = 0$$\n",
    "\n",
    "then \n",
    "\n",
    "$$p_2(z) - zq_2(z) = 0$$\n",
    "\n",
    "so we know $$(p_2(z) - zq_2(z))/(p_1(z)-zq_1(z))$$\n",
    "is a polynomial.  Let's compute it. "
   ]
  },
  {
   "cell_type": "code",
   "execution_count": null,
   "metadata": {
    "collapsed": false
   },
   "outputs": [],
   "source": []
  },
  {
   "cell_type": "code",
   "execution_count": null,
   "metadata": {
    "collapsed": false
   },
   "outputs": [],
   "source": []
  },
  {
   "cell_type": "code",
   "execution_count": null,
   "metadata": {
    "collapsed": true
   },
   "outputs": [],
   "source": []
  }
 ],
 "metadata": {
  "anaconda-cloud": {},
  "kernelspec": {
   "display_name": "Python [default]",
   "language": "python",
   "name": "python3"
  },
  "language_info": {
   "codemirror_mode": {
    "name": "ipython",
    "version": 3
   },
   "file_extension": ".py",
   "mimetype": "text/x-python",
   "name": "python",
   "nbconvert_exporter": "python",
   "pygments_lexer": "ipython3",
   "version": "3.5.2"
  }
 },
 "nbformat": 4,
 "nbformat_minor": 1
}
