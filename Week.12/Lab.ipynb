{
 "cells": [
  {
   "cell_type": "markdown",
   "metadata": {},
   "source": [
    "# Newton's method, continued\n",
    "\n",
    "Copy and paste the code for Newton's method domains of attraction plot, for the complex equation\n",
    "\n",
    "$$z^3 = 1$$\n",
    "\n",
    "into this notebook. \n",
    "\n",
    "## Lab 1\n",
    "\n",
    "In this lab, we ask you to add various features to your plots. Let $N$ be the **Newton Iterator** function for the complex cubic equation above.  \n",
    "\n",
    "We saw in class that Newton's method will fail if one of two things happen:\n",
    "\n",
    "1) If Newton's method produces $z=0$.   \n",
    "\n",
    "or\n",
    "\n",
    "2) If the Newton iterator repeats itself.  In mathematics we would call this a *periodic point*.  \n",
    "\n",
    "In the language of **complex functions** we saw the Newton iterator is given by\n",
    "\n",
    "$$ z \\longmapsto z - Df^{-1}_z(f(z)) $$\n",
    "\n",
    "which for us, $f(z) = z^3-1$ so the Newton iterator is\n",
    "\n",
    "$$ z \\longmapsto z - \\frac{z^3-1}{3z^2}$$"
   ]
  },
  {
   "cell_type": "markdown",
   "metadata": {},
   "source": [
    "This is clearly is undefined if $z=0$, but we ask, what does $z$ need to be so that this produces $0$?\n",
    "\n",
    "$$z-\\frac{z^3-1}{3z^2} = 0 \\text{ assuming } z \\neq 0$$\n",
    "\n",
    "is equivalent to $$3z^3 - z^3 + 1 = 0$$\n",
    "\n",
    "which is a polynomial equation we could solve, with **Sympy** or **Numpy**. \n",
    "\n",
    "Now, assume $z_1$ is one of these solutions.  This means Newton's method could fail (in two steps) if\n",
    "\n",
    "$$z - \\frac{z^3-1}{3z^2} = z_1 $$"
   ]
  },
  {
   "cell_type": "markdown",
   "metadata": {},
   "source": [
    "multiplying through by $3z^2$ again, gives \n",
    "$$3z^3-z^3+1 = 3z^2z_1$$\n",
    "\n",
    "Call the solutions to this equation $z_2$.  In general, call the solutions to the equation\n",
    "\n",
    "$$3z^3-z^3+1 = 3z^2z_{n-1}$$\n",
    "\n",
    "$z_n$, then this is a procedure to find all the points in the plane where Newton's method eventually returns a division by zero.   Write some code to plot these points, together with the basins of attraction plot.   Use at least $n=2, 3, 4, 5$, but go further if your methods allow. \n",
    "\n",
    "Writing $z=x+iy$ we could also write all the above as a system equations in two real variables.  For example $3z^3-z^3+1=0$ is equivalent to \n",
    "\n",
    "$$2z^3+1 = 0$$\n",
    "\n",
    "or $$z^3 = -1/2$$\n",
    "\n",
    "$$z^3 = x^3 - 3xy^2 + i(3x^2y - y^3)$$"
   ]
  },
  {
   "cell_type": "code",
   "execution_count": null,
   "metadata": {
    "collapsed": true
   },
   "outputs": [],
   "source": [
    "## code\n"
   ]
  },
  {
   "cell_type": "markdown",
   "metadata": {},
   "source": [
    "A **fixed point** for the Newton iterator is a point $(x,y)$ in the plane so that $N(x,y) = (x,y)$.   \n",
    "\n",
    " * Create a domains of attraction plot where you also plot the fixed points of the Newton iterator.  \n",
    " "
   ]
  },
  {
   "cell_type": "code",
   "execution_count": null,
   "metadata": {
    "collapsed": true
   },
   "outputs": [],
   "source": [
    "##code\n"
   ]
  },
  {
   "cell_type": "markdown",
   "metadata": {},
   "source": [
    "If $k$ is a positive integer, the function $N^{(k)}$ means $N$ composed with itself $k$ times. i.e.\n",
    "\n",
    "$$N^{(2)}(x,y) = N( N(x,y) )$$\n",
    "\n",
    "$$N^{(3)}(x,y) = N( N( N(x,y) ) )$$\n",
    "\n",
    "A point $(x,y)$ in the plane is a point of **period 2** if $N^{(2)}(x,y) = (x,y)$ but $N(x,y) \\neq (x,y)$. \n",
    "\n",
    "A point $(x,y)$ in the plane is a point of **period 3** provided $N^{(3)}(x,y) = (x,y)$ but $N^{(j)}(x,y) \\neq (x,y)$ for $j=1, 2$.  \n",
    "\n",
    "Generally, a point $(x,y)$ is of **period k** provided $N^{(k)}(x,y) = (x,y)$ but $N^{(j)}(x,y) \\neq (x,y)$ for $j=1,2, \\cdots, k-1$. \n",
    "\n",
    "Create a domains of attraction plot for the Newton iterator where you plot the periodic points of period $k = 1,2,3, 4$.  Go further if your methods allow. "
   ]
  },
  {
   "cell_type": "code",
   "execution_count": null,
   "metadata": {
    "collapsed": true
   },
   "outputs": [],
   "source": [
    "## code"
   ]
  },
  {
   "cell_type": "markdown",
   "metadata": {},
   "source": [
    "Often the behaviour of the Newton iterator near a fixed point (or periodic point) is determined by the eigenvalues of the derivative of $N$ at the fixed point (or $N^{(k)}$ respectively at the periodic point).  In dimension $2$, the eigenvalues are determined by the determinant and trace, via the quadratic equation.  \n",
    "\n",
    "Create yet another domains of attraction plot for the $z^3=1$ equation, where you not only plot the fixed points and periodic points of period $k=1,2,3,4$ but plot (using a text field) the determinant and trace of $DN^{(k)}$ at the respective periodic points of period $k=1,2,3,4$.  "
   ]
  },
  {
   "cell_type": "code",
   "execution_count": null,
   "metadata": {
    "collapsed": true
   },
   "outputs": [],
   "source": [
    "## code\n"
   ]
  },
  {
   "cell_type": "markdown",
   "metadata": {},
   "source": [
    "\n",
    "## Lab 2\n",
    "\n",
    "* outline lab here, specify in detail what the outcome should be\n"
   ]
  }
 ],
 "metadata": {
  "anaconda-cloud": {},
  "kernelspec": {
   "display_name": "Python [default]",
   "language": "python",
   "name": "python3"
  },
  "language_info": {
   "codemirror_mode": {
    "name": "ipython",
    "version": 3
   },
   "file_extension": ".py",
   "mimetype": "text/x-python",
   "name": "python",
   "nbconvert_exporter": "python",
   "pygments_lexer": "ipython3",
   "version": "3.5.2"
  }
 },
 "nbformat": 4,
 "nbformat_minor": 1
}
