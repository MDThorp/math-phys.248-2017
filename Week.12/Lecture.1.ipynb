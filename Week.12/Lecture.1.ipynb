{
 "cells": [
  {
   "cell_type": "markdown",
   "metadata": {},
   "source": [
    "# Some discrete dynamics\n",
    "\n",
    "\n",
    "## Using Newton's method to solve systems of equations\n",
    "\n",
    "* Let's do an analysis of Newton's method to see how robust a method of solution it is, for systems of non-linear equations. \n",
    "\n",
    "* Begin with the system\n",
    "\n",
    "$$ x^2 + y^2 = 4, \\hskip 1cm xy = 1 $$\n",
    "\n",
    "We can of course use Sympy to solve this system."
   ]
  },
  {
   "cell_type": "code",
   "execution_count": null,
   "metadata": {
    "collapsed": true
   },
   "outputs": [],
   "source": [
    "import sympy as sp\n",
    "import numpy as np\n",
    "import math as ma\n",
    "import sys\n",
    "import matplotlib.pyplot as plt\n",
    "import matplotlib.image as mpimg\n",
    "%matplotlib nbagg\n",
    "\n",
    "expaths = [\"/usr/lib/python3/dist-packages\", \"/usr/local/lib/python3.5/dist-packages\"]\n",
    "for xp in expaths:\n",
    "    if (xp not in sys.path):\n",
    "        sys.path.append(xp)\n",
    "import tqdm"
   ]
  },
  {
   "cell_type": "code",
   "execution_count": null,
   "metadata": {
    "collapsed": false
   },
   "outputs": [],
   "source": [
    "x,y = sp.symbols(\"x y\", real=True)\n",
    "sol = sp.solve([x**2 + y**2 - 4, x*y-1 ])\n",
    "sp.pprint(sol)"
   ]
  },
  {
   "cell_type": "code",
   "execution_count": null,
   "metadata": {
    "collapsed": false
   },
   "outputs": [],
   "source": [
    "solf = []\n",
    "for S in sol:\n",
    "    print('x == ', S[x].evalf(), ' ', end='')\n",
    "    print('y == ', S[y].evalf(), ' ')\n",
    "    solf.append( (S[x].evalf(), S[y].evalf()) )\n",
    "solf = np.array(solf)"
   ]
  },
  {
   "cell_type": "markdown",
   "metadata": {},
   "source": [
    "### Let's set up Newton's method to find the root. \n",
    "\n",
    "Let's write some code that takes a point $(x,y) \\in \\mathbb R^2$ in the plane as an initial condition for\n",
    "Newton's method.  We will iterate Newton's method and color the point $(x,y)$ a color corresponding to the (approximate) root the method discovers. \n",
    "\n",
    "$$f \\pmatrix{x \\cr y} = \\pmatrix{ x^2 + y^2 - 4 \\cr xy - 1 }$$"
   ]
  },
  {
   "cell_type": "markdown",
   "metadata": {},
   "source": [
    "$$Df = \\pmatrix{ 2x & 2y \\cr y & x }$$\n",
    "\n",
    "Newton's method involves replacing the approximate root $\\pmatrix{x_0 \\cr y_0}$ with the solution to the linearized equation\n",
    "\n",
    "$$f \\pmatrix{x_0 \\cr y_0} + Df_{\\pmatrix{x_0 \\cr y_0}} \\left( \\pmatrix{x_1 \\cr y_1} - \\pmatrix{x_0 \\cr y_0} \\right) = 0$$\n",
    "\n",
    "i.e. \n",
    "\n",
    "$$\\pmatrix{x_0 \\cr y_0} \\longmapsto \\pmatrix{x_1 \\cr y_1}$$ \n",
    "\n",
    "with \n",
    "\n",
    "$$\\pmatrix{x_1 \\cr y_1} = \\pmatrix{x_0 \\cr y_0} - Df^{-1}_{\\pmatrix{x_0 \\cr y_0}} \\left( f \\pmatrix{x_0 \\cr y_0} \\right)$$\n",
    "\n",
    "Let's work it out in Sympy."
   ]
  },
  {
   "cell_type": "code",
   "execution_count": null,
   "metadata": {
    "collapsed": false
   },
   "outputs": [],
   "source": [
    "f = sp.Matrix([x**2+y**2 -4, x*y-1])\n",
    "sp.pprint(f)\n",
    "\n",
    "fx = sp.diff(f, x)\n",
    "fy = sp.diff(f, y)\n",
    "Df = sp.Matrix([[fx[0,0], fy[0,0]], [fx[1,0], fy[1,0]]] )\n",
    "sp.pprint(Df)\n",
    "\n",
    "nit = sp.Matrix([x, y]) - (Df**(-1))*f\n",
    "nit = sp.simplify(nit)\n",
    "sp.pprint(nit)"
   ]
  },
  {
   "cell_type": "code",
   "execution_count": null,
   "metadata": {
    "collapsed": false
   },
   "outputs": [],
   "source": [
    "## make it a callable function\n",
    "from sympy.utilities.autowrap import ufuncify\n",
    "NIT = []\n",
    "for i in range(2):\n",
    "    NIT.append(ufuncify([x,y], nit[i,0]))\n",
    "\n",
    "## NIT is a list of callable functions.  We would prefer it is a callable\n",
    "## function that returns a pair! \n",
    "nitv = lambda x,y: np.array([NIT[0](x,y), NIT[1](x,y)])\n",
    "    \n",
    "df = ufuncify([x,y], Df.det())\n",
    "\n",
    "print(df(1,2))"
   ]
  },
  {
   "cell_type": "markdown",
   "metadata": {},
   "source": [
    "### Code\n",
    "\n",
    "Let's write an algorithm that:\n",
    "\n",
    "* iterates over a grid of points in the $(x,y)$-plane, \n",
    "* uses that as the start-up value $(x_0, y_0)$ for Newton's method, \n",
    "* iterates Newton's method several times, starting at $(x_0, y_0)$, to produce $(x_n,y_n)$\n",
    "* checks to see which of the four solutions we are closest to.  \n",
    "* We colour the point in the plane $(x_0,y_0)$ accordingly.\n",
    "\n",
    "This is called a **domains of attraction** plot. "
   ]
  },
  {
   "cell_type": "code",
   "execution_count": null,
   "metadata": {
    "collapsed": true
   },
   "outputs": [],
   "source": [
    "cList = [[1.0, 1.0, 1.0], [1.0, 0.2, 0.2], [0.2, 1.0, 0.2], [0.2, 0.2, 1.0], [0.0, 0.0, 0.0]]\n",
    "\n",
    "## z0 is your initial location to try, this will be a pair\n",
    "## n is the max number of iterations before we give up -- colored cList[-1] if not close to\n",
    "## root.  returns a colour from cList\n",
    "def newtIt( z0, n ):\n",
    "    retval = cList[-1]\n",
    "    for i in range(n):\n",
    "        droot = []\n",
    "        for i in range(solf.shape[0]):\n",
    "            dif = solf[i] - z0\n",
    "            droot.append( ( ma.sqrt(sum(dif*dif)), i ) )\n",
    "        ## droot is a list of (distances between z0 and the ith root, i)\n",
    "        droot = sorted(droot) ## sorted from shortest distance to longest\n",
    "        if droot[0][0] < 0.0001:\n",
    "            retval = cList[droot[0][1]] ## using the i.\n",
    "            break ## removes us from the for loop\n",
    "        if abs(df(*z0)) < 0.00000001:\n",
    "            break ## z0 is a pair z0 = (x,y), then *z0 == x,y\n",
    "        z0 = nitv(*z0)\n",
    "        #print(z0)\n",
    "    return retval"
   ]
  },
  {
   "cell_type": "code",
   "execution_count": null,
   "metadata": {
    "collapsed": false
   },
   "outputs": [],
   "source": [
    "newtIt( (0.8, 0.0), 20 )\n",
    "## doing what we want!\n"
   ]
  },
  {
   "cell_type": "code",
   "execution_count": null,
   "metadata": {
    "collapsed": true
   },
   "outputs": [],
   "source": [
    "xarr = np.linspace(-3.0, 3.0, 200)\n",
    "yarr = np.linspace(-3.0, 3.0, 200)\n",
    "\n",
    "img = []\n",
    "## replace the below two lines with\n",
    "## for y in yarr: \n",
    "## if you do not have the tqdm library\n",
    "for j in tqdm.tqdm(range(yarr.shape[0])):\n",
    "    y = yarr[j]\n",
    "    bline = []\n",
    "    for x in xarr:\n",
    "        bline.append( newtIt( (x,y), 20 ))\n",
    "    img.append(bline)"
   ]
  },
  {
   "cell_type": "code",
   "execution_count": null,
   "metadata": {
    "collapsed": false
   },
   "outputs": [],
   "source": [
    "fig, ax = plt.subplots(figsize=(10,10))\n",
    "\n",
    "plt.plot( [r[0] for r in solf], [r[1] for r in solf], 'wo')\n",
    "\n",
    "implot = plt.imshow( img, extent=[-3,3, -3,3] )"
   ]
  },
  {
   "cell_type": "markdown",
   "metadata": {},
   "source": [
    "\n",
    "* Let's repeat Newton's method, but for the (complex) equation\n",
    "\n",
    "$$ z^3 = 1 $$\n",
    "\n",
    "or equivalently\n",
    "\n",
    "$$ (x+iy)^3 = x^3 - 3xy^2 + i(3x^2y - y^3) = 1 $$\n",
    "\n",
    "i.e. \n",
    "\n",
    "$$x^3 - 3xy^2 = 1, \\hskip 1cm 3x^2y-y^3 = 0$$\n"
   ]
  },
  {
   "cell_type": "code",
   "execution_count": null,
   "metadata": {
    "collapsed": false
   },
   "outputs": [],
   "source": [
    "# do the task here life ..... keep a copy of the model t\n",
    "# ask, after class commit the version created in class to \n",
    "# repo\n",
    "\n",
    "x,y = sp.symbols(\"x y\", real=True)\n",
    "sol = sp.solve([x**3 - 3*x*y**2 - 1, 3*x**2*y-y**3 ])\n",
    "sp.pprint(sol)\n",
    "\n",
    "solf = []\n",
    "for S in sol:\n",
    "    print('x == ', S[x].evalf(), ' ', end='')\n",
    "    print('y == ', S[y].evalf(), ' ')\n",
    "    solf.append( (S[x].evalf(), S[y].evalf()) )\n",
    "solf = np.array(solf)"
   ]
  },
  {
   "cell_type": "code",
   "execution_count": null,
   "metadata": {
    "collapsed": false
   },
   "outputs": [],
   "source": [
    "f = sp.Matrix([x**3 - 3*x*y**2 - 1, 3*x**2*y-y**3])\n",
    "sp.pprint(f)\n",
    "\n",
    "fx = sp.diff(f, x)\n",
    "fy = sp.diff(f, y)\n",
    "Df = sp.Matrix([[fx[0,0], fy[0,0]], [fx[1,0], fy[1,0]]] )\n",
    "sp.pprint(Df)\n",
    "\n",
    "nit = sp.Matrix([x, y]) - (Df**(-1))*f\n",
    "nit = sp.simplify(nit)\n",
    "sp.pprint(nit)"
   ]
  },
  {
   "cell_type": "code",
   "execution_count": null,
   "metadata": {
    "collapsed": false
   },
   "outputs": [],
   "source": [
    "## make it a callable function\n",
    "from sympy.utilities.autowrap import ufuncify\n",
    "NIT = []\n",
    "for i in range(2):\n",
    "    NIT.append(ufuncify([x,y], nit[i,0]))\n",
    "\n",
    "## NIT is a list of callable functions.  We would prefer it is a callable\n",
    "## function that returns a pair! \n",
    "nitv = lambda x,y: np.array([NIT[0](x,y), NIT[1](x,y)])\n",
    "    \n",
    "df = ufuncify([x,y], Df.det())\n",
    "\n",
    "print(df(1,2))"
   ]
  },
  {
   "cell_type": "code",
   "execution_count": null,
   "metadata": {
    "collapsed": true
   },
   "outputs": [],
   "source": [
    "cList = [[1.0, 1.0, 1.0], [1.0, 0.2, 0.2], [0.2, 1.0, 0.2], [0.2, 0.2, 1.0], [0.0, 0.0, 0.0]]\n",
    "\n",
    "## z0 is your initial location to try, this will be a pair\n",
    "## n is the max number of iterations before we give up -- colored cList[-1] if not close to\n",
    "## root.  returns a colour from cList\n",
    "def newtIt( z0, n ):\n",
    "    retval = cList[-1]\n",
    "    for i in range(n):\n",
    "        droot = []\n",
    "        for i in range(solf.shape[0]):\n",
    "            dif = solf[i] - z0\n",
    "            droot.append( ( ma.sqrt(sum(dif*dif)), i ) )\n",
    "        ## droot is a list of (distances between z0 and the ith root, i)\n",
    "        droot = sorted(droot) ## sorted from shortest distance to longest\n",
    "        if droot[0][0] < 0.0001:\n",
    "            retval = cList[droot[0][1]] ## using the i.\n",
    "            break ## removes us from the for loop\n",
    "        if abs(df(*z0)) < 0.00000001:\n",
    "            break ## z0 is a pair z0 = (x,y), then *z0 == x,y\n",
    "        z0 = nitv(*z0)\n",
    "        #print(z0)\n",
    "    return retval"
   ]
  },
  {
   "cell_type": "code",
   "execution_count": null,
   "metadata": {
    "collapsed": false
   },
   "outputs": [],
   "source": [
    "xarr = np.linspace(-3.0, 3.0, 600)\n",
    "yarr = np.linspace(-3.0, 3.0, 600)\n",
    "\n",
    "img = []\n",
    "for j in tqdm.tqdm(range(yarr.shape[0])):\n",
    "    y = yarr[j]\n",
    "    bline = []\n",
    "    for x in xarr:\n",
    "        bline.append( newtIt( (x,y), 20 ))\n",
    "    img.append(bline)"
   ]
  },
  {
   "cell_type": "code",
   "execution_count": null,
   "metadata": {
    "collapsed": false
   },
   "outputs": [],
   "source": [
    "plt.close()\n",
    "\n",
    "fig, ax = plt.subplots(figsize=(10,10))\n",
    "\n",
    "plt.plot( [r[0] for r in solf], [r[1] for r in solf], 'wo')\n",
    "\n",
    "implot = plt.imshow( img, extent=[-3,3, -3,3] )"
   ]
  },
  {
   "cell_type": "code",
   "execution_count": null,
   "metadata": {
    "collapsed": true
   },
   "outputs": [],
   "source": []
  }
 ],
 "metadata": {
  "anaconda-cloud": {},
  "kernelspec": {
   "display_name": "Python [default]",
   "language": "python",
   "name": "python3"
  },
  "language_info": {
   "codemirror_mode": {
    "name": "ipython",
    "version": 3
   },
   "file_extension": ".py",
   "mimetype": "text/x-python",
   "name": "python",
   "nbconvert_exporter": "python",
   "pygments_lexer": "ipython3",
   "version": "3.5.2"
  }
 },
 "nbformat": 4,
 "nbformat_minor": 1
}
