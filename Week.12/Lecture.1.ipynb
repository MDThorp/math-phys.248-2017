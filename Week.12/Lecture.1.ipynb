{
 "cells": [
  {
   "cell_type": "markdown",
   "metadata": {},
   "source": [
    "# Some discrete dynamics\n",
    "\n",
    "\n",
    "## Using Newton's method to solve systems of equations\n",
    "\n",
    "* Let's do an analysis of Newton's method to see how robust a method of solution it is, for systems of non-linear equations. \n",
    "\n",
    "* Begin with the system\n",
    "\n",
    "$$ x^2 + y^2 = 1, \\hskip 1cm xy = 1 $$\n"
   ]
  },
  {
   "cell_type": "code",
   "execution_count": null,
   "metadata": {
    "collapsed": true
   },
   "outputs": [],
   "source": [
    "# do the task here life ..... keep a copy of the model t\n",
    "# ask, after class commit the version created in class to \n",
    "# repo"
   ]
  },
  {
   "cell_type": "markdown",
   "metadata": {},
   "source": [
    "\n",
    "* Let's repeat Newton's method, but for the (complex) equation\n",
    "\n",
    "$$ z^3 = 1 $$\n",
    "\n",
    "or equivalently\n",
    "\n",
    "$$ (x+iy)^3 = x^3 - 3xy^2 + i(3x^2y - y^3) = 1 $$\n",
    "\n",
    "i.e. \n",
    "\n",
    "$$x^3 - 3xy^2 = 1, \\hskip 1cm 3x^2y-y^3 = 0$$\n"
   ]
  },
  {
   "cell_type": "code",
   "execution_count": null,
   "metadata": {
    "collapsed": true
   },
   "outputs": [],
   "source": [
    "# do the task here life ..... keep a copy of the model t\n",
    "# ask, after class commit the version created in class to \n",
    "# repo"
   ]
  }
 ],
 "metadata": {
  "anaconda-cloud": {},
  "kernelspec": {
   "display_name": "Python [default]",
   "language": "python",
   "name": "python3"
  },
  "language_info": {
   "codemirror_mode": {
    "name": "ipython",
    "version": 3
   },
   "file_extension": ".py",
   "mimetype": "text/x-python",
   "name": "python",
   "nbconvert_exporter": "python",
   "pygments_lexer": "ipython3",
   "version": "3.5.2"
  }
 },
 "nbformat": 4,
 "nbformat_minor": 1
}
