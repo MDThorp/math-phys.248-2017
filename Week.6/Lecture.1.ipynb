{
 "cells": [
  {
   "cell_type": "markdown",
   "metadata": {
    "deletable": true,
    "editable": true
   },
   "source": [
    "# Week 6 -- A little more Sympy, some stats, plotting and data acquisition\n",
    "\n",
    "## The remaining bits of Sympy. \n",
    "\n",
    "* Solving systems of equations with Sympy\n",
    "* Comparing with matplotlib\n",
    "* Solving differential equations with Sympy\n"
   ]
  },
  {
   "cell_type": "code",
   "execution_count": null,
   "metadata": {
    "collapsed": true,
    "deletable": true,
    "editable": true
   },
   "outputs": [],
   "source": [
    "import sympy as sp\n",
    "import mpmath as mp\n",
    "import numpy as np\n",
    "import matplotlib.pyplot as plt\n",
    "%matplotlib inline"
   ]
  },
  {
   "cell_type": "markdown",
   "metadata": {
    "deletable": true,
    "editable": true
   },
   "source": [
    "Last class we were solving the system of equations\n",
    "$$ x^2 + y^2 = 4, \\hskip 1cm xy = 1$$\n",
    "using **mpmath** and **sympy**. "
   ]
  },
  {
   "cell_type": "code",
   "execution_count": null,
   "metadata": {
    "collapsed": false,
    "deletable": true,
    "editable": true
   },
   "outputs": [],
   "source": [
    "## mpmath\n",
    "f = [lambda x,y: x**2 + y**2 - 4, lambda x,y: x*y-1.0]\n",
    "roots = mp.findroot(f, (0.2, 0.1) )\n",
    "## findroot takes a list of equations, and an initial guess for (x,y)\n",
    "## a version of Newton's method.\n",
    "print(roots[0], roots[1], sep=', ')"
   ]
  },
  {
   "cell_type": "code",
   "execution_count": null,
   "metadata": {
    "collapsed": false,
    "deletable": true,
    "editable": true
   },
   "outputs": [],
   "source": [
    "## sympy\n",
    "x,y = sp.symbols('x y')\n",
    "sol =  sp.solve([x**2+y**2-4, x*y-1])\n",
    "## takes a list of equations, but no initial guess is required\n",
    "for S in sol:\n",
    "    sp.pprint(S)\n",
    "\n",
    "for S in sol:\n",
    "    print(\"Sympy (as float): \", S[x].evalf(8), S[y].evalf(8))\n",
    "\n",
    "print(\"\\nMPMATH sol: \", roots[0],roots[1] )\n",
    "  "
   ]
  },
  {
   "cell_type": "markdown",
   "metadata": {
    "deletable": true,
    "editable": true
   },
   "source": [
    "Let's plot the solutions:\n",
    "\n",
    "* To the individual equations\n",
    "* And to the system\n"
   ]
  },
  {
   "cell_type": "code",
   "execution_count": null,
   "metadata": {
    "collapsed": false,
    "deletable": true,
    "editable": true
   },
   "outputs": [],
   "source": [
    "## And we can visualize the solutions with matplotlib\n",
    "fig, ax = plt.subplots(figsize=(10,10))\n",
    "circle = plt.Circle( (0,0), 2, color='r', fill=False)\n",
    "\n",
    "x1 = np.linspace(0.2, 4)\n",
    "y1 = x1**(-1)\n",
    "ax.plot(x1, y1,'-')\n",
    "\n",
    "x2 = np.linspace(-4,-0.2)\n",
    "y2 = x2**(-1)\n",
    "ax.plot(x2, y2,'-')\n",
    "\n",
    "ax.set_title('Visualizing the above solutions', fontsize=18)\n",
    "\n",
    "## the root we found with Newton's method, a big black x.\n",
    "ax.plot([roots[0]], [roots[1]], 'bx', markersize=28)\n",
    "\n",
    "## the roots we found with sympy, yellow dots.\n",
    "ax.plot([sol[i][x].evalf(10) for i in range(len(sol))], [sol[i][y].evalf(10)\\\n",
    "                                                         for i in range(len(sol))],'yo', markersize=10)\n",
    "\n",
    "fig.gca().add_artist(circle)\n",
    "ax.set_xlim(-3,3)\n",
    "ax.set_ylim(-3,3)\n",
    "plt.show()"
   ]
  },
  {
   "cell_type": "markdown",
   "metadata": {
    "deletable": true,
    "editable": true
   },
   "source": [
    "The next example gives you a sense for how Sympy solves complicated algebraic equations. \n",
    "\n",
    "Notice the equation below is basically the previous equation but with $x$ replaced by $\\cos(x)$ and $y$ replaced by $\\sin(y)$. \n",
    "\n",
    "This gives you a key insight into how sympy solves equations. It has strong *core* routines for solving polynomial equations, which is uses as a fundamental building-block for solving more complicated algebraic equations."
   ]
  },
  {
   "cell_type": "code",
   "execution_count": null,
   "metadata": {
    "collapsed": false,
    "deletable": true,
    "editable": true,
    "scrolled": true
   },
   "outputs": [],
   "source": [
    "sol = sp.solve([sp.cos(x)**2 + sp.sin(y)**2 - 4, sp.cos(x)*sp.sin(y)-1 ])\n",
    "print(type(sol))\n",
    "print(len(sol))\n",
    "for i in range(len(sol)): \n",
    "    print(\"Solution \" + str(i))\n",
    "    sp.pprint(sol[i])\n",
    "    print(\"\\n\")  "
   ]
  },
  {
   "cell_type": "markdown",
   "metadata": {
    "deletable": true,
    "editable": true
   },
   "source": [
    "## Summary\n",
    "\n",
    "Sympy has a systematic way of solving algebraic equations.  \n",
    "\n",
    " * At its core is a strong semi-algorithm to solve systems of polynomial equations.\n",
    "     - An example system: $x^3+3xy+1=0 = y^4-x^2y+x+4 $\n",
    "     - To solve such equations Sympy uses a **Groebner basis algorithm** to convert such systems of *multi-variable polynomial* equations into systems of *single-variable* polynomial equations. This is a reliable algorithm, although it can be slow (double-exponential run-time estimates).\n",
    "     - Sympy does not know how to write \"closed-form\" solutions to all single variable polynomial equations, but it has a significant repository of closed-form solutions, as we have seen. \n",
    "     - As a side-note, it is *known* that the solutions to a general degree $5$ (or higher) polynomial equation $a_5x^5+a_4x^4+a_3x^3+a_2x^2+a_1x+a_0=0$ can not be expressed as a rational polynomial in rational powers (recursively) of $a_5,\\cdots,a_0$, although as we have seen above this **can** be done if the degree is $4$ or less.   So one generally *can not* hope for simple formulas for such roots.\n",
    "\n",
    " * For more complicated systems, such as $\\sin(x)^3+3\\sin(x)\\cos(y)+1=0=\\sin(y)^4-\\cos(x)^2+\\cos(x)+4$ sympy thinks of the system as a polynomial equation in the variables $\\sin(x), \\cos(y)$ and computes $\\sin^{-1}$ and $\\cos^{-1}$ of the solutions.\n",
    " \n",
    " * Sympy also has adapted versions of the above algorithms to find closed-form solutions to some differential equations.  We will talk more about this when we discuss simulating solutions to differential equations.  One particularly simple case appears below.\n",
    " \n",
    " * * *\n",
    "\n",
    "## Sympy and ODEs\n",
    "\n",
    "Sympy's algorithms for finding *anti-derivatives* have been adapted to algorithms for finding *closed-form* solutions to differential equations.  \n",
    "\n",
    "These algorithms are strongest for **ODEs** but there are also algorithms for **PDEs**, delay differential equations, and types of differential equations. \n",
    "\n",
    "We start by exploring the [skydiver problem](../Week.4/Lecture.2.ipynb) again. \n",
    "\n",
    "$$ v' = kv^2 -g $$"
   ]
  },
  {
   "cell_type": "code",
   "execution_count": null,
   "metadata": {
    "collapsed": false,
    "deletable": true,
    "editable": true
   },
   "outputs": [],
   "source": [
    "f=sp.Function('v')\n",
    "x=sp.Symbol('x', real=True)\n",
    "            \n",
    "g,k=sp.symbols('g k')\n",
    "ODE = sp.Eq( sp.Derivative(f(x), x), k*f(x)**2 - g )\n",
    "\n",
    "print(\"We wish to get sympy to solve the differential equation: \")\n",
    "sp.pprint(ODE)"
   ]
  },
  {
   "cell_type": "markdown",
   "metadata": {
    "deletable": true,
    "editable": true
   },
   "source": [
    "It is perfectly acceptable to ask sympy to solve an ODE given in the traditional form above."
   ]
  },
  {
   "cell_type": "code",
   "execution_count": null,
   "metadata": {
    "collapsed": false,
    "deletable": true,
    "editable": true
   },
   "outputs": [],
   "source": [
    "sp.pprint(sp.dsolve(ODE))"
   ]
  },
  {
   "cell_type": "code",
   "execution_count": null,
   "metadata": {
    "collapsed": false,
    "deletable": true,
    "editable": true
   },
   "outputs": [],
   "source": [
    "## or we can rewrite the ODE\n",
    "ODE = sp.Derivative(f(x), x) - k*f(x)**2 + g\n",
    "sp.pprint(ODE)\n",
    "sp.pprint(sp.dsolve(ODE))\n",
    "## this is called an implicit solution, \n",
    "## we have not solved for v(x) explicitly. "
   ]
  },
  {
   "cell_type": "code",
   "execution_count": null,
   "metadata": {
    "collapsed": false,
    "deletable": true,
    "editable": true
   },
   "outputs": [],
   "source": [
    "## Let's plot some solution curves. \n",
    "\n",
    "SOL = sp.dsolve(ODE)\n",
    "\n",
    "SOLt = SOL.subs([(g,9), (k,1)])\n",
    "## subs is a general command to replace sub-expressions in a Sympy expression\n",
    "\n",
    "sp.pprint(SOLt)"
   ]
  },
  {
   "cell_type": "markdown",
   "metadata": {
    "deletable": true,
    "editable": true
   },
   "source": [
    "Notice sympy has inadvertently found the \"wrong\" solution, or something that looks like the wrong solution.  Since it did not take the absolute value when computing the anti-derivatives of \n",
    "$$\\frac{1}{v-3}$$\n",
    "i.e. it is using $\\log(v-3)$ rather than $\\log|v-3|$ this would appear to be the **wrong** answer.  \n",
    "\n",
    "In a technical sense sympy is not making this exact mistake as sympy is considering the function $\\frac{1}{z}$ to be a function on the complex plane, so its anti-derivative is a certain well-defined *branch of the logarithm* function (this is a **math 301** topic).  Unfortunately, branches require choices and sympy is making the **wrong** choice of branch in the above expression! "
   ]
  },
  {
   "cell_type": "code",
   "execution_count": null,
   "metadata": {
    "collapsed": false,
    "deletable": true,
    "editable": true
   },
   "outputs": [],
   "source": [
    "print(\"Sympy log of -1\")\n",
    "sp.pprint(sp.log(-1))\n",
    "sp.pprint(sp.I)\n",
    "sp.pprint(sp.I**2)\n",
    "sp.pprint(sp.log(sp.I))"
   ]
  },
  {
   "cell_type": "markdown",
   "metadata": {
    "deletable": true,
    "editable": true
   },
   "source": [
    "This tells us sympy is using what is called as the *principal branch* of the logarithm function.\n",
    "\n",
    "One way to fix this is to is to manipulate the symbolic expression directly, for example replacing the $v-3$ expression with $3-v$. We can do this with the *xreplace* call. \n",
    "\n",
    "Another (more systematic, requiring a knowledge of complex analysis) way to fix this problem would be to replace all occurances of $\\log$ by the real part, i.e. $\\log \\longmapsto Re(\\log)$. "
   ]
  },
  {
   "cell_type": "code",
   "execution_count": null,
   "metadata": {
    "collapsed": false,
    "deletable": true,
    "editable": true
   },
   "outputs": [],
   "source": [
    "## xreplace example\n",
    "sp.pprint(SOLt)\n",
    "repl_dict = {f(x)-3 : 3-f(x)}\n",
    "sp.pprint(SOLt.xreplace(repl_dict))\n",
    "SOLt = SOLt.xreplace(repl_dict)\n",
    "sp.pprint(SOLt)"
   ]
  },
  {
   "cell_type": "code",
   "execution_count": null,
   "metadata": {
    "collapsed": false,
    "deletable": true,
    "editable": true
   },
   "outputs": [],
   "source": [
    "## recall how Sympy thinks about our solution\n",
    "print(sp.srepr(SOLt))"
   ]
  },
  {
   "cell_type": "code",
   "execution_count": null,
   "metadata": {
    "collapsed": false,
    "deletable": true,
    "editable": true
   },
   "outputs": [],
   "source": [
    "## let's replace v(x) by the symbol y.\n",
    "y = sp.Symbol('y')\n",
    "sp.pprint(SOLt.args[0])\n",
    "SOLp = SOLt.args[0].subs(f(x), y)\n",
    "sp.pprint(SOLp)"
   ]
  },
  {
   "cell_type": "code",
   "execution_count": null,
   "metadata": {
    "collapsed": false,
    "deletable": true,
    "editable": true
   },
   "outputs": [],
   "source": [
    "## how we can plot solutions without solving explicity for y. \n",
    "from sympy.plotting import plot_implicit\n",
    "from matplotlib import *\n",
    "import matplotlib.pyplot as plt\n",
    "import matplotlib.patches as patches\n",
    "%matplotlib inline\n",
    "\n",
    "curve1 = plot_implicit(sp.Eq(SOLp, 3), (x, -5, 5), (y, -2.99999, 2.99999),\n",
    "                      adaptive=False, points=1000,\n",
    "                      xlabel=\"time-axis\", ylabel=\"v-axis\")"
   ]
  },
  {
   "cell_type": "code",
   "execution_count": null,
   "metadata": {
    "collapsed": false,
    "deletable": true,
    "editable": true
   },
   "outputs": [],
   "source": [
    "sp.pprint(SOLp)\n",
    "print(\"Solve for x\")\n",
    "sp.pprint(sp.solve(sp.Eq(SOLp, sp.Symbol('c')), x))"
   ]
  },
  {
   "cell_type": "code",
   "execution_count": null,
   "metadata": {
    "collapsed": false,
    "deletable": true,
    "editable": true
   },
   "outputs": [],
   "source": [
    "print(\"Solve for y\")\n",
    "sp.pprint(sp.solve(sp.Eq(SOLp, sp.Symbol('c')), y))"
   ]
  },
  {
   "cell_type": "markdown",
   "metadata": {
    "deletable": true,
    "editable": true
   },
   "source": []
  },
  {
   "cell_type": "markdown",
   "metadata": {
    "deletable": true,
    "editable": true
   },
   "source": [
    "## More Generally -- Solving ODES with sympy\n",
    "\n",
    "At present, sympy's ode solving algorithm is basically a big *cookbook*-style database of formulas.  The key computational task sympy must perform is to recognise what type of differential equation you have provided it.  \n",
    "\n",
    "Once it recognises the form from its cookbook, it follows standard procedures, which usually amount to either computing anti-derivatives, Fourier transforms, power series, etc. \n",
    "\n",
    "**Sympy has algorithms to solve:**\n",
    "\n",
    "* First order ODEs that are: \n",
    "     - separable differential equations\n",
    "     - differential equations whose coefficients homogeneous of the same order.\n",
    "     - exact differential equations.\n",
    "     - linear differential equations\n",
    "     - Bernoulli differential equations.\n",
    "\n",
    "* Second order ODEs that are:\n",
    "    - Liouville differential equations.\n",
    "\n",
    "* n-th order ODEs that are:\n",
    "    - linear homogeneous differential equation with constant coefficients.\n",
    "    - linear inhomogeneous differential equation with constant coefficients using the method of undetermined coefficients.\n",
    "    - linear inhomogeneous differential equation with constant coefficients using the method of variation of parameters.\n",
    "\n",
    "Sympy also has algorithms to solve some [PDEs](http://docs.sympy.org/latest/modules/solvers/pde.html), Delay Differential Equations [DDEs](http://users.ox.ac.uk/~clme1073/python/PyDDE/) and pretty much any other kind of differential equation you can imagine. \n",
    "\n",
    "A key issue to solving differential equations is *determining what kind of differential equation* one is trying to solve. Once you *know* a differential equation is in (or can be put in) **form $X$**, and if sympy has an algorithm to solve differential equations of **form $X$**, then sympy can quickly give the answer.  \n",
    "\n"
   ]
  },
  {
   "cell_type": "code",
   "execution_count": null,
   "metadata": {
    "collapsed": false,
    "deletable": true,
    "editable": true
   },
   "outputs": [],
   "source": [
    "y=sp.Function('y')\n",
    "sp.pprint(sp.Eq( y(x).diff(x) + ((3*x*y(x)+y(x)**2)/(x**2+x*y(x))), 0 ))\n",
    "sp.classify_ode( sp.Eq( y(x).diff(x) + ((3*x*y(x)+y(x)**2)/(x**2+x*y(x))), 0 ), y(x) )\n",
    "\n",
    "# do the task here life ..... keep a copy of the model t\n",
    "# ask, after class commit the version created in class to \n",
    "# repo"
   ]
  },
  {
   "cell_type": "markdown",
   "metadata": {
    "collapsed": true,
    "deletable": true,
    "editable": true
   },
   "source": [
    "The **classify_ode** routine returns the list of \"types\" of ODEs that the differential equation satisfies, which sympy knows how to solve.  If you find the default solution that sympy gives you is not satisfactory (perhaps the algebra is too complicated) you can ask sympy to solve your differential equation using another method, using the **hint** argument."
   ]
  },
  {
   "cell_type": "code",
   "execution_count": null,
   "metadata": {
    "collapsed": false,
    "deletable": true,
    "editable": true
   },
   "outputs": [],
   "source": [
    "sp.pprint(sp.dsolve(sp.Eq( y(x).diff(x) + ((3*x*y(x)+y(x)**2)/(x**2+x*y(x))), 0 )))"
   ]
  },
  {
   "cell_type": "code",
   "execution_count": null,
   "metadata": {
    "collapsed": false,
    "deletable": true,
    "editable": true
   },
   "outputs": [],
   "source": [
    "sp.pprint(sp.dsolve(sp.Eq( y(x).diff(x) + ((3*x*y(x)+y(x)**2)/(x**2+x*y(x))), 0 ), \n",
    "                    hint=\"1st_homogeneous_coeff_subs_indep_div_dep_Integral\"))"
   ]
  },
  {
   "cell_type": "markdown",
   "metadata": {
    "deletable": true,
    "editable": true
   },
   "source": [
    "* * * \n",
    "\n",
    "## Some Plotting and Statistics. . . via Crime. \n",
    "\n",
    "We wish to acquire some data to analyze.  \n",
    "\n",
    "The <a href=\"https://vicpd.ca/crime-reports\">Victoria Police Department Crime Statistics</a> page provides an excellet data resource. "
   ]
  },
  {
   "cell_type": "code",
   "execution_count": null,
   "metadata": {
    "collapsed": false,
    "deletable": true,
    "editable": true
   },
   "outputs": [],
   "source": [
    "import json as js\n",
    "import pprint as pp\n",
    "\n",
    "with open('../data/vic_crimereports.json') as data_file:    \n",
    "    pdata = js.load(data_file)"
   ]
  },
  {
   "cell_type": "code",
   "execution_count": null,
   "metadata": {
    "collapsed": true,
    "deletable": true,
    "editable": true
   },
   "outputs": [],
   "source": [
    "## please download the Victoria crime data set, we will explore it on Thursday. \n",
    "## also explore the webpage. . ."
   ]
  },
  {
   "cell_type": "code",
   "execution_count": null,
   "metadata": {
    "collapsed": false,
    "deletable": true,
    "editable": true
   },
   "outputs": [],
   "source": [
    "print(pdata.keys())\n",
    "## as we saw in class, this is a large data file so be careful with what you print!\n",
    "print(type(pdata['meta']), type(pdata['data']))\n",
    "print(pdata['meta'].keys(), len(pdata['data']))\n",
    "print(type(pdata['meta']['view']))\n",
    "print(pdata['meta']['view'].keys())"
   ]
  }
 ],
 "metadata": {
  "anaconda-cloud": {},
  "kernelspec": {
   "display_name": "Python 3",
   "language": "python",
   "name": "python3"
  },
  "language_info": {
   "codemirror_mode": {
    "name": "ipython",
    "version": 3
   },
   "file_extension": ".py",
   "mimetype": "text/x-python",
   "name": "python",
   "nbconvert_exporter": "python",
   "pygments_lexer": "ipython3",
   "version": "3.5.2"
  }
 },
 "nbformat": 4,
 "nbformat_minor": 1
}
