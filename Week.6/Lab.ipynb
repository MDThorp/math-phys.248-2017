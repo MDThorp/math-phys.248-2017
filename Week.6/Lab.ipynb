{
 "cells": [
  {
   "cell_type": "markdown",
   "metadata": {},
   "source": [
    "# Topic of Labs\n",
    "\n",
    "This week we will focus on **Sympy** and **plotting**. "
   ]
  },
  {
   "cell_type": "markdown",
   "metadata": {},
   "source": [
    "## Lab 1\n",
    "\n",
    "### Part (a)\n",
    "\n",
    "This lab consists of a sequence of exercises using Sympy and Matplotlib. \n",
    "\n",
    "* Consider the function\n",
    "$$f(x,y) = \\cos^2(x) \\sin^2(y)$$\n",
    "on the domain $0 \\leq x, y \\leq 2\\pi$. \n",
    "\n",
    "* Create a Sympy expression for the above function. \n",
    "\n",
    "* Use the Sympy **lambdify** command to convert the above into a callable function, call it $F$. \n",
    "\n",
    "* Construct a $400 \\times 400 \\times 3$ **numpy array** IM such that\n",
    " $$ IM[i,j,0] = IM[i,j,1] = IM[i,j,2] = F(2 \\pi i/400, 2 \\pi j/400) $$\n",
    "\n",
    "* Use the matplotlib.pyplot **imshow** command to plot **IM**.  This plot would be called a grayscale **heatmap** associated to the function $f$. \n",
    "\n",
    "* Repeat the previous step using\n",
    " $$ IM[i,j,0] = F(2 \\pi i/400, 2 \\pi j/400) $$\n",
    " $$ IM[i,j,1] = F( (2 \\pi i)/400 + \\pi/4, 2 \\pi j/400) $$\n",
    " $$ IM[i,j,2] = F( (2 \\pi i)/400, (2 \\pi j)/400 + \\pi /4) $$\n",
    "\n",
    "* See this <a href=\"http://matplotlib.org/users/image_tutorial.html\">tutorial</a> for examples of how to use **imshow**. \n",
    "\n",
    "### Part (b)\n",
    "\n",
    "* Let $g = \\frac{\\partial f}{\\partial x}$, and repeat Part (a) with the function $g$ replacing $f$.  \n",
    "\n",
    "* You may run into problems when you attempt to plot.  **imshow** expects color levels to be numpy floats between $0$ and $1$.   Perhaps try a few ways of \"normalizing\" the data to be between $0$ and $1$.  For example, if $m$ is the minimum of $g$ and $M$ is the maximum, you could apply the transformation\n",
    "\n",
    "$$ l \\longmapsto \\frac{l-m}{M-m}$$\n",
    "\n",
    "this would convert the color levels to be between $0$ and $1$. \n",
    "\n",
    "### Part (c)\n",
    "\n",
    "* Download an image of your choice from the internet.  \n",
    "\n",
    "* If your image is not a **.png** image, use some software to convert it to one.  For example, **imagemagick** allows for <a href=\"https://www.imagemagick.org/script/convert.php\">easy conversions,</a> and is available with **sudo apt install imagemagick**. \n",
    "\n",
    "* Load your image using the matplotlib.image **imread** call. \n",
    "\n",
    "* Plot your image. \n",
    "\n",
    "* Switch the red and green fields, then plot again. \n",
    "\n",
    "* Transform the red field using the function\n",
    "$$ x \\longmapsto \\sin(\\frac{\\pi}{2} x)$$\n",
    "and then plot again. "
   ]
  },
  {
   "cell_type": "markdown",
   "metadata": {},
   "source": [
    "\n",
    "## Lab 2\n",
    "\n",
    "* Continue working on Lab 1 and your homework assignment.\n"
   ]
  },
  {
   "cell_type": "code",
   "execution_count": null,
   "metadata": {
    "collapsed": true
   },
   "outputs": [],
   "source": []
  }
 ],
 "metadata": {
  "anaconda-cloud": {},
  "kernelspec": {
   "display_name": "Python [default]",
   "language": "python",
   "name": "python3"
  },
  "language_info": {
   "codemirror_mode": {
    "name": "ipython",
    "version": 3
   },
   "file_extension": ".py",
   "mimetype": "text/x-python",
   "name": "python",
   "nbconvert_exporter": "python",
   "pygments_lexer": "ipython3",
   "version": "3.5.2"
  }
 },
 "nbformat": 4,
 "nbformat_minor": 1
}
