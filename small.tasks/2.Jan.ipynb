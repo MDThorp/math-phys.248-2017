{
 "cells": [
  {
   "cell_type": "markdown",
   "metadata": {},
   "source": [
    "Once you have created your GitHub and BitBucket accounts, please load this notebook onto the ipython cloud notebook **https://206.12.59.73** and execute.  \n",
    "\n",
    "This exercise serves two purposes: \n",
    "\n",
    "- To ensure you can execute a the cloud ipython notebook.\n",
    "- It allows us to acquire your github and bitbucket user IDs.  We will need these to grade your homework. \n",
    "\n",
    "In the \"2 January - 8 January\" week on Course Spaces there is a feedback form. You will need the output from this program to complete the form. "
   ]
  },
  {
   "cell_type": "code",
   "execution_count": 3,
   "metadata": {
    "collapsed": false
   },
   "outputs": [
    {
     "name": "stdout",
     "output_type": "stream",
     "text": [
      "Enter your GitHub used ID: chlampu\n",
      "Enter your BitBucket user ID: klaus\n",
      "\n",
      "\n",
      "Input this in your GitHub/BitBucket 'small task' field on Course Spaces: 2487\n"
     ]
    }
   ],
   "source": [
    "import sys\n",
    "gitacct = input(\"Enter your GitHub used ID: \")\n",
    "bitacct = input(\"Enter your BitBucket user ID: \")\n",
    "\n",
    "retval = 0\n",
    "for i in range(0, len(gitacct)):\n",
    "    retval = 2*retval + (ord(gitacct[i])%2)\n",
    "for i in range(0, len(bitacct)):\n",
    "    retval = 2*retval + (ord(bitacct[i])%2)\n",
    "    \n",
    "print(\"\\n\\n\"+\"Input this in your GitHub/BitBucket 'small task' field on Course Spaces: \"+str(retval))"
   ]
  },
  {
   "cell_type": "code",
   "execution_count": 2,
   "metadata": {
    "collapsed": true
   },
   "outputs": [],
   "source": [
    "ord?"
   ]
  },
  {
   "cell_type": "code",
   "execution_count": null,
   "metadata": {
    "collapsed": true
   },
   "outputs": [],
   "source": []
  }
 ],
 "metadata": {
  "anaconda-cloud": {},
  "kernelspec": {
   "display_name": "Python 3",
   "language": "python",
   "name": "python3"
  },
  "language_info": {
   "codemirror_mode": {
    "name": "ipython",
    "version": 3
   },
   "file_extension": ".py",
   "mimetype": "text/x-python",
   "name": "python",
   "nbconvert_exporter": "python",
   "pygments_lexer": "ipython3",
   "version": "3.5.2"
  }
 },
 "nbformat": 4,
 "nbformat_minor": 1
}
