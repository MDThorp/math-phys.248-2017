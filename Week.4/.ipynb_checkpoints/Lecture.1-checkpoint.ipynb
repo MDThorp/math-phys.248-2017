{
 "cells": [
  {
   "cell_type": "markdown",
   "metadata": {},
   "source": [
    "# The VM and more python skills\n",
    "\n",
    "\n",
    "## The _physma_ virtual machine (VM)\n",
    "\n",
    "So far we have used the online platform [Wendi](http://wendi.phys.uvic.ca) for this class. An alterntative approach is the virtual machine, a _workshop_ where we can go and find or install all the things we need to do our math and physics related tasks. We want to have all the same system so that we are not bogged down too much by technical problems. We are going to create a virtual machine for that purpose. There are many virtualization technologies out there, and in fact Wendi, for example, uses [Docker](https://www.docker.com) virtualization. \n",
    "\n",
    "Here we will use the freely available [VirtualBox](https://www.virtualbox.org) software. A virtualization software provides a virtual computer into which we can install a variety of different operating systems, such as various flavours of Linux. Linux is a unix-like operating system (OS) and serves well as a teaching platform. You have already met a Linux environment in the Wendi terminal. All the tools that we will need are available as open source or feely downloadable. At the end of this course your personal version of the **physma** virtual machine will be useful tool that allows you to perform many tasks during your further undergraduate education, and beyond!\n",
    "\n",
    "### Create your own virtual machine\n",
    "\n",
    "1. Download and install the [virtual box](https://www.virtualbox.org) software.\n",
    "2. Download a suitable linux distribution. A linux distribution or distro is the Linux kernel (the core of the operating system) packed together with any selection of application programs, such as the desktop environment, terminal programs, editors etc. We want something light with a simple user interface which does not distract us from the task at hand; a good solution is [Lubuntu](<http://lubuntu.net>) - a lightweight member of the Ubuntu family of Linux distributions.\n",
    "3. Download the 64-bit `/iso` image from the [lubuntu download page](https://help.ubuntu.com/community/Lubuntu/GetLubuntu). An `.iso` image is a format of a big chunk of data that one used to write to CD. Now it serves as a container that can be used to package up larger amounts of data and move it from one place to another. These images can be mounted into the filesystem of the operating system and appear as if they are a separate hard disk. Other operating systems know other image file formats, such as `.dmg` on Mac OS.\n",
    "4. Start building a new guest OS (Start with the new button and follow the pre-defined build path suggested by the succession of GUIs, and adopt the defaults; at some point you have to select the downloaded `.iso` image file as the installation source).  \n",
    "5. Possible **pitfalls**: \n",
    "    * make sure you select _Linux_ and _64-bit Ubuntu_ system early on when you create the Guest OS\n",
    "    * increase the size of your hard drive to 20GB if possible, otherwise you have to add a virtual disk later \n",
    "6. You may want to use the software installation tool to uninstall things to make your system lean and small. In the next section we cover how to install into your virtual machine the special software packages we will need.\n",
    "\n",
    "### Configuration and maintenance of the _physma_ VM\n",
    "\n",
    "#### Mounting a directory from your host system\n",
    "This is extremely useful for a number of reasons:\n",
    "* enlarge the available disk space dynamically without having to dedicate host disk space to the guest OS \n",
    "* share files with your host system where they would be available for further processing, editing, emailing etc\n",
    "\n",
    "Here is how it works:\n",
    "1. shut-down your VM\n",
    "2. open settings in VirtualBox software\n",
    "3. select the storage tab and add a folder for sharing, select _auto-mount_: ![it should look like this](../images/share_folder_1.jpg)\n",
    "4. boot the VM\n",
    "5. create in your home directory a file which will be the mount point for your shared folder, and then execute the mount command: \n",
    "```\n",
    "mkdir mnt\n",
    "sudo mount -t vboxsf -o uid=1000,gid=1000 mnt /path/on/my/VMhome/tmp\n",
    "```\n",
    "6. use `df -h` to check your newly mounted volume, use `cd` to go to the mounted dir and check that you can read and write files\n",
    "7. you can identify a folder in your home directory that uses a lot of space and move it to the newly mounted volume. If you want to make a symbolic link from the moved dir to your home dir you can use the `ln -s` command, use `man` to check it out, it works like the `cp` command\n",
    "\n",
    "### Installing software packages\n",
    "\n",
    "#### Linux OS software\n",
    "There are several graphical user interfaces (GUIs) for managing software packages. Often a quicker path to success involves the command line interface (CLI) tool `apt`. As with most Unix/Linux command line tools you can use the `man` command to view the manual page.\n",
    "\n",
    "**Updating the system***\n",
    "\n",
    "Make sure you select the upgrade/update option during installation and/or start with\n",
    "```\n",
    "sudo apt-get update\n",
    "sudo apt-get upgrade\n",
    "sudo apt-get autoclean\n",
    "sudo apt-get autoremove\n",
    "```\n",
    "\n",
    "For example, install your favorite editors:\n",
    "```\n",
    "sudo apt-get install emacs nano vim\n",
    "```\n",
    "\n",
    "As we move along we will install more things that we may need, such as:\n",
    "* the Latex typesetting package \n",
    "* a fortran or C compiler\n",
    "* additionl image or movie processessing software\n",
    "\n",
    "In any case search for the requested program, e.g.:\n",
    "```\n",
    "apt-cache search latex\n",
    "```\n",
    "and then install it. The latter you may have to do as _root_ user (superuser) using the `sudo` command prefix. In this way the new program will be available to all users with accounts on your _physma_ VM (this relates to the multi-user nature of the Linux OS, even if we do not yet need this feature now).\n",
    "\n",
    "**Example 1:**\n",
    "\n",
    "We will need the `git` command line program:\n",
    "\n",
    "```\n",
    "$ apt search git\n",
    "$ sudo apt install git\n",
    "```\n",
    "\n",
    "** Example 2:**\n",
    "We may need at some point some image manipulation software, e.g. to convert one image format into another:\n",
    "```\n",
    "$ apt search \"image manipulation programs\"\n",
    "```\n",
    "This returns some list, and you may then decide to install one of them:\n",
    "```\n",
    "$ sudo apt-get install imagemagick\n",
    "```\n",
    "\n",
    "The first command gives a list of all packages containing, using, being related to or providing the software. The second command installs the packages and all required dependencies. Actually installing a package must be done as super-user, or as we do this here, with the little utility `sudo` which allows users (in this case the user past) to do certain things as _su_-peruser. Again, use the `user` password.\n",
    "\n",
    "\n",
    "**Note:**  Make sure your _physma_ VM has internet access! For this your host OS needs internet access.\n",
    "\n",
    "#### Virtual box additions\n",
    "To make the VM work nicely, e.g. adaptive screen resolution install the VBox additions. Start with installing some kernel extensions:\n",
    "```\n",
    "sudo apt-get install dkms\n",
    "```\n",
    "Then **reboot* and then attach the virtual optical drive in the VM _Devices_ menue. Then do\n",
    "```\n",
    "sudo sh /media/fherwig/VBOXADDITIONS_5.0.26_108824/VBoxLinuxAdditions.run\n",
    "```\n",
    "At this point you should shut-down the VM.\n",
    "\n",
    "If you have problems consult [the official _Guest Additions_ documentation.](https://www.virtualbox.org/manual/ch04.html). \n",
    "\n",
    "_Check if it works:_ If you resize the VM window and the desktop resizes with it then it works. \n",
    "\n",
    "#### More things to install and configure\n",
    "The [NuGridDoc virtual machine](https://github.com/NuGrid/NuGridDoc/blob/master/Resources/virtual_machine.md) page provides examples for a number of configurations and package installations for a virtual machine that you may find useful. Specifically look at:\n",
    "* git and repos\n",
    "* python (and more details on python [here](https://github.com/NuGrid/NuGridDoc/blob/master/Resources/Python.md)"
   ]
  },
  {
   "cell_type": "markdown",
   "metadata": {},
   "source": [
    "\n",
    "## Python data input/output\n",
    "\n",
    "### reading data from a text file\n",
    "There are a number of ways how to read a text file. "
   ]
  },
  {
   "cell_type": "code",
   "execution_count": null,
   "metadata": {
    "collapsed": false
   },
   "outputs": [],
   "source": [
    "%pylab nbagg"
   ]
  },
  {
   "cell_type": "code",
   "execution_count": null,
   "metadata": {
    "collapsed": true
   },
   "outputs": [],
   "source": [
    "# show file"
   ]
  },
  {
   "cell_type": "code",
   "execution_count": null,
   "metadata": {
    "collapsed": false
   },
   "outputs": [],
   "source": [
    "# show content of file\n"
   ]
  },
  {
   "cell_type": "code",
   "execution_count": null,
   "metadata": {
    "collapsed": false
   },
   "outputs": [],
   "source": [
    "# open file and attach to file object variable\n"
   ]
  },
  {
   "cell_type": "code",
   "execution_count": null,
   "metadata": {
    "collapsed": true
   },
   "outputs": [],
   "source": [
    "# what is in f\n"
   ]
  },
  {
   "cell_type": "code",
   "execution_count": null,
   "metadata": {
    "collapsed": true
   },
   "outputs": [],
   "source": [
    "# read data and save it into variables\n"
   ]
  },
  {
   "cell_type": "code",
   "execution_count": null,
   "metadata": {
    "collapsed": true
   },
   "outputs": [],
   "source": [
    "# read ini abund tester\n"
   ]
  },
  {
   "cell_type": "markdown",
   "metadata": {},
   "source": [
    "\n",
    "## Python packages and modules\n",
    "\n",
    "As you start adding functions to your own library it may be useful to learn how to organize your own module a bit more conveniently. An easy way to do this is to create a directory, e.g. `pylib` in your home directory. In that directory create an empty file with the name `__init__.py`. Then add into that directory files with names ending in `.py`. Each of these files is a loadable module in your `pylib` package. You can load the package by adding the path in which the package directory is located (e.g. `/home/user/pylib`) to the python path. In a workstation or virtual machine this can be done by adding the line \n",
    "```\n",
    "export PYTHONPATH=\"/home/user/pylib\"\n",
    "```\n",
    "to your `.bashrc` file (and start a new terminal). Alternatively this can be done from the ipython notebook with the command\n",
    "```\n",
    "In [3]: import sys\n",
    "In [4]: sys.path.append('/home/user/pylib')\n",
    "```\n",
    "which has the disadvantage that it has to be done each time again.\n",
    "\n",
    "\n",
    "**Private methods:**\n",
    "By convention python adopts a single leading underscore for private objects in a module and a double leading underscore for private objects in a class.\n",
    "\n",
    "**Example:**\n",
    "Create a simple linear interpolation function, place it into a file in a package directory and show how to import it."
   ]
  },
  {
   "cell_type": "markdown",
   "metadata": {},
   "source": [
    "# add path of pylab package to system PATH variable"
   ]
  },
  {
   "cell_type": "code",
   "execution_count": 6,
   "metadata": {
    "collapsed": false
   },
   "outputs": [],
   "source": [
    "# write and import basics package"
   ]
  },
  {
   "cell_type": "code",
   "execution_count": 8,
   "metadata": {
    "collapsed": false
   },
   "outputs": [
    {
     "data": {
      "text/plain": [
       "2.4000000000000004"
      ]
     },
     "execution_count": 8,
     "metadata": {},
     "output_type": "execute_result"
    }
   ],
   "source": [
    "# application\n"
   ]
  },
  {
   "cell_type": "markdown",
   "metadata": {},
   "source": [
    "## Units and constants\n",
    "\n",
    "## Units\n",
    "\n",
    "Physics is about numbers with units. We have seen the power of the priniciple of dimensional homogeneity when we derived an expression for the drag coefficient. We can draw units into our python work using - of coruse - appropriate packages. One of them can be found in the `astropy` package. You will be able to install it using the usual procedure in your phast machine. Have a look at these places for documentation:\n",
    "\n",
    "* [Units and Quantities](http://docs.astropy.org/en/latest/units/index.html)\n",
    "* [Quantity](http://docs.astropy.org/en/latest/units/quantity.html)\n",
    "\n",
    "Here is an example:\n",
    "* calculate how long a $50\\mathrm{W}$ light bulb could shine with the energy that is consumed by destruction when a car going at $120\\mathrm{km/h}$ hits a rigid wall.\n",
    "* before solving this problem make a guess! you may be surprised\n",
    "\n",
    "Here we use the [astropy]() package."
   ]
  },
  {
   "cell_type": "code",
   "execution_count": null,
   "metadata": {
    "collapsed": true
   },
   "outputs": [],
   "source": [
    "# import astropy unitis package and define variables\n"
   ]
  },
  {
   "cell_type": "code",
   "execution_count": null,
   "metadata": {
    "collapsed": true
   },
   "outputs": [],
   "source": [
    "# print energy in different units\n"
   ]
  },
  {
   "cell_type": "code",
   "execution_count": null,
   "metadata": {
    "collapsed": true
   },
   "outputs": [],
   "source": [
    "# calculate time\n"
   ]
  },
  {
   "cell_type": "markdown",
   "metadata": {},
   "source": [
    "**Constants:** `astropy` also provides constants:"
   ]
  },
  {
   "cell_type": "code",
   "execution_count": null,
   "metadata": {
    "collapsed": true
   },
   "outputs": [],
   "source": [
    "from astropy import constants as const\n",
    "const.L_sun\n",
    "const.G"
   ]
  },
  {
   "cell_type": "markdown",
   "metadata": {},
   "source": [
    "## Basic plotting with python II\n",
    "Some plotting examples and how they working in ipython notebooks. \n",
    "\n",
    "### Example 2: a 2D plot\n",
    "We want to plot\n",
    "$$ z(x,y) = \\sin(x)\\cos(x) $$"
   ]
  },
  {
   "cell_type": "code",
   "execution_count": null,
   "metadata": {
    "collapsed": false
   },
   "outputs": [],
   "source": [
    "# experiment with x being a vector -> sin(x) vector\n",
    "n = 4\n",
    "x=linspace(-4.,4.,n)\n",
    "sin(x)"
   ]
  },
  {
   "cell_type": "code",
   "execution_count": null,
   "metadata": {
    "collapsed": true
   },
   "outputs": [],
   "source": [
    "# can x be matrix?\n",
    "xy=array([[1,2],[0,1]])\n",
    "sin(xy)"
   ]
  },
  {
   "cell_type": "markdown",
   "metadata": {},
   "source": [
    "* how to build a 2D array out of x and y vectors that represent the x and y axis? [numpy.meshgrid](https://docs.scipy.org/doc/numpy/reference/generated/numpy.meshgrid.html)"
   ]
  },
  {
   "cell_type": "code",
   "execution_count": null,
   "metadata": {
    "collapsed": true
   },
   "outputs": [],
   "source": [
    "n = 50\n",
    "x=linspace(-3.,5.,n)\n",
    "y=linspace(-4.,4.,n)\n",
    "#x"
   ]
  },
  {
   "cell_type": "code",
   "execution_count": null,
   "metadata": {
    "collapsed": false
   },
   "outputs": [],
   "source": [
    "y"
   ]
  },
  {
   "cell_type": "code",
   "execution_count": null,
   "metadata": {
    "collapsed": true
   },
   "outputs": [],
   "source": [
    "xv,yv = meshgrid(x,y)\n",
    "#yv"
   ]
  },
  {
   "cell_type": "code",
   "execution_count": null,
   "metadata": {
    "collapsed": true
   },
   "outputs": [],
   "source": [
    "z=sin(xv)*cos(yv)\n",
    "#z"
   ]
  },
  {
   "cell_type": "code",
   "execution_count": null,
   "metadata": {
    "collapsed": true
   },
   "outputs": [],
   "source": [
    "ifig = 2; close(ifig); figure(ifig)\n",
    "imshow(z)"
   ]
  },
  {
   "cell_type": "markdown",
   "metadata": {},
   "source": [
    "`imshow` allows for a variety of interpolations, see [images example](http://matplotlib.org/examples/images_contours_and_fields/interpolation_methods.html):"
   ]
  },
  {
   "cell_type": "code",
   "execution_count": null,
   "metadata": {
    "collapsed": true
   },
   "outputs": [],
   "source": [
    "ifig = 3; close(ifig); figure(ifig)\n",
    "imshow(z,interpolation='none')"
   ]
  },
  {
   "cell_type": "markdown",
   "metadata": {
    "collapsed": false
   },
   "source": [
    "There are lots of interesting examples in the [matplotlib gallery](http://matplotlib.org/gallery.html). It is recommended to try some of these out."
   ]
  }
 ],
 "metadata": {
  "anaconda-cloud": {},
  "kernelspec": {
   "display_name": "Python 3",
   "language": "python",
   "name": "python3"
  },
  "language_info": {
   "codemirror_mode": {
    "name": "ipython",
    "version": 3
   },
   "file_extension": ".py",
   "mimetype": "text/x-python",
   "name": "python",
   "nbconvert_exporter": "python",
   "pygments_lexer": "ipython3",
   "version": "3.5.2"
  }
 },
 "nbformat": 4,
 "nbformat_minor": 1
}
