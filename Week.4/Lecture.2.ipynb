{
 "cells": [
  {
   "cell_type": "markdown",
   "metadata": {},
   "source": [
    "## Today's announcements\n",
    "* TA office hour\n",
    "* ipython in terminal in physma VM\n",
    "\n",
    "# Numerical derivatives and differential equations\n",
    "\n",
    "\n",
    "## Numerical derivatives\n",
    "\n",
    "In this section we will learn how we can calculate a derivative numerically. The fundamental idea involves replacing differentials with differences. An important aspect is to think about the types of errors that emerge when doing that, especially we have to introduce the important concepts of rounding error and truncation errors.\n",
    "\n",
    "**Literature:** Numerical Recipies, Ch. 5.7\n",
    "\n",
    "### Difference equations"
   ]
  },
  {
   "cell_type": "code",
   "execution_count": null,
   "metadata": {
    "collapsed": false
   },
   "outputs": [],
   "source": [
    "#from IPython.display import Image\n",
    "#Image(filename='../images/numerical_analysis_derivative.jpg') "
   ]
  },
  {
   "cell_type": "markdown",
   "metadata": {
    "collapsed": true
   },
   "source": [
    "The derivative $\\frac{df}{dx}$ of a function $y=f(x)$ can be approximated by the difference equation \n",
    "$$ f'(x) \\approx \\frac{f(x+h) -f(x)}{h}.$$\n",
    "\n",
    "Say we have the following function $f(x) = x^2$:"
   ]
  },
  {
   "cell_type": "code",
   "execution_count": null,
   "metadata": {
    "collapsed": true
   },
   "outputs": [],
   "source": []
  },
  {
   "cell_type": "markdown",
   "metadata": {},
   "source": [
    "We can plot this function:"
   ]
  },
  {
   "cell_type": "code",
   "execution_count": null,
   "metadata": {
    "collapsed": false
   },
   "outputs": [],
   "source": []
  },
  {
   "cell_type": "markdown",
   "metadata": {},
   "source": [
    "Now, we create a function for the derivative:"
   ]
  },
  {
   "cell_type": "code",
   "execution_count": null,
   "metadata": {
    "collapsed": true
   },
   "outputs": [],
   "source": []
  },
  {
   "cell_type": "markdown",
   "metadata": {},
   "source": [
    "You should try the deriv function call below with different values of h. "
   ]
  },
  {
   "cell_type": "code",
   "execution_count": null,
   "metadata": {
    "collapsed": false
   },
   "outputs": [],
   "source": []
  },
  {
   "cell_type": "markdown",
   "metadata": {},
   "source": [
    "Note that the answer is not exactly `2.00000000` as we know the answer to be from the analytical approach. But smaller values of `h` give a better answer? _Right?_ well, let's see .... let's analyse the error in a bit more detail:"
   ]
  },
  {
   "cell_type": "code",
   "execution_count": null,
   "metadata": {
    "collapsed": false
   },
   "outputs": [],
   "source": [
    "#Image(filename='../images/differentiate.jpg') "
   ]
  },
  {
   "cell_type": "markdown",
   "metadata": {},
   "source": [
    "### Errors\n",
    "There are two basic sources of error! They have to do with accuracy and with precision.\n",
    "\n",
    "**Accuracy:** How well does the discretized equation represent the original mathematical equation?\n",
    "This is the truncation error. \n",
    "\n",
    "**Precision:** How well is the solution satisfying the discretized equation? This is limited by the roundoff error.\n",
    "\n",
    "#### Convergence test\n",
    "In order to determine the accuracy of our solution scheme we study the behaviour of a particular solution scheme under grid (time and/or space) refinement. In our case this means we do a series of runs with decreasing `h`.\n",
    "\n",
    "We use a convenient technique for _vectorizing_ a function which allows to evaluate an arbitrary function for a _parameter vector_. This way of doing it will not help performance. See an example below of how to do true multi-tasking."
   ]
  },
  {
   "cell_type": "code",
   "execution_count": null,
   "metadata": {
    "collapsed": false
   },
   "outputs": [],
   "source": [
    "# in order to vectorize wrap the function to isolate the \n",
    "# variable over which we should loop turn a scalar function \n",
    "# into a vectorized function\n"
   ]
  },
  {
   "cell_type": "markdown",
   "metadata": {},
   "source": [
    "You can reduce the truncation error by taking a smaller interval `h`. However, as you try minimizing the truncation error you will see that there is a limit. At too small `h` the `derive1` function will try to perform the difference `(f(x+h) - f(x))` with too few or no significant digits and the roundoff error will become larger, and eventually dominate the result. \n"
   ]
  },
  {
   "cell_type": "markdown",
   "metadata": {},
   "source": [
    "\n",
    "### Multi-processing\n",
    "\n",
    "We saw an example for a case where a particular task needs to be done over and over again with different input parameters. A previous example of this type was the Monte Carlo method. Such problems are called _embarissingly parallel_, essentially because it takes no or very little effort to parallelize them. The following introduces an actual multiprocessing approach that will use multiple of your cpu cores. The work is too small to notice any difference in performance though. You may want to experiment with a task that has more work, and in an environment that has indeed multiple cores (such as you laptop or the physma virtual machine). "
   ]
  },
  {
   "cell_type": "code",
   "execution_count": null,
   "metadata": {
    "collapsed": true
   },
   "outputs": [],
   "source": [
    "from multiprocessing import Pool"
   ]
  },
  {
   "cell_type": "code",
   "execution_count": null,
   "metadata": {
    "collapsed": false
   },
   "outputs": [],
   "source": [
    "p = Pool(3)\n",
    "h_error = array(p.map(hdev,h))\n",
    "print(h_error)\n",
    "figure(3)\n",
    "plot(h_pow,log10(abs(h_error-2.)),'o')\n",
    "xlim(0,-16), ylabel('$ \\log$ $df/dx - 2.0 $'),xlabel('$\\log h$')"
   ]
  },
  {
   "cell_type": "markdown",
   "metadata": {},
   "source": [
    "## Ordinary differential equations\n",
    "Differential equations are often hard to solve on paper but in many cases become trivial on a computer. We will start with the **Skydiver problem**.\n",
    "\n",
    "## Falling body with drag\n",
    "\n",
    "A falling body - say a sky diver - will increase speed when she jumps off the plane because she is accelerated by the earth's gravity. However, the speed will not increase forever. In addition to the gravitational force the sky diver will feel the drag force due to air resistance.\n",
    "\n",
    "What is the terminal velocity of the sky diver? This will depend on the balance of two forces: the gravitational force and the drag force that describes the air resistance\n",
    "\n",
    "\n",
    "### Equation of motion\n",
    "The equation of motion for the velocity is $v = a t +v_0$ where $a$ is the acceration and $v_0$ the initial velocity. But this is of course just a special case of the more general case\n",
    "$$\\frac{d\\vec{p}}{dt} = \\sum \\vec{F}_i .$$\n",
    "where $\\vec{p}$ is the momentum and $\\vec{F}_i$ is one of several forces that may act, like gravitational force and friction.\n",
    "\n",
    "### Forces\n",
    "We will consider a 1D motion in the vertical direction, and therefore consider the scalar equations.\n",
    "\n",
    "#### Gravity\n",
    "\n",
    "$$F = - m g$$\n",
    "where $m$ is the mass of the body and $g$ is the magnitude of the gravitational acceleration.\n",
    "\n",
    "#### Air drag\n",
    "\n",
    "In order to obtain an idea of what a formula for the air drag could be we use dimensional analysis. This method is based on the principle that every physics equation must be dimensionally homogeneous, i.e. the units on each side of the equation must be the same. We are looking for a force, which has the unit \n",
    "$$ [F] = \\frac{ML}{T^2}$$\n",
    "where $M$, $L$ and $T$ stand for the mass, length and time unit. We then consider what the drag force could possibly depend on. This consideration is where the physics happens. We expect that the drag force will somehow depend on the following:\n",
    "\n",
    "- density $\\rho$ of medium through which object is moving, in this case air\n",
    "- velocity $v$\n",
    "- cross section of object $A$\n",
    "\n",
    "We are looking for an expression of the type\n",
    "$$F = C_D \\rho^a v^b A^c$$ \n",
    "where $C_D$ is a dimensionless coefficient and $a$, $b$ and $c$ are derived from the condition that unit of $F$ has to come out correctly. You can easily confirm that this is the case if $a=1$, $b=2$ and $c=1.$ Convention has it that we throw in another factor $\\frac{1}{2}$ and the  resulting expression for the drag force is \n",
    "\n",
    "$$F_D = \\frac{1}{2} C_D \\rho v^2 A.$$ \n",
    "\n",
    "### Drag coefficient\n",
    "\n",
    "A number of hydrodynamic processes contributed to the total drag of a an object. Which of these will dominate will depend on the flow regime. Flow regimes in hydrodynamics are characterized by dimensionless numbers. The relevant number in our case is the Reynolds number $$Re = \\frac{l v}{\\nu}$$\n",
    "where $l$ and $v$ are the characteristic length scale and the characteristic velocity and $\\nu$ is the kinematic viscosity. For air $\\nu=1.5\\times10^{-5} \\mathrm{m^2/s}$. Our sky diver will certainly reach velocities of the order of $100\\mathrm{km/hr}$ and a characteristic length scale would be $1\\mathrm{m}$. Therefore:\n",
    "\n",
    "```\n",
    "v  = 100 *1000 / 3600 # v in m/s\n",
    "l  = 1                # in m\n",
    "nu = 1.5e-5           # in m^2/s\n",
    "Re = v*l/nu\n",
    "form_str='%7.3E'\n",
    "print form_str%Re\n",
    "1.800E+06\n",
    "```\n",
    "\n",
    "This is a very high Reynolds number. For $Re > 2000$ the flow is usually turbulent. Experiments show how the drag coefficient depends on the $Re$ number, [see for example here](http://www.chem.mtu.edu/~fmorriso/DataCorrelationForSphereDrag2013.pdf) or any text book on fluid dynamics. We see that for the large $Re$ numbers of our situation we should adopt $ C_D \\approx 0.3$.\n",
    "\n",
    "### Equation of motion for sky diver\n",
    "\n",
    "\n",
    "$$ m \\frac{dv}{dt} = -mg + \\frac{1}{2} C_D \\rho v^2 A $$\n",
    "or, with $$k = \\frac{1}{2} \\frac{C_\\mathrm{D} \\rho A}{m}$$ we just have\n",
    "$$ \\frac{dv}{dt} = -g +  k v^2.$$\n",
    "\n",
    "The most simple solution scheme would be the following: $\\rightarrow$ BB"
   ]
  },
  {
   "cell_type": "markdown",
   "metadata": {},
   "source": [
    "![SkyDiver_num_scheme](../images/skydive_numerical_scheme.png)"
   ]
  },
  {
   "cell_type": "markdown",
   "metadata": {},
   "source": [
    "**Lab unit next week:**\n",
    "1. Implement this scheme and test/run your simulation code.\n",
    "2. Create a plot that shows $v(t)$ as well as the terminal velocity. \n",
    "3. Perform a convergence study by doing a series of 3 to 4 runs with decreasing step size 0."
   ]
  },
  {
   "cell_type": "code",
   "execution_count": null,
   "metadata": {
    "collapsed": true
   },
   "outputs": [],
   "source": []
  }
 ],
 "metadata": {
  "anaconda-cloud": {},
  "kernelspec": {
   "display_name": "Python 3",
   "language": "python",
   "name": "python3"
  },
  "language_info": {
   "codemirror_mode": {
    "name": "ipython",
    "version": 3
   },
   "file_extension": ".py",
   "mimetype": "text/x-python",
   "name": "python",
   "nbconvert_exporter": "python",
   "pygments_lexer": "ipython3",
   "version": "3.5.2"
  }
 },
 "nbformat": 4,
 "nbformat_minor": 1
}
