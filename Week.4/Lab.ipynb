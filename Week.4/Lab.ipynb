{
 "cells": [
  {
   "cell_type": "markdown",
   "metadata": {},
   "source": [
    "# Lab Week 4\n",
    "\n",
    "## The _physma_ virtual machine \n",
    "\n",
    "The primary goal of today's lab is to create your own virtual machine. As a preparation download the VirtualBox software and the Lubuntu OS as discussed in class"
   ]
  },
  {
   "cell_type": "markdown",
   "metadata": {},
   "source": [
    "\n",
    "## Units\n",
    "\n",
    "Using the units package in astropy calculate the amount of energy that corresponds to one percent of the solar radiation reaching earth each day. How many $50W$ lightbulbs could be burning for how long with that energy?\n",
    "\n",
    "## 2D Plots\n",
    "\n",
    "Study the 2D plot example at the end of Lecture 1 of this week. Then plot\n",
    "$$ z(x,y) = \\sin(x^2)\\cos(x) .$$\n"
   ]
  },
  {
   "cell_type": "code",
   "execution_count": null,
   "metadata": {
    "collapsed": true
   },
   "outputs": [],
   "source": []
  }
 ],
 "metadata": {
  "anaconda-cloud": {},
  "kernelspec": {
   "display_name": "Python 3",
   "language": "python",
   "name": "python3"
  },
  "language_info": {
   "codemirror_mode": {
    "name": "ipython",
    "version": 3
   },
   "file_extension": ".py",
   "mimetype": "text/x-python",
   "name": "python",
   "nbconvert_exporter": "python",
   "pygments_lexer": "ipython3",
   "version": "3.5.2"
  }
 },
 "nbformat": 4,
 "nbformat_minor": 1
}
