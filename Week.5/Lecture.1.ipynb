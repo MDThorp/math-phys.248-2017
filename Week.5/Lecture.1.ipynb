{
 "cells": [
  {
   "cell_type": "markdown",
   "metadata": {},
   "source": [
    "# Deeper into symbolic computations\n",
    "\n",
    "\n",
    "This week we will explore sympy in more detail.\n",
    "\n",
    "* What sympy's capabilities are\n",
    "\n",
    "* How we can use sympy to solve problems in:\n",
    " - Differential equations\n",
    " - Algebra\n",
    " - Calculus\n",
    " - Linear algebra\n",
    " \n",
    "* How sympy structures mathematical objects\n",
    "\n",
    "* * *\n",
    "\n",
    "**This week's events**\n",
    " \n",
    "* Quiz in Monday's lab.  \n",
    "\n",
    "* Your second homework assignment available by Thursday's class."
   ]
  },
  {
   "cell_type": "markdown",
   "metadata": {},
   "source": [
    "## Sympy. . . again\n",
    "\n",
    "We have seen [a few examples](../Week.3/Lecture.1.ipynb) of symbolic computation in Python:\n",
    "\n",
    " * Defining symbolic expressions, such as:\n",
    "     - Polynomials\n",
    "     - Algebraic expressions involving addition, multiplication, and standard mathematical functions like $\\sin(x)$ and $e^x$.\n",
    "     - Symbolic expressions for algebraic number types, such as $\\frac{1}{\\sqrt{2}+1}$\n",
    " * Differentiation and integration of symbolic functions\n",
    " \n",
    "In these notes we will explore the sympy library a little further, getting an idea for what it can do, how sympy works, and what its limitations are.  "
   ]
  },
  {
   "cell_type": "markdown",
   "metadata": {},
   "source": [
    "* * *\n",
    "\n",
    "## Features of Sympy\n",
    "\n",
    "The [features](http://www.sympy.org/en/features.html) of Sympy are vast and the scope of the library is changing rather quickly. It aims to be able to accomplish all forms of symbolic computation that *can* in principle be done by a computer. \n",
    "\n",
    "The qualifier in the above sentence is rather important. There are many basic algebraic tasks that are *non-computable*, in the sense that we have proofs that it is *impossible* to write a computer program that computes the answer to certain algebraic problems.  A closely related fact is that many differential equations do not have closed-form solutions, i.e. their solutions are not expressible in terms of [*elementary functions*](https://en.wikipedia.org/wiki/Elementary_function). \n",
    "\n",
    "These issues lead to certain unavoidable problems in symbolic computation.  For some tasks, Sympy has effective algorithms that give useful answers in a reliable manner.  But for other kinds of problems, Sympy will *try* to answer your query, but there are *no* estimates for how long it might take, *nor* how much system memory it will require to complete the task you have asked of it.  In effect sympy may or may not give you an answer to these kinds of requests. \n",
    " \n",
    "We will talk a little about both sorts of algorithms available in sympy. \n",
    "\n",
    "* * *\n",
    "\n",
    "## Algebraic expressions"
   ]
  },
  {
   "cell_type": "code",
   "execution_count": null,
   "metadata": {
    "collapsed": false
   },
   "outputs": [],
   "source": [
    "import sympy as sp\n",
    "\n",
    "st = sp.sqrt(2) ## the square root of 2.\n",
    "\n",
    "## Sympy has a variety of output formats\n"
   ]
  },
  {
   "cell_type": "code",
   "execution_count": null,
   "metadata": {
    "collapsed": false
   },
   "outputs": [],
   "source": [
    "import fractions as fr\n",
    "print(\"\\nNotice we can not use sqrt(2) in a Fraction.\")\n"
   ]
  },
  {
   "cell_type": "markdown",
   "metadata": {},
   "source": [
    "With Sympy, checking equality can be more involved than one expects.\n",
    "\n",
    "For example, lets check if sqrt(2)/2 is the same as 1/sqrt(2)."
   ]
  },
  {
   "cell_type": "code",
   "execution_count": null,
   "metadata": {
    "collapsed": false
   },
   "outputs": [],
   "source": []
  },
  {
   "cell_type": "markdown",
   "metadata": {},
   "source": [
    "But how about the two expressions:\n",
    "    \n",
    "$$\\frac{1}{1 + \\sqrt{2}} \\text{ and } \\sqrt{2} - 1 $$\n",
    "    "
   ]
  },
  {
   "cell_type": "code",
   "execution_count": null,
   "metadata": {
    "collapsed": false
   },
   "outputs": [],
   "source": []
  },
  {
   "cell_type": "markdown",
   "metadata": {},
   "source": [
    "The sympy.simplify call can be used to check equality of expressions such as this.\n",
    "\n",
    "Let's see if simplification is 'strong enough' to verify equality."
   ]
  },
  {
   "cell_type": "code",
   "execution_count": null,
   "metadata": {
    "collapsed": false
   },
   "outputs": [],
   "source": []
  },
  {
   "cell_type": "markdown",
   "metadata": {},
   "source": [
    "When one defines objects like $\\sqrt{2}/2$ in sympy, it observes that you are dividing two objects that are powers of $\\sqrt{2}$ so it simplifies both rapidly to a power of $\\sqrt{2}$.  \n",
    "\n",
    "The double equals symbol has *limited* utility for comparing sympy objects.  So please **use with care.**  Sympy only recognises objects as being *equal* when they are stored (internally) in identical syntax.  \n",
    "\n",
    " * Some objects, like $\\sqrt{2}/2$ reduce in syntax immediately to a 'minimal representative', in this case $1/\\sqrt{2}$. \n",
    " * Other objects have no canonical minimal representative (to Sympy's knowledge) so the syntax you choose to represent your object matters. \n",
    "\n",
    "You can get a hint as to how useful the double equals symbol is, by determining the data type sympy is using to store your object. "
   ]
  },
  {
   "cell_type": "code",
   "execution_count": null,
   "metadata": {
    "collapsed": false
   },
   "outputs": [],
   "source": []
  },
  {
   "cell_type": "markdown",
   "metadata": {},
   "source": [
    "This is a *huge* **clue** as to how sympy thinks.  A sympy algebraic expression is stored internally in what is known as a **rooted tree**. \n",
    "\n",
    "<div style=\"display: inline-block; margin-right: 12px; margin-left: 50px\">\n",
    "<img src=\"pics/tree1.png\" width=\"150\" height=\"150\" class=\"alignleft\" title=\"sqrt(2)\"/></div>\n",
    "<div style=\"display: inline-block; margin-right: 12px; margin-left: 50px\">\n",
    "<img src=\"pics/tree2.png\" width=\"250\" height=\"250\" class=\"alignleft\" title=\"sqrt(2)-1\"/></div>\n",
    "<div style=\"display: inline-block; margin-right: 12px; margin-left: 50px\">\n",
    "<img src=\"pics/tree3.png\" width=\"300\" height=\"300\" class=\"alignleft\" title=\"1/(1+sqrt(2))\"/></div>\n",
    "\n",
    "The **final** operation in the expression is the **base** or **root** of the tree.  When one calls the double-equal operation for sympy expressions in Python, what Python does is it checks to see if the roots are identical.  If the roots of the trees are identical, it recursively moves *up* the tree, to check if all the sub-trees are identical.  \n",
    "\n",
    "Sympy will perform the most *elementary* simplifications automatically, such as $\\frac{\\sqrt{2}}{2} = \\frac{1}{\\sqrt{2}}$. The term *elementary* should be taken to mean the simplifications that cost Python essentially no time or processing power. Sympy only attempts this for objects where a *canonical form* is known. \n",
    "\n",
    "Checking equality of more complicated expressions involves more computation, quite often because there is *no* canonical form. "
   ]
  },
  {
   "cell_type": "markdown",
   "metadata": {},
   "source": [
    "* * * \n",
    "\n",
    "### Calculus: derivatives and anti-derivatives\n",
    "\n",
    "Sympy can compute derivatives of symbolic functions, using exactly the same tools we use: \n",
    " * The chain rule \n",
    " * The product rule\n",
    " * A table of derivaties of elementary functions, such as $x^n$, $e^x$ and $\\sin(x)$. \n",
    " "
   ]
  },
  {
   "cell_type": "code",
   "execution_count": null,
   "metadata": {
    "collapsed": false
   },
   "outputs": [],
   "source": [
    " ## 1) calculus, differentiation, integration, limits.\n"
   ]
  },
  {
   "cell_type": "code",
   "execution_count": null,
   "metadata": {
    "collapsed": false
   },
   "outputs": [],
   "source": [
    "## We can ask sympy to give a more pleasant presentation via pprint\n"
   ]
  },
  {
   "cell_type": "markdown",
   "metadata": {},
   "source": [
    "## Check a function is a solution to a differential equation.\n",
    "\n",
    "We will work with the logistic DE $f'=f(1-f)$ and a known solution $f(x) = \\frac{1}{1+e^{-x}}$."
   ]
  },
  {
   "cell_type": "code",
   "execution_count": null,
   "metadata": {
    "collapsed": false
   },
   "outputs": [],
   "source": []
  },
  {
   "cell_type": "markdown",
   "metadata": {},
   "source": [
    "Let's check that the above is a solution to the logistic DE."
   ]
  },
  {
   "cell_type": "code",
   "execution_count": null,
   "metadata": {
    "collapsed": true
   },
   "outputs": [],
   "source": [
    "## compute f' and f(1-f)\n"
   ]
  },
  {
   "cell_type": "code",
   "execution_count": null,
   "metadata": {
    "collapsed": false
   },
   "outputs": [],
   "source": []
  },
  {
   "cell_type": "markdown",
   "metadata": {},
   "source": [
    "As we saw before, Sympy's \"==\" operator does not investigate our concern very carefully -- it is essentially telling us whether or not the expressions look syntactically the same.  We already know they do not! Let's try asking sympy to think a little harder about this."
   ]
  },
  {
   "cell_type": "code",
   "execution_count": null,
   "metadata": {
    "collapsed": false
   },
   "outputs": [],
   "source": []
  },
  {
   "cell_type": "code",
   "execution_count": null,
   "metadata": {
    "collapsed": false
   },
   "outputs": [],
   "source": []
  },
  {
   "cell_type": "markdown",
   "metadata": {
    "collapsed": true
   },
   "source": [
    "**sp.simplify** applied to the difference is zero, so the expressions are equal."
   ]
  },
  {
   "cell_type": "markdown",
   "metadata": {},
   "source": [
    "* * *\n",
    "\n",
    "## Anti-derivatives\n",
    "\n",
    "Sympy also has the capacity to compute anti-derivatives. This is perhaps surprising since there are many functions in mathematics that *do not* have anti-derivatives that are expressable in terms of *elementary functions*.   For example,\n",
    "\n",
    "$$f(x) = e^{-x^2}$$\n",
    "\n",
    "can not be expressed as a finite combination (sums, products, powers, quotients, composites) of polynomials or trig functions.  "
   ]
  },
  {
   "cell_type": "code",
   "execution_count": null,
   "metadata": {
    "collapsed": false
   },
   "outputs": [],
   "source": []
  },
  {
   "cell_type": "markdown",
   "metadata": {},
   "source": [
    "We can typeset formulas in Sympy, as well.  The **Integral** command gives us an un-evaluated integral. "
   ]
  },
  {
   "cell_type": "code",
   "execution_count": null,
   "metadata": {
    "collapsed": false
   },
   "outputs": [],
   "source": []
  },
  {
   "cell_type": "markdown",
   "metadata": {},
   "source": [
    "And one can demand that a passive anti-derivative expression be evaluated using ''.doit()''"
   ]
  },
  {
   "cell_type": "code",
   "execution_count": null,
   "metadata": {
    "collapsed": false
   },
   "outputs": [],
   "source": []
  },
  {
   "cell_type": "markdown",
   "metadata": {
    "collapsed": true
   },
   "source": [
    "One does not need to give concrete instances of functions to sympy -- one can ask for general rules as well.  For example."
   ]
  },
  {
   "cell_type": "code",
   "execution_count": null,
   "metadata": {
    "collapsed": false
   },
   "outputs": [],
   "source": []
  },
  {
   "cell_type": "markdown",
   "metadata": {},
   "source": [
    "Sympy is perfectly content giving *complicated* answers.  This is a feature of its underlying data type, trees.  Notice the type that $\\int f$ is."
   ]
  },
  {
   "cell_type": "code",
   "execution_count": null,
   "metadata": {
    "collapsed": false
   },
   "outputs": [],
   "source": []
  },
  {
   "cell_type": "markdown",
   "metadata": {},
   "source": [
    "Let's parse this integral with the **sp.srepr(.)** command. "
   ]
  },
  {
   "cell_type": "code",
   "execution_count": null,
   "metadata": {
    "collapsed": false
   },
   "outputs": [],
   "source": []
  },
  {
   "cell_type": "markdown",
   "metadata": {},
   "source": [
    "This is perhaps a mouthful to parse so let us begin with a simpler expression, the anti-derivative of $x^5$."
   ]
  },
  {
   "cell_type": "code",
   "execution_count": null,
   "metadata": {
    "collapsed": false
   },
   "outputs": [],
   "source": []
  },
  {
   "cell_type": "markdown",
   "metadata": {},
   "source": [
    "Thus sympy internally represents $x^6/6$ as the multiplication of:\n",
    "\n",
    " 1) The rational number $1/6$ with\n",
    "\n",
    " 2) The $6$-th power of $x$, $x^6$. \n",
    " \n",
    " * * *\n",
    " \n",
    " Let's be mean and ask sympy about $\\int e^{-x^2} dx$"
   ]
  },
  {
   "cell_type": "code",
   "execution_count": null,
   "metadata": {
    "collapsed": false
   },
   "outputs": [],
   "source": []
  },
  {
   "cell_type": "code",
   "execution_count": null,
   "metadata": {
    "collapsed": false
   },
   "outputs": [],
   "source": []
  },
  {
   "cell_type": "markdown",
   "metadata": {},
   "source": [
    "This is better than no information at all. sympy is telling us that (a rescaling) of this is called the $erf$ or <a href=\"http://docs.sympy.org/0.7.1/modules/mpmath/functions/expintegrals.html#erf\">*error function*</a>.  Sympy can work with this function. \n",
    "\n",
    "Whenever you need to know what a sympy (or Python) object is simply type in **object?**, for example **sp.erf?**"
   ]
  },
  {
   "cell_type": "code",
   "execution_count": null,
   "metadata": {
    "collapsed": true
   },
   "outputs": [],
   "source": []
  },
  {
   "cell_type": "code",
   "execution_count": null,
   "metadata": {
    "collapsed": false
   },
   "outputs": [],
   "source": [
    "## Ask sympy to manipulate variations of the error function\n"
   ]
  },
  {
   "cell_type": "markdown",
   "metadata": {},
   "source": [
    "We can similarly ask for definite integrals. \n",
    "\n",
    "We will request $\\int_{-\\infty}^\\infty e^{-x^2} dx$ below."
   ]
  },
  {
   "cell_type": "code",
   "execution_count": null,
   "metadata": {
    "collapsed": false
   },
   "outputs": [],
   "source": []
  },
  {
   "cell_type": "markdown",
   "metadata": {},
   "source": [
    "Let's also request $\\int_{-1}^1 e^{-x^2} dx$"
   ]
  },
  {
   "cell_type": "code",
   "execution_count": null,
   "metadata": {
    "collapsed": false
   },
   "outputs": [],
   "source": []
  },
  {
   "cell_type": "code",
   "execution_count": null,
   "metadata": {
    "collapsed": false
   },
   "outputs": [],
   "source": [
    "## Let's plot erf.\n",
    "import matplotlib as mpl\n",
    "import matplotlib.pyplot as plt\n",
    "import matplotlib.patches as patches\n",
    "import numpy as np\n",
    "%matplotlib inline\n",
    "\n"
   ]
  },
  {
   "cell_type": "code",
   "execution_count": null,
   "metadata": {
    "collapsed": false
   },
   "outputs": [],
   "source": [
    "# A small variant on the above, let's try to graph the anti-derivative of sin(x^2)\n"
   ]
  },
  {
   "cell_type": "markdown",
   "metadata": {
    "collapsed": true
   },
   "source": [
    "You might ask, \"what is that funny symbol in the sympy expression?\" \n",
    "\n",
    "Sympy has a means for you to ask for clarification.  Let's parse the sympy tree representation of **fi**. \n",
    "\n"
   ]
  },
  {
   "cell_type": "code",
   "execution_count": null,
   "metadata": {
    "collapsed": false
   },
   "outputs": [],
   "source": []
  },
  {
   "cell_type": "markdown",
   "metadata": {},
   "source": [
    "This tells us that **fi** consists of a product (**Mul**) of several input objects.  If you wish to parse those inputs one by one (the children of the root of the tree), sympy also has a way to do that, called the **args** command."
   ]
  },
  {
   "cell_type": "code",
   "execution_count": null,
   "metadata": {
    "collapsed": false
   },
   "outputs": [],
   "source": [
    "sp.gamma?"
   ]
  },
  {
   "cell_type": "markdown",
   "metadata": {},
   "source": [
    "So we have narrowed down the object of interest to the sympy *gamma* expression. \n",
    "\n",
    "All the base sympy objects have descriptions listed here: [Sympy Function Reference](http://docs.sympy.org/dev/modules/functions/index.html) or we could call **sp.gamma?**\n",
    "\n",
    "The gamme function is described as:\n",
    "\n",
    "$$ \\Gamma(x) = \\int_0^\\infty t^{x-1}e^t dt$$\n",
    "in general, but for $n$ a positive integer we also have and $\\Gamma(n) = (n-1)!$. "
   ]
  },
  {
   "cell_type": "code",
   "execution_count": null,
   "metadata": {
    "collapsed": false
   },
   "outputs": [],
   "source": [
    "fig, ax1 = plt.subplots(figsize=(10,10))\n"
   ]
  },
  {
   "cell_type": "markdown",
   "metadata": {},
   "source": [
    "From the above graph it would appear the Fresnel function has a pair of horizontal\n",
    "asymptotes. We can ask sympy to check this with **sp.limit**"
   ]
  },
  {
   "cell_type": "code",
   "execution_count": null,
   "metadata": {
    "collapsed": false
   },
   "outputs": [],
   "source": []
  },
  {
   "cell_type": "markdown",
   "metadata": {},
   "source": [
    "* * *\n",
    "\n",
    "### Keep in mind sympy can fail!  Let's look at what that looks like.\n",
    "\n",
    "We will ask it to evaluate a slightly more complicated integral:\n",
    "\n",
    "$$ \\int e^{e^{-x^2}} dx $$"
   ]
  },
  {
   "cell_type": "code",
   "execution_count": null,
   "metadata": {
    "collapsed": false
   },
   "outputs": [],
   "source": []
  },
  {
   "cell_type": "markdown",
   "metadata": {},
   "source": [
    "i.e. when sympy fails on these kinds of requests, it **gives up** and returns your original input, *unchanged*. \n",
    "\n",
    "What is going on *under the hood* is that sympy is using something called the <a href=\"https://en.wikipedia.org/wiki/Risch_algorithm\">**Risch algorithm**</a>. Technically sympy has developed an extension of the Risch algorithm. . . and sympy's extension what is known as a *semi-algorithm*.  As far as I am aware, every software package that can compute symbolic integrals (Mathematical, Matlab, Maple, etc) all use variants of the Risch algorithm, which similarly boils-down to a careful application of <a href=\"https://en.wikipedia.org/wiki/Liouville%27s_theorem_(differential_algebra)\">Liouville's Theorem in differential algebra</a>. \n",
    "\n",
    "The **Liouville Theorem** states that if $f(x)$ has an anti-derivative that is *elementary* (a sum, product, quotient, composite involving exponential or logarithm, polynomials or trig functions *recursively*) then there is and expression for the function $F$ with $F'=f$ of the form:\n",
    "\n",
    "$$ F(x) = v(x) + \\sum_{i=1}^n c_i \\ln(g_i(x)) $$\n",
    "\n",
    "where $v(x)$ and the functions $g_1(x),\\cdots,g_n(x)$ are elementary function expressible entirely in terms of sums, product, and quotients of $f(x)$, and polynomials.  "
   ]
  },
  {
   "cell_type": "markdown",
   "metadata": {},
   "source": [
    "* * *\n",
    "\n",
    "**eg:** $$\\frac{e^{x^2+2}+2}{\\ln(x)+x^8+\\sin(e^x+x^2)} \\hskip 1cm \\text{ and } \\hskip 1cm \\cos\\left(\\frac{1}{1 + \\tan\\left(\\frac{1}{\\sin(x) + e^x}\\right)}\\right)$$\n",
    "are elementary functions. \n",
    "\n",
    "* * *"
   ]
  },
  {
   "cell_type": "markdown",
   "metadata": {},
   "source": [
    "The Risch algorithm goes one step further and reduces the number of possibilities one has to consider to a finite number.  In Risch's original paper he confined himself to a fairly simple class of elementary functions on which his work provides a genuine algorithm. Sympy, on the other hand, has looser constraints than Risch's original paper and so it does not know how to solve this problem for every possible input. Sympy can fail, which is why it is called a semi-algorithm.\n",
    "\n",
    "When you provide sympy with a *difficult* integral that it does not know how to handle immediately, it spends some time *searching* for an answer, but if it does not find one quickly it gives up. \n",
    "\n",
    "Sympy's extensions to the Risch algorithm are some of the most commonly-used anti-derivatives, such as $erf$ and the Fresnel function.\n",
    "\n",
    "* * *\n",
    "\n",
    "## Asking sympy to solve equations\n",
    "\n",
    "Sympy has some fairly sophisticated algorithms to solve polynomial equations. It uses this intelligence for solving polynomial equations to build tools to solve (symbolically) a wide array of equations, even ones that are not polynomial. \n",
    "\n",
    "Sympy can:\n",
    "\n",
    " * Factor polynomials.\n",
    " * Find roots of polynomials, symbolically as well as numerically. \n",
    " * Solve (symbolically as well as numerically) simultaneous polynomial equations.\n",
    " * Solve simultaneous equations that are not polynomial\n",
    "     - sympy can *sometimes* do this symbolically\n",
    "     - can usually do this numerically, using a variety of methods, including the multi-variable Newton's method.  The numeric methods are not always guanteed to find all solutions. If you *need* all solutions you might have to use more specialized methods. \n",
    " * Sympy's polynomial equation solvers, on the other hand, will always find good approximations to all the solutions of a single-variable polynomial."
   ]
  },
  {
   "cell_type": "code",
   "execution_count": null,
   "metadata": {
    "collapsed": false
   },
   "outputs": [],
   "source": []
  },
  {
   "cell_type": "markdown",
   "metadata": {},
   "source": [
    "### sympy solve\n",
    "\n",
    "The general format is to call $solve(f,x)$ where $f$ is a sympy expression -- a function -- and $x$ is the variable used by that function.  Sympy will attempt to find all the solutions to the equation\n",
    "$$f(x) = 0$$\n",
    "\n",
    "The solve algorithm runs out of steam fairly quickly. For example:\n"
   ]
  },
  {
   "cell_type": "code",
   "execution_count": null,
   "metadata": {
    "collapsed": false
   },
   "outputs": [],
   "source": []
  },
  {
   "cell_type": "code",
   "execution_count": null,
   "metadata": {
    "collapsed": false
   },
   "outputs": [],
   "source": []
  },
  {
   "cell_type": "code",
   "execution_count": null,
   "metadata": {
    "collapsed": false
   },
   "outputs": [],
   "source": []
  },
  {
   "cell_type": "markdown",
   "metadata": {},
   "source": [
    "While there is a closed-form solution to the roots of a degree 4 polynomial, sympy's *solve* routine can not derive it.  \n",
    "\n",
    "On the other hand it is known there is no *closed form* for the roots of a degree $5$ or higher polynomial.  So one has to resort to other methods."
   ]
  },
  {
   "cell_type": "code",
   "execution_count": null,
   "metadata": {
    "collapsed": false
   },
   "outputs": [],
   "source": []
  },
  {
   "cell_type": "code",
   "execution_count": null,
   "metadata": {
    "collapsed": false
   },
   "outputs": [],
   "source": []
  },
  {
   "cell_type": "markdown",
   "metadata": {},
   "source": [
    "## roots\n",
    "\n",
    "The sympy *polyroots* and numpy *roots* functions are guanteed to find all the solutions of your single-variable polynomial equation.  \n",
    "\n",
    "* * * \n",
    "\n",
    "While we're at it, notice mpmath can be used to solve multi-variable equations.\n",
    "\n",
    "Here we ask mpmath to solve\n",
    "$$(x^2+y^2, xy) = (4, 1)$$\n",
    "\n",
    "It is using a multi-variable Newton method."
   ]
  },
  {
   "cell_type": "code",
   "execution_count": null,
   "metadata": {
    "collapsed": false
   },
   "outputs": [],
   "source": []
  },
  {
   "cell_type": "markdown",
   "metadata": {},
   "source": [
    "We can similarly ask sympy to solve families of equations.\n"
   ]
  },
  {
   "cell_type": "code",
   "execution_count": null,
   "metadata": {
    "collapsed": false
   },
   "outputs": [],
   "source": []
  },
  {
   "cell_type": "code",
   "execution_count": null,
   "metadata": {
    "collapsed": false
   },
   "outputs": [],
   "source": []
  },
  {
   "cell_type": "code",
   "execution_count": null,
   "metadata": {
    "collapsed": false
   },
   "outputs": [],
   "source": []
  },
  {
   "cell_type": "code",
   "execution_count": null,
   "metadata": {
    "collapsed": false
   },
   "outputs": [],
   "source": []
  },
  {
   "cell_type": "markdown",
   "metadata": {},
   "source": [
    "The next example gives you a sense for how simpy solves complicated algebraic equations. \n",
    "\n",
    "Notice the equation below is basically the previous equation but with $x$ replaced by $\\cos(x)$ and $y$ replaced by $\\sin(y)$. \n",
    "\n",
    "This gives you a key insight into how sympy solves equations. It has strong *core* routines for solving polynomial equations, which is uses as a fundamental building-block for solving more complicated algebraic equations."
   ]
  },
  {
   "cell_type": "code",
   "execution_count": null,
   "metadata": {
    "collapsed": false
   },
   "outputs": [],
   "source": [
    "sol = sp.solve([sp.cos(x)**2 + sp.sin(y)**2 - 4, sp.cos(x)*sp.sin(y)-1 ])\n"
   ]
  },
  {
   "cell_type": "markdown",
   "metadata": {},
   "source": [
    "## Summary\n",
    "\n",
    "Sympy has a systematic way of solving algebraic equations.  \n",
    "\n",
    " * At its core is a strong semi-algorithm to solve systems of polynomial equations.\n",
    "     - An example system: $x^3+3xy+1=0 = y^4-x^2y+x+4 $\n",
    "     - To solve such equations Sympy uses a **Groebner basis algorithm** to convert such systems of *multi-variable polynomial* equations into systems of *single-variable* polynomial equations. This is a reliable algorithm, although it can be slow (double-exponential run-time estimates).\n",
    "     - Sympy does not know how to write \"closed-form\" solutions to all single variable polynomial equations, but it has a significant repository of closed-form solutions, as we have seen. \n",
    "     - As a side-note, it is *known* that the solutions to a general degree $5$ (or higher) polynomial equation $a_5x^5+a_4x^4+a_3x^3+a_2x^2+a_1x+a_0=0$ can not be expressed as a rational polynomial in rational powers (recursively) of $a_5,\\cdots,a_0$, although as we have seen above this **can** be done if the degree is $4$ or less.   So one generally *can not* hope for simple formulas for such roots.\n",
    "\n",
    " * For more complicated systems, such as $\\sin(x)^3+3\\sin(x)\\cos(y)+1=0=\\sin(y)^4-\\cos(x)^2+\\cos(x)+4$ sympy thinks of the system as a polynomial equation in the variables $\\sin(x), \\cos(y)$ and computes $\\sin^{-1}$ and $\\cos^{-1}$ of the solutions.\n",
    " \n",
    " * Sympy also has adapted versions of the above algorithms to find closed-form solutions to some differential equations.  We will talk more about this when we discuss simulating solutions to differential equations.  One particularly simple case appears below."
   ]
  },
  {
   "cell_type": "code",
   "execution_count": null,
   "metadata": {
    "collapsed": true
   },
   "outputs": [],
   "source": []
  }
 ],
 "metadata": {
  "anaconda-cloud": {},
  "kernelspec": {
   "display_name": "Python [default]",
   "language": "python",
   "name": "python3"
  },
  "language_info": {
   "codemirror_mode": {
    "name": "ipython",
    "version": 3
   },
   "file_extension": ".py",
   "mimetype": "text/x-python",
   "name": "python",
   "nbconvert_exporter": "python",
   "pygments_lexer": "ipython3",
   "version": "3.5.2"
  }
 },
 "nbformat": 4,
 "nbformat_minor": 1
}
