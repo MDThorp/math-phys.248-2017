{
 "cells": [
  {
   "cell_type": "markdown",
   "metadata": {},
   "source": [
    "# Deeper into symbolic computations\n",
    "\n",
    "\n",
    "This week we will explore sympy in more detail.\n",
    "\n",
    "* What sympy's capabilities are\n",
    "\n",
    "* How we can use sympy to solve problems in:\n",
    " - Differential equations\n",
    " - Algebra\n",
    " - Calculus\n",
    " - Linear algebra\n",
    " \n",
    "* How sympy structures mathematical objects\n",
    "\n",
    "* * *\n",
    "\n",
    "**This week's events**\n",
    " \n",
    "* Quiz in Monday's lab.  \n",
    "\n",
    "* Your second homework assignment available by Thursday's class."
   ]
  },
  {
   "cell_type": "markdown",
   "metadata": {},
   "source": [
    "## Sympy. . . again\n",
    "\n",
    "We have seen [a few examples](../Week.3/Lecture.1.ipynb) of symbolic computation in Python:\n",
    "\n",
    " * Defining symbolic expressions, such as:\n",
    "     - Polynomials\n",
    "     - Algebraic expressions involving addition, multiplication, and standard mathematical functions like $\\sin(x)$ and $e^x$.\n",
    "     - Symbolic expressions for algebraic number types, such as $\\frac{1}{\\sqrt{2}+1}$\n",
    " * Differentiation and integration of symbolic functions\n",
    " \n",
    "In these notes we will explore the sympy library a little further, getting an idea for what it can do, how sympy works, and what its limitations are.  "
   ]
  },
  {
   "cell_type": "markdown",
   "metadata": {},
   "source": [
    "* * *\n",
    "\n",
    "## Features of Sympy\n",
    "\n",
    "The [features](http://www.sympy.org/en/features.html) of Sympy are vast and the scope of the library is changing rather quickly. It aims to be able to accomplish all forms of symbolic computation that *can* in principle be done by a computer. \n",
    "\n",
    "The qualifier in the above sentence is rather important. There are many basic algebraic tasks that are *non-computable*, in the sense that we have proofs that it is *impossible* to write a computer program that computes the answer to certain algebraic problems.  A closely related fact is that many differential equations do not have closed-form solutions, i.e. their solutions are not expressible in terms of [*elementary functions*](https://en.wikipedia.org/wiki/Elementary_function). \n",
    "\n",
    "These issues lead to certain unavoidable problems in symbolic computation.  For some tasks, Sympy has effective algorithms that give useful answers in a reliable manner.  But for other kinds of problems, Sympy will *try* to answer your query, but there are *no* estimates for how long it might take, *nor* how much system memory it will require to complete the task you have asked of it.  In effect sympy may or may not give you an answer to these kinds of requests. \n",
    " \n",
    "We will talk a little about both sorts of algorithms available in sympy. \n",
    "\n",
    "* * *\n",
    "\n",
    "## Algebraic expressions"
   ]
  },
  {
   "cell_type": "code",
   "execution_count": 6,
   "metadata": {
    "collapsed": false
   },
   "outputs": [
    {
     "name": "stdout",
     "output_type": "stream",
     "text": [
      "sqrt(2)\n",
      "√2\n",
      "  ___\n",
      "\\/ 2 \n",
      "\\sqrt{2}  this is LaTeX\n"
     ]
    }
   ],
   "source": [
    "import sympy as sp\n",
    "\n",
    "st = sp.sqrt(2) ## the square root of 2.\n",
    "\n",
    "## Sympy has a variety of output formats\n",
    "print(st)\n",
    "sp.pprint(st)\n",
    "sp.pprint(st, use_unicode=False) ## ASCII output\n",
    "print(sp.latex(st), \" this is LaTeX\")"
   ]
  },
  {
   "cell_type": "code",
   "execution_count": 8,
   "metadata": {
    "collapsed": false
   },
   "outputs": [
    {
     "name": "stdout",
     "output_type": "stream",
     "text": [
      "\n",
      "Notice we can not use sqrt(2) in a Fraction.\n",
      "√2\n",
      "──\n",
      "2 \n"
     ]
    }
   ],
   "source": [
    "import fractions as fr\n",
    "print(\"\\nNotice we can not use sqrt(2) in a Fraction.\")\n",
    "\n",
    "#fr.Fraction(st, 2)\n",
    "## Fraction library not part of sympy!\n",
    "sp.pprint(st/2)"
   ]
  },
  {
   "cell_type": "markdown",
   "metadata": {},
   "source": [
    "With Sympy, checking equality can be more involved than one expects.\n",
    "\n",
    "For example, lets check if sqrt(2)/2 is the same as 1/sqrt(2)."
   ]
  },
  {
   "cell_type": "code",
   "execution_count": 11,
   "metadata": {
    "collapsed": false
   },
   "outputs": [
    {
     "name": "stdout",
     "output_type": "stream",
     "text": [
      "√2\n",
      "──\n",
      "2 \n",
      "√2\n",
      "──\n",
      "2 \n"
     ]
    }
   ],
   "source": [
    "sp.pprint(st/2)\n",
    "sp.pprint(1/st)"
   ]
  },
  {
   "cell_type": "code",
   "execution_count": null,
   "metadata": {
    "collapsed": true
   },
   "outputs": [],
   "source": [
    "x = sp.Symbol('x')\n",
    "sp.pprint(sp.Eq(st/2,1/st))\n",
    "sp.pprint(sp.Eq(sp.sin(x), sp.cos(x)) )"
   ]
  },
  {
   "cell_type": "code",
   "execution_count": 16,
   "metadata": {
    "collapsed": false
   },
   "outputs": [
    {
     "data": {
      "text/plain": [
       "0.841470984807897"
      ]
     },
     "execution_count": 16,
     "metadata": {},
     "output_type": "execute_result"
    }
   ],
   "source": [
    "f = sp.sin(1)\n",
    "f.evalf()"
   ]
  },
  {
   "cell_type": "markdown",
   "metadata": {},
   "source": [
    "But how about the two expressions:\n",
    "    \n",
    "$$\\frac{1}{1 + \\sqrt{2}} \\text{ and } \\sqrt{2} - 1 $$\n",
    "    "
   ]
  },
  {
   "cell_type": "code",
   "execution_count": null,
   "metadata": {
    "collapsed": true
   },
   "outputs": [],
   "source": [
    "## these are the same numbers!\n",
    "sp.pprint(1/(1+st))\n",
    "sp.pprint(st-1)\n",
    "## but sympy does not see it!\n",
    "sp.pprint(sp.Eq(1/(1+st), st-1))"
   ]
  },
  {
   "cell_type": "code",
   "execution_count": 20,
   "metadata": {
    "collapsed": false
   },
   "outputs": [
    {
     "name": "stdout",
     "output_type": "stream",
     "text": [
      "True\n",
      "False\n"
     ]
    }
   ],
   "source": [
    "sp.pprint(1/st == st/2)\n",
    "sp.pprint(1/(1+st) == st-1)\n",
    "\n",
    "## == after sympy stores the expression in its chosen internal format\n",
    "##    the expressions are syntactically identical\n",
    "\n",
    "## sp.Eq puts in a little more effort! "
   ]
  },
  {
   "cell_type": "markdown",
   "metadata": {},
   "source": [
    "The sympy.simplify call can be used to check equality of expressions such as this.\n",
    "\n",
    "Let's see if simplification is 'strong enough' to verify equality."
   ]
  },
  {
   "cell_type": "code",
   "execution_count": 24,
   "metadata": {
    "collapsed": false
   },
   "outputs": [
    {
     "name": "stdout",
     "output_type": "stream",
     "text": [
      "        1       \n",
      "-√2 + ────── + 1\n",
      "      1 + √2    \n",
      "0\n"
     ]
    }
   ],
   "source": [
    "blah = 1/(1+st) - (st-1)\n",
    "sp.pprint( blah ) ## should be zero\n",
    "\n",
    "sp.pprint(sp.simplify(blah))"
   ]
  },
  {
   "cell_type": "markdown",
   "metadata": {},
   "source": [
    "When one defines objects like $\\sqrt{2}/2$ in sympy, it observes that you are dividing two objects that are powers of $\\sqrt{2}$ so it simplifies both rapidly to a power of $\\sqrt{2}$.  \n",
    "\n",
    "The double equals symbol has *limited* utility for comparing sympy objects.  So please **use with care.**  Sympy only recognises objects as being *equal* when they are stored (internally) in identical syntax.  \n",
    "\n",
    " * Some objects, like $\\sqrt{2}/2$ reduce in syntax immediately to a 'minimal representative', in this case $1/\\sqrt{2}$. \n",
    " * Other objects have no canonical minimal representative (to Sympy's knowledge) so the syntax you choose to represent your object matters. \n",
    "\n",
    "You can get a hint as to how useful the double equals symbol is, by determining the data type sympy is using to store your object. "
   ]
  },
  {
   "cell_type": "code",
   "execution_count": 33,
   "metadata": {
    "collapsed": false
   },
   "outputs": [
    {
     "name": "stdout",
     "output_type": "stream",
     "text": [
      "<class 'sympy.core.add.Add'>\n",
      "-1 + √2\n",
      "   1   \n",
      "───────\n",
      "-1 + √2\n"
     ]
    }
   ],
   "source": [
    "print(type(st-1))\n",
    "sp.pprint(st - 1)\n",
    "sp.pprint(1/(st-1))"
   ]
  },
  {
   "cell_type": "markdown",
   "metadata": {},
   "source": [
    "This is a *huge* **clue** as to how sympy thinks.  A sympy algebraic expression is stored internally in what is known as a **rooted tree**. \n",
    "\n",
    "<div style=\"display: inline-block; margin-right: 12px; margin-left: 50px\">\n",
    "<img src=\"pics/tree1.png\" width=\"150\" height=\"150\" class=\"alignleft\" title=\"sqrt(2)\"/></div>\n",
    "<div style=\"display: inline-block; margin-right: 12px; margin-left: 50px\">\n",
    "<img src=\"pics/tree2.png\" width=\"250\" height=\"250\" class=\"alignleft\" title=\"sqrt(2)-1\"/></div>\n",
    "<div style=\"display: inline-block; margin-right: 12px; margin-left: 50px\">\n",
    "<img src=\"pics/tree3.png\" width=\"300\" height=\"300\" class=\"alignleft\" title=\"1/(1+sqrt(2))\"/></div>\n",
    "\n",
    "The **final** operation in the expression is the **base** or **root** of the tree.  When one calls the double-equal operation for sympy expressions in Python, what Python does is it checks to see if the roots are identical.  If the roots of the trees are identical, it recursively moves *up* the tree, to check if all the sub-trees are identical.  \n",
    "\n",
    "Sympy will perform the most *elementary* simplifications automatically, such as $\\frac{\\sqrt{2}}{2} = \\frac{1}{\\sqrt{2}}$. The term *elementary* should be taken to mean the simplifications that cost Python essentially no time or processing power. Sympy only attempts this for objects where a *canonical form* is known. \n",
    "\n",
    "Checking equality of more complicated expressions involves more computation, quite often because there is *no* canonical form. "
   ]
  },
  {
   "cell_type": "markdown",
   "metadata": {},
   "source": [
    "* * * \n",
    "\n",
    "### Calculus: derivatives and anti-derivatives\n",
    "\n",
    "Sympy can compute derivatives of symbolic functions, using exactly the same tools we use: \n",
    " * The chain rule \n",
    " * The product rule\n",
    " * A table of derivaties of elementary functions, such as $x^n$, $e^x$ and $\\sin(x)$. \n",
    " "
   ]
  },
  {
   "cell_type": "code",
   "execution_count": 40,
   "metadata": {
    "collapsed": false
   },
   "outputs": [
    {
     "name": "stdout",
     "output_type": "stream",
     "text": [
      "x**3 + sin(x)\n",
      "<class 'sympy.core.add.Add'>\n"
     ]
    }
   ],
   "source": [
    " ## 1) calculus, differentiation, integration, limits.\n",
    "x = sp.Symbol('x')\n",
    "x,y = sp.symbols('x y')\n",
    "\n",
    "f = x**3 + sp.sin(x)\n",
    "print(f)\n",
    "print(type(f))"
   ]
  },
  {
   "cell_type": "code",
   "execution_count": 41,
   "metadata": {
    "collapsed": false
   },
   "outputs": [
    {
     "name": "stdout",
     "output_type": "stream",
     "text": [
      " 3         \n",
      "x  + sin(x)\n"
     ]
    }
   ],
   "source": [
    "## We can ask sympy to give a more pleasant presentation via pprint\n",
    "sp.pprint(f)"
   ]
  },
  {
   "cell_type": "markdown",
   "metadata": {},
   "source": [
    "## Check a function is a solution to a differential equation.\n",
    "\n",
    "We will work with the logistic DE $f'=f(1-f)$ and a known solution $f(x) = \\frac{1}{1+e^{-x}}$."
   ]
  },
  {
   "cell_type": "code",
   "execution_count": 44,
   "metadata": {
    "collapsed": false
   },
   "outputs": [
    {
     "name": "stdout",
     "output_type": "stream",
     "text": [
      "   1   \n",
      "───────\n",
      "     -x\n",
      "1 + ℯ  \n",
      "    -x    \n",
      "   ℯ      \n",
      "──────────\n",
      "         2\n",
      "⎛     -x⎞ \n",
      "⎝1 + ℯ  ⎠ \n"
     ]
    }
   ],
   "source": [
    "f = 1/(1+sp.exp(-x))\n",
    "sp.pprint(f)\n",
    "\n",
    "fp = sp.diff(f, x)\n",
    "sp.pprint(fp)"
   ]
  },
  {
   "cell_type": "markdown",
   "metadata": {},
   "source": [
    "Let's check that the above is a solution to the logistic DE."
   ]
  },
  {
   "cell_type": "code",
   "execution_count": 45,
   "metadata": {
    "collapsed": false
   },
   "outputs": [
    {
     "name": "stdout",
     "output_type": "stream",
     "text": [
      "       1   \n",
      "1 - ───────\n",
      "         -x\n",
      "    1 + ℯ  \n",
      "───────────\n",
      "       -x  \n",
      "  1 + ℯ    \n"
     ]
    }
   ],
   "source": [
    "## compute f' and f(1-f)\n",
    "RHS = f*(1-f)\n",
    "sp.pprint(RHS)"
   ]
  },
  {
   "cell_type": "code",
   "execution_count": 47,
   "metadata": {
    "collapsed": false
   },
   "outputs": [
    {
     "name": "stdout",
     "output_type": "stream",
     "text": [
      "                    1   \n",
      "             1 - ───────\n",
      "    -x                -x\n",
      "   ℯ             1 + ℯ  \n",
      "────────── = ───────────\n",
      "         2          -x  \n",
      "⎛     -x⎞      1 + ℯ    \n",
      "⎝1 + ℯ  ⎠               \n",
      "True\n"
     ]
    }
   ],
   "source": [
    "sp.pprint(sp.Eq(fp, RHS))\n",
    "feq = sp.Eq(fp, RHS)\n",
    "sp.pprint(sp.simplify(feq))"
   ]
  },
  {
   "cell_type": "markdown",
   "metadata": {},
   "source": [
    "As we saw before, Sympy's \"==\" operator does not investigate our concern very carefully -- it is essentially telling us whether or not the expressions look syntactically the same.  We already know they do not! Let's try asking sympy to think a little harder about this."
   ]
  },
  {
   "cell_type": "code",
   "execution_count": 48,
   "metadata": {
    "collapsed": false
   },
   "outputs": [
    {
     "name": "stdout",
     "output_type": "stream",
     "text": [
      "False\n"
     ]
    }
   ],
   "source": [
    "sp.pprint(fp == RHS)\n",
    "## the syntax of the left hand side and righty hand side are not the same. "
   ]
  },
  {
   "cell_type": "code",
   "execution_count": null,
   "metadata": {
    "collapsed": false
   },
   "outputs": [],
   "source": []
  },
  {
   "cell_type": "markdown",
   "metadata": {
    "collapsed": true
   },
   "source": [
    "**sp.simplify** applied to the difference is zero, so the expressions are equal."
   ]
  },
  {
   "cell_type": "markdown",
   "metadata": {},
   "source": [
    "* * *\n",
    "\n",
    "## Anti-derivatives\n",
    "\n",
    "Sympy also has the capacity to compute anti-derivatives. This is perhaps surprising since there are many functions in mathematics that *do not* have anti-derivatives that are expressable in terms of *elementary functions*.   For example,\n",
    "\n",
    "$$f(x) = e^{-x^2}$$\n",
    "\n",
    "can not be expressed as a finite combination (sums, products, powers, quotients, composites) of polynomials or trig functions.  "
   ]
  },
  {
   "cell_type": "code",
   "execution_count": 54,
   "metadata": {
    "collapsed": false
   },
   "outputs": [
    {
     "name": "stdout",
     "output_type": "stream",
     "text": [
      " 5\n",
      "x \n",
      " 6\n",
      "x \n",
      "──\n",
      "6 \n",
      "1/6\n"
     ]
    }
   ],
   "source": [
    "f = x**5\n",
    "sp.pprint(f)\n",
    "af = sp.integrate(f,x)\n",
    "sp.pprint(af)\n",
    "sp.pprint(sp.integrate(f, (x, 0, 1)))"
   ]
  },
  {
   "cell_type": "markdown",
   "metadata": {},
   "source": [
    "We can typeset formulas in Sympy, as well.  The **Integral** command gives us an un-evaluated integral. "
   ]
  },
  {
   "cell_type": "code",
   "execution_count": 56,
   "metadata": {
    "collapsed": false
   },
   "outputs": [
    {
     "name": "stdout",
     "output_type": "stream",
     "text": [
      "⌠      \n",
      "⎮  5   \n",
      "⎮ x  dx\n",
      "⌡      \n"
     ]
    }
   ],
   "source": [
    "af = sp.Integral(f, x)\n",
    "sp.pprint(af)"
   ]
  },
  {
   "cell_type": "markdown",
   "metadata": {},
   "source": [
    "And one can demand that a passive anti-derivative expression be evaluated using ''.doit()''"
   ]
  },
  {
   "cell_type": "code",
   "execution_count": 57,
   "metadata": {
    "collapsed": false
   },
   "outputs": [
    {
     "name": "stdout",
     "output_type": "stream",
     "text": [
      " 6\n",
      "x \n",
      "──\n",
      "6 \n"
     ]
    }
   ],
   "source": [
    "sp.pprint(af.doit())"
   ]
  },
  {
   "cell_type": "markdown",
   "metadata": {
    "collapsed": true
   },
   "source": [
    "One does not need to give concrete instances of functions to sympy -- one can ask for general rules as well.  For example."
   ]
  },
  {
   "cell_type": "code",
   "execution_count": 60,
   "metadata": {
    "collapsed": false
   },
   "outputs": [
    {
     "name": "stdout",
     "output_type": "stream",
     "text": [
      "                    ⎛⎧log(x)  for b = -1⎞      \n",
      "⌠                   ⎜⎪                  ⎟      \n",
      "⎮ ⎛   b    ⎞        ⎜⎪ b + 1            ⎟      \n",
      "⎮ ⎝a⋅x  + c⎠ dx = a⋅⎜⎨x                 ⎟ + c⋅x\n",
      "⌡                   ⎜⎪──────  otherwise ⎟      \n",
      "                    ⎜⎪b + 1             ⎟      \n",
      "                    ⎝⎩                  ⎠      \n",
      "<class 'sympy.core.add.Add'>\n"
     ]
    }
   ],
   "source": [
    "a,b,c = sp.symbols('a b c')\n",
    "f = a*x**b + c\n",
    "af = sp.integrate(f, x)\n",
    "sp.pprint(sp.Eq(sp.Integral(f,x), af))\n",
    "print(type(af))"
   ]
  },
  {
   "cell_type": "markdown",
   "metadata": {},
   "source": [
    "Sympy is perfectly content giving *complicated* answers.  This is a feature of its underlying data type, trees.  Notice the type that $\\int f$ is."
   ]
  },
  {
   "cell_type": "code",
   "execution_count": null,
   "metadata": {
    "collapsed": false
   },
   "outputs": [],
   "source": []
  },
  {
   "cell_type": "markdown",
   "metadata": {},
   "source": [
    "Let's parse this integral with the **sp.srepr(.)** command. "
   ]
  },
  {
   "cell_type": "code",
   "execution_count": 61,
   "metadata": {
    "collapsed": false
   },
   "outputs": [
    {
     "data": {
      "text/plain": [
       "\"Add(Mul(Symbol('a'), Piecewise(ExprCondPair(log(Symbol('x')), Equality(Symbol('b'), Integer(-1))), ExprCondPair(Mul(Pow(Symbol('x'), Add(Symbol('b'), Integer(1))), Pow(Add(Symbol('b'), Integer(1)), Integer(-1))), S.true))), Mul(Symbol('c'), Symbol('x')))\""
      ]
     },
     "execution_count": 61,
     "metadata": {},
     "output_type": "execute_result"
    }
   ],
   "source": [
    "sp.srepr(af)"
   ]
  },
  {
   "cell_type": "markdown",
   "metadata": {},
   "source": [
    "This is perhaps a mouthful to parse so let us begin with a simpler expression, the anti-derivative of $x^5$."
   ]
  },
  {
   "cell_type": "code",
   "execution_count": 62,
   "metadata": {
    "collapsed": false
   },
   "outputs": [
    {
     "data": {
      "text/plain": [
       "\"Mul(Rational(1, 6), Pow(Symbol('x'), Integer(6)))\""
      ]
     },
     "execution_count": 62,
     "metadata": {},
     "output_type": "execute_result"
    }
   ],
   "source": [
    "sp.srepr(sp.integrate(x**5, x))"
   ]
  },
  {
   "cell_type": "markdown",
   "metadata": {},
   "source": [
    "Thus sympy internally represents $x^6/6$ as the multiplication of:\n",
    "\n",
    " 1) The rational number $1/6$ with\n",
    "\n",
    " 2) The $6$-th power of $x$, $x^6$. \n",
    " \n",
    " * * *\n",
    " \n",
    " Let's be mean and ask sympy about $\\int e^{-x^2} dx$"
   ]
  },
  {
   "cell_type": "code",
   "execution_count": 65,
   "metadata": {
    "collapsed": false
   },
   "outputs": [
    {
     "name": "stdout",
     "output_type": "stream",
     "text": [
      "   2\n",
      " -x \n",
      "ℯ   \n",
      "√π⋅erf(x)\n",
      "─────────\n",
      "    2    \n"
     ]
    }
   ],
   "source": [
    "f = sp.exp(-x**2)\n",
    "sp.pprint(f)\n",
    "\n",
    "sp.pprint(sp.integrate(f, x))"
   ]
  },
  {
   "cell_type": "code",
   "execution_count": 66,
   "metadata": {
    "collapsed": false
   },
   "outputs": [],
   "source": [
    "sp.erf?"
   ]
  },
  {
   "cell_type": "markdown",
   "metadata": {},
   "source": [
    "This is better than no information at all. sympy is telling us that (a rescaling) of this is called the $erf$ or <a href=\"http://docs.sympy.org/0.7.1/modules/mpmath/functions/expintegrals.html#erf\">*error function*</a>.  Sympy can work with this function. \n",
    "\n",
    "Whenever you need to know what a sympy (or Python) object is simply type in **object?**, for example **sp.erf?**"
   ]
  }
 ],
 "metadata": {
  "anaconda-cloud": {},
  "kernelspec": {
   "display_name": "Python [default]",
   "language": "python",
   "name": "python3"
  },
  "language_info": {
   "codemirror_mode": {
    "name": "ipython",
    "version": 3
   },
   "file_extension": ".py",
   "mimetype": "text/x-python",
   "name": "python",
   "nbconvert_exporter": "python",
   "pygments_lexer": "ipython3",
   "version": "3.5.2"
  }
 },
 "nbformat": 4,
 "nbformat_minor": 1
}
