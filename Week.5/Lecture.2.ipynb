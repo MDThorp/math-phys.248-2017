{
 "cells": [
  {
   "cell_type": "markdown",
   "metadata": {},
   "source": [
    "# Sympy sympy sympy\n",
    "\n",
    "We will continue to explore Sympy's capabilities, including:\n",
    "\n",
    "* Calculus\n",
    "* ODEs\n",
    "* Converting Sympy expressions in to callable functions, to let us do things like plotting.\n",
    "* Solving systems of equations. . . with and without sympy. "
   ]
  },
  {
   "cell_type": "markdown",
   "metadata": {},
   "source": [
    "* * *\n",
    "\n",
    "### A quick aside: Jupyter notebook editing keyboard shortcuts\n",
    "\n",
    "A complete list of keyboard shortcuts is obtained by clicking **Help -> Keyboard Shortcuts** above. "
   ]
  },
  {
   "cell_type": "markdown",
   "metadata": {},
   "source": [
    "* * *\n",
    "\n",
    "## Back to calculus!\n",
    "\n",
    "We left off with the *error function* also known as **erf**!"
   ]
  },
  {
   "cell_type": "code",
   "execution_count": 2,
   "metadata": {
    "collapsed": false
   },
   "outputs": [
    {
     "name": "stdout",
     "output_type": "stream",
     "text": [
      "   2\n",
      " -x \n",
      "ℯ   \n",
      "√π⋅erf(x)\n",
      "─────────\n",
      "    2    \n"
     ]
    }
   ],
   "source": [
    "import sympy as sp\n",
    "x = sp.Symbol('x')\n",
    "\n",
    "f = sp.exp(-x**2)\n",
    "sp.pprint(f)\n",
    "\n",
    "fi = sp.integrate(f,x)\n",
    "sp.pprint(fi)"
   ]
  },
  {
   "cell_type": "code",
   "execution_count": 3,
   "metadata": {
    "collapsed": false
   },
   "outputs": [],
   "source": [
    "sp.erf?"
   ]
  },
  {
   "cell_type": "markdown",
   "metadata": {},
   "source": [
    "This is better than no information at all. sympy is telling us that (a rescaling) of this is called the $erf$ or <a href=\"http://docs.sympy.org/0.7.1/modules/mpmath/functions/expintegrals.html#erf\">*error function*</a>.  Sympy can work with this function. \n",
    "\n",
    "Whenever you need to know what a sympy (or Python) object is simply type in **object?**, for example **sp.erf?**"
   ]
  },
  {
   "cell_type": "code",
   "execution_count": 8,
   "metadata": {
    "collapsed": false
   },
   "outputs": [
    {
     "name": "stdout",
     "output_type": "stream",
     "text": [
      " 2       \n",
      "x ⋅erf(x)\n",
      "                                   2      2\n",
      "⌠                 3           2  -x     -x \n",
      "⎮  2             x ⋅erf(x)   x ⋅ℯ      ℯ   \n",
      "⎮ x ⋅erf(x) dx = ───────── + ─────── + ────\n",
      "⌡                    3         3⋅√π    3⋅√π\n"
     ]
    }
   ],
   "source": [
    "f1 = x**2 * sp.erf(x)\n",
    "sp.pprint(f1)\n",
    "sp.pprint(sp.Eq(sp.Integral(f1,x), sp.integrate(f1) ) )"
   ]
  },
  {
   "cell_type": "markdown",
   "metadata": {},
   "source": [
    "We can similarly ask for definite integrals. \n",
    "\n",
    "We will request $\\int_{-\\infty}^\\infty e^{-x^2} dx$ below."
   ]
  },
  {
   "cell_type": "code",
   "execution_count": 10,
   "metadata": {
    "collapsed": false
   },
   "outputs": [
    {
     "name": "stdout",
     "output_type": "stream",
     "text": [
      "∞              \n",
      "⌠              \n",
      "⎮     2        \n",
      "⎮   -x         \n",
      "⎮  ℯ    dx = √π\n",
      "⌡              \n",
      "-∞             \n"
     ]
    }
   ],
   "source": [
    "## sp.oo \"infinity\"\n",
    "\n",
    "sp.pprint( sp.Eq( sp.Integral(f, (x,-sp.oo, sp.oo)), sp.integrate( f, (x, -sp.oo, sp.oo) ) ))\n"
   ]
  },
  {
   "cell_type": "markdown",
   "metadata": {},
   "source": [
    "Let's also request $\\int_{-1}^1 e^{-x^2} dx$"
   ]
  },
  {
   "cell_type": "code",
   "execution_count": 15,
   "metadata": {
    "collapsed": false
   },
   "outputs": [
    {
     "name": "stdout",
     "output_type": "stream",
     "text": [
      "√π⋅erf(1)\n"
     ]
    }
   ],
   "source": [
    "sp.pprint( sp.integrate(f, (x, -1, 1) ) )"
   ]
  },
  {
   "cell_type": "code",
   "execution_count": 21,
   "metadata": {
    "collapsed": false
   },
   "outputs": [
    {
     "name": "stdout",
     "output_type": "stream",
     "text": [
      "1.493648265624854050798934872263706010709 \n",
      "\n",
      "1.4936482656248540507989348722637060107089993736252126580553089979172106551235456629956968596458038394612379080341789426989961942629820973252547042939643595591887162961984586632016694254179698256101072779016659197846430253610865976956875286279199159199570084210307282364270958784255618107798113917613329043975485964397426798044233806000568376037627188403742631022094314478433648148466359248221643456082167197854087951217869469822883611849198924258207091626476084051514729961305531401612093311498886407\n"
     ]
    }
   ],
   "source": [
    "## turn to a float, with 40 decimal places of accuracy\n",
    "print( sp.integrate(f, (x, -1, 1) ).evalf(40), \"\\n\" )\n",
    "## turn to a float, with 500 decimal places of accuracy\n",
    "print( sp.integrate(f, (x, -1, 1) ).evalf(500) )"
   ]
  },
  {
   "cell_type": "code",
   "execution_count": 34,
   "metadata": {
    "collapsed": false
   },
   "outputs": [
    {
     "data": {
      "text/plain": [
       "<matplotlib.text.Text at 0x7f8b856cf5f8>"
      ]
     },
     "execution_count": 34,
     "metadata": {},
     "output_type": "execute_result"
    },
    {
     "data": {
      "image/png": "[encoded data removed]",
      "text/plain": [
       "<matplotlib.figure.Figure at 0x7f8b88a06320>"
      ]
     },
     "metadata": {},
     "output_type": "display_data"
    }
   ],
   "source": [
    "## let's plot erf.\n",
    "\n",
    "import matplotlib.pyplot as plt\n",
    "%matplotlib inline\n",
    "\n",
    "erf = sp.lambdify(x, sp.erf(x), \"math\")\n",
    "## lambdify command takes sympy algebraic expressions and converts into \n",
    "## callable functions\n",
    "\n",
    "npts = 200\n",
    "xdom = [-3.0 + 6.0*i/npts for i in range(npts)]\n",
    "yval = [erf(xi) for xi in xdom]\n",
    "\n",
    "plt.plot(xdom, yval, 'ro') ## r- describes the \"pen\"\n",
    "plt.title(\"Gauss Error Function\")"
   ]
  },
  {
   "cell_type": "code",
   "execution_count": 45,
   "metadata": {
    "collapsed": false
   },
   "outputs": [
    {
     "data": {
      "text/plain": [
       "<matplotlib.text.Text at 0x7f8b850ebfd0>"
      ]
     },
     "execution_count": 45,
     "metadata": {},
     "output_type": "execute_result"
    },
    {
     "data": {
      "image/png": "[encoded data removed]",
      "text/plain": [
       "<matplotlib.figure.Figure at 0x7f8b856871d0>"
      ]
     },
     "metadata": {},
     "output_type": "display_data"
    }
   ],
   "source": [
    "## let's try the same but for the anti-derivative of \n",
    "## cos(x^2)\n",
    "\n",
    "asx = sp.lambdify(x, sp.integrate(sp.cos(x**2), x), \"mpmath\")\n",
    "## lambdify worked fine\n",
    "\n",
    "npts = 1000\n",
    "xdom = [-20 + 40*i/npts for i in range(npts)]\n",
    "yval = [asx(xi) for xi in xdom]\n",
    "\n",
    "plt.plot(xdom, yval, 'r-')\n",
    "plt.title(\"$\\int \\cos(x^2) dx$\") ## latex title"
   ]
  },
  {
   "cell_type": "code",
   "execution_count": 56,
   "metadata": {
    "collapsed": false
   },
   "outputs": [
    {
     "name": "stdout",
     "output_type": "stream",
     "text": [
      "<class 'sympy.core.mul.Mul'>\n",
      "(1/8, sqrt(2), sqrt(pi), 1/gamma(5/4), fresnelc(sqrt(2)*x/sqrt(pi)), gamma(1/4))\n",
      "              ⎛√2⋅x⎞       \n",
      "√2⋅√π⋅fresnelc⎜────⎟⋅Γ(1/4)\n",
      "              ⎝ √π ⎠       \n",
      "───────────────────────────\n",
      "          8⋅Γ(5/4)         \n",
      "gamma(1/4)\n"
     ]
    }
   ],
   "source": [
    "F = sp.integrate(sp.cos(x**2), x)\n",
    "print(type(F))\n",
    "print(F.args)\n",
    "sp.pprint(F)\n",
    "#sp.fresnelc?\n",
    "print(F.args[-1]) ## last element in list\n",
    "#sp.gamma?"
   ]
  },
  {
   "cell_type": "code",
   "execution_count": null,
   "metadata": {
    "collapsed": true
   },
   "outputs": [],
   "source": [
    "sp.pprint(sp.limit(F, x, sp.oo))"
   ]
  },
  {
   "cell_type": "code",
   "execution_count": 61,
   "metadata": {
    "collapsed": false
   },
   "outputs": [
    {
     "name": "stdout",
     "output_type": "stream",
     "text": [
      "⌠           \n",
      "⎮  ⎛   2⎞   \n",
      "⎮  ⎜ -x ⎟   \n",
      "⎮  ⎝ℯ   ⎠   \n",
      "⎮ ℯ       dx\n",
      "⌡           \n"
     ]
    }
   ],
   "source": [
    "## let's try to find something that stumps sympy\n",
    "\n",
    "#sp.pprint( sp.integrate(F, x) )\n",
    "\n",
    "#sp.pprint( sp.integrate( sp.integrate( sp.exp(-x**2), x ), x) )\n",
    "\n",
    "sp.pprint( sp.integrate( sp.exp( sp.exp(-x**2) ) , x) )\n",
    "## when you get beyond sympy's capabilities, it repeats your request!\n"
   ]
  },
  {
   "cell_type": "markdown",
   "metadata": {},
   "source": [
    "\n",
    "i.e. when sympy fails on these kinds of requests, it **gives up** and returns your original input, *unchanged*. \n",
    "\n",
    "What is going on *under the hood* is that sympy is using something called the <a href=\"https://en.wikipedia.org/wiki/Risch_algorithm\">**Risch algorithm**</a>. Technically sympy has developed an extension of the Risch algorithm. . . and sympy's extension what is known as a *semi-algorithm*.  As far as I am aware, every software package that can compute symbolic integrals (Mathematical, Matlab, Maple, etc) all use variants of the Risch algorithm, which similarly boils-down to a careful application of <a href=\"https://en.wikipedia.org/wiki/Liouville%27s_theorem_(differential_algebra)\">Liouville's Theorem in differential algebra</a>. \n",
    "\n",
    "The **Liouville Theorem** states that if $f(x)$ has an anti-derivative that is *elementary* (a sum, product, quotient, or composite of functions involving exponential or logarithm, polynomials or trig functions *recursively*) then there is and expression for the function $F$ with $F'=f$ of the form:\n",
    "\n",
    "$$ F(x) = v(x) + \\sum_{i=1}^n c_i \\ln(g_i(x)) $$\n",
    "\n",
    "where $v(x)$ and the functions $g_1(x),\\cdots,g_n(x)$ are elementary function expressible entirely in terms of sums, product, and quotients of $f(x)$, and polynomials.  "
   ]
  },
  {
   "cell_type": "markdown",
   "metadata": {},
   "source": [
    "* * *\n",
    "\n",
    "**eg:** $$\\frac{e^{x^2+2}+2}{\\ln(x)+x^8+\\sin(e^x+x^2)} \\hskip 1cm \\text{ and } \\hskip 1cm \\cos\\left(\\frac{1}{1 + \\tan\\left(\\frac{1}{\\sin(x) + e^x}\\right)}\\right)$$\n",
    "are elementary functions. \n",
    "\n",
    "**eg:** It is a fact that functions such as\n",
    "$$\\int e^{-x^2} dx \\hskip 1cm \\text{ and } \\hskip 1cm \\int \\sin(x^2) dx $$\n",
    "are **not** elementary.  \n",
    "\n",
    "* * *"
   ]
  },
  {
   "cell_type": "markdown",
   "metadata": {},
   "source": [
    "The Risch algorithm goes one step further and reduces the number of possibilities one has to consider to a finite number.  In Risch's original paper he confined himself to a fairly simple class of elementary functions on which his work provides a genuine algorithm. Sympy, on the other hand, has looser constraints than Risch's original paper and so it does not know how to solve this problem for every possible input. Sympy **can fail**, which is why it is called a semi-algorithm.\n",
    "\n",
    "When you provide sympy with a *difficult* integral that it does not know how to handle immediately, it spends some time *searching* for an answer, but if it does not find one quickly it gives up. \n",
    "\n",
    "Sympy's extensions to the Risch algorithm are some of the most commonly-used anti-derivatives, such as $erf$ and the Fresnel function.\n",
    "\n",
    "* * *\n",
    "\n",
    "# Asking sympy to solve equations\n",
    "\n",
    "Sympy has some fairly sophisticated algorithms to solve polynomial equations. It uses this intelligence for solving polynomial equations to build tools to solve (symbolically) a wide array of equations, even ones that are not polynomial. \n",
    "\n",
    "Sympy can:\n",
    "\n",
    " * Factor polynomials.\n",
    " * Find roots of polynomials, symbolically as well as numerically. \n",
    " * Solve (symbolically as well as numerically) simultaneous polynomial equations.\n",
    " * Solve simultaneous equations that are not polynomial\n",
    "     - sympy can *sometimes* do this symbolically\n",
    "     - can usually do this numerically, using a variety of methods, including the multi-variable Newton's method.  The numeric methods are not always guanteed to find all solutions. If you *need* all solutions you might have to use more specialized methods. \n",
    " * Sympy's polynomial equation solvers, on the other hand, will always find good approximations to all the solutions of a single-variable polynomial."
   ]
  },
  {
   "cell_type": "code",
   "execution_count": 63,
   "metadata": {
    "collapsed": false
   },
   "outputs": [
    {
     "name": "stdout",
     "output_type": "stream",
     "text": [
      "[-√2, √2]\n",
      "[-√2⋅ⅈ, √2⋅ⅈ]\n"
     ]
    }
   ],
   "source": [
    "p = x*x - 2\n",
    "sp.pprint(sp.solve(p,x))\n",
    "## find solutions to p(x) = 0 \n",
    "\n",
    "p = x*x + 2\n",
    "sp.pprint(sp.solve(p,x))"
   ]
  },
  {
   "cell_type": "code",
   "execution_count": 66,
   "metadata": {
    "collapsed": false
   },
   "outputs": [
    {
     "name": "stdout",
     "output_type": "stream",
     "text": [
      "⎡        _____________   ⎛       _____________⎞ ⎤\n",
      "⎢       ╱           2    ⎜      ╱           2 ⎟ ⎥\n",
      "⎢-b + ╲╱  -4⋅a⋅c + b    -⎝b + ╲╱  -4⋅a⋅c + b  ⎠ ⎥\n",
      "⎢─────────────────────, ────────────────────────⎥\n",
      "⎣         2⋅a                     2⋅a           ⎦\n"
     ]
    }
   ],
   "source": [
    "a,b,c = sp.symbols('a b c')\n",
    "p = a*x**2 + b*x + c\n",
    "\n",
    "sp.pprint(sp.solve(p,x))"
   ]
  },
  {
   "cell_type": "code",
   "execution_count": null,
   "metadata": {
    "collapsed": true
   },
   "outputs": [],
   "source": [
    "a,b,c,d = sp.symbols('a b c d')\n",
    "p = a*x**3 + b*x**2 + c*x + d\n",
    "sp.pprint(sp.solve(p,x))"
   ]
  },
  {
   "cell_type": "code",
   "execution_count": null,
   "metadata": {
    "collapsed": true
   },
   "outputs": [],
   "source": [
    "a,b,c,d,e = sp.symbols('a b c d e')\n",
    "p = a*x**4 + b*x**3 + c*x**2 + d*x + e\n",
    "sp.pprint(sp.solve(p,x))"
   ]
  },
  {
   "cell_type": "code",
   "execution_count": 69,
   "metadata": {
    "collapsed": false
   },
   "outputs": [
    {
     "name": "stdout",
     "output_type": "stream",
     "text": [
      "[]\n"
     ]
    }
   ],
   "source": [
    "a,b,c,d,e,f = sp.symbols('a b c d e f')\n",
    "p = a*x**5 + b*x**4 + c*x**3 + d*x**2 + e*x + f\n",
    "sp.pprint(sp.solve(p,x))"
   ]
  },
  {
   "cell_type": "code",
   "execution_count": null,
   "metadata": {
    "collapsed": true
   },
   "outputs": [],
   "source": [
    "p = x**3 + x**2 - x - 1\n",
    "print(type(sp.Poly(p,x)))\n",
    "P = sp.Poly(p,x).coeffs()\n",
    "print(P)"
   ]
  },
  {
   "cell_type": "code",
   "execution_count": 78,
   "metadata": {
    "collapsed": false
   },
   "outputs": [
    {
     "data": {
      "text/plain": [
       "[1.0, (-1.0 - 1.25049450131375e-10j), (-1.0 + 1.2799322008877e-10j)]"
      ]
     },
     "execution_count": 78,
     "metadata": {},
     "output_type": "execute_result"
    }
   ],
   "source": [
    "import mpmath as mp\n",
    "import numpy as np\n",
    "mp.mp.pretty = True\n",
    "## polyroots -- finds approximations to the roots\n",
    "##  uses a version of Newton's method\n",
    "mp.polyroots(P)"
   ]
  },
  {
   "cell_type": "code",
   "execution_count": 81,
   "metadata": {
    "collapsed": false
   },
   "outputs": [
    {
     "name": "stdout",
     "output_type": "stream",
     "text": [
      " 2          \n",
      "x  + 2⋅x + 1\n",
      " 3    2        \n",
      "x  + x  - x - 1\n"
     ]
    }
   ],
   "source": [
    "sp.pprint(sp.simplify(p / (x-1)))\n",
    "sp.pprint(sp.expand((x-1)*(x+1)*(x+1)))"
   ]
  },
  {
   "cell_type": "markdown",
   "metadata": {},
   "source": [
    "\n",
    "### sympy solve\n",
    "\n",
    "The general format is to call $solve(f,x)$ where $f$ is a sympy expression -- a function -- and $x$ is the variable used by that function.  Sympy will attempt to find all the solutions to the equation\n",
    "$$f(x) = 0$$\n",
    "\n",
    "The solve algorithm runs out of steam fairly quickly. For example:\n"
   ]
  },
  {
   "cell_type": "code",
   "execution_count": 103,
   "metadata": {
    "collapsed": false
   },
   "outputs": [
    {
     "name": "stdout",
     "output_type": "stream",
     "text": [
      "[ 1.93185165257814]\n",
      "[0.517638090205042]\n",
      "0.0 0.0\n"
     ]
    }
   ],
   "source": [
    "f = [lambda x,y: x**2 + y**2 - 4, lambda x,y: x*y-1.0]\n",
    "## list of functions \n",
    "roots = mp.findroot(f, (0.2, 0.1) )\n",
    "print(roots)\n",
    "print(f[0](roots[0], roots[1]), f[1](roots[0], roots[1]) )\n",
    "## mpmath findroot algorith is pretty much just Newton's method\n",
    "## "
   ]
  },
  {
   "cell_type": "markdown",
   "metadata": {},
   "source": [
    "$$ f : \\mathbb R^n \\to \\mathbb R^n $$\n",
    "\n",
    "want to solve $f(\\vec x) = \\vec 0$\n",
    "\n",
    "Inital guess $\\vec p$, linearization of $f$ at $\\vec p$\n",
    "\n",
    "$$f(\\vec p + \\vec h) \\simeq f(\\vec p) + Df_{\\vec p}(\\vec h)$$\n",
    "\n",
    "Solve $$f(\\vec p) + Df_{\\vec p}(\\vec h) = \\vec 0$$\n",
    "\n",
    "$$\\vec h = Df_{\\vec p}^{-1}(-f(\\vec p))$$\n",
    "\n",
    "Newton's method is the process\n",
    "$$\\vec p \\to \\vec p - Df_{\\vec p}^{-1}(f(\\vec p))$$"
   ]
  },
  {
   "cell_type": "code",
   "execution_count": 101,
   "metadata": {
    "collapsed": false
   },
   "outputs": [
    {
     "name": "stdout",
     "output_type": "stream",
     "text": [
      "⎧   ⎛       _________⎞   _________ ⎛    _________    ⎞        _________⎫\n",
      "⎨x: ⎝-2 - ╲╱ -√3 + 2 ⎠⋅╲╱ -√3 + 2 ⋅⎝- ╲╱ -√3 + 2  + 2⎠, y: -╲╱ -√3 + 2 ⎬\n",
      "⎩                                                                      ⎭\n",
      "⎧    ⎛       _________⎞   _________ ⎛  _________    ⎞       _________⎫\n",
      "⎨x: -⎝-2 + ╲╱ -√3 + 2 ⎠⋅╲╱ -√3 + 2 ⋅⎝╲╱ -√3 + 2  + 2⎠, y: ╲╱ -√3 + 2 ⎬\n",
      "⎩                                                                    ⎭\n",
      "⎧   ⎛       ________⎞   ________ ⎛    ________    ⎞        ________⎫\n",
      "⎨x: ⎝-2 - ╲╱ √3 + 2 ⎠⋅╲╱ √3 + 2 ⋅⎝- ╲╱ √3 + 2  + 2⎠, y: -╲╱ √3 + 2 ⎬\n",
      "⎩                                                                  ⎭\n",
      "⎧    ⎛       ________⎞   ________ ⎛  ________    ⎞       ________⎫\n",
      "⎨x: -⎝-2 + ╲╱ √3 + 2 ⎠⋅╲╱ √3 + 2 ⋅⎝╲╱ √3 + 2  + 2⎠, y: ╲╱ √3 + 2 ⎬\n",
      "⎩                                                                ⎭\n",
      "<class 'dict'>\n",
      "⎛       _________⎞   _________ ⎛    _________    ⎞\n",
      "⎝-2 - ╲╱ -√3 + 2 ⎠⋅╲╱ -√3 + 2 ⋅⎝- ╲╱ -√3 + 2  + 2⎠\n"
     ]
    }
   ],
   "source": [
    "x,y = sp.symbols('x y')\n",
    "sol =  sp.solve([x**2+y**2-4, x*y-1])\n",
    "for S in sol:\n",
    "    sp.pprint(S)\n",
    "print(type(sol[0]))\n",
    "sp.pprint(sol[0][x]) ## tell me the x-value of the solution[0]. \n",
    "## sympy is giving us **all** the solutions \n",
    "## mpmath is giving us only one. "
   ]
  },
  {
   "cell_type": "code",
   "execution_count": 105,
   "metadata": {
    "collapsed": false
   },
   "outputs": [
    {
     "name": "stdout",
     "output_type": "stream",
     "text": [
      "MPMATH sol:  1.93185165257814 0.517638090205042\n",
      "-1.9318517 -0.51763809\n",
      "1.9318517 0.51763809\n",
      "-0.51763809 -1.9318517\n",
      "0.51763809 1.9318517\n"
     ]
    }
   ],
   "source": [
    "print(\"MPMATH sol: \", roots[0],roots[1] )\n",
    "for S in sol:\n",
    "    print(S[x].evalf(8), S[y].evalf(8))"
   ]
  },
  {
   "cell_type": "markdown",
   "metadata": {},
   "source": [
    "## roots\n",
    "\n",
    "The sympy *polyroots* and numpy *roots* functions are guanteed to find all the solutions of your single-variable polynomial equation.  \n",
    "\n",
    "* * * \n",
    "\n",
    "While we're at it, notice mpmath can be used to solve multi-variable equations.\n",
    "\n",
    "Here we ask mpmath to solve\n",
    "$$(x^2+y^2, xy) = (4, 1)$$\n",
    "\n",
    "It is using a multi-variable Newton method."
   ]
  },
  {
   "cell_type": "code",
   "execution_count": null,
   "metadata": {
    "collapsed": true
   },
   "outputs": [],
   "source": []
  }
 ],
 "metadata": {
  "anaconda-cloud": {},
  "kernelspec": {
   "display_name": "Python [default]",
   "language": "python",
   "name": "python3"
  },
  "language_info": {
   "codemirror_mode": {
    "name": "ipython",
    "version": 3
   },
   "file_extension": ".py",
   "mimetype": "text/x-python",
   "name": "python",
   "nbconvert_exporter": "python",
   "pygments_lexer": "ipython3",
   "version": "3.5.2"
  }
 },
 "nbformat": 4,
 "nbformat_minor": 1
}
