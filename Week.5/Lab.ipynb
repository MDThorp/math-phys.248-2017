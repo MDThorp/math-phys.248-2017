{
 "cells": [
  {
   "cell_type": "markdown",
   "metadata": {},
   "source": [
    "# Week 5 Lab -- Some git wrangling, plotting and skydivers\n",
    "\n",
    "\n",
    "\n",
    "## Lab 1: Skydiver\n",
    "\n",
    "Using this scheme implement an algorithm to solve the ordinary differential equation that describes the velocity as a function of time $v(t)$ for a skydiver jumping from a plane at $h=2000\\mathrm{m}$. Provide a plot for the velocity from the jump-off height to $h_\\mathrm{p} = 300\\mathrm{m}$, which is the height at which the skydiver will release her parachute. Your plot should include a line for the analytically determined terminal velocity. Perform a convergence study by doing a series of 3 to 4 runs with decreasing step size 0.\n",
    "\n",
    "Please remember the instructions from the Lab in Week 2 on how to approach a programming task:\n",
    "\n",
    "1. Sketch out the algorithm you want to use. This involves some kind of flow-diagram and writing out the program in pseudo-programing language.\n",
    "2. Implement algorithm; while you write it add reasonable comments, short and relevant.\n",
    "3. Run algorithm and generate results.\n",
    "4. Test the program carefully. What can you do to convince yourself that your algorithm is working correctly?"
   ]
  },
  {
   "cell_type": "markdown",
   "metadata": {},
   "source": []
  },
  {
   "cell_type": "markdown",
   "metadata": {},
   "source": [
    "## Quiz.2\n",
    "\n",
    "The quiz has two components: a Git task, and some plotting. \n",
    "\n",
    "**Part A**\n",
    " - On either your virtual machine, or via **WENDI**, via the command-line terminal **cd** to the location of your Bitbucket *mp248* repository. Provided you have not changed the name of this directory, it should be called **mp248**. \n",
    " - We want to move your *quiz.1/solution.ipynb* file to a new location. \n",
    " - From your *mp248* directory, run the command **mkdir Quiz**\n",
    " - Run the command **git mv quiz.1/solution.ipynb Quiz/quiz.1.ipynb**\n",
    " - Run the appropriate git **commit** and **push**. \n",
    " - Check to see your Quiz 1 answer has been moved via the [Bitbucket website](https://bitbucket.org). \n",
    " \n",
    "* * *\n",
    " \n",
    "**Part B**\n",
    "\n",
    "We ask you to create a few plots of functions $y=f(x)$ using *matplotlib*. \n",
    "\n",
    " - Plot the function $f(x) = |\\sin(x)|$ on the domain $[-\\pi, 3\\pi]$. \n",
    "  \n",
    " - Plot the function $f(x) = \\sin(x^2)$ on the domain $[0, 4\\pi]$. \n",
    "  \n",
    " - Plot the function $f(x) = \\sin(e^x)$ on the domain $[0, 4\\pi]$. \n",
    "  \n",
    " - Comment on whether or not these plots all appear to be accurate. \n",
    "  \n",
    " - Put your answer to Part B in the file **Quiz/quiz.2.ipynb**. \n",
    " \n",
    " - *add*, *commit* and *push* Part B to your Bitbucket repository. \n",
    " "
   ]
  },
  {
   "cell_type": "code",
   "execution_count": null,
   "metadata": {
    "collapsed": true
   },
   "outputs": [],
   "source": []
  },
  {
   "cell_type": "markdown",
   "metadata": {},
   "source": [
    "## Lab 2\n",
    "\n",
    "To be announced. "
   ]
  },
  {
   "cell_type": "code",
   "execution_count": null,
   "metadata": {
    "collapsed": true
   },
   "outputs": [],
   "source": []
  }
 ],
 "metadata": {
  "anaconda-cloud": {},
  "kernelspec": {
   "display_name": "Python [default]",
   "language": "python",
   "name": "python3"
  },
  "language_info": {
   "codemirror_mode": {
    "name": "ipython",
    "version": 3
   },
   "file_extension": ".py",
   "mimetype": "text/x-python",
   "name": "python",
   "nbconvert_exporter": "python",
   "pygments_lexer": "ipython3",
   "version": "3.5.2"
  }
 },
 "nbformat": 4,
 "nbformat_minor": 1
}
