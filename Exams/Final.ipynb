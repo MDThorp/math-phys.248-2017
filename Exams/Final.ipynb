{
 "cells": [
  {
   "cell_type": "markdown",
   "metadata": {
    "deletable": true,
    "editable": true
   },
   "source": [
    "# Final exam\n",
    "\n",
    "You are not allowed to comminicate via any means with anybody during the exam. Your solutions go into a separate directory on your repository.\n",
    "\n",
    "## Problem 1\n",
    "\n",
    "**Part 1:**\n",
    "\n",
    "1. Generate a normal (Gaussian) distribition of a sample size of 10000 with a mean of 2.5 and a standard deviation of 0.5.\n",
    "2. Make a histogram plot of the distribution with 7 bins."
   ]
  },
  {
   "cell_type": "code",
   "execution_count": null,
   "metadata": {
    "collapsed": true,
    "deletable": true,
    "editable": true
   },
   "outputs": [],
   "source": []
  },
  {
   "cell_type": "markdown",
   "metadata": {
    "deletable": true,
    "editable": true
   },
   "source": [
    "**Part 2:**\n",
    "1. Make a plot of the function $$f(x) = 10 sin(x) + 0.1 x^2 + 1$$ in the range $[-2.,20]$. Use 200 data points for the plot.\n",
    "2. Create noisy data out of the function $f(x)$ by replacing each value $f(x)$ by a random number drawn from a normal (Gaussian) distribution with mean $f(x)$ and standard deviation $3$. **Or:** Read this data from the file `data.txt`. Make a plot of that data set. \n",
    "3. Print out and add to the plot a red dot at the coordinates that correspond to the averages of the x and y coordinates of all points that are located in a box defined by $18 < y < 50$  and $7 x < 14$. "
   ]
  },
  {
   "cell_type": "code",
   "execution_count": null,
   "metadata": {
    "collapsed": true,
    "deletable": true,
    "editable": true
   },
   "outputs": [],
   "source": []
  },
  {
   "cell_type": "markdown",
   "metadata": {
    "deletable": true,
    "editable": true
   },
   "source": [
    "**Part 3:**\n",
    "1. Create an image plot of the 3D function $$ z(x,y) = \\sin(x^2)\\cos(x^3)$$ in the $x$ interval $[0,3.]$ and $y$ interval $[0,5.5]$ and use 500 data points for the plot in each direction. \n",
    "2. Make a line plot of $ z(x,y)$ along the diagonal from the lower left to the top right of the plot, i.e. along the line that connects the points $(0,0)$ and $(3.,5.5)$."
   ]
  },
  {
   "cell_type": "code",
   "execution_count": null,
   "metadata": {
    "collapsed": true,
    "deletable": true,
    "editable": true
   },
   "outputs": [],
   "source": []
  },
  {
   "cell_type": "markdown",
   "metadata": {
    "deletable": true,
    "editable": true
   },
   "source": [
    "## Problem 2\n",
    " The [Lotka–Volterra equations](https://en.wikipedia.org/wiki/Lotka%E2%80%93Volterra_equations), also known as the predator–prey equations, represent a model for an interacting predator and a prey population:\n",
    " \n",
    " $$ \\frac{dx}{dt} = \\alpha x - \\beta x y$$ \n",
    " \n",
    " $$\\frac{dy}{dt} = \\delta xy -\\gamma y$$ \n",
    " \n",
    " where:\n",
    " * $x$ number of prey\n",
    " * $y$ number of predetors\n",
    " * and $\\alpha$, $\\beta$, $\\delta$ and $\\gamma$ are parameters that describe the interaction between the two species.\n",
    " \n",
    "1. Write a program to implement a solution to the  Lotka–Volterra equations equations.\n",
    "2. Create a plot with the evolution of prey and predetor populations vs time, for the parameters $\\alpha=2/3$, $\\beta=4/3$, $\\delta=1$ and $\\gamma=1/2$ for the time interval $[0,35]$"
   ]
  },
  {
   "cell_type": "code",
   "execution_count": null,
   "metadata": {
    "collapsed": true,
    "deletable": true,
    "editable": true
   },
   "outputs": [],
   "source": []
  },
  {
   "cell_type": "markdown",
   "metadata": {
    "deletable": true,
    "editable": true
   },
   "source": [
    "## Problem 3 \n",
    "\n",
    "**Part 1:** Use the sympy libraries to compute the first and second derivatives of $$f(x) = \\sin(\\cos(x))$$ and print them to the screen, using Sympy's `pprint` command. \n",
    " "
   ]
  },
  {
   "cell_type": "code",
   "execution_count": null,
   "metadata": {
    "collapsed": true,
    "deletable": true,
    "editable": true
   },
   "outputs": [],
   "source": []
  },
  {
   "cell_type": "markdown",
   "metadata": {
    "deletable": true,
    "editable": true
   },
   "source": [
    "**Part 2:** Find all the solutions $0 \\leq x \\leq 2\\pi$ to the equation $$f'(x) = f(x)$$ with $f$ from part (1)."
   ]
  },
  {
   "cell_type": "code",
   "execution_count": null,
   "metadata": {
    "collapsed": true,
    "deletable": true,
    "editable": true
   },
   "outputs": [],
   "source": []
  },
  {
   "cell_type": "markdown",
   "metadata": {
    "deletable": true,
    "editable": true
   },
   "source": [
    "**Part 3:** Compute the integral $$ \\int_0^1 \\cos(x) x^x dx $$\n",
    " "
   ]
  },
  {
   "cell_type": "code",
   "execution_count": null,
   "metadata": {
    "collapsed": true,
    "deletable": true,
    "editable": true
   },
   "outputs": [],
   "source": []
  },
  {
   "cell_type": "markdown",
   "metadata": {
    "collapsed": true,
    "deletable": true,
    "editable": true
   },
   "source": [
    "**Part 4**: Consider the matrix-valued function $$M(\\theta) = \\pmatrix{ \\cos \\theta & -\\sin \\theta \\cr \\sin \\theta & \\cos \\theta }$$\n",
    "and use Sympy to verify the matrix equation\n",
    "$$M(\\theta + \\phi) = M(\\theta) \\cdot M(\\phi)$$"
   ]
  },
  {
   "cell_type": "code",
   "execution_count": null,
   "metadata": {
    "collapsed": true,
    "deletable": true,
    "editable": true
   },
   "outputs": [],
   "source": []
  }
 ],
 "metadata": {
  "anaconda-cloud": {},
  "kernelspec": {
   "display_name": "Python 3",
   "language": "python",
   "name": "python3"
  },
  "language_info": {
   "codemirror_mode": {
    "name": "ipython",
    "version": 3
   },
   "file_extension": ".py",
   "mimetype": "text/x-python",
   "name": "python",
   "nbconvert_exporter": "python",
   "pygments_lexer": "ipython3",
   "version": "3.5.2"
  }
 },
 "nbformat": 4,
 "nbformat_minor": 1
}
