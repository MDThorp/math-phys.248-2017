{
 "cells": [
  {
   "cell_type": "markdown",
   "metadata": {},
   "source": [
    "## Mid-term exam\n",
    "\n",
    "Consider the function $f(t, y) = \\sin(t^2) - y$. \n",
    "\n",
    "**Part (1)**\n",
    "\n",
    "(a) Define a sympy expression for $f$.  Using Sympy's *pprint* command, display the function. \n",
    "\n",
    "(b) Using Sympy, compute these partial derivatives of $f$: \n",
    "$$\\frac{\\partial f}{\\partial t}  \\hskip 1cm \\frac{\\partial f}{\\partial y}$$  Display them using Sympy's *pprint* command. \n",
    " \n",
    " "
   ]
  },
  {
   "cell_type": "code",
   "execution_count": null,
   "metadata": {
    "collapsed": true
   },
   "outputs": [],
   "source": [
    "## (1) a\n"
   ]
  },
  {
   "cell_type": "code",
   "execution_count": null,
   "metadata": {
    "collapsed": true
   },
   "outputs": [],
   "source": [
    "## (1) b\n"
   ]
  },
  {
   "cell_type": "markdown",
   "metadata": {},
   "source": [
    "**Part (2)**\n",
    "\n",
    "Consider the **ODE**\n",
    "\n",
    "$$\\frac{dy}{dt} = f(t,y) = \\sin(t^2) - y$$\n",
    "\n",
    " - (a) Can you solve it with Sympy's **dsolve** command?   If so, do it. What kind of solution does it give?   If not, show us how Sympy fails.  \n",
    " \n",
    " - (b) If possible, write out (as explicitly as you can) the unique solution with \n",
    " $$y(0)=0$$\n"
   ]
  },
  {
   "cell_type": "code",
   "execution_count": null,
   "metadata": {
    "collapsed": true
   },
   "outputs": [],
   "source": [
    "## (2) a\n"
   ]
  },
  {
   "cell_type": "code",
   "execution_count": null,
   "metadata": {
    "collapsed": false
   },
   "outputs": [],
   "source": [
    "## (2) b\n"
   ]
  },
  {
   "cell_type": "markdown",
   "metadata": {
    "collapsed": false
   },
   "source": [
    "This is the integral form of a solution.  Not terribly useful! \n",
    "\n",
    "The solution with $y(0)=0$ is the one with $c_1=0$, provided we take the integral as starting at $0$, i.e.\n",
    "\n",
    "$$y(t) = e^{-t} \\int_0^t e^t \\sin(t^2)dt$$\n"
   ]
  },
  {
   "cell_type": "markdown",
   "metadata": {},
   "source": [
    "**Part (3)**\n",
    "\n",
    "Find numerical solutions to the ODE from Part 2, using\n",
    "\n",
    "- (a) Euler's method. \n",
    "\n",
    "- (b) The 2nd-order Euler method. \n",
    "\n",
    "For parts (a) and (b) use the initial condition $y(0) = 0$. Approximate the solution on the interval $[0,20]$ using the three step sizes $\\Delta t \\in \\{1/10, 1/100, 1/1000\\}$.  \n",
    "\n",
    "Print out your approximate value $y(20)$ for all six approximations. "
   ]
  },
  {
   "cell_type": "code",
   "execution_count": null,
   "metadata": {
    "collapsed": true
   },
   "outputs": [],
   "source": [
    "## 3 (a)\n"
   ]
  },
  {
   "cell_type": "code",
   "execution_count": null,
   "metadata": {
    "collapsed": true
   },
   "outputs": [],
   "source": [
    "## 3 (b)\n"
   ]
  },
  {
   "cell_type": "markdown",
   "metadata": {},
   "source": [
    "(c) Plot your approximate solutions on the domain $[0,20]$. \n",
    "\n",
    "(d) Which method appears to be the most accurate, if you can tell? \n",
    "\n",
    "(e) Do any of your solutions give insights into the long-term behaviour of $y(t)$, i.e. $$\\lim_{t \\to \\infty} y(t) ? $$\n",
    "Include your results from Part (2) in this analysis. "
   ]
  },
  {
   "cell_type": "code",
   "execution_count": null,
   "metadata": {
    "collapsed": false
   },
   "outputs": [],
   "source": [
    "## 3 (c)\n"
   ]
  },
  {
   "cell_type": "markdown",
   "metadata": {},
   "source": [
    "### Answers to  3 (d) and (e)\n",
    "\n",
    "*put here*\n"
   ]
  },
  {
   "cell_type": "markdown",
   "metadata": {},
   "source": [
    "## Euler approximations - Reminder\n",
    "\n",
    "The Euler method and its variations was the subject of your second homework assignment.  The *plain* first-order Euler method was based upon the approximation\n",
    "\n",
    "$$y(t + \\Delta t) \\simeq y(t) + (\\Delta t)f(t,y(t))$$\n",
    "\n",
    "where we divide the time-domain interval $[a,b]$ into $n$ equal-length sub-intervals of length $\\Delta t = \\frac{b-a}{n}$.  \n",
    "\n",
    "\n",
    "The second-order Euler method is the approximation\n",
    "\n",
    "$$ y(t + \\Delta t) \\simeq y(t) + (\\Delta t)f(t, y(t)) + \\frac{\\Delta t^2}{2} \\bigg( \\frac{\\partial f}{\\partial t}(t,y(t)) + \\frac{\\partial f}{\\partial y}(t,y(t)) f(t,y(t)) \\bigg)$$\n"
   ]
  },
  {
   "cell_type": "code",
   "execution_count": null,
   "metadata": {
    "collapsed": true
   },
   "outputs": [],
   "source": []
  }
 ],
 "metadata": {
  "anaconda-cloud": {},
  "kernelspec": {
   "display_name": "Python [conda root]",
   "language": "python",
   "name": "conda-root-py"
  },
  "language_info": {
   "codemirror_mode": {
    "name": "ipython",
    "version": 3
   },
   "file_extension": ".py",
   "mimetype": "text/x-python",
   "name": "python",
   "nbconvert_exporter": "python",
   "pygments_lexer": "ipython3",
   "version": "3.5.2"
  }
 },
 "nbformat": 4,
 "nbformat_minor": 1
}
