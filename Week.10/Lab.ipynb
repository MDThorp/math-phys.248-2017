{
 "cells": [
  {
   "cell_type": "markdown",
   "metadata": {
    "deletable": true,
    "editable": true
   },
   "source": [
    "# Linear Algebra\n",
    "\n",
    "\n",
    "\n",
    "## Lab 1: Gaussian elimination\n",
    "\n",
    "1. Create your own linear algebra module `linalg` that can be imported into your notebook. This may just be a `.py` file in the assignment directory. \n",
    "2. Add your own dot- and cross-product methods and create a demo cell. \n",
    "2. Add a function that takes a matrix (as an array of arrays) and a vector which together represent a set of equations ($\\vec{u} = {\\bf A} \\cdot \\vec{v}$) as input. The function solves the equations, i.e. returns $\\vec{v}$. Use the Gaussian elemination technique.\n",
    "3. Your function should have some checks to prevent the user from misusing the function in the most obvious way. Think about and comment on other not so obvious ways in which your function could fail. \n",
    "4. In your solution notebook create an example that tests your function. E.g. set up your test so that it returns a known solution. Use a library from `numpy.linalg` to do the same test problem."
   ]
  },
  {
   "cell_type": "code",
   "execution_count": null,
   "metadata": {
    "collapsed": true,
    "deletable": true,
    "editable": true
   },
   "outputs": [],
   "source": [
    "def gausselim(A,u):\n",
    "    '''Gaussian elimination with backsubstution\n",
    "    \n",
    "    This function solves the equation u = A * v, where v, u vectors \n",
    "    of length N and A a NxN matrix.\n",
    "    \n",
    "    input: A, u\n",
    "    output solution vector v\n",
    "    '''\n",
    "    \n",
    "    your code here ....\n",
    "\n",
    "    return v"
   ]
  },
  {
   "cell_type": "markdown",
   "metadata": {
    "deletable": true,
    "editable": true
   },
   "source": [
    "\n",
    "## Lab 2: Circuit of resistor\n",
    "\n",
    "* We did the equation for junction point 3 in class.\n",
    "* Complete the set of equations for the other junction points 1, 2 and 4.\n",
    "* Simplify and sort\n",
    "* Setup coefficient matrix $A$ and RHS vector $\\vec{u}$\n",
    "* use your own Gaussian elimination routine to solve for $\\vec{u}$."
   ]
  },
  {
   "cell_type": "markdown",
   "metadata": {
    "collapsed": true,
    "deletable": true,
    "editable": true
   },
   "source": [
    "- v3: $(V_3 - V_4) + (V_3 -5) + (V_3 - V_1) = 0$\n",
    "- v2: $(V_2 - V_4) + (V_2 - 0) + (V_2 - V_1) = 0$\n",
    "- v1: $(V_1 - V_3) + (V_1 - 0) + (V_1 - V_2) + (V_1 - V_4) = 0$\n",
    "- v4: $(V_4 - 5) + (V_4 - V_3) + (V_4 - V_2) + (V_4 - V_1) = 0$"
   ]
  },
  {
   "cell_type": "markdown",
   "metadata": {
    "deletable": true,
    "editable": true
   },
   "source": [
    "### Simplify\n",
    "- v3: $ 3V_3 - V_4 - 5  - V_1 = 0$\n",
    "- v2: $3 V_2 - V_4 - V_1      = 0$\n",
    "- v1: $4 V_1 - V_3 - V_2 - V_4 = 0$\n",
    "- v4: $4 V_4 - 5 - V_3  - V_2 - V_1  = 0$\n",
    "\n",
    "### Sort\n",
    "\n",
    "$$\n",
    "- V_1 + 0V_2 + 3 V_3 - V_4 = 5 \n",
    "$$\n",
    "\n",
    "$$\n",
    "- V_1 +3 V_2  + 0V_3 - V_4 = 0 \n",
    "$$\n",
    "\n",
    "$$\n",
    "4 V_1 - V_2 - V_3 - V_4 = 0   \n",
    "$$\n",
    "\n",
    "$$\n",
    "- V_1  - V_2 - V_3 + 4V_4 = 5 \n",
    "$$\n",
    "\n",
    "### Set up coefficient matrix $A$ and RHS vector $\\vec{u}$"
   ]
  },
  {
   "cell_type": "markdown",
   "metadata": {
    "deletable": true,
    "editable": true
   },
   "source": [
    "$\\matrix{A} \\cdot \\vec{v} = \\vec{u}$ which can be solved with your own Gaussian elimination, or with `numpy.linalg.solve`, see [Week 10, Lecture1 at the end](./Lecture.1.ipynb)."
   ]
  },
  {
   "cell_type": "markdown",
   "metadata": {
    "deletable": true,
    "editable": true
   },
   "source": [
    "# soln\n",
    "[ 2.          1.66666667  3.33333333  3.        ]\n",
    "\n",
    "This answer does not seem unreasonable. \n",
    "* The difference between $V_1$ and $V_4$ is smaller than that between $V_2$ and $V_3$, which makes sense because there is a a direct connection between junction $1$ and $4$, but not between $2$ and $3$.\n",
    "* all voltages are between ground and $V_\\mathrm{Rail}$\n",
    "* the voltages are symmetric, as they should be"
   ]
  },
  {
   "cell_type": "code",
   "execution_count": null,
   "metadata": {
    "collapsed": true,
    "deletable": true,
    "editable": true
   },
   "outputs": [],
   "source": []
  }
 ],
 "metadata": {
  "anaconda-cloud": {},
  "kernelspec": {
   "display_name": "Python 3",
   "language": "python",
   "name": "python3"
  },
  "language_info": {
   "codemirror_mode": {
    "name": "ipython",
    "version": 3
   },
   "file_extension": ".py",
   "mimetype": "text/x-python",
   "name": "python",
   "nbconvert_exporter": "python",
   "pygments_lexer": "ipython3",
   "version": "3.5.2"
  }
 },
 "nbformat": 4,
 "nbformat_minor": 1
}
