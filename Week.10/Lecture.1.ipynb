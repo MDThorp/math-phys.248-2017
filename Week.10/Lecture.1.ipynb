{
 "cells": [
  {
   "cell_type": "markdown",
   "metadata": {
    "deletable": true,
    "editable": true
   },
   "source": [
    "# Linear Algebra: Systems of equations\n",
    "\n",
    "* Many problems require finding solutions to systems of linear equations.\n",
    "* One example would be solving coupled ODEs with multiple variables, such as the skydiver problem with side wind, or a couple system of nuclear or chemical reactions, a so-called network.\n",
    "* Here we want to solve another example of this type of equations, a circuit of resistors.\n",
    "* We will do this via Gaussian elimination.\n",
    "* As a warming-up exercise we will look at matrix operations that represent linear transformations. \n",
    "\n",
    "### prerequisites\n",
    "* how to add a method to your own library, how to import it and use it: Week 4, Lecture 1\n",
    "* how to mount a host folder to your VM to move all user data there and keep enough space for system installations on your VM disk:  [Week 4, Lecture 1](https://github.com/delooper/math-phys.248-2017/blob/master/Week.4/Lecture.1.ipynb)."
   ]
  },
  {
   "cell_type": "markdown",
   "metadata": {},
   "source": [
    "## Linear transfromations\n",
    "As a warming-up exercise we consider linear transformations of  \n",
    "2D set of points (or any object). \n",
    "We can use matrices to express linear transformations for such point sets, such as reflection, rotation or scaling, see [Examples of linear transformation matrices](https://en.wikipedia.org/wiki/Linear_map). Let's implement a framework to experiment with such linear maps. \n"
   ]
  },
  {
   "cell_type": "code",
   "execution_count": null,
   "metadata": {
    "collapsed": true
   },
   "outputs": [],
   "source": []
  },
  {
   "cell_type": "markdown",
   "metadata": {
    "deletable": true,
    "editable": true
   },
   "source": [
    "## Circuit of resistors\n",
    "### The problem\n",
    "A circuit of resistors, all with the same resistance, connects ground with a power rail at the voltage $V_\\mathrm{Rail}$ as shown in this diagram: ![Resistor](../images/ResistorCircuit.jpg)\n",
    "\n",
    "A common problem in physics may involve that we  want to know the voltages at each of the junctions, $V_1, V_2, \\dots$ when $V_\\mathrm{Rail}$ is given and all resistors have the same  resistance $R$.\n",
    "\n",
    "The physics of this problem involves two aspects:\n",
    "1. Kirchhoff current law (a conservation law): The sum of all currents at any junction points must be zero.\n",
    "2. Ohm's law: The relation between current $I$, voltage $V$ and resistance is $$R = \\frac{V}{I}$$\n",
    "\n",
    "For the non-physicists - these fundamental electricitiy problems can be best understood in terms of the water analogy. \n",
    "\n",
    "### Set up equations\n",
    "* The current between two junctions is given by the voltage difference divided by the resistance (Ohm's law).\n",
    "* For each junction the sum of the currents into (or out of) the junction must be zero, i.e. in the voltage differences must contain the voltage at the junction with the same sign \n",
    "* Since the resistance is the same for all resistors it cancels and I we can ommit it right from the beginning. \n",
    "\n",
    "Let's start with the junction point 3:"
   ]
  },
  {
   "cell_type": "markdown",
   "metadata": {
    "deletable": true,
    "editable": true
   },
   "source": [
    "- v3: $(V_3 - V_4) + (V_3 -5) + (V_3 - V_1) = 0$"
   ]
  },
  {
   "cell_type": "markdown",
   "metadata": {
    "deletable": true,
    "editable": true
   },
   "source": [
    "You will complete the other equations in the Lab. You will simplify the equations in the four variables $V_1, V_2, V_3$ adn $V_4$. \n",
    "\n",
    "More generally you will end up with a coupled system of linear equations like this:\n",
    "\n",
    "$$\\begin{eqnarray*}\n",
    " 2 v_1 + 2 v_2 + 3 v_3 &= 1 \\\\ \n",
    " 4 v_1 + 5 v_2 + 5 v_3 &= 4 \\\\\n",
    " v_1 + 2 v_2 + v_3 &= 2\n",
    "\\end{eqnarray*}$$\n",
    "\n",
    "In this case you have three equations, three variables - this is solvable (unless the equations are not independent).  "
   ]
  },
  {
   "cell_type": "markdown",
   "metadata": {
    "deletable": true,
    "editable": true
   },
   "source": [
    "## Linear Algebra\n",
    "\n",
    "### Resources\n",
    "\n",
    "* Linear Algebra:\n",
    "    * Chapter 6 in [Newman: Computational Physics _with Python_](http://www-personal.umich.edu/~mejn/computational-physics)\n",
    "    * Chapter 4.4 in [Cunningham: Python in 24 hours](http://voyager.library.uvic.ca/vwebv/holdingsInfo?searchId=5015&recCount=25&recPointer=17&bibId=3208444) (available as ebook from the UVic library)\n",
    "* [Array creation in Python](http://docs.scipy.org/doc/numpy-1.10.1/user/basics.creation.html)\n",
    "* more Python programming with arrays for example in Chapter 5 in [Langtangen: A Primer on Scientific Programming with Python](http://voyager.library.uvic.ca/vwebv/holdingsInfo?searchId=4972&recCount=25&recPointer=13&bibId=2865846) (available as ebook from the UVic library)\n",
    "\n",
    "\n",
    "### Review of some basics\n",
    "Product of arrays and vectors:"
   ]
  },
  {
   "cell_type": "code",
   "execution_count": null,
   "metadata": {
    "collapsed": false,
    "deletable": true,
    "editable": true
   },
   "outputs": [],
   "source": [
    "a = [ 1, 2, 3] \n",
    "b = [4, 5, 6]\n",
    "a+b"
   ]
  },
  {
   "cell_type": "code",
   "execution_count": null,
   "metadata": {
    "collapsed": false,
    "deletable": true,
    "editable": true
   },
   "outputs": [],
   "source": [
    "import numpy as np\n",
    "u = np.array(a)\n",
    "v = np.array(b)\n",
    "u*v"
   ]
  },
  {
   "cell_type": "markdown",
   "metadata": {
    "deletable": true,
    "editable": true
   },
   "source": [
    "This is an element-wise operation and the result is again an error. This is not any of the vector operations that we are familiar. "
   ]
  },
  {
   "cell_type": "code",
   "execution_count": null,
   "metadata": {
    "collapsed": false,
    "deletable": true,
    "editable": true
   },
   "outputs": [],
   "source": [
    "def dot_prod(u,v):\n",
    "    '''\n",
    "    vector product\n",
    "    \n",
    "    input: two vectors of equal lenght\n",
    "    output: scalar \n",
    "        \n",
    "    '''\n",
    "    if len(u) is not len(v): \n",
    "        print(\"Error: vectors do not have same lenght.\")\n",
    "    uv_prod = 0\n",
    "    for i in range(len(u)):\n",
    "        uv_prod += u[i]*v[i]\n",
    "    return uv_prod\n",
    "\n",
    "dot_prod(u,v)"
   ]
  },
  {
   "cell_type": "markdown",
   "metadata": {
    "deletable": true,
    "editable": true
   },
   "source": [
    "Enter this method into your own library ...."
   ]
  },
  {
   "cell_type": "markdown",
   "metadata": {
    "deletable": true,
    "editable": true
   },
   "source": [
    "The dot product is also provided by numpy:"
   ]
  },
  {
   "cell_type": "code",
   "execution_count": null,
   "metadata": {
    "collapsed": false,
    "deletable": true,
    "editable": true
   },
   "outputs": [],
   "source": [
    "import numpy as np\n",
    "np.dot(u,v)"
   ]
  },
  {
   "cell_type": "markdown",
   "metadata": {
    "deletable": true,
    "editable": true
   },
   "source": [
    "### Gaussian elimination\n",
    "\n",
    "The above system of equations can be written as  $\\vec{u} = \\matrix{A} \\cdot \\vec{v}$ with \n",
    "\n",
    "$$\n",
    "\\matrix{A} = \\pmatrix{ 2 & 2 & 3 \\\\ \n",
    "                       4 & 5 & 5 \\\\\n",
    "                       1 & 2 & 1 }\n",
    "$$\n",
    "\n",
    "and $$\\vec{u} = \\pmatrix{1\\\\4\\\\2}.$$ The vector $\\vec{v}$ is the desired solution to the coupled system of linear equations given above. [Gaussian elimination](https://en.wikipedia.org/wiki/Gaussian_elimination) is a systematic method to accomplish this.\n",
    "\n",
    "Recall the important notion from linear algebra that the solution will not change if\n",
    "* we multiply an equation by any number, or if\n",
    "* we add and substract equations from each other. \n",
    "\n",
    "With this a scheme that finds numerically $vec{v}$ by using these rules looks like this:\n",
    "\n",
    "1. divide 1$^\\mathrm{st}$ equation by $a_{11} (= 2)$:\n",
    "$$\\begin{eqnarray*}\n",
    " v_1 + v_2 + \\frac{3}{2} v_3 &= \\frac{1}{2} \\\\ \n",
    " 4 v_1 + 5 v_2 + 5 v_3 &= 4 \\\\\n",
    " v_1 + 2 v_2 +  v_3 &= 2\n",
    "\\end{eqnarray*}$$\n",
    "2. substract $a_{21} (= 4)$ times 1$^\\mathrm{st}$ equation from 2$^\\mathrm{nd}$ equation:\n",
    "$$\\begin{eqnarray*}\n",
    " v_1 + 1 v_2 + \\frac{3}{2} v_3 &= \\frac{1}{2} \\\\ \n",
    "                   1 v_2 - 1 v_3 &= 2 \\\\\n",
    " v_1 + 2 v_2 + 1 v_3 &= 2\n",
    "\\end{eqnarray*}$$\n",
    "3. substract $a_{31} (= 1)$ times 1$^\\mathrm{st}$ equation from 3$^\\mathrm{rd}$ equation:\n",
    "$$\\begin{eqnarray*}\n",
    " v_1 + v_2 + \\frac{3}{2} v_3 &= \\frac{1}{2} \\\\ \n",
    "       v_2 -             v_3 &= 2 \\\\\n",
    "       v_2 - \\frac{1}{2} v_3 &= \\frac{3}{2}\n",
    "\\end{eqnarray*}$$\n",
    "the result is that the first column disappeared in all but the first row\n",
    "4. repeat for remaining set of equations excluding first row\n",
    "$$\\begin{eqnarray*}\n",
    " v_1 + v_2 + \\frac{3}{2} v_3 &= \\frac{1}{2} \\\\ \n",
    "       v_2 -             v_3 &= 2 \\\\\n",
    "             \\frac{1}{2} v_3 &= -\\frac{1}{2}\n",
    "\\end{eqnarray*}$$\n",
    "5. repeat until entire set of equations is in triangular form and last equation has only one variable\n",
    "6. backsubstitution: solve last equation, substitute into last-but-one, solve, substitute etc.\n",
    "\n",
    "The solution should be $$\\vec{v} = \\pmatrix{1 \\\\ 1 \\\\ -1 }$$ "
   ]
  },
  {
   "cell_type": "markdown",
   "metadata": {
    "deletable": true,
    "editable": true
   },
   "source": [
    "### Solution with numpy.linalg\n",
    "\n",
    "As an example we define a matrix $\\matrix{A}$ and carry out the dot product with a vector $vec{u}$. "
   ]
  },
  {
   "cell_type": "code",
   "execution_count": null,
   "metadata": {
    "collapsed": false,
    "deletable": true,
    "editable": true
   },
   "outputs": [],
   "source": [
    "import numpy as np\n",
    "A=np.matrix([[1,2],[1,1]])\n",
    "u=np.array([3,1])\n",
    "A.dot(u)"
   ]
  },
  {
   "cell_type": "markdown",
   "metadata": {},
   "source": [
    "$ \\matrix{A} \\cdot \\vec{u} = \\vec{v}$, given $\\vec{v}$ and $\\matrix{A}$ what is $\\vec{u}$?"
   ]
  },
  {
   "cell_type": "code",
   "execution_count": null,
   "metadata": {
    "collapsed": false,
    "deletable": true,
    "editable": true
   },
   "outputs": [],
   "source": [
    "v=np.array([5,4])\n",
    "np.linalg.solve(A,v)"
   ]
  }
 ],
 "metadata": {
  "anaconda-cloud": {},
  "kernelspec": {
   "display_name": "Python [default]",
   "language": "python",
   "name": "python3"
  },
  "language_info": {
   "codemirror_mode": {
    "name": "ipython",
    "version": 3
   },
   "file_extension": ".py",
   "mimetype": "text/x-python",
   "name": "python",
   "nbconvert_exporter": "python",
   "pygments_lexer": "ipython3",
   "version": "3.5.2"
  }
 },
 "nbformat": 4,
 "nbformat_minor": 1
}
