{
 "cells": [
  {
   "cell_type": "markdown",
   "metadata": {
    "deletable": true,
    "editable": true
   },
   "source": [
    "# Lab 1\n",
    "***Model solution***\n",
    "* Remember that there are always more than one good way to solve these problems. Use the model solution only as a guide.\n",
    "* This notebook contains each step in creating the solution, so that you can follow along. This notebook contains far more than you are expected to submit.\n",
    "\n",
    "I will add thiuse the method that loads the package dir from inside this notebook. That way my solution notebook stays self contained and the potential for user error is minimized. "
   ]
  },
  {
   "cell_type": "code",
   "execution_count": null,
   "metadata": {
    "collapsed": false,
    "deletable": true,
    "editable": true
   },
   "outputs": [],
   "source": [
    "import sys\n",
    "sys.path.append('../pylab')"
   ]
  },
  {
   "cell_type": "markdown",
   "metadata": {
    "deletable": true,
    "editable": true
   },
   "source": [
    "I will have to create a module `matrix.py` in you `../pylab` dir and then import it.\n",
    "This notebook assumes that you have that and that there are functions present, such as `matrix.dot_prod`\n",
    "that we discussed in previous classes. Alternatively use numpy operations, one example is given in cell 9."
   ]
  },
  {
   "cell_type": "code",
   "execution_count": null,
   "metadata": {
    "collapsed": false,
    "deletable": true,
    "editable": true
   },
   "outputs": [],
   "source": [
    "# from linalg import matrix as mx"
   ]
  },
  {
   "cell_type": "markdown",
   "metadata": {
    "deletable": true,
    "editable": true
   },
   "source": [
    "My first goal is to write a function that solves exactly the example given in class. Then I will test this function and demonstrate how it fails. I will briefly document such failure modes in the function's doc string. \n",
    "\n",
    "I am also using the ipython notebook magic command that loads matplotlib and numpy into the local namespace."
   ]
  },
  {
   "cell_type": "code",
   "execution_count": null,
   "metadata": {
    "collapsed": false,
    "deletable": true,
    "editable": true
   },
   "outputs": [],
   "source": [
    "%pylab nbagg"
   ]
  },
  {
   "cell_type": "markdown",
   "metadata": {
    "deletable": true,
    "editable": true
   },
   "source": [
    "### Setting up some test data:\n",
    "First I set up a vector $\\vec{u}$ as a numpy array. In order to set up the matrix I first define the column vectors `acn` where $n = 1,2,3$. Then I combine the column vectors into an array of arrays. "
   ]
  },
  {
   "cell_type": "code",
   "execution_count": null,
   "metadata": {
    "collapsed": false,
    "deletable": true,
    "editable": true
   },
   "outputs": [],
   "source": [
    "u = array([1,4,2])"
   ]
  },
  {
   "cell_type": "code",
   "execution_count": null,
   "metadata": {
    "collapsed": false,
    "deletable": true,
    "editable": true
   },
   "outputs": [],
   "source": [
    "ar1=array([2,2,3])\n",
    "ar2=array([4,5,5])\n",
    "ar3=array([1,2,1])\n",
    "A=array([ar1,ar2,ar3])\n",
    "print(A)"
   ]
  },
  {
   "cell_type": "markdown",
   "metadata": {
    "deletable": true,
    "editable": true
   },
   "source": [
    "The element [0,2] of A should be 3 because the standard notation is that the first index counts rows and the second counts columns."
   ]
  },
  {
   "cell_type": "code",
   "execution_count": null,
   "metadata": {
    "collapsed": false,
    "deletable": true,
    "editable": true
   },
   "outputs": [],
   "source": [
    "A[0,2]"
   ]
  },
  {
   "cell_type": "markdown",
   "metadata": {
    "deletable": true,
    "editable": true
   },
   "source": [
    "If I need the columns I can access them via the components of the transpose, e.g. the first column is:"
   ]
  },
  {
   "cell_type": "code",
   "execution_count": null,
   "metadata": {
    "collapsed": false,
    "deletable": true,
    "editable": true
   },
   "outputs": [],
   "source": [
    "A.T[0]"
   ]
  },
  {
   "cell_type": "markdown",
   "metadata": {
    "deletable": true,
    "editable": true
   },
   "source": [
    "### Matrix-vector multiplication:\n",
    "In class we drafted a routine that would carry out a dot product between vectors. I add that function to my `linalg/matrix` module (this is a file called `matrix.py` in the `mypylib/linalg` dir that I have imported above). The course notes tell me that the answer of solving the set of equations should be $$\\vec{v} = \\pmatrix{1 \\\\ 1 \\\\ -1 }.$$ I will define that vector and then try the dot product routine on $\\vec{u} \\cdot \\vec{v}$:"
   ]
  },
  {
   "cell_type": "code",
   "execution_count": null,
   "metadata": {
    "collapsed": true,
    "deletable": true,
    "editable": true
   },
   "outputs": [],
   "source": [
    "v = array([1,1,-1])"
   ]
  },
  {
   "cell_type": "code",
   "execution_count": null,
   "metadata": {
    "collapsed": false,
    "deletable": true,
    "editable": true
   },
   "outputs": [],
   "source": [
    "mx.dot_prod(u,v)\n",
    "# or use numpy dot product instead\n",
    "# u.dot(v)"
   ]
  },
  {
   "cell_type": "code",
   "execution_count": null,
   "metadata": {
    "collapsed": true,
    "deletable": true,
    "editable": true
   },
   "outputs": [],
   "source": [
    "# I have created a doc string! Let's see if it shows ok:\n",
    "# mx.dot_prod?"
   ]
  },
  {
   "cell_type": "markdown",
   "metadata": {
    "deletable": true,
    "editable": true
   },
   "source": [
    "Now we implement a matrix-vector multiplication and apply it to ${\\bf A} \\cdot \\vec{v}$"
   ]
  },
  {
   "cell_type": "code",
   "execution_count": null,
   "metadata": {
    "collapsed": true,
    "deletable": true,
    "editable": true
   },
   "outputs": [],
   "source": [
    "# the way I do it is to proto-type it first in the notebook and then \n",
    "# copy-paste it over to matrix.py. I will leave this cell in here this \n",
    "# time, just to document how I do it\n",
    "\n",
    "# I start with a copy of dot_prod and then modify it:\n",
    "def mat_vec_prod(A,v):\n",
    "    '''\n",
    "    returns matrix-vector product A*v\n",
    "    \n",
    "    Parameters:\n",
    "    -----------\n",
    "    A : array of arrays\n",
    "       matrix\n",
    "    v : array\n",
    "    \n",
    "    Returns:\n",
    "    --------\n",
    "        array, float\n",
    "        vector A*v\n",
    "        \n",
    "    Notes:\n",
    "    ------\n",
    "    https://en.wikipedia.org/wiki/Matrix_multiplication    \n",
    "    '''\n",
    "    \n",
    "    # tests\n",
    "    # len(v) == number of columns of A, which is len(A.T)    \n",
    "    if not len(v) == len(A.T): \n",
    "        print('Error in matrix.mat_vec_prod: not len(vector) == len(A.T)')\n",
    "        return \n",
    "\n",
    "    # output vector has length = numper of rows of A\n",
    "    u = zeros(len(A))\n",
    "    for i in range(len(u)):\n",
    "        # the ith component of u is the dot product of the ith row of A\n",
    "        # with the vector v\n",
    "        u[i] = mx.dot_prod(A[i],v)\n",
    "    return u\n"
   ]
  },
  {
   "cell_type": "code",
   "execution_count": null,
   "metadata": {
    "collapsed": false,
    "deletable": true,
    "editable": true
   },
   "outputs": [],
   "source": [
    "# just making sure A and v are still what I think they are\n",
    "A,v"
   ]
  },
  {
   "cell_type": "code",
   "execution_count": null,
   "metadata": {
    "collapsed": false,
    "deletable": true,
    "editable": true
   },
   "outputs": [],
   "source": [
    "# now let's test this:\n",
    "mat_vec_prod(A,v)"
   ]
  },
  {
   "cell_type": "code",
   "execution_count": null,
   "metadata": {
    "collapsed": false,
    "deletable": true,
    "editable": true
   },
   "outputs": [],
   "source": [
    "# let's try some other example, we need to make a simple case for which  \n",
    "# can easiy see if it works, and that would reveal some obvious problems, \n",
    "# e.g. if I duplicate the last row of A and repeat the mat-vec product\n",
    "# then I should get a length-4 vector back with the last component the \n",
    "# same as the second to last.\n",
    "#\n",
    "# After some experimenting I find that the following does what I want:\n",
    "B = vstack((A,A[-1]))               # vstack is a numpy function!"
   ]
  },
  {
   "cell_type": "code",
   "execution_count": null,
   "metadata": {
    "collapsed": false,
    "deletable": true,
    "editable": true
   },
   "outputs": [],
   "source": [
    "# Just checking:\n",
    "B"
   ]
  },
  {
   "cell_type": "code",
   "execution_count": null,
   "metadata": {
    "collapsed": false,
    "deletable": true,
    "editable": true
   },
   "outputs": [],
   "source": [
    "mat_vec_prod(B,v)"
   ]
  },
  {
   "cell_type": "markdown",
   "metadata": {
    "deletable": true,
    "editable": true
   },
   "source": [
    "### Adding the new function to the module:\n",
    "Now that this appears to be working I copy the `mat_vec_prod` function over to the `matrix.py` module. There are a few things to consider:\n",
    "* I need to import make numpy in matrix.py\n",
    "* when I have changed the matrix module and want use new things in it I need to reload the `mx` module here (you may think you can just execute the cell at the beginning that contains the `from linalg ... ` statement, but that does not work)\n",
    "* when I used the `dot_prod` function inside `mat_vec_prod` I had to refer to it using the module name as prefix, i.e. `mx.dot_prod`; however, inside the `matrix` module `dot_prod` is local to `mat_vec_prod`, so I can use it directly"
   ]
  },
  {
   "cell_type": "code",
   "execution_count": null,
   "metadata": {
    "collapsed": false,
    "deletable": true,
    "editable": true
   },
   "outputs": [],
   "source": [
    "#import imp      # after changing the module that I import it needs to \n",
    "#imp.reload(mx)  # be reloaded"
   ]
  },
  {
   "cell_type": "code",
   "execution_count": null,
   "metadata": {
    "collapsed": false,
    "deletable": true,
    "editable": true
   },
   "outputs": [],
   "source": [
    "mx.mat_vec_prod(B,v)"
   ]
  },
  {
   "cell_type": "markdown",
   "metadata": {
    "deletable": true,
    "editable": true
   },
   "source": [
    "### Gaussian elimination:"
   ]
  },
  {
   "cell_type": "code",
   "execution_count": null,
   "metadata": {
    "collapsed": false,
    "deletable": true,
    "editable": true
   },
   "outputs": [],
   "source": [
    "# reset A\n",
    "ar1=array([2,2,3])\n",
    "ar2=array([4,5,5])\n",
    "ar3=array([1,2,1])\n",
    "A=array([ar1,ar2,ar3])\n",
    "AA = copy(A)  # working copy, note: AA = A is just a pointer not a copy\n",
    "print(AA)"
   ]
  },
  {
   "cell_type": "markdown",
   "metadata": {
    "deletable": true,
    "editable": true
   },
   "source": [
    "I will start by performing the first step by hand. That will give me some ideas how to compactify and generalize the algorithm into a routine.\n",
    "\n",
    "1. divide 1$^\\mathrm{st}$ equation by $a_{11} (= 2)$:"
   ]
  },
  {
   "cell_type": "code",
   "execution_count": null,
   "metadata": {
    "collapsed": false,
    "deletable": true,
    "editable": true
   },
   "outputs": [],
   "source": [
    "# I will be working with rows:\n",
    "i=0\n",
    "AA[i] = AA[i]/AA[i,0]"
   ]
  },
  {
   "cell_type": "code",
   "execution_count": null,
   "metadata": {
    "collapsed": false,
    "deletable": true,
    "editable": true
   },
   "outputs": [],
   "source": [
    "AA"
   ]
  },
  {
   "cell_type": "markdown",
   "metadata": {
    "deletable": true,
    "editable": true
   },
   "source": [
    "Here we can see a problem. The last element in the first row should be $1.5$. The matrix `A` has data type`dtype('int64')`. It needs to be a float. I must check for this situation and change the dtype to float. "
   ]
  },
  {
   "cell_type": "code",
   "execution_count": null,
   "metadata": {
    "collapsed": false,
    "deletable": true,
    "editable": true
   },
   "outputs": [],
   "source": [
    "AA = A  # if the next if condition is wrong I still want to have A in the \n",
    "        # work copy AA\n",
    "if not 'float' in str(AA.dtype): # there are different types of floats\n",
    "    AA=A.astype(float) \n",
    "    # and integer data types, e.g. int32, int64\n",
    "    # and this way I am checking in the most general way\n",
    "    # I will also not overwrite A but create a new working array with the \n",
    "    # required float data type\n",
    "print(AA)"
   ]
  },
  {
   "cell_type": "code",
   "execution_count": null,
   "metadata": {
    "collapsed": true,
    "deletable": true,
    "editable": true
   },
   "outputs": [],
   "source": [
    "#  no try again\n",
    "i=0\n",
    "AA[i] = AA[i]/AA[i,0]"
   ]
  },
  {
   "cell_type": "code",
   "execution_count": null,
   "metadata": {
    "collapsed": false,
    "deletable": true,
    "editable": true
   },
   "outputs": [],
   "source": [
    "AA"
   ]
  },
  {
   "cell_type": "code",
   "execution_count": null,
   "metadata": {
    "collapsed": false,
    "deletable": true,
    "editable": true
   },
   "outputs": [],
   "source": [
    "# This loop allows me to perform step 2 and 3: \n",
    "i=0\n",
    "for j in range(i,len(A)): print(j)"
   ]
  },
  {
   "cell_type": "code",
   "execution_count": null,
   "metadata": {
    "collapsed": false,
    "deletable": true,
    "editable": true
   },
   "outputs": [],
   "source": [
    "i=0\n",
    "for j in range(i+1,len(AA)):\n",
    "    print (i,j)\n",
    "    AA[j] -= AA[j,0]*AA[i]\n",
    "    print(AA[j])"
   ]
  },
  {
   "cell_type": "code",
   "execution_count": null,
   "metadata": {
    "collapsed": false,
    "deletable": true,
    "editable": true
   },
   "outputs": [],
   "source": [
    "AA"
   ]
  },
  {
   "cell_type": "markdown",
   "metadata": {
    "deletable": true,
    "editable": true
   },
   "source": [
    "Now, I will repeat this with `i=1` [I discover that of course the second index in `AA[j,0]` needs to be updated as well"
   ]
  },
  {
   "cell_type": "code",
   "execution_count": null,
   "metadata": {
    "collapsed": false,
    "deletable": true,
    "editable": true
   },
   "outputs": [],
   "source": [
    "i=1\n",
    "AA[i] = AA[i]/AA[i,i]\n",
    "for j in range(i+1,len(AA)):\n",
    "    print (i,j)\n",
    "    AA[j] -= AA[j,i]*AA[i]\n",
    "    print(AA[j])"
   ]
  },
  {
   "cell_type": "code",
   "execution_count": null,
   "metadata": {
    "collapsed": false,
    "deletable": true,
    "editable": true
   },
   "outputs": [],
   "source": [
    "# check that AA and u are still what they should be, if not \n",
    "# reset by going back to the cell:\n",
    "AA,u"
   ]
  },
  {
   "cell_type": "markdown",
   "metadata": {
    "deletable": true,
    "editable": true
   },
   "source": [
    "Executing that cell again with `i=2` will give me the desired diagonal form. Now, one thing I forgot is that I need to apply the same operation to the right-hand side, i.e. $\\vec{u}$. The easiest way to do this is to add $\\vec{u}$ as an additional column to my working copy `AA` of the matrix `A`. I can use numpy `vstack` for that again, but add to `A.T` instead of `A`, and then take the transpose again:"
   ]
  },
  {
   "cell_type": "code",
   "execution_count": null,
   "metadata": {
    "collapsed": false,
    "deletable": true,
    "editable": true
   },
   "outputs": [],
   "source": [
    "BB = vstack((AA.T,u)).T               # vstack is a numpy function!\n",
    "print(BB)"
   ]
  },
  {
   "cell_type": "markdown",
   "metadata": {
    "deletable": true,
    "editable": true
   },
   "source": [
    "I believe I have everything in place to calculate the diagonal form. I will put the code fragments together as a function in the `matrix.py` module. Again, I will start with a copy of a previous function."
   ]
  },
  {
   "cell_type": "code",
   "execution_count": null,
   "metadata": {
    "collapsed": false,
    "deletable": true,
    "editable": true
   },
   "outputs": [],
   "source": [
    "# Testing:\n",
    "# import imp      \n",
    "# imp.reload(mx)"
   ]
  },
  {
   "cell_type": "code",
   "execution_count": null,
   "metadata": {
    "collapsed": false,
    "deletable": true,
    "editable": true
   },
   "outputs": [],
   "source": [
    "BB,v=mx.gauss_elim(A,u)"
   ]
  },
  {
   "cell_type": "code",
   "execution_count": null,
   "metadata": {
    "collapsed": false,
    "deletable": true,
    "editable": true
   },
   "outputs": [],
   "source": [
    "BB,v"
   ]
  },
  {
   "cell_type": "markdown",
   "metadata": {
    "deletable": true,
    "editable": true
   },
   "source": [
    "Now we just need to implement the back-substitution"
   ]
  },
  {
   "cell_type": "code",
   "execution_count": null,
   "metadata": {
    "collapsed": false,
    "deletable": true,
    "editable": true
   },
   "outputs": [],
   "source": [
    "m  = len(A)-1     # highest row/col index (we do only square matrices)\n",
    "v  = zeros(m+1,float) \n",
    "u  = BB.T[-1]       # extract RHS\n",
    "AA = delete(BB,m+1,1) # recover diagonalized coefficient matrix  "
   ]
  },
  {
   "cell_type": "code",
   "execution_count": null,
   "metadata": {
    "collapsed": false,
    "deletable": true,
    "editable": true
   },
   "outputs": [],
   "source": [
    "# AA"
   ]
  },
  {
   "cell_type": "code",
   "execution_count": null,
   "metadata": {
    "collapsed": false,
    "deletable": true,
    "editable": true
   },
   "outputs": [],
   "source": [
    "v[m] = u[m]"
   ]
  },
  {
   "cell_type": "code",
   "execution_count": null,
   "metadata": {
    "collapsed": false,
    "deletable": true,
    "editable": true
   },
   "outputs": [],
   "source": [
    "v"
   ]
  },
  {
   "cell_type": "code",
   "execution_count": null,
   "metadata": {
    "collapsed": true,
    "deletable": true,
    "editable": true
   },
   "outputs": [],
   "source": [
    "v[m-1] = u[m-1] - v[m]*AA[m-1,m]"
   ]
  },
  {
   "cell_type": "code",
   "execution_count": null,
   "metadata": {
    "collapsed": false,
    "deletable": true,
    "editable": true
   },
   "outputs": [],
   "source": [
    "v"
   ]
  },
  {
   "cell_type": "code",
   "execution_count": null,
   "metadata": {
    "collapsed": false,
    "deletable": true,
    "editable": true
   },
   "outputs": [],
   "source": [
    "v[m-2] = u[m-2] - v[m]*AA[m-2,m] - v[m-1]*AA[m-2,m-1]"
   ]
  },
  {
   "cell_type": "code",
   "execution_count": null,
   "metadata": {
    "collapsed": false,
    "deletable": true,
    "editable": true
   },
   "outputs": [],
   "source": [
    "v"
   ]
  },
  {
   "cell_type": "markdown",
   "metadata": {
    "deletable": true,
    "editable": true
   },
   "source": [
    "This can be made into a loop. However, I realize that this can be generalized in the following way. If we go backwards and initialize `v` as `zeros()` then I may just always subtract from the u component the dot product of `v` and the respective row of `AA`:"
   ]
  },
  {
   "cell_type": "code",
   "execution_count": null,
   "metadata": {
    "collapsed": false,
    "deletable": true,
    "editable": true
   },
   "outputs": [],
   "source": [
    "for j in range(m,-1,-1): print(j)"
   ]
  },
  {
   "cell_type": "code",
   "execution_count": null,
   "metadata": {
    "collapsed": false,
    "deletable": true,
    "editable": true
   },
   "outputs": [],
   "source": [
    "# reset AA and u:\n",
    "AA,u"
   ]
  },
  {
   "cell_type": "code",
   "execution_count": null,
   "metadata": {
    "collapsed": false,
    "deletable": true,
    "editable": true
   },
   "outputs": [],
   "source": [
    "for j in range(m,-1,-1):\n",
    "    v[j] = u[j] - mx.dot_prod(v,AA[j])"
   ]
  },
  {
   "cell_type": "code",
   "execution_count": null,
   "metadata": {
    "collapsed": false,
    "deletable": true,
    "editable": true
   },
   "outputs": [],
   "source": [
    "v    "
   ]
  },
  {
   "cell_type": "code",
   "execution_count": null,
   "metadata": {
    "collapsed": false,
    "deletable": true,
    "editable": true
   },
   "outputs": [],
   "source": [
    "# add all this to function in matrix module and reload and test\n",
    "imp.reload(mx)"
   ]
  },
  {
   "cell_type": "code",
   "execution_count": null,
   "metadata": {
    "collapsed": true,
    "deletable": true,
    "editable": true
   },
   "outputs": [],
   "source": [
    "u = array([1,4,2])"
   ]
  },
  {
   "cell_type": "code",
   "execution_count": null,
   "metadata": {
    "collapsed": false,
    "deletable": true,
    "editable": true
   },
   "outputs": [],
   "source": [
    "ar1=array([2,2,3])\n",
    "ar2=array([4,5,5])\n",
    "ar3=array([1,2,1])\n",
    "A=array([ar1,ar2,ar3])\n",
    "print(A)"
   ]
  },
  {
   "cell_type": "code",
   "execution_count": null,
   "metadata": {
    "collapsed": false,
    "deletable": true,
    "editable": true
   },
   "outputs": [],
   "source": [
    "mx.gauss_elim(A,u)[1]"
   ]
  }
 ],
 "metadata": {
  "kernelspec": {
   "display_name": "Python 3",
   "language": "python",
   "name": "python3"
  },
  "language_info": {
   "codemirror_mode": {
    "name": "ipython",
    "version": 3
   },
   "file_extension": ".py",
   "mimetype": "text/x-python",
   "name": "python",
   "nbconvert_exporter": "python",
   "pygments_lexer": "ipython3",
   "version": "3.5.2"
  }
 },
 "nbformat": 4,
 "nbformat_minor": 0
}
