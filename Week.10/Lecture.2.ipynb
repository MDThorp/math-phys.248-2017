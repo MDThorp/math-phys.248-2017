{
 "cells": [
  {
   "cell_type": "markdown",
   "metadata": {
    "deletable": true,
    "editable": true
   },
   "source": [
    "# Root finding and implicit ODEs\n",
    "\n",
    "With the linear algebra techniques of solving coupled systems of equations we can now construct solutions to coupled ODEs. As an example we will write a nuclear network code. Such networks exhibit an ODE behaviour that is called _stiff_. Coefficients in stiff ODE systems have a very large range, which implies that the explicit solution scheme we have used so far would demand taking very small time steps to calculate details of the solutions that are not relevant. The solution is to adopt an implicit scheme. It involves numerical root-finding with the Newton-Raphson method. \n",
    "\n",
    "* Newton-Raphson root finding\n",
    "* implicit solution of ODEs using Newton-Raphson\n",
    "* solving coupled systems of ODEs"
   ]
  },
  {
   "cell_type": "markdown",
   "metadata": {
    "deletable": true,
    "editable": true
   },
   "source": [
    "## Root finding: Newton-Raphson method\n",
    "\n",
    "**Literature: ** Numerical Recipes, Chapter 9.0 and 9.4 \n",
    "\n",
    "Root-finding is required in many applications of computational physics. It is at the core of the fundamental task to solve an equation numerically. Any equation with a right-hand and left-hand side can be rearranged to \n",
    "$$ f(x) = 0.$$\n",
    "If the there is only one independent variable we have just a one-dimensional problem. The Newton-Raphson method is a robust and easy method to find the root of a function. It has very fast convergence if there is a good initial guess, but it has - like other methods - several pathologies that one needs to be aware off. One of its advantages is that it does generalize to multiple dimensions in a straight-forward way. \n",
    "\n",
    "### Mathematical idea of the method\n",
    "\n",
    "The method starts with a good initial guess $x_{ini}$ of the root. Evaluating the function and the derivative for the initial guess provides a correction $\\delta$ toward the actual root $x'$."
   ]
  },
  {
   "cell_type": "markdown",
   "metadata": {
    "deletable": true,
    "editable": true
   },
   "source": [
    "![nr-method](../images/NR_scheme.jpg)\n",
    "\n",
    "We can then repeat this improvement until a termination criterion certifies that the solution is good enough. \n",
    "\n",
    "### Algorithm\n",
    "Once we have the basic idea and mathematical formulation of the method in place, and before we actually start the coding it often is useful to write our strategy down in the form of an algorithm.\n",
    "\n",
    "![nr-algorithm](../images/NR_algorithm.jpg)\n",
    "\n",
    "\n",
    "### Termination condition\n",
    "\n",
    "The termination conditions determine if a solution is good enough to\n",
    "be accepted. Really, we are checking on the precision with which the\n",
    "solution is satisfying the discretized equation. The termination\n",
    "conditions for the NR method may include the following:\n",
    "\n",
    "- $\\delta < \\delta_{lim}$: corrections are smaller than some limit\n",
    "- the function evaluation is smaller than some limit, i.e. close to zero: $f(x_n)< \\epsilon_{fmax}$ \n",
    "\n",
    "### Pathological cases\n",
    "\n",
    "This termination condition can check on a number of things, and the\n",
    "particular choices may depend on the particular problem. Before\n",
    "writing down the termination conditions it makes sense to anticipate\n",
    "pathological cases, i.e. situations in which this method will fail:\n",
    "\n",
    "- higher-order terms are important, and initial guess is not good enough $\\rightarrow$ the method will send you off to infinity\n",
    "- non-convergent cycles: there could be a case, for example, when table look-up is involved in calculating the derivative, that correction are bouncing the guess from \n",
    "one side of the root to the other indefinitely without ever coming closer\n",
    "- there could be multiple roots, and the one the NR method is finding is only a local root selected by the choice of initial guess.\n",
    "\n",
    "Note that all methods have pathologies, or in other words, have their\n",
    "particular weaknesses and strength. Selecting the most appropriate\n",
    "method for a particular problem requires you to consider the\n",
    "advantages and disadvantages of different methods.\n",
    "\n",
    "\n",
    "The following remedies can be added to the termination conditions to accomodate the pathological cases:\n",
    "\n",
    "- corrections are monotonically decreasing\n",
    "- limit maximum number of iterations \n",
    "- restart iterations with different initial guess\n"
   ]
  },
  {
   "cell_type": "markdown",
   "metadata": {
    "deletable": true,
    "editable": true
   },
   "source": [
    "### Example\n",
    "Let's explore some of the pathologies that can be encountered with an example.\n",
    "\n",
    "$$ f(x) = x^3 + 3x^2 -3 $$"
   ]
  },
  {
   "cell_type": "code",
   "execution_count": null,
   "metadata": {
    "collapsed": false,
    "deletable": true,
    "editable": true,
    "scrolled": true
   },
   "outputs": [],
   "source": [
    "%pylab nbagg "
   ]
  },
  {
   "cell_type": "code",
   "execution_count": null,
   "metadata": {
    "collapsed": true,
    "deletable": true,
    "editable": true,
    "scrolled": true
   },
   "outputs": [],
   "source": [
    "# We will need the function \n",
    "f = lambda x: x**3 + 3*x**2 - 3\n",
    "\n",
    "# and the derivative\n",
    "def derivs(f,x,h):\n",
    "    '''\n",
    "    Return 1st order numerical derivative\n",
    "    \n",
    "    f : function\n",
    "    x : x value to evaluate derivative\n",
    "    h : interval in x for derivative\n",
    "    '''\n",
    "    \n",
    "    dfdx = (f(x+h) - f(x))/h\n",
    "    return dfdx\n",
    " "
   ]
  },
  {
   "cell_type": "code",
   "execution_count": null,
   "metadata": {
    "collapsed": false,
    "deletable": true,
    "editable": true
   },
   "outputs": [],
   "source": [
    "# visual inspection\n",
    "x = linspace(-3,1.5,40)\n",
    "plot(x,f(x))\n",
    "axhline(color='k',linestyle='dashed')"
   ]
  },
  {
   "cell_type": "code",
   "execution_count": null,
   "metadata": {
    "collapsed": false,
    "deletable": true,
    "editable": true,
    "scrolled": true
   },
   "outputs": [],
   "source": [
    "h = 0.01\n",
    "#xx = 0.6\n",
    "xx = -0.2\n",
    "xx = -0.2\n",
    "#xx = -2.0\n",
    "#xx = -2.01; h=0.01\n",
    "plot(xx,f(xx),'v')"
   ]
  },
  {
   "cell_type": "code",
   "execution_count": null,
   "metadata": {
    "collapsed": false,
    "deletable": true,
    "editable": true,
    "scrolled": true
   },
   "outputs": [],
   "source": [
    "x = xx\n",
    "delta = -f(x)/derivs(f,x,h)\n",
    "xx = x + delta\n",
    "print(xx,f(xx))\n",
    "plot(xx,f(xx),'h')"
   ]
  }
 ],
 "metadata": {
  "anaconda-cloud": {},
  "kernelspec": {
   "display_name": "Python 3",
   "language": "python",
   "name": "python3"
  },
  "language_info": {
   "codemirror_mode": {
    "name": "ipython",
    "version": 3
   },
   "file_extension": ".py",
   "mimetype": "text/x-python",
   "name": "python",
   "nbconvert_exporter": "python",
   "pygments_lexer": "ipython3",
   "version": "3.5.2"
  }
 },
 "nbformat": 4,
 "nbformat_minor": 1
}
