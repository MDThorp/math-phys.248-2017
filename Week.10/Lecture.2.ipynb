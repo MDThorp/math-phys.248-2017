{
 "cells": [
  {
   "cell_type": "markdown",
   "metadata": {
    "deletable": true,
    "editable": true
   },
   "source": [
    "# Implicit solutions to coupled systems of ODEs\n",
    "\n",
    "With the linear algebra techniques of solving coupled systems of equations we can now construct solutions to coupled ODEs. As an example we will write a nuclear network code. Such networks exhibit an ODE behaviour that is called _stiff_. Coefficients in stiff ODE systems have a very large range, which implies that the explicit solution scheme we have used so far would demand taking very small time steps to calculate details of the solutions that are not relevant. The solution is to adopt an implicit scheme. It involves numerical root-finding with the Newton-Raphson method. \n",
    "\n",
    "* Newton-Raphson root finding\n",
    "* implicit solution of ODEs using Newton-Raphson\n",
    "* solving coupled systems of ODEs"
   ]
  },
  {
   "cell_type": "markdown",
   "metadata": {
    "deletable": true,
    "editable": true
   },
   "source": [
    "## Root finding: Newton-Raphson method\n",
    "\n",
    "**Literature: ** Numerical Recipes, Chapter 9.0 and 9.4 \n",
    "\n",
    "Root-finding is required in many applications of computational physics. It is at the core of the fundamental task to solve an equation numerically. Any equation with a right-hand and left-hand side can be rearranged to \n",
    "$$ f(x) = 0.$$\n",
    "If the there is only one independent variable we have just a one-dimensional problem. The Newton-Raphson method is a robust and easy method to find the root of a function. It has very fast convergence if there is a good initial guess, but it has - like other methods - several pathologies that one needs to be aware off. One of its advantages is that it does generalize to multiple dimensions in a straight-forward way. \n",
    "\n",
    "### Mathematical idea of the method\n",
    "\n",
    "The method starts with a good initial guess $x_{ini}$ of the root. Evaluating the function and the derivative for the initial guess provides a correction $\\delta$ toward the actual root $x'$."
   ]
  },
  {
   "cell_type": "markdown",
   "metadata": {
    "deletable": true,
    "editable": true
   },
   "source": [
    "![nr-method](../images/NR_scheme.jpg)\n",
    "\n",
    "We can then repeat this improvement until a termination criterion certifies that the solution is good enough. \n",
    "\n",
    "### Algorithm\n",
    "Once we have the basic idea and mathematical formulation of the method in place, and before we actually start the coding it often is useful to write our strategy down in the form of an algorithm.\n",
    "\n",
    "![nr-algorithm](../images/NR_algorithm.jpg)\n",
    "\n",
    "\n",
    "### Termination condition\n",
    "\n",
    "The termination conditions determine if a solution is good enough to\n",
    "be accepted. Really, we are checking on the precision with which the\n",
    "solution is satisfying the discretized equation. The termination\n",
    "conditions for the NR method may include the following:\n",
    "\n",
    "- $\\delta < \\delta_{lim}$: corrections are smaller than some limit\n",
    "- the function evaluation is smaller than some limit, i.e. close to zero: $f(x_n)< \\epsilon_{fmax}$ \n",
    "\n",
    "### Pathological cases\n",
    "\n",
    "This termination condition can check on a number of things, and the\n",
    "particular choices may depend on the particular problem. Before\n",
    "writing down the termination conditions it makes sense to anticipate\n",
    "pathological cases, i.e. situations in which this method will fail:\n",
    "\n",
    "- higher-order terms are important, and initial guess is not good enough $\\rightarrow$ the method will send you off to infinity\n",
    "- non-convergent cycles: there could be a case, for example, when table look-up is involved in calculating the derivative, that correction are bouncing the guess from \n",
    "one side of the root to the other indefinitely without ever coming closer\n",
    "- there could be multiple roots, and the one the NR method is finding is only a local root selected by the choice of initial guess.\n",
    "\n",
    "Note that all methods have pathologies, or in other words, have their\n",
    "particular weaknesses and strength. Selecting the most appropriate\n",
    "method for a particular problem requires you to consider the\n",
    "advantages and disadvantages of different methods.\n",
    "\n",
    "\n",
    "The following remedies can be added to the termination conditions to accomodate the pathological cases:\n",
    "\n",
    "- corrections are monotonically decreasing\n",
    "- limit maximum number of iterations \n",
    "- restart iterations with different initial guess\n"
   ]
  },
  {
   "cell_type": "markdown",
   "metadata": {
    "deletable": true,
    "editable": true
   },
   "source": [
    "### Example\n",
    "Let's explore some of the pathologies that can be encountered with an example.\n",
    "\n",
    "$$ f(x) = x^3 + 3x^2 -3 $$"
   ]
  },
  {
   "cell_type": "code",
   "execution_count": null,
   "metadata": {
    "collapsed": false,
    "deletable": true,
    "editable": true
   },
   "outputs": [],
   "source": [
    "%pylab nbagg "
   ]
  },
  {
   "cell_type": "code",
   "execution_count": null,
   "metadata": {
    "collapsed": true,
    "deletable": true,
    "editable": true
   },
   "outputs": [],
   "source": [
    "# We will need the function \n",
    "f = lambda x: x**3 +3*x**2-3\n",
    "\n",
    "# and the derivative\n",
    "def derivs(f,x,h):\n",
    "    '''\n",
    "    Return 1st order numerical derivative\n",
    "    \n",
    "    f : function\n",
    "    x : x value to evaluate derivative\n",
    "    h : interval in x for derivative\n",
    "    '''\n",
    "    dfdx = (f(x+h) - f(x)) /h\n",
    "    return dfdx\n",
    "   \n",
    " "
   ]
  },
  {
   "cell_type": "code",
   "execution_count": null,
   "metadata": {
    "collapsed": false,
    "deletable": true,
    "editable": true
   },
   "outputs": [],
   "source": [
    "# visual inspection\n",
    "close(1); figure(1)\n",
    "x = linspace(-3,1.5,400)\n",
    "plot(x, f(x))\n",
    "axhline(color='k',linestyle='dashed')"
   ]
  },
  {
   "cell_type": "code",
   "execution_count": null,
   "metadata": {
    "collapsed": false,
    "deletable": true,
    "editable": true
   },
   "outputs": [],
   "source": [
    "h = 0.01\n",
    "# different cases for xx\n",
    "xx = 0.6\n",
    "#xx = -0.2\n",
    "#xx = -2.01\n",
    "plot(xx,f(xx),'*')"
   ]
  },
  {
   "cell_type": "code",
   "execution_count": null,
   "metadata": {
    "collapsed": false,
    "deletable": true,
    "editable": true
   },
   "outputs": [],
   "source": [
    "# do on NR iteration\n",
    "x = xx\n",
    "delta = -f(x)/derivs(f,x,h)\n",
    "xx = x + delta\n",
    "plot(xx,f(xx),'h')\n",
    "# repeat?"
   ]
  },
  {
   "cell_type": "code",
   "execution_count": null,
   "metadata": {
    "collapsed": false,
    "deletable": true,
    "editable": true
   },
   "outputs": [],
   "source": [
    "xx, f(xx)\n"
   ]
  },
  {
   "cell_type": "markdown",
   "metadata": {
    "deletable": true,
    "editable": true
   },
   "source": [
    "## Implicit ODE with Newton-Raphson\n",
    "The Newton-Raphson method can be used as well for an alternative\n",
    "approach to integrating ODEs, such as the one that appeared in the sky diver\n",
    "problem. So far we have used an _explicit_ forward integration which\n",
    "involves evaluating the RHS of the ODE using the know velocity\n",
    "$ v_n $ at the present time to get the value of the\n",
    "velocity at the next time step $ n+1 $. In cases where\n",
    "we are interested in the longer-term behaviour, and where we are\n",
    "required to take larger time steps this may not work very well. In\n",
    "that case we want to evaluate the RHS for $ v(n+1) $, and we have\n",
    "an _implicit_ solution scheme. Especially for large coupled systems of\n",
    "ODEs implicit schemes often provide the numerical stability to find a\n",
    "solution at all. The implicit solution involves an iterative approach,\n",
    "and we can use again the Newton-Raphson method:\n",
    "![nr-method](../images/NR_for_ODEs.jpg)\n",
    "\n",
    "As you can see the basic strategy is to put everything on one side,\n",
    "give it a name $ G(v_{n+1})$, set this function to zero and\n",
    "solve it by Newton-Raphson. The beauty is that this idea can be easily\n",
    "expanded to systems of ODEs with many variables. In physics this \n",
    "method is for example used for large reaction rate networks involving\n",
    "thousands of isotopes, solving radiation transfer problems or computing the evolution of stars in spherical symmetry according to the conservation laws of mass, momentum and energy.\n",
    "\n",
    "Let's implement the skydiver problem as an implicit solution. Recall that the differential equation was just $$ \\frac{dv}{dt} = -g +  k v^2$$ and we may add the equation for the height of the skydiver $$ \\frac{dh}{dt} = v$$ (see Lecture 2 in Week 4). The explicit solution scheme is $$ v_{n+1} = v_{n} +dt( -g +  k v_{n}^2),$$ whereas the implicit solution would be $$ v_{n+1} = v_{n} +dt( -g +  k v_{n+1}^2).$$\n",
    "\n",
    "#### Explicit:"
   ]
  },
  {
   "cell_type": "code",
   "execution_count": null,
   "metadata": {
    "collapsed": true,
    "deletable": true,
    "editable": true
   },
   "outputs": [],
   "source": [
    "k = 0.0022; g = 9.8\n",
    "v_t = sqrt(g/k)\n",
    "h   = 2000   # jump-off height [m]\n",
    "h_p = 300    # end of free flight, pull parachute height [m]"
   ]
  },
  {
   "cell_type": "code",
   "execution_count": null,
   "metadata": {
    "collapsed": true,
    "deletable": true,
    "editable": true
   },
   "outputs": [],
   "source": [
    "  # typical spatial step at terminal velocity [m]\n",
    "  # time step?"
   ]
  },
  {
   "cell_type": "code",
   "execution_count": null,
   "metadata": {
    "collapsed": false,
    "deletable": true,
    "editable": true
   },
   "outputs": [],
   "source": [
    "def rhs_sdiver(x,dt):\n",
    "    'Evaluate RHS for skydiver problem, advance one time step'\n",
    " \n",
    "    return [h,v]"
   ]
  },
  {
   "cell_type": "code",
   "execution_count": null,
   "metadata": {
    "collapsed": false,
    "deletable": true,
    "editable": true
   },
   "outputs": [],
   "source": [
    "hv_all = []\n",
    "hv = array([h,0])\n",
    "\n",
    "# integrate until termination condition\n",
    "\n",
    "figure(3)\n",
    "plot(hv_10[0],hv_10[1])\n",
    "xlim(2100,250)\n",
    "xlabel('h / [m]')\n",
    "ylabel('v / [m/s]')"
   ]
  },
  {
   "cell_type": "code",
   "execution_count": null,
   "metadata": {
    "collapsed": false,
    "deletable": true,
    "editable": true
   },
   "outputs": [],
   "source": [
    "# v(t) instead of v(h)\n",
    "# maximum time? \n",
    "t_max = dt*(h-h_p)/dh"
   ]
  },
  {
   "cell_type": "code",
   "execution_count": null,
   "metadata": {
    "collapsed": false,
    "deletable": true,
    "editable": true,
    "scrolled": true
   },
   "outputs": [],
   "source": [
    "dh = [10,100, 300]\n",
    "close(2)\n",
    "figure(2)\n",
    "for this_dh in dh:\n",
    "    dt = this_dh / v_t\n",
    "    tv_all = [] # each element is [t, v]\n",
    "    hv = array([h,0]); t = 0\n",
    "    while t < t_max:\n",
    "        hv = rhs_sdiver(hv,dt)\n",
    "        t += dt\n",
    "        tv_all.append([t,hv[1]])\n",
    "    tv = array(tv_all).T\n",
    "    plot(tv[0],tv[1],label='dh='+str(this_dh)+'m')\n",
    "xlabel('t / [s]')\n",
    "ylabel('v / [m/s]')\n",
    "legend(loc=1)\n"
   ]
  },
  {
   "cell_type": "markdown",
   "metadata": {
    "deletable": true,
    "editable": true
   },
   "source": [
    "## Implicit solution\n",
    "Next we consider the **implicit** solution, which involves finding the root of $$ v_{n+1} = v_{n} +dt( -g +  k v_{n+1}^2)$$ where in each time step $v_{n+1}$ is the independent variable. In other words, if $$ G(v_{n+1}) =  - v_{n+1} + v_{n} +dt( -g +  k v_{n+1}^2)$$ then find for each time step $ G(v_{n+1}) = 0$.\n"
   ]
  },
  {
   "cell_type": "code",
   "execution_count": null,
   "metadata": {
    "collapsed": true,
    "deletable": true,
    "editable": true
   },
   "outputs": [],
   "source": [
    "G = ... \n"
   ]
  },
  {
   "cell_type": "code",
   "execution_count": null,
   "metadata": {
    "collapsed": false,
    "deletable": true,
    "editable": true
   },
   "outputs": [],
   "source": [
    "# plot result\n",
    "close(4)\n",
    "figure(4)\n",
    "x=linspace(-5,5)\n",
    "plot(x,G(x))\n",
    "axhline(color='k',linestyle='dashed')"
   ]
  },
  {
   "cell_type": "code",
   "execution_count": null,
   "metadata": {
    "collapsed": true,
    "deletable": true,
    "editable": true
   },
   "outputs": [],
   "source": [
    "xx=0; h=0.01"
   ]
  },
  {
   "cell_type": "code",
   "execution_count": null,
   "metadata": {
    "collapsed": false,
    "deletable": true,
    "editable": true
   },
   "outputs": [],
   "source": [
    "# one NR iteration step\n",
    "x = xx\n",
    "..."
   ]
  },
  {
   "cell_type": "code",
   "execution_count": null,
   "metadata": {
    "collapsed": false,
    "deletable": true,
    "editable": true
   },
   "outputs": [],
   "source": []
  },
  {
   "cell_type": "code",
   "execution_count": null,
   "metadata": {
    "collapsed": false,
    "deletable": true,
    "editable": true
   },
   "outputs": [],
   "source": [
    "# do all time steps, each as a number of NR iterations\n",
    "while tt < t_max:\n"
   ]
  },
  {
   "cell_type": "code",
   "execution_count": null,
   "metadata": {
    "collapsed": false,
    "deletable": true,
    "editable": true
   },
   "outputs": [],
   "source": [
    "figure(2) \n",
    "plot(t,v,':',label='implicit_lr')\n",
    "legend()"
   ]
  },
  {
   "cell_type": "markdown",
   "metadata": {
    "deletable": true,
    "editable": true
   },
   "source": [
    "## Implicit solution for systems of ODEs\n",
    "\n",
    "If we do want to know the height as well as the position of the sky diver then we have a coupled system of ODEs, in discretized, inmplicit form:\n",
    "\n",
    "$$ v_{n+1} = v_{n} +dt( -g +  k v_{n+1}^2)\\\\\n",
    "h_{n+1} = h_{n} +dt v_{n+1}$$\n",
    "\n",
    "and in terms of the function we have to find the root for\n",
    "\n",
    "$$ G_1(v_{n+1}) = - v_{n+1} + v_{n} +dt( -g +  k v_{n+1}^2)\\\\\n",
    "G_2(h_{n+1}) = -h_{n+1} + h_{n} +dt v_{n+1}$$\n",
    " \n",
    "and with $Y_1 = v_{n+1}$ and $Y_2 = h_{n+1}$ and $c_1 = v_{n} - dt\\, g$ and $c_2 = h_{n}$\n",
    "\n",
    "$$ G_1(Y_1) = - Y_1 + c_1 + dt\\,k\\, Y_1^2\\\\\n",
    "G_2(Y_2) = -Y_2 + c_2 + dt\\, Y_1 $$\n",
    "\n",
    "or \n",
    "\n",
    "$$ \\vec{G}(\\vec{Y}) = \\matrix{F} \\cdot \\vec{Y} + \\vec{c}\\\\\n",
    "\\matrix{F} = \\pmatrix{ (-1 + dt\\,k) & 0  \\\\ \n",
    "                       dt & -1  }\n",
    "$$ \n",
    "\n",
    "Now the Newton-Raphson for finding the root of $\\vec{G}(\\vec{Y})=0$ would look like this\n",
    "\n",
    "$$\n",
    "\\vec{G}'(\\vec{Y}) \\, \\vec{\\delta} = -\\vec{G}(\\vec{Y}) \n",
    "$$\n",
    "\n",
    "where \\vec{Y} is to start with the estimate of the solution for the next time step, and $\\vec{G}'(\\vec{Y})$ is the Jacoby matrix. It has on our case the following elements:\n",
    "\n",
    "$$\n",
    "\\vec{G}'(\\vec{Y}) = \\pmatrix{ \\frac{\\partial G_1}{Y_1} & \\frac{\\partial G_1}{Y_2}  \\\\ \n",
    "                     \\frac{\\partial G_2}{Y_1} & \\frac{\\partial G_2}{Y_2}  }\n",
    "                     = \\matrix{F}\n",
    "$$\n",
    "and so, for each time step we have to do a number of Newton-Raphson iterations, each of which involves solving the linear algebra problem\n",
    "\n",
    "$$\n",
    "\\matrix{F} \\cdot \\vec{\\delta} = -\\vec{G}(\\vec{Y}) \n",
    "$$\n",
    "\n",
    "which we can solve, i.e. find $\\vec{\\delta}$, using Gaussian elimination.\n",
    "\n",
    "More generally, for a system with $N$ ODEs we would have $N$ variables:\n",
    "\n",
    "$$\\vec{Y} =\\left(\\begin{array}{c}\n",
    "Y_1 \\\\\n",
    "Y_2 \\\\\n",
    "\\vdots \\\\\n",
    "Y_i \\\\\n",
    "\\vdots \\\\\n",
    "Y_N \\\\\n",
    "\\end{array}\\right)\n",
    "$$\n",
    "\n",
    "The Jacoby matrix is \n",
    "$$\n",
    "\\matrix{F}=\\frac{\\partial \\vec{f}(\\vec{Y}^{n})}{\\partial \\vec{Y}^{n}}\n",
    "=\\left(\\begin{array}{c}\n",
    "\\vec{f}_1'(\\vec{Y}) \\\\\n",
    "\\vec{f}_2'(\\vec{Y}) \\\\\n",
    "\\vdots \\\\\n",
    "\\vec{f}_i'(\\vec{Y}) \\\\\n",
    "\\vdots \\\\\n",
    "\\vec{f}_N'(\\vec{Y})\n",
    "\\end{array}\\right) ,\n",
    "$$\n",
    "and contains the row elements\n",
    "$$\n",
    "  \\frac{\\partial f_\\mathrm{i}(\\vec{Y}) }  {\\partial \\vec{Y}}=\n",
    "  \\vec{f}_i'(\\vec{Y})=\\left( \\frac{\\partial f_i}{\\partial Y_{1}},\n",
    "    \\frac{\\partial f_i}{\\partial Y_{2}},\\dots,\n",
    "      \\frac{\\partial f_i}{\\partial Y_{i}},\\dots,\n",
    "      \\frac{\\partial f_i}{\\partial Y_{N}}\\right) .\n",
    "$$\n",
    "which defines for each iteration in each time step a linear algebra problem with $N$ variables.\n",
    "\n",
    "In many real problems the Jacoby matrix may be _sparse_ which means it is only partially populated and lots of elements are zero. In that case special numerical solution techniques are used, e.g. _sparse solvers_"
   ]
  },
  {
   "cell_type": "markdown",
   "metadata": {
    "deletable": true,
    "editable": true
   },
   "source": []
  },
  {
   "cell_type": "code",
   "execution_count": null,
   "metadata": {
    "collapsed": true,
    "deletable": true,
    "editable": true
   },
   "outputs": [],
   "source": []
  }
 ],
 "metadata": {
  "anaconda-cloud": {},
  "kernelspec": {
   "display_name": "Python 3",
   "language": "python",
   "name": "python3"
  },
  "language_info": {
   "codemirror_mode": {
    "name": "ipython",
    "version": 3
   },
   "file_extension": ".py",
   "mimetype": "text/x-python",
   "name": "python",
   "nbconvert_exporter": "python",
   "pygments_lexer": "ipython3",
   "version": "3.5.2"
  }
 },
 "nbformat": 4,
 "nbformat_minor": 1
}
