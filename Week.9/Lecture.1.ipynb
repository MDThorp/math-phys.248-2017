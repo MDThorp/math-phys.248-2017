{
 "cells": [
  {
   "cell_type": "markdown",
   "metadata": {},
   "source": [
    "# Integration using libraries, and flow plots\n",
    "\n",
    "\n",
    "## Integration with libraries\n",
    "\n",
    "Let's start off with a typical multi-variable calculus contour plot."
   ]
  },
  {
   "cell_type": "code",
   "execution_count": null,
   "metadata": {
    "collapsed": true
   },
   "outputs": [],
   "source": [
    "import sympy as sp\n",
    "import numpy as np\n",
    "import matplotlib.pyplot as plt\n",
    "%matplotlib inline"
   ]
  },
  {
   "cell_type": "markdown",
   "metadata": {},
   "source": [
    "Before we get into technical details, let's start this class off with a beautiful example of how integration is useful for visualization. "
   ]
  },
  {
   "cell_type": "code",
   "execution_count": null,
   "metadata": {
    "collapsed": false
   },
   "outputs": [],
   "source": [
    "## a contour plot.  Let's try a typical multi-variable calculus\n",
    "##  plot of level-sets and gradient vector field\n",
    "fig, ax = plt.subplots() \n",
    "fig.set_size_inches(10,10) \n",
    "\n",
    "x,y = sp.symbols('x y')\n",
    "## examples are the real parts of the family z^n = (x+iy)^n, n=2,3,4, etc.\n",
    "#f = x*y\n",
    "#f = x**3-x*y**2\n",
    "f = x**4-6*x**2*y**2+y**4\n",
    "\n",
    "grad = [sp.diff(f,x), sp.diff(f,y)]\n",
    "\n",
    "Z = sp.lambdify( (x,y), f, \"numpy\")\n",
    "Zx = sp.lambdify( (x,y), grad[0], \"numpy\")\n",
    "Zy = sp.lambdify( (x,y), grad[1], \"numpy\")\n",
    "\n",
    "Y, X = np.mgrid[-2:2:100j, -2:2:100j] ## x and y coordinates of a 2-dimension array of points\n",
    " ## in the plane\n",
    "\n",
    "speed = np.sqrt(Zx(X,Y)**2 + Zy(X,Y)**2) ## is a 2-dimensional numpy array\n",
    " ## it is the speed of the gradient, at every 2-dimensional lattice point\n",
    "mspd = speed.max()\n",
    "    \n",
    "CP = plt.contour(X,Y,Z(X,Y), 30) ## 30 contours plotted.\n",
    "plt.clabel(CP, inline=1, fontsize=12) ## this add the level-set number to the curve\n",
    "\n",
    "ax.streamplot(X, Y, Zx(X,Y), Zy(X,Y), color='0.2', density=0.5, \n",
    "              linewidth=10*(speed/mspd) )\n",
    "\n",
    "plt.title(\"Level sets of $\"+sp.latex(sp.Eq(sp.Symbol('f(x,y)'), f) )+\"$\\n\"\n",
    "          \"and the gradient flow\", fontsize=20)"
   ]
  },
  {
   "cell_type": "markdown",
   "metadata": {},
   "source": [
    "The above plot has two primary devices:\n",
    "\n",
    " 1) The **contour** plot, which we explored in [Homework assignment 2](../Homework/asst.2.ipynb).  In the above, we use it to plot the level-sets of the function\n",
    " \n",
    " $$ f(x,y) = xy.$$\n",
    " \n",
    " 2) The **streamplot** plot.  In this case, we have computed the gradient vector field of $f$, \n",
    " \n",
    " $$\\nabla f(x,y) = (y, x)$$\n",
    " \n",
    " and the streamplot command plots a sampling of solutions to the differential equation\n",
    " \n",
    " $$\\alpha'(t) = \\nabla f(\\alpha(t)).$$\n",
    " \n",
    " Streamplots are useful ways of visualizing vector fields. \n",
    "\n",
    "* * * \n",
    "\n",
    "### Today\n",
    "\n",
    "We will explore the [**quad**](https://docs.scipy.org/doc/scipy-0.18.1/reference/generated/scipy.integrate.quad.html) command in the **scipy** library.  This is a command that automates numerical integration.\n",
    "\n",
    "**Our goal**: To visualize vector fields in $\\mathbb R^3$, like we did in $\\mathbb R^2$ with the streamplot command. "
   ]
  },
  {
   "cell_type": "code",
   "execution_count": null,
   "metadata": {
    "collapsed": false
   },
   "outputs": [],
   "source": [
    "from scipy import integrate as itg\n",
    "t = sp.Symbol('t')\n",
    "\n",
    "## integrate sin(t)\n",
    "sp.pprint(sp.Integral(sp.sin(t), (t, 0, sp.pi)) )\n",
    "print(\"Using **quad**\")\n",
    "print(itg.quad(np.sin, 0, np.pi),\"\\n\" )\n",
    "\n",
    "## integrate sin(t^2)\n",
    "sp.pprint(sp.Integral(sp.sin(t**2), (t, 0, 12*sp.pi)) )\n",
    "print(\"Using **quad**\")\n",
    "print(itg.quad(lambda x: np.sin(x**2), 0, 12*np.pi))"
   ]
  },
  {
   "cell_type": "markdown",
   "metadata": {},
   "source": [
    " * * *\n",
    " \n",
    "**The output of quad** is a pair $(ANS, \\epsilon)$ where $ANS$ is an approximation of the integral and $\\epsilon$ is an upper bound on the error.  Precisely, if $(ANS,\\epsilon)$ is the *quad* output for the integral\n",
    "$$ \\int_a^b f(t) dt$$\n",
    "then it is known that $$\\lvert \\int_a^b f(t) dt - ANS \\rvert < \\epsilon$$\n",
    "and the call to *quad* would be of the form **itg.quad(lambda t: f(t), (t, a, b) )**.\n",
    "\n",
    "* * *"
   ]
  },
  {
   "cell_type": "markdown",
   "metadata": {},
   "source": [
    "**Towards stream plots in $\\mathbb R^3$**\n",
    "\n",
    "* * *\n",
    "\n",
    "**To make things concrete** let's set ourselves the goal of visualizing the magnetic field around a conducting loop of wire. \n",
    "\n",
    "**Background** The physical law that governs magnetic fields due to currents has the form\n",
    "\n",
    "$$\\vec B(\\vec p) = c \\frac{\\vec v \\times \\hat r}{r^2} $$\n",
    "\n",
    "* Here $\\vec B$ is the magnetic field at a point $\\vec p$. \n",
    "* $r$ is the distance between the point $\\vec p$ and the moving charge, located at $\\vec q$, $r = |\\vec p - \\vec q|$.   \n",
    "* $\\hat r$ is the unit vector from $\\vec p$ to $\\vec q$, i.e. $r \\hat r = \\vec q - \\vec p$. \n",
    "* $\\vec v$ is the velocity vector of the moving charge. \n",
    "* $\\times$ is the cross-product of vectors in $\\mathbb R^3$.\n",
    "* $c$ is the magnitude of the charge at $\\vec q$. \n",
    "\n",
    "Alternatively we could write this equation as\n",
    "$$ \\vec B = \\frac{\\vec I \\times \\hat r}{r^2}$$\n",
    "where $\\vec I = q \\vec v$ is the *current vector*."
   ]
  },
  {
   "cell_type": "markdown",
   "metadata": {},
   "source": [
    "**Current in a wire**\n",
    "\n",
    "Given a wire parametrized by a curve\n",
    "\n",
    "$$\\alpha : [a,b] \\to \\mathbb R^3$$\n",
    "\n",
    "we could write the magnetic field at $\\vec p$ as\n",
    "\n",
    "$$\\vec B(\\vec p) = \\int_a^b \\frac{d\\vec I \\times (\\alpha(t)-\\vec p)}{r^3}$$\n",
    "\n",
    "where $d\\vec I = c(t) \\alpha'(t) dt$, with $c(t)$ being the relative current density with respect to the $t$ parameter. Thus, if our curve was parametrized at constant speed and had uniform current density, then up to some multiple\n",
    "\n",
    "$$\\vec B(\\vec p) = \\int_a^b \\frac{\\alpha'(t) \\times (\\alpha(t)-\\vec p)}{r^3} dt.$$\n",
    "\n",
    "Let us compute these vector fields $\\vec B$ in $\\mathbb R^3$ for a few curves. "
   ]
  },
  {
   "cell_type": "markdown",
   "metadata": {},
   "source": [
    "* * *\n",
    "\n",
    "**Problem 1**\n",
    "\n",
    "Let's compute the vector fields $\\vec B(\\vec p)$ for a round circle. \n",
    "\n",
    "$$\\alpha(t) = (\\cos t, \\sin t, 0)$$\n",
    "\n",
    "so we want the integral \n",
    "\n",
    " $$B(\\vec p) = \\int_0^{2\\pi} \\frac{(-\\sin t, \\cos t, 0)\\times \\left((\\cos t, \\sin t, 0) - \\vec p\\right)}{|(\\cos t, \\sin t, 0)-\\vec p|^3}dt$$\n",
    " "
   ]
  },
  {
   "cell_type": "markdown",
   "metadata": {},
   "source": [
    "At this stage we could, *in principle* determine the integrand *by hands* and give it as input to the *quad* command.  But that would involve a lot of algebra and we are too lazy.  So we use sympy to compute the integrand. "
   ]
  },
  {
   "cell_type": "code",
   "execution_count": null,
   "metadata": {
    "collapsed": false
   },
   "outputs": [],
   "source": [
    "import sympy as sp\n",
    "t,x,y,z = sp.symbols('t x y z')\n",
    "\n",
    "num = sp.Matrix([-sp.sin(t), sp.cos(t), 0]).cross(\\\n",
    "      sp.Matrix([sp.cos(t)-x, sp.sin(t)-y, -z]))\n",
    "num.simplify()\n",
    "\n",
    "den = sp.Matrix([sp.cos(t)-x, sp.sin(t)-y, -z])\n",
    "den = den.dot(den)**(3/2)\n",
    "\n",
    "Fs = num/den\n",
    "sp.pprint(Fs)\n",
    "## our integrand, in closed form. "
   ]
  },
  {
   "cell_type": "code",
   "execution_count": null,
   "metadata": {
    "collapsed": true
   },
   "outputs": [],
   "source": [
    "## Cast the above sympy expression into a list of\n",
    "## callable functions. Sympy has a variety of ways of doing this. \n",
    "## We have seen the lambdify call.  We will use ufuncify instead, as\n",
    "## this actually compiles the code and optimizes memory usage. \n",
    "\n",
    "from sympy.utilities.autowrap import ufuncify\n",
    "\n",
    "F = []\n",
    "for i in range(3):\n",
    "    F.append(ufuncify([t,x,y,z], Fs[i,0]) )"
   ]
  },
  {
   "cell_type": "code",
   "execution_count": null,
   "metadata": {
    "collapsed": false
   },
   "outputs": [],
   "source": [
    "## While we're at it, we'll create 'vectorized' versions of our integration\n",
    "## routines, to allow for some matlab-style notation.\n",
    "\n",
    "def quad_1(f, I, *args):\n",
    "    return np.vectorize(lambda n: itg.quad(f, I[0], I[1], (n,)+args)[0])\n",
    "\n",
    "def f(x,k):\n",
    "    return np.sin(x*k)\n",
    "\n",
    "K = np.mgrid[0:1:6j]\n",
    "print(\"K == \", K)\n",
    "## integral of f(x,k)dx for various values of k.\n",
    "print(quad_1(f, [0,1] )(K))"
   ]
  },
  {
   "cell_type": "code",
   "execution_count": null,
   "metadata": {
    "collapsed": true
   },
   "outputs": [],
   "source": [
    "## We shine things up a little below by creating a `vectorized' version of the quad integration\n",
    "## routine. \n",
    "\n",
    "## quad_1 takes as input:\n",
    "##  \"f\" a callable function\n",
    "##   I a 2-element list giving the endpoints of integration\n",
    "## and three additional arguments, which is a 3-dimensional array of points to call\n",
    "## the quad integration on.  \n",
    "##\n",
    "## i.e. this routine allows for us to use the \"quad\" integration\n",
    "## more like a numpy or matlab command. \n",
    "def quad_1(f, I, *args):\n",
    "    return np.vectorize(lambda n,m,p: itg.quad(f, I[0], I[1], (n,m,p)+args)[0])"
   ]
  },
  {
   "cell_type": "code",
   "execution_count": null,
   "metadata": {
    "collapsed": true
   },
   "outputs": [],
   "source": [
    "## And this is a vector-valued version of quad_1. \n",
    "## this takes as input:\n",
    "##  F : a list/tuple of single-variable functions on [a,b] with 3 additional parameters\n",
    "##  I : I = [a,b] a 2-element list describing the domain of the primary parameter\n",
    "##  returns a tuple of functions\n",
    "def quad_n(F, I, *args):\n",
    "    retval = []\n",
    "    for f in F:\n",
    "        retval.append([quad_1(f, I)(*args)])\n",
    "    return tuple(retval)\n",
    "\n",
    "x, y, z = np.mgrid[-1.5:1.5:8j, -1.5:1.5:8j, -0.5:0.5:6j]\n",
    "\n",
    "u, v, w = quad_n(F, [0, 2*np.pi], x,y,z )"
   ]
  },
  {
   "cell_type": "code",
   "execution_count": null,
   "metadata": {
    "collapsed": false
   },
   "outputs": [],
   "source": [
    "import matplotlib as mpl\n",
    "%matplotlib nbagg\n",
    "from mpl_toolkits.mplot3d import Axes3D\n",
    "import numpy as np\n",
    "import matplotlib.pyplot as plt\n",
    "\n",
    "mpl.rcParams['legend.fontsize'] = 10\n",
    "\n",
    "fig = plt.figure()\n",
    "ax = fig.gca(projection='3d')\n",
    "\n",
    "## plotting the circle\n",
    "T = np.arange(0.0, 2*np.pi, 0.01)\n",
    "ax.plot(np.cos(T), np.sin(T), np.zeros_like(T), 'r')\n",
    "\n",
    "## vector field\n",
    "q = ax.quiver(x, y, z, u, v, w, length=0.1, pivot='middle', cmap='Blues', linestyles='solid')\n",
    "\n",
    "#q.set_array(np.random.rand(np.prod(x.shape)))\n",
    "plt.show()\n",
    "\n",
    "## quiver call details available in two locations.  The 3d plotting API\n",
    "## http://matplotlib.org/mpl_toolkits/mplot3d/api.html\n",
    "## and the linecollection API\n",
    "## http://matplotlib.org/api/collections_api.html#matplotlib.collections.LineCollection\n",
    "\n",
    "ax.set_xlabel('x-axis')\n",
    "ax.set_ylabel('y-axis')\n",
    "ax.set_zlabel('z-axis')\n",
    "\n",
    "plt.show()"
   ]
  },
  {
   "cell_type": "markdown",
   "metadata": {},
   "source": [
    "Before we move on to more sophisticated plots, let's do another example to demonstrate\n",
    "how flexible our tools are.  We will compute the magnetic field around a conducting [(p,q)-torus knot](https://plot.ly/~Ryan.Budney/12/_72-torus-knot/). "
   ]
  },
  {
   "cell_type": "code",
   "execution_count": null,
   "metadata": {
    "collapsed": false
   },
   "outputs": [],
   "source": [
    "import sympy as sp\n",
    "t,x,y,z = sp.symbols('t x y z')\n",
    "spp, spq, spr, spR = sp.symbols(\"p q r R\", real=True)\n",
    "\n",
    "c = sp.Matrix([(spR+spr*sp.cos(2*sp.pi*spq*t))*sp.cos(2*sp.pi*spp*t), \n",
    "     (spR+spr*sp.cos(2*sp.pi*spq*t))*sp.sin(2*sp.pi*spp*t), \n",
    "      spr*sp.sin(2*sp.pi*spq*t)])\n",
    "cp = sp.diff(c, t) ## the derivative\n",
    "sp.pprint(c)"
   ]
  },
  {
   "cell_type": "code",
   "execution_count": null,
   "metadata": {
    "collapsed": false
   },
   "outputs": [],
   "source": [
    "p,q = 2, 3\n",
    "C = c.xreplace({spp: p, spq: q, spR: 1.2, spr: 0.4})\n",
    "Cp = cp.xreplace({spp: p, spq: q, spR: 1.2, spr: 0.4})\n",
    "P = sp.Matrix([x,y,z])\n",
    "\n",
    "sp.pprint(Cp)\n"
   ]
  },
  {
   "cell_type": "code",
   "execution_count": null,
   "metadata": {
    "collapsed": false
   },
   "outputs": [],
   "source": [
    "num = Cp.cross(C-P)\n",
    "num.simplify()\n",
    "den = C - P\n",
    "den = den.dot(den)**(3/2)\n",
    "Fs = num/den\n",
    "#sp.pprint(Fs)\n",
    "\n",
    "F = []\n",
    "for i in range(3):\n",
    "    F.append(ufuncify([t,x,y,z], Fs[i,0]) )\n",
    "    \n",
    "Cc = [] ## the original curve\n",
    "for i in range(3):\n",
    "    Cc.append(ufuncify([t], C[i,0]))\n",
    "    \n",
    "x, y, z = np.mgrid[-1.7:1.7:5j, -1.7:1.7:5j, -0.5:0.5:3j]\n",
    "u, v, w = quad_n(F, [0, 2*np.pi], x,y,z )"
   ]
  },
  {
   "cell_type": "code",
   "execution_count": null,
   "metadata": {
    "collapsed": false
   },
   "outputs": [],
   "source": [
    "fig = plt.figure()\n",
    "ax = fig.gca(projection='3d')\n",
    "\n",
    "T = np.arange(0.0, 2*np.pi, 0.01)\n",
    "\n",
    "ax.plot(Cc[0](T), Cc[1](T), Cc[2](T), 'r')\n",
    "\n",
    "quiv = ax.quiver(x, y, z, u, v, w, length=0.1, pivot='middle', cmap='Blues', linestyles='solid')\n",
    "plt.show()\n",
    "\n",
    "## quiver call details available in two locations.  The 3d plotting API\n",
    "## http://matplotlib.org/mpl_toolkits/mplot3d/api.html\n",
    "## and the linecollection API\n",
    "## http://matplotlib.org/api/collections_api.html#matplotlib.collections.LineCollection\n",
    "\n",
    "ax.set_xlabel('x-axis')\n",
    "ax.set_ylabel('y-axis')\n",
    "ax.set_zlabel('z-axis')\n",
    "\n",
    "plt.show()"
   ]
  },
  {
   "cell_type": "code",
   "execution_count": null,
   "metadata": {
    "collapsed": false
   },
   "outputs": [],
   "source": [
    "## By-hands implementation of Basic flow lines.  \n",
    "\n",
    "## We will take as input the initial vector field defined on the\n",
    "## x,y,z meshgrid, and flow a small amount using an Euler method. \n",
    "\n",
    "## takes as input the same ingredients as before.  But for every x,y,z coordinate\n",
    "## where we plot the vector fields, let's plot a small amount of the flow.  To \n",
    "## do this we will need to iterate over the x,y,z coordinates and perform a few\n",
    "## steps of Euler's method. \n",
    "\n",
    "## function will return a list of flowlines.  An individual flowline will be\n",
    "## a 3-element list [x,y,z] where x,y,z are lists of x-coordinates, y-coordinates,z-coordinates\n",
    "## respectively for the individual flow line. \n",
    "\n",
    "def squad(F, I, *args):\n",
    "    retval = []\n",
    "    for f in F:\n",
    "        retval.append(itg.quad(f, I[0], I[1], args)[0])\n",
    "    return retval\n",
    "\n",
    "import itertools as it\n",
    "\n",
    "x,y,z=np.mgrid[-1.8:1.8:8j, -1.8:1.8:8j, -0.9:0.9:6j]\n",
    "\n",
    "## returns the flow lines as a (list) of (list of triples) of (list of floats)\n",
    "## takes as input a mgrid of x,y,z coordinates, number of steps n and time step dt\n",
    "## Also requires F callable function of 3-variables: t,x,y,z. We integrate against t,\n",
    "## from 0 to 2pi for now. Might want to make this more flexible in the future.\n",
    "## C is the original curve parametrization, assumed domain is [0,2pi]\n",
    "def flowLines(x,y,z,F,C,n,dt):\n",
    "    def onC(x,y,z,Cc):\n",
    "        I = np.arange(0,2*np.pi, 0.01)\n",
    "        if min([np.sqrt((Cc[0](t)-x)**2 + (Cc[1](t)-y)**2 + (Cc[2](t)-z)**2) for t in I]) < 0.02:\n",
    "            return True ## close enough\n",
    "        else:\n",
    "            return False ## it's safe to use Euler's method\n",
    "    \n",
    "    retval = []\n",
    "    for i,j,k in it.product(range(x.shape[0]), range(x.shape[1]), range(x.shape[2])):\n",
    "        ## okay, let's build the flowline at x,y,z\n",
    "        ## determine vector field at x,y,z, flow, build flowline, repeat\n",
    "        xl = [x[i,j,k]]; yl = [y[i,j,k]]; zl = [z[i,j,k]];\n",
    "        if onC(x[i,j,k], y[i,j,k], z[i,j,k], C) == False:\n",
    "            for s in range(n):\n",
    "                ## one step of Euler's method\n",
    "                #integrate Fdt at xl,yl,zl from 0 to 2pi.\n",
    "                #print(xl[-1], yl[-1], zl[-1])\n",
    "                dp = squad(F, [0, 2*np.pi], xl[-1], yl[-1], zl[-1])\n",
    "                ldp = np.sqrt(dp[0]**2+dp[1]**2+dp[2]**2)\n",
    "                if (ldp<1.0): ldp = 1.0\n",
    "                xl.append( xl[-1] + dt*dp[0]/ldp )\n",
    "                yl.append( yl[-1] + dt*dp[1]/ldp )\n",
    "                zl.append( zl[-1] + dt*dp[2]/ldp )\n",
    "            \n",
    "        ## append the flowline to retal.\n",
    "        retval.append([xl, yl, zl])\n",
    "        \n",
    "    return retval\n",
    "\n",
    "flows = flowLines(x,y,z, F, Cc, 60, 0.005)"
   ]
  },
  {
   "cell_type": "code",
   "execution_count": null,
   "metadata": {
    "collapsed": false
   },
   "outputs": [],
   "source": [
    "fig = plt.figure()\n",
    "ax = fig.gca(projection='3d')\n",
    "\n",
    "for P in flows:\n",
    "    ax.plot(P[0], P[1], P[2], 'r')\n",
    "\n",
    "T = np.arange(0.0, 2*np.pi, 0.01)\n",
    "\n",
    "ax.plot(Cc[0](T), Cc[1](T), Cc[2](T), 'b')\n",
    "\n",
    "plt.show()"
   ]
  },
  {
   "cell_type": "code",
   "execution_count": null,
   "metadata": {
    "collapsed": false
   },
   "outputs": [],
   "source": [
    "## Let's see if we can do better with plot.ly\n",
    "\n",
    "## on your virtual machine\n",
    "## sudo pip install plotly\n",
    "\n",
    "import sys\n",
    "expaths = [\"/usr/lib/python3/dist-packages\", \"/usr/local/lib/python3.5/dist-packages\"]\n",
    "for xp in expaths:\n",
    "    if (xp not in sys.path):\n",
    "        sys.path.append(xp)\n",
    "import plotly.graph_objs as go\n",
    "import plotly.plotly as py\n",
    "import plotly.offline as pyoff\n",
    "pyoff.init_notebook_mode(connected=True)"
   ]
  },
  {
   "cell_type": "code",
   "execution_count": null,
   "metadata": {
    "collapsed": false
   },
   "outputs": [],
   "source": [
    "T = np.arange(0,2*np.pi, 0.004)\n",
    "\n",
    "tracelist = [go.Scatter3d( ## the knot\n",
    "    x=Cc[0](T),    y=Cc[1](T),     z=Cc[2](T),\n",
    "    mode='lines',\n",
    "    line=go.Line(color='#2050FF', width=18)\n",
    "    )]\n",
    "\n",
    "tipsx = [P[0][-1] for P in flows]\n",
    "tipsy = [P[1][-1] for P in flows]\n",
    "tipsz = [P[2][-1] for P in flows]\n",
    "\n",
    "tracelist.append(go.Scatter3d(\n",
    "    x=tipsx, y=tipsy, z=tipsz, mode='markers',\n",
    "    marker = dict(\n",
    "        size=2, color = 'yellow') ) )\n",
    "\n",
    "for P in flows:\n",
    "    tracelist.append( go.Scatter3d(x=P[0], y=P[1], z=P[2], \n",
    "                                   mode='lines',\n",
    "                                   line=go.Line(color='#FF4040', width=3)) )\n",
    "\n",
    "data=go.Data(tracelist)\n",
    "\n",
    "layout = go.Layout(\n",
    "    title='Magnetic Field around a conducting '+str(p)+','+str(q)+'-torus knot',\n",
    "    scene=dict(\n",
    "        xaxis=dict(\n",
    "            gridcolor='rgb(255, 255, 255)',\n",
    "            zerolinecolor='rgb(255, 255, 255)',\n",
    "            showbackground=True,\n",
    "            backgroundcolor='rgb(230, 230,230)'\n",
    "        ),\n",
    "        yaxis=dict(\n",
    "            gridcolor='rgb(255, 255, 255)',\n",
    "            zerolinecolor='rgb(255, 255, 255)',\n",
    "            showbackground=True,\n",
    "            backgroundcolor='rgb(230, 230,230)'\n",
    "        ),\n",
    "        zaxis=dict(\n",
    "            gridcolor='rgb(255, 255, 255)',\n",
    "            zerolinecolor='rgb(255, 255, 255)',\n",
    "            showbackground=True,\n",
    "            backgroundcolor='rgb(230, 230,230)'\n",
    "        )\n",
    "    )\n",
    ")\n",
    "\n",
    "fig = go.Figure(data=data, layout=layout)\n",
    "\n",
    "# using py \"plain plotly\" will push the rendering to the plotly webpage\n",
    "#py.plot(fig, filename='electric'+str(p)+str(q)+'torus.html')  #creates new page (large)\n",
    "\n",
    "# using pyoff \"plotly offline\" will render locally, only. \n",
    "pyoff.iplot(fig) #puts inline"
   ]
  },
  {
   "cell_type": "code",
   "execution_count": null,
   "metadata": {
    "collapsed": true
   },
   "outputs": [],
   "source": []
  }
 ],
 "metadata": {
  "anaconda-cloud": {},
  "kernelspec": {
   "display_name": "Python [default]",
   "language": "python",
   "name": "python3"
  },
  "language_info": {
   "codemirror_mode": {
    "name": "ipython",
    "version": 3
   },
   "file_extension": ".py",
   "mimetype": "text/x-python",
   "name": "python",
   "nbconvert_exporter": "python",
   "pygments_lexer": "ipython3",
   "version": "3.5.2"
  }
 },
 "nbformat": 4,
 "nbformat_minor": 1
}
