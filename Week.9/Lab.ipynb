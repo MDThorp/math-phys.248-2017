{
 "cells": [
  {
   "cell_type": "markdown",
   "metadata": {},
   "source": [
    "# Topic of Labs\n",
    "\n",
    "\n",
    "\n",
    "## Lab 1\n",
    "\n",
    "In [Lecture 2, Week 8](../Week.8/Lecture.2.ipynb) we did a PCA analysis of the crime data where we did daily counts of crimes, *binned* by crime type.  In this lab we ask you to start an alternative PCA analysis of the data.\n",
    "\n",
    "Rather than *bin* the daily data only by crime type, create bins for **crime type**, as well as **weather** and **time of day**.  There are $86$ crime types.  Let's have two bins for weather, they will be for *warm* days ($10^c$ or more) vs. *cool* days (less than $10^c$).   Let's have two bins for *time of day* as well, we will have *working hours* 6am--6pm and non-work hours, being 0am--6am and 6pm--midnight.  This gives us a total of $86 \\times 2 \\times 2 = 344$ bins for the daily data. \n",
    "\n",
    "Step 1) Construct a matrix $k \\times 344$ matrix whose $(i,j)$-th entry represents the number of crimes on *day i* in *bin j*.  $k$ will of course be the number of days in the crime database for which we also have weather data. \n",
    "\n",
    "Step 2) Perform PCA analysis on this. \n",
    "\n",
    "Step 3) For the first four largest eigenvectors (i.e. the top four rows of the **pca.component__** output), look for any strong correllations or inverse correllations.  Can you explain them? \n",
    "\n",
    " - Do the crimes happen in similar locations? Try a heat map. \n",
    " - At similar times?  Try a plot of the time of the crime in one bin, vs. the time of the crime in the other.\n",
    " - Are the crime types related? \n",
    " \n",
    "If you notice a strong correllation or inverse-correllation, attempt a least-square fit of the data.   \n"
   ]
  },
  {
   "cell_type": "markdown",
   "metadata": {},
   "source": [
    "\n",
    "## Lab 2\n",
    "\n",
    "* outline lab here, specify in detail what the outcome should be\n"
   ]
  }
 ],
 "metadata": {
  "anaconda-cloud": {},
  "kernelspec": {
   "display_name": "Python [default]",
   "language": "python",
   "name": "python3"
  },
  "language_info": {
   "codemirror_mode": {
    "name": "ipython",
    "version": 3
   },
   "file_extension": ".py",
   "mimetype": "text/x-python",
   "name": "python",
   "nbconvert_exporter": "python",
   "pygments_lexer": "ipython3",
   "version": "3.5.2"
  }
 },
 "nbformat": 4,
 "nbformat_minor": 1
}
