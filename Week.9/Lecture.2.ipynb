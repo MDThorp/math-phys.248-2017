{
 "cells": [
  {
   "cell_type": "markdown",
   "metadata": {},
   "source": [
    "# Dynamic and interactive (matplotlib) plots\n",
    "\n",
    "In today's class we will illustrate a few methods of interactive and dynamic plots, mostly with the **matplotlib** library.\n",
    "\n",
    "## Topic 1 - a simple progress indicator\n",
    "\n",
    "Say you have a lengthy computation and want to illustrate the progress made, so you don't get too impatient.  For example, the magnetic field flow lines from last class.  We will use the [**tqdm**](https://pypi.python.org/pypi/tqdm) library for this."
   ]
  },
  {
   "cell_type": "code",
   "execution_count": null,
   "metadata": {
    "collapsed": false
   },
   "outputs": [],
   "source": [
    "import sys\n",
    "expaths = [\"/usr/lib/python3/dist-packages\", \"/usr/local/lib/python3.5/dist-packages\"]\n",
    "for xp in expaths:\n",
    "    if (xp not in sys.path):\n",
    "        sys.path.append(xp)\n",
    "\n",
    "import tqdm\n",
    "import time as ti\n",
    "\n",
    "## gui based progress monitor\n",
    "for i in tqdm.tqdm_notebook(range(12)):\n",
    "    ti.sleep(0.5)"
   ]
  },
  {
   "cell_type": "code",
   "execution_count": null,
   "metadata": {
    "collapsed": false
   },
   "outputs": [],
   "source": [
    "## text-based progress monitor\n",
    "## this can be used in a plain python session (without i-python / jupyter)\n",
    "for i in tqdm.tqdm(range(6)):\n",
    "    ti.sleep(1)    "
   ]
  },
  {
   "cell_type": "markdown",
   "metadata": {},
   "source": [
    "## Topic 2 - very basic interactive plots\n"
   ]
  },
  {
   "cell_type": "code",
   "execution_count": null,
   "metadata": {
    "collapsed": false
   },
   "outputs": [],
   "source": [
    "from IPython.html.widgets import interact as ita\n",
    "\n",
    "import numpy as np\n",
    "import matplotlib.pyplot as plt\n",
    "%matplotlib inline\n",
    "\n",
    "I=np.linspace(0,2*np.pi,300) ## the interval [0,2π]\n",
    "\n",
    "def pltsin(k):\n",
    "    plt.plot(I, np.sin(k*I))\n",
    "    plt.title(\"Plot of sin(kx) on interval [0,2$\\pi$], k=\"+str(k))\n",
    "\n",
    "## k is a triple consisting of:\n",
    "## (min value for k, max value, step size)\n",
    "ita(pltsin, k=(1,10,0.1))\n",
    "\n",
    "## TRY: adding a second argument"
   ]
  },
  {
   "cell_type": "markdown",
   "metadata": {},
   "source": [
    "## Topic 3 -- a single pendulum\n",
    "\n",
    "You have likely seen this differential equation in a mathematics or physics course,\n",
    "\n",
    "$$\\theta'' + a \\theta' + b \\sin \\theta = 0.$$\n",
    "\n",
    "it is the differential equation of a pendulum with friction, provided $a \\geq 0$ and $b > 0$.  $a$ is *roughly* the friction while $b$ is *roughly* the mass. \n",
    "\n",
    "<img src=\"pendulum.png\" alt=\"Riemann sum example\" width=400 height=400>"
   ]
  },
  {
   "cell_type": "markdown",
   "metadata": {},
   "source": [
    "We convert this $2^{nd}$ order ODE into the two-variable first order ODE,\n",
    "\n",
    "$$\\pmatrix{\\theta \\cr \\theta'}' = \\pmatrix{\\theta' \\cr -a \\theta' - b \\sin \\theta}$$\n",
    "\n",
    "which we will simulate (numerically) via the **scipy.integrate** **odeint** command."
   ]
  },
  {
   "cell_type": "code",
   "execution_count": null,
   "metadata": {
    "collapsed": false
   },
   "outputs": [],
   "source": [
    "import numpy as np\n",
    "import math as ma\n",
    "from scipy.integrate import odeint\n",
    "\n",
    "## I need this to get the unicode theta to render. \n",
    "import matplotlib as mpl\n",
    "mpl.rc('font', family='DejaVu Sans')\n",
    "\n",
    "## Let's create a routine to plot the solution to the ODE, for a given initial condition\n",
    "## th0  is the initial theta value\n",
    "## thp0 is the initial theta' value\n",
    "## L    is the time-domain interval length\n",
    "## n    is the number of steps\n",
    "## a    is the friction constant a>=0\n",
    "## b    is the mass constant b>0.\n",
    "##\n",
    "## returns a list of pairs (theta, theta') of length n\n",
    "def ODEsol(th0, thp0, L, n, a, b):\n",
    "    t=np.linspace(0.0, L, n)\n",
    "    sol = odeint(lambda th, t, a, b: [th[1], -a*th[1]-b*np.sin(th[0])], [th0, thp0], t, args=(a, b))\n",
    "    return sol\n",
    "\n",
    "def plotSol(th0, thp0, L, n, a, b):\n",
    "    sol = ODEsol(th0, thp0, L, n, a, b)\n",
    "    ## let's add some code to indicate the relevant theta = 2*pi*k lines, for k an integer\n",
    "    THvals = [x[0] for x in sol]\n",
    "    Mi = ma.floor(min(THvals) / (2*np.pi) )\n",
    "    Ma = ma.ceil( max(THvals) / (2*np.pi) )\n",
    "    ytk = [2*np.pi*i for i in range(Mi, Ma+1)]\n",
    "    for y in ytk:\n",
    "        plt.plot( [0, L], [y, y], 'r--')\n",
    "    ## and the appropriate y-ticks\n",
    "    plt.yticks(ytk, [str(2*k)+'π' for k in range(Mi, Ma+1)])\n",
    "    ## and the plot.\n",
    "    plt.plot(np.linspace(0, L, n), THvals, 'b-')\n",
    "    plt.xlabel('time')\n",
    "    plt.ylabel('θ')\n",
    "    \n",
    "## make an interactive plot\n",
    "ita(plotSol, th0=(-np.pi, np.pi, 0.1), thp0=(-10, 10, 0.1), L=(1, 100, 0.2),\\\n",
    "                 n=(10, 5000, 1), a=(0, 2, 0.01), b=(1, 10, 1))"
   ]
  },
  {
   "cell_type": "markdown",
   "metadata": {},
   "source": [
    "While we're on the topic, let's do an elementary check on how *good* our simulation is.  At *first glance* it does appear to be a pretty good simulation -- the zero friction case reproduces something that looks quite similar to a periodic function. \n",
    "\n",
    "One way to check if a system appears roughly correct would be to check if the total energy of the system behaves as expected.  Since this system has friction, one would suspect that there is always a *decrease* in the total energy, due only to the friction. \n",
    "\n",
    "A more *math-y* approach would be to look for a Lyapunov function for the system.  Either way leads one to suspect that a linear combination of the two functions:\n",
    "\n",
    "$$ (\\theta')^2 \\hskip 1cm \\text{ and } \\hskip 1cm \\cos \\theta $$\n",
    "\n",
    "will product a function $E(t)$ which has negative derivative.  A little calculus and we discover the function\n",
    "\n",
    "$$ E(t) = (\\theta')^2 - 2b \\cos \\theta $$"
   ]
  },
  {
   "cell_type": "markdown",
   "metadata": {},
   "source": [
    "does the job.  Differentiating gives\n",
    "\n",
    "$$ E'(t) = 2 \\theta' \\theta'' + 2b (\\sin \\theta) \\theta' = 2 \\theta' (-a\\theta' -b\\sin \\theta) + 2b (\\sin \\theta) \\theta' = -2a (\\theta')^2$$\n",
    "\n",
    "Let's check the accuracy of this for our simulation. We have our simulations's value for $\\theta'(t)$ in the variables **x[1]** for **x** in **THvals**.   We can also compute the (numerical) derivative of $E$, given our sequence of points **THvals**.  We plot both and compare. \n",
    "\n",
    "The code below makes the same plot, but gives the **MDPL** which is the maxmum of the deviations of the power loss, theoretical vs. what appears in the simulation.  The other number will be the **ADPL** which is the average deviation in theoretical vs. experimental power loss. "
   ]
  },
  {
   "cell_type": "code",
   "execution_count": null,
   "metadata": {
    "collapsed": false
   },
   "outputs": [],
   "source": [
    "def plotSol(th0, thp0, L, n, a, b):\n",
    "    sol = ODEsol(th0, thp0, L, n, a, b)\n",
    "    ## let's add some code to indicate the relevant theta = 2*pi*k lines, for k an integer\n",
    "    THvals = [x[0] for x in sol]\n",
    "    THpvals = [x[1] for x in sol]\n",
    "    Mi = ma.floor(min(THvals) / np.pi )\n",
    "    Ma = ma.ceil( max(THvals) / np.pi )\n",
    "    ytk = [np.pi*i for i in range(Mi, Ma+1)]\n",
    "    for y in ytk:\n",
    "        plt.plot( [0, L], [y, y], 'r--' if (int(y/np.pi) % 2 == 0) else 'y--')\n",
    "\n",
    "    ## and the appropriate y-ticks\n",
    "    plt.yticks(ytk, [str(k)+'π' for k in range(Mi, Ma+1)])\n",
    "    \n",
    "    ## let's compute the expected power loss, and plot\n",
    "    elossT = [2*a*x[1]**2 for x in sol] # theoretical energy loss\n",
    "    elossS = [((THpvals[i-1]**2 - 2*b*np.cos(THvals[i-1]))-\\\n",
    "               (THpvals[i+1]**2 - 2*b*np.cos(THvals[i+1])))/(2*L/n) for i in range(1,n-1)]## loss in simulation\n",
    "    #plt.plot(np.linspace(0,L,n), elossT, 'r-') \n",
    "    #xarr = [i*L/n for i in range(1, n-1)]\n",
    "    #plt.plot( xarr, elossS, 'y-')    \n",
    "    maxEL = max([abs(elossT[i]-elossS[i-1]) for i in range(1, n-1)])\n",
    "    avgEL = sum([abs(elossT[i]-elossS[i-1]) for i in range(1, n-1)]) / (n-2)\n",
    "    ## and the plot.\n",
    "    plt.plot(np.linspace(0, L, n), THvals, 'b-')\n",
    "    plt.xlabel('time')\n",
    "    plt.ylabel('θ')\n",
    "    plt.title('MaxDPL %.3f, AvgDPL %.3f' % (maxEL, avgEL))\n",
    "    \n",
    "## make an interactive plot\n",
    "ita(plotSol, th0=(-np.pi, np.pi, 0.1), thp0=(-10, 10, 0.1), L=(1, 100, 0.2),\\\n",
    "                 n=(10, 5000, 1), a=(0, 2, 0.01), b=(1, 10, 1))\n"
   ]
  },
  {
   "cell_type": "markdown",
   "metadata": {},
   "source": [
    "## Topic 4 -- Let's visualize the pendulum. . . as a pendulum. \n",
    "\n",
    "Plotting $\\theta$ vs. $t$ is nice, but let's get something that looks like the *real* thing.  We will create a time-evolving display that looks something like an actual pendulum. \n",
    "\n",
    "Do do this, we will use the **matplotlib.animation** library.  Roughly speaking, one sets up a normal **matplotlib** figure as you usually would, and we call the **animation.FuncAnimation** call, giving it an *update* function which updates the figure, and refreshes the screen, this makes **animation.FuncAnimation** responsible for performing the animation, and the *update* function the guiding instructions for how the animation evolves.\n",
    "\n",
    "We will start with a minimalist pendulum example, and elaborate on it with a second example.\n"
   ]
  },
  {
   "cell_type": "code",
   "execution_count": null,
   "metadata": {
    "collapsed": false
   },
   "outputs": [],
   "source": [
    "plt.close()\n",
    "import matplotlib.animation as animation\n",
    "%matplotlib nbagg\n",
    "\n",
    "sol = ODEsol(0.0, 4.2, 80, 10000, 0.1, 1)\n",
    "\n",
    "fig = plt.figure()\n",
    "ax = fig.add_subplot(111, autoscale_on=False, xlim=(-1, 1), ylim=(-1, 1) )\n",
    "ax.grid()\n",
    "\n",
    "line1, = ax.plot([],[],'b-', lw=4)\n",
    "\n",
    "en_text1 = ax.text(0.02,0.92, '', transform=ax.transAxes, fontsize=16)\n",
    "\n",
    "def init():\n",
    "    line1.set_data([],[])\n",
    "    en_text1.set_text('')\n",
    "    return line1, en_text1\n",
    "\n",
    "def animate( TH ):\n",
    "    line1.set_data( [0.0, np.sin(TH[0])], [0.0 , -np.cos(TH[0])] )\n",
    "    en_text1.set_text('$\\\\theta$ = %.1f $\\\\pi$' % (TH[0]/np.pi) )\n",
    "    \n",
    "    return line1, en_text1\n",
    "\n",
    "ani = animation.FuncAnimation(fig, animate, frames = sol, init_func=init,\\\n",
    "                              interval=1, blit=True)\n",
    "\n",
    "plt.show()"
   ]
  },
  {
   "cell_type": "markdown",
   "metadata": {},
   "source": [
    "**Let's decorate** our animation with some additional details, such as the current variable values, and some details to illustrate these, visually. "
   ]
  },
  {
   "cell_type": "code",
   "execution_count": null,
   "metadata": {
    "collapsed": false
   },
   "outputs": [],
   "source": [
    "plt.close()\n",
    "sol = ODEsol(0.0, 4.2, 80, 10000, 0.1, 1)\n",
    "\n",
    "fig = plt.figure()\n",
    "ax = fig.add_subplot(111, autoscale_on=False, xlim=(-1.1, 1.1), ylim=(-1.1, 1.1) )\n",
    "ax.grid()\n",
    "\n",
    "line1, = ax.plot([],[],'b-', lw=4)\n",
    "line2, = ax.plot([],[],'r-', lw=2)\n",
    "\n",
    "en_text1 = ax.text(0.02, 0.92, '', transform=ax.transAxes, fontsize=16)\n",
    "en_text2 = ax.text(0.02, 0.82, '', transform=ax.transAxes, fontsize=16)\n",
    "\n",
    "def init():\n",
    "    line1.set_data([],[])\n",
    "    line2.set_data([],[])\n",
    "    en_text1.set_text('')\n",
    "    en_text2.set_text('')\n",
    "    return line1, line2, en_text1, en_text2\n",
    "\n",
    "def animate( TH ):\n",
    "    line1.set_data( [0.0, np.sin(TH[0])], [0.0 , -np.cos(TH[0])] )\n",
    "    line2.set_data( [np.sin(TH[0]), np.sin(TH[0]) + np.cos(TH[0])*TH[1]/3],\\\n",
    "                    [-np.cos(TH[0]),-np.cos(TH[0])+ np.sin(TH[0])*TH[1]/3] )\n",
    "    en_text1.set_text('$\\\\theta$ = %.1f $\\\\pi$' % (TH[0]/np.pi) )\n",
    "    en_text2.set_text('$\\\\theta\\'$ = %.1f ' % TH[1] )\n",
    "    \n",
    "    return line1, line2, en_text1, en_text2\n",
    "\n",
    "ani = animation.FuncAnimation(fig, animate, frames = sol, init_func=init,\\\n",
    "                              interval=1, blit=True)\n",
    "\n",
    "plt.show()"
   ]
  },
  {
   "cell_type": "markdown",
   "metadata": {},
   "source": [
    "## Topic 5 -- A double pendulum!\n",
    "\n",
    "Simulating a double pendulum brings in several new complications.  First of all, transcribing the ODE is simply difficult! \n",
    "\n",
    "<img src=\"doublepen.gif\" width=\"300\" height=\"300\" class=\"alignleft\"/> </div>\n",
    "\n",
    "It's difficult because the ODE is relatively long.  Rather than look the ODE up in a book (which is a bit of an adventure) we will use a tool from Physics (with help from Sympy) to derive the ODE. "
   ]
  },
  {
   "cell_type": "code",
   "execution_count": null,
   "metadata": {
    "collapsed": false
   },
   "outputs": [],
   "source": [
    "import sympy as sp\n",
    "from sympy.utilities.autowrap import ufuncify\n",
    "\n",
    "m1,m2,k1,k2,r1,r2,g,t = sp.symbols(\"m_1 m_2 k_1 k_2 r_1 r_2 g t\")\n",
    "t1 = sp.Function(\"θ_1\")(t)\n",
    "t2 = sp.Function(\"θ_2\")(t)\n",
    "w1 = sp.Derivative(t1, t)\n",
    "w2 = sp.Derivative(t2, t)\n",
    "ti = sp.Function(\"θ_i\")(t)\n",
    "wi = sp.Function(\"w_i\")(t)\n",
    "\n",
    "R = sp.Function(\"R\")\n",
    "L = sp.Function(\"L\")\n",
    "\n",
    "T, V = sp.symbols(\"T V\")\n",
    "\n",
    "Teq = sp.Eq(T, (1/2)*m1*r1**2*(w1**2) + m2*r1*r2*w1*w2*sp.cos(t1-t2)+(1/2)*m2*r1**2*(w1**2)+\\\n",
    "      (1/2)*m2*r2**2*(w2**2))\n",
    "Veq = sp.Eq(V, -m1*g*r1*sp.cos(t1)-m2*g*(r1*sp.cos(t1)+r2*sp.cos(t2)))\n",
    "Req = sp.Eq(R, (1/2)*k1*w1**2 + (1/2)*k2*(w2-w1)**2)\n",
    "# L = T - V\n",
    "Leq = sp.Eq(L, Teq.args[1] - Veq.args[1])\n",
    "print(\" * * * The set-up * * * \\n\")\n",
    "print(\"Kinetic Energy\")\n",
    "sp.pprint(Teq)\n",
    "print(\"\\nPotential Energy\")\n",
    "sp.pprint(Veq)\n",
    "print(\"\\nRayleigh dissipation term\")\n",
    "sp.pprint(Req)\n",
    "print(\"\\nLagrangian L = T - V\")\n",
    "sp.pprint(Leq)\n",
    "print(\"\\nLagrange's Equations of Motion\")\n",
    "sp.pprint( sp.Eq(sp.Derivative(L, wi, t) - sp.Derivative(L,ti) +\\\n",
    "           sp.Derivative(R, wi), 0))\n",
    "print(\"for i=1,2\")"
   ]
  },
  {
   "cell_type": "code",
   "execution_count": null,
   "metadata": {
    "collapsed": false
   },
   "outputs": [],
   "source": [
    "## Computing with the values of L and R. \n",
    "LEM1 = sp.Eq(sp.Derivative(Leq.args[1], w1, t).doit() - \\\n",
    "             sp.Derivative(Leq.args[1], t1).doit() + \\\n",
    "             sp.Derivative(Req.args[1], w1).doit(), 0).simplify()\n",
    "LEM2 = sp.Eq(sp.Derivative(Leq.args[1], w2, t).doit() - \\\n",
    "             sp.Derivative(Leq.args[1], t2).doit() + \\\n",
    "             sp.Derivative(Req.args[1], w2).doit(), 0).simplify()\n",
    "print(\"First eqn of motion:\")\n",
    "sp.pprint(LEM1)\n",
    "print(\"\\n\\nSecond eqn of motion:\")\n",
    "sp.pprint(LEM2)\n",
    "#look good."
   ]
  },
  {
   "cell_type": "code",
   "execution_count": null,
   "metadata": {
    "collapsed": false
   },
   "outputs": [],
   "source": [
    "print(\"Lagrange's Equations of Motion \\n\")\n",
    "print(\"Solving for θ''_1, θ''_2\")\n",
    "SOL = sp.solve((LEM1, LEM2), sp.Derivative(t1, t, 2), sp.Derivative(t2, t, 2))\n",
    "sp.pprint(SOL)\n",
    "#looks good."
   ]
  },
  {
   "cell_type": "code",
   "execution_count": null,
   "metadata": {
    "collapsed": false
   },
   "outputs": [],
   "source": [
    "T1pp = SOL[sp.Derivative(t1,t,2)].simplify()\n",
    "T2pp = SOL[sp.Derivative(t2,t,2)].simplify()\n",
    "\n",
    "print(\"θ''_1 = \")\n",
    "sp.pprint(T1pp)\n",
    "\n",
    "print(\"\\nθ''_2 = \")\n",
    "sp.pprint(T2pp)"
   ]
  },
  {
   "cell_type": "code",
   "execution_count": null,
   "metadata": {
    "collapsed": false
   },
   "outputs": [],
   "source": [
    "## As a test, let's see if dE/dt = -2R. \n",
    "## this is how Lagrangians work for \"conservative\" frictional\n",
    "## forces such as ours.\n",
    "test = sp.Derivative(Teq.args[1]+Veq.args[1], t).doit().doit()\n",
    "test = test.simplify()\n",
    "test = test.xreplace({sp.Derivative(t1,t,2): T1pp, sp.Derivative(t2,t,2): T2pp})\n",
    "test = test.simplify()\n",
    "print(\"This should be zero. . .\")\n",
    "sp.pprint( (test+2*Req.args[1]).simplify() )\n",
    "## good!"
   ]
  },
  {
   "cell_type": "code",
   "execution_count": null,
   "metadata": {
    "collapsed": false
   },
   "outputs": [],
   "source": [
    "## before we cast T1pp and T2pp let's simplify them a bit.  We are replacing\n",
    "## the unicode with ASCII since in the next pane we want to use ufuncify, \n",
    "## which chokes on unicode.\n",
    "\n",
    "w1, w2, t1, t2 = sp.symbols(\"w_1 w_2 θ_1 θ_2\")\n",
    "xT1pp = T1pp\n",
    "xT1pp = xT1pp.xreplace({sp.Derivative(sp.Function(\"θ_1\")(t),t): w1, sp.Derivative(sp.Function(\"θ_2\")(t),t): w2} )\n",
    "xT1pp = xT1pp.xreplace({sp.Function(\"θ_1\")(t): t1, sp.Function(\"θ_2\")(t) : t2})\n",
    "#sp.pprint(xT1pp)\n",
    "\n",
    "xT2pp = T2pp\n",
    "xT2pp = xT2pp.xreplace({sp.Derivative(sp.Function(\"θ_1\")(t),t): w1, sp.Derivative(sp.Function(\"θ_2\")(t),t): w2} )\n",
    "xT2pp = xT2pp.xreplace({sp.Function(\"θ_1\")(t): t1, sp.Function(\"θ_2\")(t) : t2})\n",
    "#sp.pprint(xT2pp)\n",
    "\n",
    "t1,t2 = sp.symbols(\"t1 t2\")\n",
    "xT1pp = xT1pp.xreplace({sp.Symbol(\"θ_1\") : t1, sp.Symbol(\"θ_2\") : t2})\n",
    "xT2pp = xT2pp.xreplace({sp.Symbol(\"θ_1\") : t1, sp.Symbol(\"θ_2\") : t2})\n",
    "print(\"θ''_1 = . . . in ASCII \")\n",
    "sp.pprint(xT1pp)\n",
    "print(\"\\n\\nθ''_2 = . . . in ASCII \")\n",
    "sp.pprint(xT2pp)\n"
   ]
  },
  {
   "cell_type": "code",
   "execution_count": null,
   "metadata": {
    "collapsed": true
   },
   "outputs": [],
   "source": [
    "## be careful -- ufuncify does not like unicode characters!\n",
    "t1pp = ufuncify([r1,r2, m1,m2, k1,k2, t1,t2, w1,w2, g], xT1pp )\n",
    "t2pp = ufuncify([r1,r2, m1,m2, k1,k2, t1,t2, w1,w2, g], xT2pp )"
   ]
  },
  {
   "cell_type": "code",
   "execution_count": null,
   "metadata": {
    "collapsed": false
   },
   "outputs": [],
   "source": [
    "## this is our ODE.  It takes as input theta1, theta2, theta1', and theta2' and\n",
    "## returns theta1'' and theta2''. It also needs r1,r2, m1,m2, k1,k2. \n",
    "## It incodes the above. \n",
    "## TH = [t1,t2,t1p, t2p]\n",
    "def theODE2(TH, t, r1,r2, m1,m2, k1,k2, g):\n",
    "    return [TH[2], TH[3],\\\n",
    "            float(t1pp(r1,r2, m1,m2, k1,k2, TH[0],TH[1], TH[2],TH[3], g)),\\\n",
    "            float(t2pp(r1,r2, m1,m2, k1,k2, TH[0],TH[1], TH[2],TH[3], g))]\n"
   ]
  },
  {
   "cell_type": "code",
   "execution_count": null,
   "metadata": {
    "collapsed": false
   },
   "outputs": [],
   "source": [
    "plt.close()\n",
    "import copy\n",
    "\n",
    "## Code to generate an approximate solution to the double pendulum ODE.\n",
    "##\n",
    "## returns a list of pairs (theta0, theta0', theta1, theta1') of length n\n",
    "def ODEsol2(th0, thp0, th1, thp1, L, n, m1, m2, r1, r2, k1, k2, g):\n",
    "    t=np.linspace(0.0, L, n)\n",
    "    sol = odeint( theODE2, [th0, th1, thp0, thp1], t, args=(r1,r2, m1,m2, k1,k2, g) )\n",
    "    return sol\n",
    "\n",
    "def plotSol(th0, thp0, th1, thp1, L, m1, m2, r1, r2, k1, k2, g, n):\n",
    "    sol = ODEsol2(th0, thp0, th1, thp1, L, n, m1, m2, r1, r2, k1, k2, g)\n",
    "    ## let's add some code to indicate the relevant theta = 2*pi*k lines, for k an integer\n",
    "    TH0vals = [x[0] for x in sol]\n",
    "    TH1vals = [x[1] for x in sol]\n",
    "    Yvals = copy.copy(TH0vals)\n",
    "    Yvals.extend(TH1vals)\n",
    "    \n",
    "    Mi = ma.floor(min(Yvals) / np.pi )\n",
    "    Ma = ma.ceil( max(Yvals) / np.pi )\n",
    "    ytk = [np.pi*i for i in range(Mi, Ma+1)]\n",
    "    for y in ytk:\n",
    "        plt.plot( [0, L], [y, y], 'r--' if (int(y/np.pi) % 2==0) else 'y--' )\n",
    "    ## and the appropriate y-ticks\n",
    "    plt.yticks(ytk, [str(k)+'π' for k in range(Mi, Ma+1)])\n",
    "    ## and the plot.\n",
    "    plt.plot(np.linspace(0, L, n), TH0vals, 'b-')\n",
    "    plt.plot(np.linspace(0, L, n), TH1vals, 'g-')\n",
    "    plt.xlabel('time')\n",
    "    plt.ylabel('θ')\n",
    "    \n",
    "##      th0, thp0,th1,thp1,     L, m1,   m2,  r1,  r2,  k1,  k2,  g,   n\n",
    "plotSol(0.0, 3.0, 0.0,-9.0, 120.0, 1.0, 1.0, 1.0, 1.0, 0.01, 0.01, 6, 10000)"
   ]
  },
  {
   "cell_type": "markdown",
   "metadata": {},
   "source": [
    "## Topic 6 -- animated double pendulum\n",
    "\n",
    "Let's visualize the solution as a real double-pendulum, evolving in time. \n",
    "\n",
    "We will simply cut and paste our code from Topic 4. "
   ]
  },
  {
   "cell_type": "code",
   "execution_count": null,
   "metadata": {
    "collapsed": false
   },
   "outputs": [],
   "source": [
    "## animated plot of double pendulum. \n",
    "th0=0; thp0=3.3; th1=0; thp1=4; L=200; n=10000; m1=1; m2=1; r1=1; r2=1; k1=0.1; k2=0.1; g=5\n",
    "\n",
    "plt.close()\n",
    "sol = ODEsol2(th0, thp0, th1, thp1, L, n, m1, m2, r1, r2, k1, k2, g)\n",
    "    \n",
    "fig = plt.figure()\n",
    "prad = 1.1*(r1+r2)\n",
    "ax = fig.add_subplot(111, autoscale_on=False, xlim=(-prad, prad), ylim=(-prad, prad) )\n",
    "ax.grid()\n",
    "\n",
    "line1, = ax.plot([],[],'b-', lw=3)\n",
    "en_text1 = ax.text(0.02, 0.92, '', transform=ax.transAxes, fontsize=16)\n",
    "en_text2 = ax.text(0.02, 0.82, '', transform=ax.transAxes, fontsize=16)\n",
    "\n",
    "def init():\n",
    "    line1.set_data([],[])\n",
    "    en_text1.set_text('')\n",
    "    en_text2.set_text('')\n",
    "    return line1, en_text1, en_text2\n",
    "\n",
    "def animate( TH ):\n",
    "    line1.set_data( [0.0, r1*np.sin(TH[0]), r1*np.sin(TH[0])+r2*np.sin(TH[1])],\\\n",
    "                    [0.0 , -r1*np.cos(TH[0]), -r1*np.cos(TH[0])-r2*np.cos(TH[1])] )\n",
    "    en_text1.set_text('$\\\\theta_0$ = %.1f $\\\\pi$' % (TH[0]/np.pi) )\n",
    "    en_text2.set_text('$\\\\theta_1$ = %.1f $\\\\pi$' % (TH[1]/np.pi) )\n",
    "    return line1, en_text1, en_text2\n",
    "\n",
    "ani = animation.FuncAnimation(fig, animate, frames = sol, init_func=init,\\\n",
    "                              interval=1, blit=True)\n",
    "\n",
    "plt.show()\n"
   ]
  },
  {
   "cell_type": "code",
   "execution_count": null,
   "metadata": {
    "collapsed": false
   },
   "outputs": [],
   "source": [
    "## Let's similarly cast V, T and R. \n",
    "V = Veq.args[1]\n",
    "R = Req.args[1]\n",
    "T = Teq.args[1]\n",
    "Vp = V\n",
    "Vp = Vp.xreplace({sp.Function(\"θ_1\")(t): t1, sp.Function(\"θ_2\")(t) : t2})\n",
    "Rp = R\n",
    "Rp = Rp.xreplace({sp.Derivative(sp.Function(\"θ_1\")(t),t): w1, sp.Derivative(sp.Function(\"θ_2\")(t),t): w2} )\n",
    "Rp = Rp.xreplace({sp.Function(\"θ_1\")(t): t1, sp.Function(\"θ_2\")(t) : t2})\n",
    "Tp = T\n",
    "Tp = Tp.xreplace({sp.Derivative(sp.Function(\"θ_1\")(t),t): w1, sp.Derivative(sp.Function(\"θ_2\")(t),t): w2} )\n",
    "Tp = Tp.xreplace({sp.Function(\"θ_1\")(t): t1, sp.Function(\"θ_2\")(t) : t2})\n",
    "## let's further normalize Vp to be zero at the stable fixed point\n",
    "Vp = Vp + g*m1*r1 + g*m2*(r1+r2)\n",
    "#sp.pprint(Vp)\n",
    "Vc = ufuncify([m1,m2, r1,r2, t1,t2, g], Vp)\n",
    "Rc = ufuncify([k1,k2, w1,w2],Rp)\n",
    "Tc = ufuncify([m1,m2, r1,r2, t1,t2, w1,w2], Tp)"
   ]
  },
  {
   "cell_type": "code",
   "execution_count": null,
   "metadata": {
    "collapsed": true
   },
   "outputs": [],
   "source": [
    "## kinetic + potential energy\n",
    "def compE(m1,m2,r1,r2,t1,t2,t1p,t2p,g):\n",
    "    return float(Vc(m1,m2,r1,r2,t1,t2,g)) + float(Tc(m1,m2,r1,r2,t1,t2,t1p,t2p))\n",
    "        \n",
    "## theoretical rate of change of energy should be -2*Rayleigh function. \n",
    "def dEdt(k1,k2,t1p,t2p):\n",
    "    return -2*float(Rc(k1,k2,t1p,t2p))\n"
   ]
  },
  {
   "cell_type": "code",
   "execution_count": null,
   "metadata": {
    "collapsed": true
   },
   "outputs": [],
   "source": []
  }
 ],
 "metadata": {
  "anaconda-cloud": {},
  "kernelspec": {
   "display_name": "Python [default]",
   "language": "python",
   "name": "python3"
  },
  "language_info": {
   "codemirror_mode": {
    "name": "ipython",
    "version": 3
   },
   "file_extension": ".py",
   "mimetype": "text/x-python",
   "name": "python",
   "nbconvert_exporter": "python",
   "pygments_lexer": "ipython3",
   "version": "3.5.2"
  },
  "widgets": {
   "state": {
    "7ad3eaa63ea848ac87de969f1c05772f": {
     "views": [
      {
       "cell_index": 10
      }
     ]
    },
    "b59f7e96bf1148848454b034f6afc99b": {
     "views": [
      {
       "cell_index": 7
      }
     ]
    },
    "d118891fffb74870be574a8fdb491d6f": {
     "views": [
      {
       "cell_index": 4
      }
     ]
    }
   },
   "version": "1.2.0"
  }
 },
 "nbformat": 4,
 "nbformat_minor": 1
}
