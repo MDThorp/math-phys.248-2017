{
 "cells": [
  {
   "cell_type": "markdown",
   "metadata": {},
   "source": [
    "# Topic of Labs\n",
    "\n",
    "\n",
    "\n",
    "## Lab 1\n",
    "\n",
    "In [Lecture 2, Week 8](../Week.8/Lecture.2.ipynb) we did a PCA analysis of the crime data where we did daily counts of crimes, *binned* by crime type.  In this lab we ask you to start an alternative PCA analysis of the data.\n",
    "\n",
    "Rather than *bin* the daily data only by crime type, create bins for **crime type**, as well as **weather** and **time of day**.  There are $86$ crime types.  Let's have two bins for weather, they will be for *warm* days ($10^c$ or more) vs. *cool* days (less than $10^c$).   Let's have two bins for *time of day* as well, we will have *working hours* 6am--6pm and non-work hours, being 0am--6am and 6pm--midnight.  This gives us a total of $86 \\times 2 \\times 2 = 344$ bins for the daily data. \n",
    "\n",
    "Step 1) Construct a matrix $k \\times 344$ matrix whose $(i,j)$-th entry represents the number of crimes on *day i* in *bin j*.  $k$ will of course be the number of days in the crime database for which we also have weather data. \n",
    "\n",
    "Step 2) Perform PCA analysis on this. \n",
    "\n",
    "Step 3) For the first four largest eigenvectors (i.e. the top four rows of the **pca.component__** output), look for any strong correllations or inverse correllations.  Can you explain them? \n",
    "\n",
    " - Do the crimes happen in similar locations? Try a heat map. \n",
    " - At similar times?  Try a plot of the time of the crime in one bin, vs. the time of the crime in the other.\n",
    " - Are the crime types related? \n",
    " \n",
    "If you notice a strong correllation or inverse-correllation, attempt a least-square fit of the data.   \n",
    "\n",
    "**This is only a solution to Step 1 and 2**"
   ]
  },
  {
   "cell_type": "code",
   "execution_count": 1,
   "metadata": {
    "collapsed": false
   },
   "outputs": [
    {
     "name": "stdout",
     "output_type": "stream",
     "text": [
      "Loading the VicPD library.\n",
      "[cdata] 5 years and 150 days of crime data. 86607 records total.\n",
      "[ctypes] tree structure of crime types\n",
      "[all_tots] totals for crime types\n",
      "[all_freq] relative frequencies of crime types\n",
      "[weekdaycount] loaded\n",
      "[weekdaypct] loaded\n",
      "[presentBDWeek] loaded\n",
      "[wdatlist] 5 years and 177 days of weather data, dict of (max c, min c, mean c, rain cm, snow cm) indexed on date\n",
      "VicPD library loaded.\n"
     ]
    }
   ],
   "source": [
    "## A little code to load the vicpd library from the Week.8 directory.\n",
    "##  we could of course just move the vicpd.py file. . . but we could also do this.\n",
    "import os, sys\n",
    "dirn, modn = os.path.split(\"../Week.8/vicpd.py\")\n",
    "modn = os.path.splitext(modn)[0]\n",
    "path = list(sys.path)\n",
    "sys.path.insert(0, dirn)\n",
    "try:\n",
    "     vpd = __import__(modn)\n",
    "finally:\n",
    "    sys.path[:] = path # restore\n",
    "    \n",
    "import matplotlib.pyplot as plt\n",
    "%matplotlib inline\n",
    "#%matplotlib nbagg\n",
    "import numpy as np\n",
    "from sklearn.decomposition import PCA"
   ]
  },
  {
   "cell_type": "code",
   "execution_count": 7,
   "metadata": {
    "collapsed": false
   },
   "outputs": [
    {
     "name": "stdout",
     "output_type": "stream",
     "text": [
      " * * * PCA eig-val mag * * * \n",
      "\n",
      "ev 29.20761721 ev 5.12632851 ev 3.26364180 ev 2.52058023 ev 1.89542664 "
     ]
    }
   ],
   "source": [
    "## Let's set up the binning for Problem 1. \n",
    "import itertools as it\n",
    "\n",
    "tbinstr = ['0am-6am, 6pm--12am', '6am-6pm']\n",
    "\n",
    "# list of crime types, time periods and temperature range.  The binning indices.\n",
    "ctnl = []\n",
    "for a,b in vpd.ctypes.items():\n",
    "    for c,j,k in it.product(b, range(2), range(2)):\n",
    "        ctnl.append((a,c,j,k))\n",
    "        \n",
    "## reverse-lookup dictionary, to get the index of the crime type and time chunk.\n",
    "rev_ctnl = dict([(ctnl[i], i) for i in range(len(ctnl))])\n",
    "\n",
    "## cdata dates as a set\n",
    "cdays = set([c.incident_datetime.date() for c in vpd.cdata])\n",
    "cdayl = list(cdays)\n",
    "\n",
    "## reverse-lookup a date\n",
    "rdaylook = dict([(cdayl[i], i) for i in range(len(cdayl))])\n",
    "\n",
    "## get the temperature bin\n",
    "def tBin(T):\n",
    "    if T<10.0: return 0\n",
    "    return 1\n",
    "\n",
    "A = np.zeros( (len(cdayl), len(ctnl) ) )\n",
    "for c in vpd.cdata:\n",
    "    if (c.incident_datetime).date() not in vpd.wdatlist:\n",
    "        continue   \n",
    "    A[rdaylook[c.incident_datetime.date()],\\\n",
    "      rev_ctnl[(c.parent_incident_type, c.incident_type_primary,\\\n",
    "               ((c.incident_datetime.hour+6) % 24)//12,\\\n",
    "               tBin(vpd.wdatlist[c.incident_datetime.date()][2]))]] += 1.0\n",
    "\n",
    "## build the data matrix. Every day will have a column consisting of the counts\n",
    "##  of the crime types on that day. \n",
    "\n",
    "pca = PCA(n_components=len(ctnl))\n",
    "pca.fit(A)\n",
    "\n",
    "C = pca.components_\n",
    "\n",
    "print(\" * * * PCA eig-val mag * * * \\n\")\n",
    "\n",
    "for i in range(5):\n",
    "    print(\"ev %.8f \" %pca.explained_variance_[i], end='')"
   ]
  },
  {
   "cell_type": "code",
   "execution_count": 9,
   "metadata": {
    "collapsed": false
   },
   "outputs": [
    {
     "name": "stdout",
     "output_type": "stream",
     "text": [
      "Eigenvalue  1  variance 29.2\n",
      "+corr: \n",
      "  Other--SUSPICIOUS PERS/VEH/OCCURRENCE 6am-6pm  Cool  pct 23.7\n",
      "  Theft from Vehicle--THEFT FROM MV UNDER $5000 6am-6pm  Cool  pct 21.7\n",
      "  Other--SUSPICIOUS PERS/VEH/OCCURRENCE 0am-6am, 6pm--12am  Cool  pct 20.3\n",
      "  Theft--THEFT-OTHER UNDER $5000 6am-6pm  Cool  pct 19.4\n",
      "  Liquor--LIQUOR-INTOX IN PUBLIC PLACE 0am-6am, 6pm--12am  Cool  pct 18.8\n",
      "  Property Crime--MISCHIEF $5000 OR UNDER 6am-6pm  Cool  pct 16.2\n",
      "-corr: \n",
      "  Other--SUSPICIOUS PERS/VEH/OCCURRENCE 6am-6pm  Warm  pct -32.5\n",
      "  Other--SUSPICIOUS PERS/VEH/OCCURRENCE 0am-6am, 6pm--12am  Warm  pct -31.5\n",
      "  Theft from Vehicle--THEFT FROM MV UNDER $5000 6am-6pm  Warm  pct -27.5\n",
      "  Liquor--LIQUOR-INTOX IN PUBLIC PLACE 0am-6am, 6pm--12am  Warm  pct -25.0\n",
      "  Theft--THEFT-OTHER UNDER $5000 6am-6pm  Warm  pct -22.6\n",
      "  Other--BYLAW-NOISE 0am-6am, 6pm--12am  Warm  pct -21.3\n",
      "  Property Crime--MISCHIEF $5000 OR UNDER 6am-6pm  Warm  pct -17.5\n",
      "  Theft--THEFT-SHOPLIFTING UNDER $5000 6am-6pm  Warm  pct -15.7\n",
      "  Theft--THEFT BICYCLE UNDER $5000 6am-6pm  Warm  pct -15.1\n",
      "\n",
      "\n",
      "Eigenvalue  2  variance 5.1\n",
      "+corr: \n",
      "-corr: \n",
      "  Other--SUSPICIOUS PERS/VEH/OCCURRENCE 6am-6pm  Cool  pct -34.5\n",
      "  Theft from Vehicle--THEFT FROM MV UNDER $5000 6am-6pm  Cool  pct -28.2\n",
      "  Other--SUSPICIOUS PERS/VEH/OCCURRENCE 0am-6am, 6pm--12am  Warm  pct -28.0\n",
      "  Other--SUSPICIOUS PERS/VEH/OCCURRENCE 0am-6am, 6pm--12am  Cool  pct -27.9\n",
      "  Other--SUSPICIOUS PERS/VEH/OCCURRENCE 6am-6pm  Warm  pct -27.9\n",
      "  Liquor--LIQUOR-INTOX IN PUBLIC PLACE 0am-6am, 6pm--12am  Cool  pct -27.3\n",
      "  Theft--THEFT-OTHER UNDER $5000 6am-6pm  Cool  pct -25.0\n",
      "  Liquor--LIQUOR-INTOX IN PUBLIC PLACE 0am-6am, 6pm--12am  Warm  pct -24.9\n",
      "  Property Crime--MISCHIEF $5000 OR UNDER 6am-6pm  Cool  pct -21.1\n",
      "  Theft from Vehicle--THEFT FROM MV UNDER $5000 6am-6pm  Warm  pct -17.9\n",
      "  Other--BYLAW-NOISE 0am-6am, 6pm--12am  Cool  pct -17.8\n",
      "  Other--BYLAW-NOISE 0am-6am, 6pm--12am  Warm  pct -17.7\n",
      "  Theft--THEFT-SHOPLIFTING UNDER $5000 6am-6pm  Cool  pct -17.3\n"
     ]
    }
   ],
   "source": [
    "## takes as input the row number of the PCA analysis, and prints short string explaining\n",
    "## what it means\n",
    "def exp_row_pca(C, r):\n",
    "    ## list of entries w/index\n",
    "    Cl = [(100*C[r,i], i) for i in range(C.shape[1])]\n",
    "    Cs = sorted(Cl)\n",
    "    Cs.reverse()\n",
    "    Cp = [c for c in Cs if c[0]>0.0]\n",
    "    Cn = [c for c in Cs if c[0]<0.0]\n",
    "    Cn.reverse()\n",
    "    return (Cp, Cn)\n",
    "\n",
    "## let's run through the temperature database and divide it into $5$ equal-weight temperature bins.\n",
    "tBinName = ['Cool', 'Warm']\n",
    "\n",
    "def text_corr(C, r):\n",
    "    Cp, Cn = exp_row_pca(C,r)\n",
    "    print(\"+corr: \")\n",
    "    for x in Cp:\n",
    "        if (x[0]>15.0):\n",
    "            print(\" \", ctnl[x[1]][0]+\"--\"+ctnl[x[1]][1]+\" \"+tbinstr[ctnl[x[1]][2]],\\\n",
    "                  ' '+tBinName[ctnl[x[1]][3]], \" pct %.1f\" % x[0])\n",
    "    print(\"-corr: \")\n",
    "    for x in Cn:\n",
    "        if (x[0]<-15.0):\n",
    "            print(\" \", ctnl[x[1]][0]+\"--\"+ctnl[x[1]][1]+\" \"+tbinstr[ctnl[x[1]][2]],\\\n",
    "                  ' '+tBinName[ctnl[x[1]][3]],\" pct %.1f\" % x[0])\n",
    "            \n",
    "for i in range(2):\n",
    "    if (i!=0): print(\"\\n\")\n",
    "    print(\"Eigenvalue \", i+1, \" variance %.1f\" % pca.explained_variance_[i])\n",
    "    text_corr(C,i)\n",
    "    "
   ]
  },
  {
   "cell_type": "code",
   "execution_count": null,
   "metadata": {
    "collapsed": true
   },
   "outputs": [],
   "source": []
  }
 ],
 "metadata": {
  "anaconda-cloud": {},
  "kernelspec": {
   "display_name": "Python [default]",
   "language": "python",
   "name": "python3"
  },
  "language_info": {
   "codemirror_mode": {
    "name": "ipython",
    "version": 3
   },
   "file_extension": ".py",
   "mimetype": "text/x-python",
   "name": "python",
   "nbconvert_exporter": "python",
   "pygments_lexer": "ipython3",
   "version": "3.5.2"
  }
 },
 "nbformat": 4,
 "nbformat_minor": 1
}
