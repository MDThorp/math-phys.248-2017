{
 "cells": [
  {
   "cell_type": "markdown",
   "metadata": {},
   "source": [
    "# Topic of Labs\n",
    "\n",
    "This week's labs will involve some further explorations of topics we have begun in class. \n",
    "\n",
    "## Lab 1\n",
    "\n",
    " * Build a Python library our of Week 6 Lecture 2 material.  This is a Victoria Police Department crime stats library.  We start with the *vicpd.py* library, which is a collation of everything we did in Week 6, Lecture 2.  \n",
    " \n",
    " * Use **dir(vicpd)** to list the commands available in the vicpd library, or just load the file and look.\n",
    " \n",
    " * We continue exploring the VicPD and weather stats, looking to make inferences with the data. \n",
    " "
   ]
  },
  {
   "cell_type": "code",
   "execution_count": 1,
   "metadata": {
    "collapsed": false
   },
   "outputs": [
    {
     "name": "stdout",
     "output_type": "stream",
     "text": [
      "Loading the VicPD library.\n",
      "[cdata] 5 years and 150 days of crime data. 86607 records total.\n",
      "[ctypes] tree structure of crime types\n",
      "[all_tots] totals for crime types\n",
      "[all_freq] relative frequencies of crime types\n",
      "[weekdaycount] loaded\n",
      "[weekdaypct] loaded\n",
      "[presentBDWeek] loaded\n",
      "[wdatlist] 5 years and 177 days of weather data, dict of (max c, min c, mean c, rain cm, snow cm) indexed on date\n",
      "VicPD library loaded.\n"
     ]
    }
   ],
   "source": [
    "import vicpd as vpd"
   ]
  },
  {
   "cell_type": "markdown",
   "metadata": {},
   "source": [
    "**Suggestions**\n",
    "\n",
    "- Make a variety of plots, of one daily crime count vs another. \n",
    "\n",
    "- Look for linear relationships, or perhaps non-linear relationships using least-squares. \n",
    "\n",
    "- Look for phenomena you might expect, like high accident counts after freezing rain. \n",
    "\n",
    "- If you find such, perhaps plot them spatially.  Do they occur on hills? "
   ]
  },
  {
   "cell_type": "code",
   "execution_count": null,
   "metadata": {
    "collapsed": true
   },
   "outputs": [],
   "source": []
  },
  {
   "cell_type": "markdown",
   "metadata": {},
   "source": [
    "\n",
    "## Lab 2\n",
    "\n",
    "TBA\n"
   ]
  },
  {
   "cell_type": "code",
   "execution_count": null,
   "metadata": {
    "collapsed": true
   },
   "outputs": [],
   "source": []
  }
 ],
 "metadata": {
  "anaconda-cloud": {},
  "kernelspec": {
   "display_name": "Python [default]",
   "language": "python",
   "name": "python3"
  },
  "language_info": {
   "codemirror_mode": {
    "name": "ipython",
    "version": 3
   },
   "file_extension": ".py",
   "mimetype": "text/x-python",
   "name": "python",
   "nbconvert_exporter": "python",
   "pygments_lexer": "ipython3",
   "version": "3.5.2"
  }
 },
 "nbformat": 4,
 "nbformat_minor": 1
}
