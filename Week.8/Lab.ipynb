{
 "cells": [
  {
   "cell_type": "markdown",
   "metadata": {},
   "source": [
    "# Topic of Labs\n",
    "\n",
    "This week's labs will involve some further explorations of topics we have begun in class. \n",
    "\n",
    "## Lab 1\n",
    "\n",
    " * Build a Python library our of Week 6 Lecture 2 material.  This is a Victoria Police Department crime stats library.  We start with the *vicpd.py* library, which is a collation of everything we did in Week 6, Lecture 2.  \n",
    " \n",
    " * Use **dir(vicpd)** to list the commands available in the vicpd library, or just load the file and look.\n",
    " \n",
    " * We continue exploring the VicPD and weather stats, looking to make inferences with the data. \n",
    " "
   ]
  },
  {
   "cell_type": "code",
   "execution_count": 1,
   "metadata": {
    "collapsed": false
   },
   "outputs": [
    {
     "name": "stdout",
     "output_type": "stream",
     "text": [
      "Loading the VicPD library.\n",
      "[cdata] 5 years and 150 days of crime data. 86607 records total.\n",
      "[ctypes] tree structure of crime types\n",
      "[all_tots] totals for crime types\n",
      "[all_freq] relative frequencies of crime types\n",
      "[weekdaycount] loaded\n",
      "[weekdaypct] loaded\n",
      "[presentBDWeek] loaded\n",
      "[wdatlist] 5 years and 177 days of weather data, dict of (max c, min c, mean c, rain cm, snow cm) indexed on date\n",
      "VicPD library loaded.\n"
     ]
    }
   ],
   "source": [
    "import vicpd as vpd"
   ]
  },
  {
   "cell_type": "markdown",
   "metadata": {},
   "source": [
    "**Suggestions**\n",
    "\n",
    "- Make a variety of plots, of one daily crime count vs another. \n",
    "\n",
    "- Look for linear relationships, or perhaps non-linear relationships using least-squares. \n",
    "\n",
    "- Look for phenomena you might expect, like high accident counts after freezing rain. \n",
    "\n",
    "- If you find such, perhaps plot them spatially.  Do they occur on hills? "
   ]
  },
  {
   "cell_type": "code",
   "execution_count": 2,
   "metadata": {
    "collapsed": false
   },
   "outputs": [
    {
     "name": "stdout",
     "output_type": "stream",
     "text": [
      "defaultdict(<class 'int'>,\n",
      "            {'Alarm': 904,\n",
      "             'Arson': 182,\n",
      "             'Assault': 2215,\n",
      "             'Assault with Deadly Weapon': 1208,\n",
      "             'Breaking & Entering': 3616,\n",
      "             'Community Policing': 34,\n",
      "             'Disorder': 2673,\n",
      "             'Drugs': 2720,\n",
      "             'Liquor': 7894,\n",
      "             'Other': 16515,\n",
      "             'Property Crime': 5785,\n",
      "             'Robbery': 544,\n",
      "             'Theft': 14685,\n",
      "             'Theft from Vehicle': 6643,\n",
      "             'Theft of Vehicle': 871,\n",
      "             'Traffic': 15127,\n",
      "             'Vehicle Stop': 4318,\n",
      "             'Weapons Offense': 673,\n",
      "             ('Alarm', 'FALSE ALARMS'): 904,\n",
      "             ('Arson', 'ARSON-DISREGARD FOR HUMAN LIFE'): 12,\n",
      "             ('Arson', 'ARSON-PROPERTY'): 170,\n",
      "             ('Assault', 'ASSAULT AGAINST POLICE OFFICER'): 300,\n",
      "             ('Assault', 'ASSAULT-COMMON OR TRESPASS'): 1556,\n",
      "             ('Assault', 'ASSAULTS-OTHER'): 359,\n",
      "             ('Assault with Deadly Weapon', 'ASSAULT OT P/O-W/WPN OR CBH'): 27,\n",
      "             ('Assault with Deadly Weapon', 'ASSAULT POLICE-W/WEAPON OR CBH'): 50,\n",
      "             ('Assault with Deadly Weapon', 'ASSAULT-AGGRAVATED'): 62,\n",
      "             ('Assault with Deadly Weapon', 'ASSAULT-OTHER PEACE OFFICER'): 101,\n",
      "             ('Assault with Deadly Weapon', 'ASSAULT-W/WEAPON OR CBH'): 968,\n",
      "             ('Breaking & Entering', 'BREAK & ENTER-BUSINESS'): 1156,\n",
      "             ('Breaking & Entering', 'BREAK & ENTER-OTHER'): 783,\n",
      "             ('Breaking & Entering', 'BREAK & ENTER-RESIDENCE'): 1677,\n",
      "             ('Community Policing', 'BUSINESS'): 34,\n",
      "             ('Disorder', 'CAUSE A DISTURBANCE'): 2673,\n",
      "             ('Drugs', 'POSSESS-OTH SCHED I DRUGS/SUBS'): 187,\n",
      "             ('Drugs', 'POSSESS-OTH SCHED III DRUG/SUB'): 25,\n",
      "             ('Drugs', 'POSSESSION-CANNABIS 30G & UNDR'): 733,\n",
      "             ('Drugs', 'POSSESSION-CANNABIS OVER 30G'): 32,\n",
      "             ('Drugs', 'POSSESSION-COCAINE'): 578,\n",
      "             ('Drugs', 'POSSESSION-HEROIN'): 220,\n",
      "             ('Drugs', 'POSSESSION-MDMA (ECSTASY)'): 8,\n",
      "             ('Drugs', 'POSSESSION-METHAMPHETAMINE'): 285,\n",
      "             ('Drugs', 'TRAFFICK-CANNABIS 3000G & UNDR'): 102,\n",
      "             ('Drugs', 'TRAFFICK-CANNABIS OVER 3000G'): 4,\n",
      "             ('Drugs', 'TRAFFICKING-AMPHETAMINE'): 7,\n",
      "             ('Drugs', 'TRAFFICKING-COCAINE'): 368,\n",
      "             ('Drugs', 'TRAFFICKING-HEROIN'): 83,\n",
      "             ('Drugs', 'TRAFFICKING-METHAMPHETAMINE'): 59,\n",
      "             ('Drugs', 'TRAFFICKING-MORPHINE'): 4,\n",
      "             ('Drugs', 'TRAFFICKING-OTH SCHED IV CDSA'): 1,\n",
      "             ('Drugs', 'TRAFFICKING-OTHER CDSA'): 24,\n",
      "             ('Liquor', 'LIQUOR (LCLA) ACT-OTHER'): 287,\n",
      "             ('Liquor', 'LIQUOR-CONSUME IN PUBLIC PLACE'): 602,\n",
      "             ('Liquor', 'LIQUOR-INTOX IN PUBLIC PLACE'): 6993,\n",
      "             ('Liquor', 'LIQUOR-SEIZURE'): 12,\n",
      "             ('Other', 'ANIMAL CALLS'): 540,\n",
      "             ('Other', 'BYLAW-NOISE'): 4318,\n",
      "             ('Other', 'OBSTRUCT PEACE/PUBLIC OFFICER'): 338,\n",
      "             ('Other', 'SUSPICIOUS PERS/VEH/OCCURRENCE'): 11319,\n",
      "             ('Property Crime', 'FRAUD-CHEQUE'): 29,\n",
      "             ('Property Crime', 'FRAUD-CREDIT/DEBIT CARD'): 38,\n",
      "             ('Property Crime', 'MISCHIEF $5000 OR UNDER'): 5659,\n",
      "             ('Property Crime', 'MISCHIEF OVER $5000'): 59,\n",
      "             ('Robbery', 'ROBBERY W/OTHER OFFENSIVE WPN'): 159,\n",
      "             ('Robbery', 'ROBBERY-OTHER'): 385,\n",
      "             ('Theft', 'THEFT BICYCLE OVER $5000'): 33,\n",
      "             ('Theft', 'THEFT BICYCLE UNDER $5000'): 3415,\n",
      "             ('Theft', 'THEFT-ELEC/GAS/TEL UNDER $5000'): 17,\n",
      "             ('Theft', 'THEFT-OTHER OVER $5000'): 150,\n",
      "             ('Theft', 'THEFT-OTHER UNDER $5000'): 6417,\n",
      "             ('Theft', 'THEFT-SHOPLIFTING OVER $5000'): 12,\n",
      "             ('Theft', 'THEFT-SHOPLIFTING UNDER $5000'): 4641,\n",
      "             ('Theft from Vehicle', 'THEFT FROM MV OVER $5000'): 92,\n",
      "             ('Theft from Vehicle', 'THEFT FROM MV UNDER $5000'): 6551,\n",
      "             ('Theft of Vehicle', 'TAKE AUTO W/O CONSENT U/$5000'): 28,\n",
      "             ('Theft of Vehicle', 'THEFT MOTORCYCLE UNDER $5000'): 160,\n",
      "             ('Theft of Vehicle', 'THEFT OF AUTO OVER $5000'): 160,\n",
      "             ('Theft of Vehicle', 'THEFT OF AUTO UNDER $5000'): 322,\n",
      "             ('Theft of Vehicle', 'THEFT OF TRUCK OVER $5000'): 63,\n",
      "             ('Theft of Vehicle', 'THEFT OF TRUCK UNDER $5000'): 120,\n",
      "             ('Theft of Vehicle', 'THEFT OTHER VEHICLE U/$5000'): 18,\n",
      "             ('Traffic', '215 ALCOH-24HR'): 303,\n",
      "             ('Traffic', '215 DRUG'): 274,\n",
      "             ('Traffic', '215ALCOH IRP WARN-30DAY'): 14,\n",
      "             ('Traffic', '215ALCOH IRP WARN-3DAY'): 344,\n",
      "             ('Traffic', '215ALCOH IRP WARN-7DAY'): 24,\n",
      "             ('Traffic', 'COLLISION-DAMAGE OVER $1000'): 2057,\n",
      "             ('Traffic', 'COLLISION-DAMAGE UNDER $1000'): 1663,\n",
      "             ('Traffic', 'COLLISION-NON-FATAL INJURY'): 1151,\n",
      "             ('Traffic', 'DRIVING COMPLAINTS'): 2061,\n",
      "             ('Traffic', 'EXCESSIVE SPEED-OVER 40KM'): 8,\n",
      "             ('Traffic', 'IMPAIRED OP MOTOR VEH (ALCOH)'): 1355,\n",
      "             ('Traffic', 'TRAFFIC-INSURANCE VIOLATION'): 2311,\n",
      "             ('Traffic', 'TRAFFIC-OTHER FEDERAL'): 27,\n",
      "             ('Traffic', 'TRAFFIC-OTHER MOVING PROV'): 2246,\n",
      "             ('Traffic', 'TRAFFIC-OTHER MUNICIPAL'): 281,\n",
      "             ('Traffic', 'TRAFFIC-OTHER NON-MOVE PROV'): 973,\n",
      "             ('Traffic', 'TRAFFIC-WRITTEN WARNING'): 35,\n",
      "             ('Vehicle Stop', 'CYCLIST'): 1091,\n",
      "             ('Vehicle Stop', 'VEHICLE'): 3182,\n",
      "             ('Vehicle Stop', 'VI-VEHICLE IMPOUNDMENT'): 45,\n",
      "             ('Weapons Offense', 'FIREARM-POINTING'): 7,\n",
      "             ('Weapons Offense', 'WEAPONS POSS-CONTRARY TO ORDER'): 21,\n",
      "             ('Weapons Offense', 'WEAPONS-POSSESSION'): 645})\n"
     ]
    }
   ],
   "source": [
    "import pprint as pp\n",
    "pp.pprint(vpd.all_tots)"
   ]
  },
  {
   "cell_type": "code",
   "execution_count": null,
   "metadata": {
    "collapsed": true
   },
   "outputs": [],
   "source": [
    "print(vpd.weekdaycount( ('Vehicle Stop', 'CYCLIST')  ))"
   ]
  },
  {
   "cell_type": "code",
   "execution_count": null,
   "metadata": {
    "collapsed": true
   },
   "outputs": [],
   "source": [
    "x, y = vpd.xyplot('Traffic', 'COLLISION-DAMAGE UNDER $1000', 1 )\n",
    "import matplotlib.pyplot as plt\n",
    "%pylab nbagg\n",
    "plt.title(\"Min daily temp vs. number of collisions on that day\")\n",
    "plt.scatter(x,y)"
   ]
  },
  {
   "cell_type": "markdown",
   "metadata": {},
   "source": [
    "## What we really want to do\n",
    "\n",
    "**Question** Is look at on day $x$ if it rains, freezes that *night*, is there a disproporionate number of accidents on day $x+1$? \n",
    "\n",
    "**Strategy** \n",
    "\n",
    " * Iterate through every day in the weather data. \n",
    " * Look for days with rain, and min temperature < 0. \n",
    " * Check to see if we have the crime data for the **next** day.\n",
    " * Count car accidents above and below \\$1000. \n",
    " \n",
    " * Compare these numbers to normal days. \n",
    " \n",
    "**Once you have complete this**\n",
    "\n",
    " * Do accidents after freezing rain happen on hills?  Intersections? Make a heat map of all the accident locations. "
   ]
  },
  {
   "cell_type": "markdown",
   "metadata": {
    "collapsed": true
   },
   "source": []
  },
  {
   "cell_type": "markdown",
   "metadata": {},
   "source": [
    "\n",
    "## Lab 2\n",
    "\n",
    "TBA\n"
   ]
  },
  {
   "cell_type": "code",
   "execution_count": null,
   "metadata": {
    "collapsed": true
   },
   "outputs": [],
   "source": []
  }
 ],
 "metadata": {
  "anaconda-cloud": {},
  "kernelspec": {
   "display_name": "Python [default]",
   "language": "python",
   "name": "python3"
  },
  "language_info": {
   "codemirror_mode": {
    "name": "ipython",
    "version": 3
   },
   "file_extension": ".py",
   "mimetype": "text/x-python",
   "name": "python",
   "nbconvert_exporter": "python",
   "pygments_lexer": "ipython3",
   "version": "3.5.2"
  }
 },
 "nbformat": 4,
 "nbformat_minor": 1
}
