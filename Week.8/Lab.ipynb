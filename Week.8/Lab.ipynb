{
 "cells": [
  {
   "cell_type": "markdown",
   "metadata": {},
   "source": [
    "# Topic of Labs\n",
    "\n",
    "This week's labs will involve some further explorations of topics we have begun in class. \n",
    "\n",
    "## Lab 1\n",
    "\n",
    " * Build a Python library our of Week 6 Lecture 2 material.  This is a Victoria Police Department crime stats library.  We start with the *vicpd.py* library, which is a collation of everything we did in Week 6, Lecture 2.  \n",
    " \n",
    " * Use **dir(vicpd)** to list the commands available in the vicpd library, or just load the file and look.\n",
    " \n",
    " * We continue exploring the VicPD and weather stats, looking to make inferences with the data. \n",
    " "
   ]
  },
  {
   "cell_type": "code",
   "execution_count": 1,
   "metadata": {
    "collapsed": false
   },
   "outputs": [
    {
     "name": "stdout",
     "output_type": "stream",
     "text": [
      "Loading the VicPD library.\n",
      "[cdata] 5 years and 150 days of crime data. 86607 records total.\n",
      "[ctypes] tree structure of crime types\n",
      "[all_tots] totals for crime types\n",
      "[all_freq] relative frequencies of crime types\n",
      "[weekdaycount] loaded\n",
      "[weekdaypct] loaded\n",
      "[presentBDWeek] loaded\n",
      "[wdatlist] 5 years and 177 days of weather data, dict of (max c, min c, mean c, rain cm, snow cm) indexed on date\n",
      "VicPD library loaded.\n"
     ]
    }
   ],
   "source": [
    "import vicpd as vpd"
   ]
  },
  {
   "cell_type": "markdown",
   "metadata": {},
   "source": [
    "**Suggestions**\n",
    "\n",
    "- Make a variety of plots, of one daily crime count vs another. \n",
    "\n",
    "- Look for linear relationships, or perhaps non-linear relationships using least-squares. \n",
    "\n",
    "- Look for phenomena you might expect, like high accident counts after freezing rain. \n",
    "\n",
    "- If you find such, perhaps plot them spatially.  Do they occur on hills? "
   ]
  },
  {
   "cell_type": "code",
   "execution_count": 2,
   "metadata": {
    "collapsed": false
   },
   "outputs": [
    {
     "name": "stdout",
     "output_type": "stream",
     "text": [
      "defaultdict(<class 'int'>,\n",
      "            {'Alarm': 904,\n",
      "             'Arson': 182,\n",
      "             'Assault': 2215,\n",
      "             'Assault with Deadly Weapon': 1208,\n",
      "             'Breaking & Entering': 3616,\n",
      "             'Community Policing': 34,\n",
      "             'Disorder': 2673,\n",
      "             'Drugs': 2720,\n",
      "             'Liquor': 7894,\n",
      "             'Other': 16515,\n",
      "             'Property Crime': 5785,\n",
      "             'Robbery': 544,\n",
      "             'Theft': 14685,\n",
      "             'Theft from Vehicle': 6643,\n",
      "             'Theft of Vehicle': 871,\n",
      "             'Traffic': 15127,\n",
      "             'Vehicle Stop': 4318,\n",
      "             'Weapons Offense': 673,\n",
      "             ('Alarm', 'FALSE ALARMS'): 904,\n",
      "             ('Arson', 'ARSON-DISREGARD FOR HUMAN LIFE'): 12,\n",
      "             ('Arson', 'ARSON-PROPERTY'): 170,\n",
      "             ('Assault', 'ASSAULT AGAINST POLICE OFFICER'): 300,\n",
      "             ('Assault', 'ASSAULT-COMMON OR TRESPASS'): 1556,\n",
      "             ('Assault', 'ASSAULTS-OTHER'): 359,\n",
      "             ('Assault with Deadly Weapon', 'ASSAULT OT P/O-W/WPN OR CBH'): 27,\n",
      "             ('Assault with Deadly Weapon', 'ASSAULT POLICE-W/WEAPON OR CBH'): 50,\n",
      "             ('Assault with Deadly Weapon', 'ASSAULT-AGGRAVATED'): 62,\n",
      "             ('Assault with Deadly Weapon', 'ASSAULT-OTHER PEACE OFFICER'): 101,\n",
      "             ('Assault with Deadly Weapon', 'ASSAULT-W/WEAPON OR CBH'): 968,\n",
      "             ('Breaking & Entering', 'BREAK & ENTER-BUSINESS'): 1156,\n",
      "             ('Breaking & Entering', 'BREAK & ENTER-OTHER'): 783,\n",
      "             ('Breaking & Entering', 'BREAK & ENTER-RESIDENCE'): 1677,\n",
      "             ('Community Policing', 'BUSINESS'): 34,\n",
      "             ('Disorder', 'CAUSE A DISTURBANCE'): 2673,\n",
      "             ('Drugs', 'POSSESS-OTH SCHED I DRUGS/SUBS'): 187,\n",
      "             ('Drugs', 'POSSESS-OTH SCHED III DRUG/SUB'): 25,\n",
      "             ('Drugs', 'POSSESSION-CANNABIS 30G & UNDR'): 733,\n",
      "             ('Drugs', 'POSSESSION-CANNABIS OVER 30G'): 32,\n",
      "             ('Drugs', 'POSSESSION-COCAINE'): 578,\n",
      "             ('Drugs', 'POSSESSION-HEROIN'): 220,\n",
      "             ('Drugs', 'POSSESSION-MDMA (ECSTASY)'): 8,\n",
      "             ('Drugs', 'POSSESSION-METHAMPHETAMINE'): 285,\n",
      "             ('Drugs', 'TRAFFICK-CANNABIS 3000G & UNDR'): 102,\n",
      "             ('Drugs', 'TRAFFICK-CANNABIS OVER 3000G'): 4,\n",
      "             ('Drugs', 'TRAFFICKING-AMPHETAMINE'): 7,\n",
      "             ('Drugs', 'TRAFFICKING-COCAINE'): 368,\n",
      "             ('Drugs', 'TRAFFICKING-HEROIN'): 83,\n",
      "             ('Drugs', 'TRAFFICKING-METHAMPHETAMINE'): 59,\n",
      "             ('Drugs', 'TRAFFICKING-MORPHINE'): 4,\n",
      "             ('Drugs', 'TRAFFICKING-OTH SCHED IV CDSA'): 1,\n",
      "             ('Drugs', 'TRAFFICKING-OTHER CDSA'): 24,\n",
      "             ('Liquor', 'LIQUOR (LCLA) ACT-OTHER'): 287,\n",
      "             ('Liquor', 'LIQUOR-CONSUME IN PUBLIC PLACE'): 602,\n",
      "             ('Liquor', 'LIQUOR-INTOX IN PUBLIC PLACE'): 6993,\n",
      "             ('Liquor', 'LIQUOR-SEIZURE'): 12,\n",
      "             ('Other', 'ANIMAL CALLS'): 540,\n",
      "             ('Other', 'BYLAW-NOISE'): 4318,\n",
      "             ('Other', 'OBSTRUCT PEACE/PUBLIC OFFICER'): 338,\n",
      "             ('Other', 'SUSPICIOUS PERS/VEH/OCCURRENCE'): 11319,\n",
      "             ('Property Crime', 'FRAUD-CHEQUE'): 29,\n",
      "             ('Property Crime', 'FRAUD-CREDIT/DEBIT CARD'): 38,\n",
      "             ('Property Crime', 'MISCHIEF $5000 OR UNDER'): 5659,\n",
      "             ('Property Crime', 'MISCHIEF OVER $5000'): 59,\n",
      "             ('Robbery', 'ROBBERY W/OTHER OFFENSIVE WPN'): 159,\n",
      "             ('Robbery', 'ROBBERY-OTHER'): 385,\n",
      "             ('Theft', 'THEFT BICYCLE OVER $5000'): 33,\n",
      "             ('Theft', 'THEFT BICYCLE UNDER $5000'): 3415,\n",
      "             ('Theft', 'THEFT-ELEC/GAS/TEL UNDER $5000'): 17,\n",
      "             ('Theft', 'THEFT-OTHER OVER $5000'): 150,\n",
      "             ('Theft', 'THEFT-OTHER UNDER $5000'): 6417,\n",
      "             ('Theft', 'THEFT-SHOPLIFTING OVER $5000'): 12,\n",
      "             ('Theft', 'THEFT-SHOPLIFTING UNDER $5000'): 4641,\n",
      "             ('Theft from Vehicle', 'THEFT FROM MV OVER $5000'): 92,\n",
      "             ('Theft from Vehicle', 'THEFT FROM MV UNDER $5000'): 6551,\n",
      "             ('Theft of Vehicle', 'TAKE AUTO W/O CONSENT U/$5000'): 28,\n",
      "             ('Theft of Vehicle', 'THEFT MOTORCYCLE UNDER $5000'): 160,\n",
      "             ('Theft of Vehicle', 'THEFT OF AUTO OVER $5000'): 160,\n",
      "             ('Theft of Vehicle', 'THEFT OF AUTO UNDER $5000'): 322,\n",
      "             ('Theft of Vehicle', 'THEFT OF TRUCK OVER $5000'): 63,\n",
      "             ('Theft of Vehicle', 'THEFT OF TRUCK UNDER $5000'): 120,\n",
      "             ('Theft of Vehicle', 'THEFT OTHER VEHICLE U/$5000'): 18,\n",
      "             ('Traffic', '215 ALCOH-24HR'): 303,\n",
      "             ('Traffic', '215 DRUG'): 274,\n",
      "             ('Traffic', '215ALCOH IRP WARN-30DAY'): 14,\n",
      "             ('Traffic', '215ALCOH IRP WARN-3DAY'): 344,\n",
      "             ('Traffic', '215ALCOH IRP WARN-7DAY'): 24,\n",
      "             ('Traffic', 'COLLISION-DAMAGE OVER $1000'): 2057,\n",
      "             ('Traffic', 'COLLISION-DAMAGE UNDER $1000'): 1663,\n",
      "             ('Traffic', 'COLLISION-NON-FATAL INJURY'): 1151,\n",
      "             ('Traffic', 'DRIVING COMPLAINTS'): 2061,\n",
      "             ('Traffic', 'EXCESSIVE SPEED-OVER 40KM'): 8,\n",
      "             ('Traffic', 'IMPAIRED OP MOTOR VEH (ALCOH)'): 1355,\n",
      "             ('Traffic', 'TRAFFIC-INSURANCE VIOLATION'): 2311,\n",
      "             ('Traffic', 'TRAFFIC-OTHER FEDERAL'): 27,\n",
      "             ('Traffic', 'TRAFFIC-OTHER MOVING PROV'): 2246,\n",
      "             ('Traffic', 'TRAFFIC-OTHER MUNICIPAL'): 281,\n",
      "             ('Traffic', 'TRAFFIC-OTHER NON-MOVE PROV'): 973,\n",
      "             ('Traffic', 'TRAFFIC-WRITTEN WARNING'): 35,\n",
      "             ('Vehicle Stop', 'CYCLIST'): 1091,\n",
      "             ('Vehicle Stop', 'VEHICLE'): 3182,\n",
      "             ('Vehicle Stop', 'VI-VEHICLE IMPOUNDMENT'): 45,\n",
      "             ('Weapons Offense', 'FIREARM-POINTING'): 7,\n",
      "             ('Weapons Offense', 'WEAPONS POSS-CONTRARY TO ORDER'): 21,\n",
      "             ('Weapons Offense', 'WEAPONS-POSSESSION'): 645})\n"
     ]
    }
   ],
   "source": [
    "import pprint as pp\n",
    "pp.pprint(vpd.all_tots)"
   ]
  },
  {
   "cell_type": "code",
   "execution_count": null,
   "metadata": {
    "collapsed": true
   },
   "outputs": [],
   "source": [
    "print(vpd.weekdaycount( ('Vehicle Stop', 'CYCLIST')  ))"
   ]
  },
  {
   "cell_type": "code",
   "execution_count": null,
   "metadata": {
    "collapsed": true
   },
   "outputs": [],
   "source": [
    "x, y = vpd.xyplot('Traffic', 'COLLISION-DAMAGE UNDER $1000', 1 )\n",
    "import matplotlib.pyplot as plt\n",
    "%pylab nbagg\n",
    "plt.title(\"Min daily temp vs. number of collisions on that day\")\n",
    "plt.scatter(x,y)"
   ]
  },
  {
   "cell_type": "markdown",
   "metadata": {},
   "source": [
    "## What we really want to do\n",
    "\n",
    "**Question** Is look at on day $x$ if it rains, freezes that *night*, is there a disproporionate number of accidents on day $x+1$? \n",
    "\n",
    "**Strategy** \n",
    "\n",
    " * Iterate through every day in the weather data. \n",
    " * Look for days with rain, and min temperature < 0. \n",
    " * Check to see if we have the crime data for the **next** day.\n",
    " * Count car accidents above and below \\$1000. \n",
    " \n",
    " * Compare these numbers to normal days. \n",
    " \n",
    "**Once you have complete this**\n",
    "\n",
    " * Do accidents after freezing rain happen on hills?  Intersections? Make a heat map of all the accident locations. "
   ]
  },
  {
   "cell_type": "code",
   "execution_count": 18,
   "metadata": {
    "collapsed": false
   },
   "outputs": [
    {
     "data": {
      "text/plain": [
       "(10.2, 4.6, 7.4, 11.8, 0.0)"
      ]
     },
     "execution_count": 18,
     "metadata": {},
     "output_type": "execute_result"
    }
   ],
   "source": [
    "import datetime as dt\n",
    "vpd.wdatlist[ dt.date(2016, 1, 16) ]\n",
    "## weather data Jan 16th, 2016. \n",
    "## Max 10.2 c\n",
    "## Min 4.6 c\n",
    "## Mean 7.4 c\n",
    "## 11.8mm rain! \n",
    "## 0.0 cm snow."
   ]
  },
  {
   "cell_type": "code",
   "execution_count": null,
   "metadata": {
    "collapsed": true
   },
   "outputs": [],
   "source": [
    "## vpd.wdatlist is dictorary:\n",
    "## indexed by date\n",
    "## vpd.wdatlist[date data] = (max c, min c, mean c, rain cm, snow cm)\n",
    "\n",
    "f_rain_events = []\n",
    "\n",
    "## iterating the wdatlist dictionary\n",
    "for dat, wdat in vpd.wdatlist.items():\n",
    "    ## dat is the date, wdat is wdatlist[dat], i.e. the weather tuple\n",
    "    if (wdat[1]<0.0) and (wdat[3]>0.0):\n",
    "        #print(\"date = \",dat, \"weather = \", wdat)\n",
    "        f_rain_events.append(dat)\n",
    "\n",
    "print(len(f_rain_events), \" freezing rain events.\")\n",
    "sfre = sorted(f_rain_events)\n",
    "#for x in sfre:\n",
    "#    print(x)\n",
    "    "
   ]
  },
  {
   "cell_type": "code",
   "execution_count": 39,
   "metadata": {
    "collapsed": false
   },
   "outputs": [
    {
     "name": "stdout",
     "output_type": "stream",
     "text": [
      "167   ? maybe relevant ? traffic events after freezing rain, on all days.\n",
      "80  total days w/ freezing rain. \n"
     ]
    }
   ],
   "source": [
    "## Let's look for crime records on f_rain_events day + 1. \n",
    "##  for this we need the timedelta object (a difference of dates)\n",
    "one_day = dt.timedelta(1) ## see time delta docs\n",
    "\n",
    "hdata = []\n",
    "\n",
    "tinc_after = []\n",
    "for x in f_rain_events:\n",
    "    next_day = x + one_day\n",
    "    ## let's look for next_day in the crime data. \n",
    "    for c in vpd.cdata:\n",
    "        if (c.incident_datetime.date() == next_day) and\\\n",
    "           (c.parent_incident_type=='Traffic') and\\\n",
    "           ( (c.incident_type_primary==\"COLLISION-DAMAGE OVER $1000\") or\\\n",
    "             (c.incident_type_primary==\"COLLISION-DAMAGE UNDER $1000\") or\\\n",
    "             (c.incident_type_primary=='COLLISION-NON-FATAL INJURY')):\n",
    "            tinc_after.append(c)\n",
    "            hdata.append( [c.latitude, c.longitude, 0.02] )\n",
    "print(len(tinc_after), \"  ? maybe relevant ? traffic events after freezing rain, on all days.\")\n",
    "print(len(f_rain_events), \" total days w/ freezing rain. \")"
   ]
  },
  {
   "cell_type": "code",
   "execution_count": 40,
   "metadata": {
    "collapsed": false
   },
   "outputs": [
    {
     "data": {
      "text/html": [
       "<div style=\"width:100%;\"><div style=\"position:relative;width:100%;height:0;padding-bottom:60%;\"><iframe src=\"data:text/html;base64,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\" style=\"position:absolute;width:100%;height:100%;left:0;top:0;\"></iframe></div></div>"
      ],
      "text/plain": [
       "<folium.folium.Map at 0x7f7e0a89b588>"
      ]
     },
     "execution_count": 40,
     "metadata": {},
     "output_type": "execute_result"
    }
   ],
   "source": [
    "## let's build a heat map of collisions after freezing rain. \n",
    "expaths = [\"/usr/lib/python3/dist-packages\", \"/usr/local/lib/python3.5/dist-packages\"]\n",
    "for xp in expaths:\n",
    "    if (xp not in sys.path):\n",
    "        sys.path.append(xp)\n",
    "\n",
    "## sudo pip install folium\n",
    "\n",
    "import folium as fo\n",
    "from folium import plugins as fpl\n",
    "\n",
    "mapa = fo.Map([48.4323, -123.3720], tiles='Stamen Terrain', zoom_start=13)\n",
    "mapa.add_children(fpl.HeatMap(hdata))\n",
    "#mapa.create_map(path='assault.wdw.heatmap.html')\n",
    "mapa"
   ]
  },
  {
   "cell_type": "markdown",
   "metadata": {},
   "source": [
    "\n",
    "## Lab 2\n",
    "\n",
    "TBA\n"
   ]
  },
  {
   "cell_type": "code",
   "execution_count": null,
   "metadata": {
    "collapsed": true
   },
   "outputs": [],
   "source": []
  }
 ],
 "metadata": {
  "anaconda-cloud": {},
  "kernelspec": {
   "display_name": "Python [default]",
   "language": "python",
   "name": "python3"
  },
  "language_info": {
   "codemirror_mode": {
    "name": "ipython",
    "version": 3
   },
   "file_extension": ".py",
   "mimetype": "text/x-python",
   "name": "python",
   "nbconvert_exporter": "python",
   "pygments_lexer": "ipython3",
   "version": "3.5.2"
  }
 },
 "nbformat": 4,
 "nbformat_minor": 1
}
