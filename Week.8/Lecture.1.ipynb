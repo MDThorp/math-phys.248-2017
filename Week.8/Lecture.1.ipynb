{
 "cells": [
  {
   "cell_type": "markdown",
   "metadata": {},
   "source": [
    "# Mid-Term Exam\n",
    "\n",
    "In today's class we will have the [mid-term exam](../Exams/Mid-Term.ipynb).  Please click on the link at the start of class -- the exam will not be available any earlier. \n",
    "\n",
    "You have the entire 80-minutes of class time for the exam. \n",
    "\n",
    "During the exam, continue to **add**, **commit** and **push** your progress to your Bitbucket **mp248** repository.  Make the directory **Exams** at the root of your mp248 repository, and store your exam in the **Exams/Mid-Term.ipynb** file. The version of your exam on your mp248 repository at *11:20am* is the version that will be graded. \n",
    "\n",
    "## Rules:\n",
    "\n",
    "You are free to use any resource from the course during the exam, including:\n",
    "\n",
    " - homework assignments including solutions,\n",
    " - labs, \n",
    " - the lecture material, \n",
    " \n",
    "Feel free to use the internet, such as Google searches and on-line Python documentation.   You **can not** ask questions of your fellow-students, nor interact with people on-line or with your laptops or any other electronics such as a cell phone.\n"
   ]
  },
  {
   "cell_type": "code",
   "execution_count": null,
   "metadata": {
    "collapsed": true
   },
   "outputs": [],
   "source": []
  }
 ],
 "metadata": {
  "anaconda-cloud": {},
  "kernelspec": {
   "display_name": "Python [default]",
   "language": "python",
   "name": "python3"
  },
  "language_info": {
   "codemirror_mode": {
    "name": "ipython",
    "version": 3
   },
   "file_extension": ".py",
   "mimetype": "text/x-python",
   "name": "python",
   "nbconvert_exporter": "python",
   "pygments_lexer": "ipython3",
   "version": "3.5.2"
  }
 },
 "nbformat": 4,
 "nbformat_minor": 1
}
