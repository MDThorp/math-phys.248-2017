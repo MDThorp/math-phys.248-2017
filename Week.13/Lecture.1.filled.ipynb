{
 "cells": [
  {
   "cell_type": "markdown",
   "metadata": {},
   "source": [
    "# Image analysis\n",
    "\n",
    "This week let's consider some basic image analysis problems.\n",
    "\n",
    "Transformations, blurring, sharpening, etc. \n",
    "\n",
    "## Topic 1 - Image representation\n",
    "\n",
    "Computer images (in particular **.png** files) are stored as $r \\times c \\times 3$ arrays of floating-point numbers.  $r$ represents the rows, $c$ the columns and the $3$ is for the *red*, *green* and *blue* colour fields. \n",
    "\n",
    "Representing a picture in this format is good for adjusting colour levels, converting to grayscale, etc.  But it is not particularly useful for resizing the image.  Or extracting features such as transitions, or edge detection.  \n",
    "\n",
    "More afield, the subject of *computer vision* looks for techniques of automatically extracting information from images.  Think of products like *Google glass*, it is something of an attempt at a heads-up-display like in the Iron Man movie.  Its goal is to be an assistant, to identify products, people, dangers, etc. "
   ]
  },
  {
   "cell_type": "markdown",
   "metadata": {},
   "source": [
    "There are many techniques for representing real-valued functions, for example,\n",
    "\n",
    "* Polynomials and power series \n",
    "$$f(x) \\simeq a_0 + a_1 x + a_2 x^2 + \\cdots $$\n",
    "\n",
    "* Trigonometric functions and Fourier series \n",
    "$$f(x) \\simeq a_0 \\cos x + a_1 \\sin x + a_2 \\cos 2x + a_3 \\sin 2x + \\cdots$$\n",
    "\n",
    "For **polynomial representation** of functions, we have two primary techniques that could be useful for us.  There is the [Stone-Weirstrauss Bernstein](https://en.wikipedia.org/wiki/Bernstein_polynomial) Theorem, which states that all functions can be approximated by polynomials.  Bernstein's approach gives an algorithm that we could implement.  Of course, the power series technique is also potentially available but it is riddled with problems:\n",
    "\n",
    " * Data does not always come equipped with derivatives. \n",
    " * Raw data is rarely *analytic* i.e. the power series often will not converge to the data. \n",
    "\n",
    "For **trigonometric representation** of functions, there is a beautiful tool called [Fourier series](https://en.wikipedia.org/wiki/Fourier_series).  This theory provides a tool that allows one to write a (continuous) $2\\pi$-periodic function\n",
    "\n",
    "$$f(x+2\\pi) = f(x)$$\n",
    "\n",
    "as a sum of trig functions, specifically:\n",
    "\n",
    "$$f(x) = c + a_1\\sin(x) + b_1\\cos(x) + a_2\\sin(2x) + b_2\\cos(2x) + a_3\\sin(3x) + b_3\\cos(3x) + \\cdots$$\n",
    "\n",
    "and the coefficients $c, a_i, b_i$ are computable via integration. "
   ]
  },
  {
   "cell_type": "markdown",
   "metadata": {},
   "source": [
    "Let's start by picking a random image from the internet. \n",
    "\n",
    "<img src=\"platypus_on_a_rock.png\">"
   ]
  },
  {
   "cell_type": "markdown",
   "metadata": {},
   "source": []
  },
  {
   "cell_type": "code",
   "execution_count": null,
   "metadata": {
    "collapsed": false
   },
   "outputs": [],
   "source": [
    "%matplotlib nbagg\n",
    "#%matplotlib inline\n",
    "import matplotlib.image as mpimg\n",
    "import matplotlib.pyplot as plt\n",
    "import numpy as np\n",
    "\n",
    "img = mpimg.imread('platypus_on_a_rock.smaller.png')\n",
    "print(type(img))\n",
    "print(img.shape)"
   ]
  },
  {
   "cell_type": "markdown",
   "metadata": {},
   "source": [
    "## Mechanics of Fourier series\n",
    "\n",
    "Given a continuous $2\\pi$-periodic function $f : \\mathbb R \\to \\mathbb C$ the (complex) Fourier series for $f$ is\n",
    "\n",
    "$$f(x) = \\sum_{k \\in \\mathbb Z} c_k e^{ikx} $$\n",
    "\n",
    "where the coefficients are given by\n",
    "\n",
    "$$c_k = \\frac{1}{2\\pi}  \\int_{-\\pi}^\\pi f(x) e^{-ikx} dx. $$"
   ]
  },
  {
   "cell_type": "markdown",
   "metadata": {},
   "source": [
    "In the case of real-valued functions we rewrite the above in terms of trig functions.  The idea is to observe that $f$ being real forces $c_{-k} = \\overline{c_k}$, so one can fold the series for $f$ to\n",
    "\n",
    "$$f(x) = c_0 + \\sum_{k \\in \\mathbb N} c_ke^{ikx} + \\overline{c_k e^{ikx}} dx$$\n",
    "\n",
    "further writing $e^{ikx}$ and $c_k$ in terms of its real and imaginary parts gives\n",
    "\n",
    "$$f(x) = c_0 + \\sum_{k \\in \\mathbb N} a_k \\cos(kx) + b_k \\sin(kx) $$\n",
    "\n",
    "where $c_0$ is as before $c_0 = \\frac{1}{2\\pi} \\int_{-\\pi}^\\pi f(x) dx$ and\n",
    "\n",
    "$$a_k = \\frac{1}{\\pi} \\int_{-\\pi}^\\pi f(x) \\cos(kx) dx$$\n",
    "\n",
    "$$b_k = \\frac{1}{\\pi} \\int_{-\\pi}^\\pi f(x) \\sin(kx) dx$$"
   ]
  },
  {
   "cell_type": "markdown",
   "metadata": {},
   "source": [
    "## Multi-variable Fourier series\n",
    "\n",
    "There is an an analogous theory for multi-variable $2\\pi$-periodic continuous functions in the plane.  By periodic we mean functions that satisfy\n",
    "\n",
    "$$f(x + 2\\pi, y) = f(x,y) = f(x,y+2\\pi)$$\n",
    "\n",
    "The Fourier expansion for them is a series expression\n",
    "\n",
    "$$f(x,y) = \\sum_{j,k \\in \\mathbb Z} c_{jk} e^{i(jx+ky)} $$\n",
    "\n",
    "where\n",
    "\n",
    "$$c_{jk} = \\frac{1}{4\\pi^2} \\int_{-\\pi}^\\pi \\int_{-\\pi}^\\pi f(x,y) e^{-i(jx+ky)} dx dy$$\n",
    "\n",
    "an analogous argument shows us that\n",
    "\n",
    "$$c_{-j,-k} = \\overline{c_{jk}}$$\n",
    "\n",
    "provided $f$ is real-valued, giving us"
   ]
  },
  {
   "cell_type": "markdown",
   "metadata": {
    "collapsed": false,
    "scrolled": true
   },
   "source": [
    "$$f(x,y) = c_{00} + \\sum_{j,k} a_{jk} \\cos(jx+ky) + b_{jk} \\sin(jx+ky)$$  \n",
    "\n",
    "with \n",
    "$$a_{jk} = \\frac{1}{2\\pi^2} \\int_{\\pi}^\\pi \\int_{-\\pi}^{\\pi} f(x,y) \\cos(jx+ky) dxdy$$\n",
    "$$b_{jk} = \\frac{1}{2\\pi^2} \\int_{\\pi}^\\pi \\int_{-\\pi}^{\\pi} f(x,y) \\sin(jx+ky) dxdy$$\n",
    "\n",
    "where the sum is over integer pairs $(j,k) \\in \\mathbb Z^2 \\setminus \\{0\\}$, taking only one representative up to negation $\\pm (j,k)$.  Perhaps the simplest way to do this would be to consider only the pairs $(j,k)$ with $j>0$, or $j=0$ with $k>0$. "
   ]
  },
  {
   "cell_type": "code",
   "execution_count": null,
   "metadata": {
    "collapsed": false
   },
   "outputs": [],
   "source": [
    "## Let's code up the integrals for the a_jk and b_jk coefficients.  Let's store the coefficients\n",
    "## as defaultdicts. Probably the simplest. \n",
    "\n",
    "from collections import defaultdict\n",
    "import itertools as it\n",
    "\n",
    "##img.shape[0] and [1] are the width of the x and y fields, respectively. For the purpose of integration\n",
    "## we can have x and y integers between 0 and img.shape[0,1], but  we compute cos(jx*2pi/img.shape[0]), etc. \n",
    "\n",
    "def fourierSeries(img, jr, kr):\n",
    "    ## indexed by (j,k,c) j and k integers, c = 0,1,2 color channel. \n",
    "    ajk = defaultdict(float)\n",
    "    bjk = defaultdict(float)\n",
    "    for j,k,c in it.product(range(-jr, jr), range(kr), range(3)):\n",
    "        apsum = 0.0\n",
    "        bpsum = 0.0\n",
    "        for x,y in it.product( range(img.shape[0]), range(img.shape[1]) ):\n",
    "            apsum += (2.0/(img.shape[0]*img.shape[1]))*img[x,y,c]*\\\n",
    "                            np.cos(2*np.pi*(j*x/img.shape[0]+k*y/img.shape[1]))\n",
    "            bpsum += (2.0/(img.shape[0]*img.shape[1]))*img[x,y,c]*\\\n",
    "                            np.sin(2*np.pi*(j*x/img.shape[0]+k*y/img.shape[1]))\n",
    "        ajk[(j,k,c)] = apsum\n",
    "        bjk[(j,k,c)] = bpsum\n",
    "    for c in range(3): ajk[(0,0,c)] *= 0.5\n",
    "    return ajk, bjk\n",
    "\n",
    "## give the ajk and bjk arrays, and xresolution, yresolution\n",
    "def undoFourier(ajk, bjk, xr, yr):\n",
    "    imgarray = np.ndarray( (xr,yr,3) ) ## set type to int.\n",
    "    for x,y in it.product( range(xr), range(yr) ):\n",
    "        lev = [0.0,0.0,0.0]\n",
    "        \n",
    "        for I,v in ajk.items(): \n",
    "            if I[1]==0 and I[0]<0: continue\n",
    "            lev[I[2]] += v*np.cos(2*np.pi*(I[0]*x/xr+I[1]*y/yr))\n",
    "        for I,v in bjk.items():\n",
    "            if I[1]==0 and I[0]<0: continue\n",
    "            lev[I[2]] += v*np.sin(2*np.pi*(I[0]*x/xr+I[1]*y/yr))\n",
    "            \n",
    "        ## compute the level. . . we need a sum over . . .? \n",
    "        for c in range(3): \n",
    "            if lev[c]>1.0: lev[c]=1.0\n",
    "            if lev[c]<0.0: lev[c]=0.0\n",
    "            imgarray[x,y,c] = lev[c]\n",
    "        \n",
    "    return imgarray"
   ]
  },
  {
   "cell_type": "code",
   "execution_count": null,
   "metadata": {
    "collapsed": false
   },
   "outputs": [],
   "source": [
    "xs = img.shape[0]\n",
    "ys = img.shape[1]\n",
    "print(xs, ys)"
   ]
  },
  {
   "cell_type": "code",
   "execution_count": null,
   "metadata": {
    "collapsed": false
   },
   "outputs": [],
   "source": [
    "af, bf = fourierSeries(img, 3,3)"
   ]
  },
  {
   "cell_type": "code",
   "execution_count": null,
   "metadata": {
    "collapsed": true
   },
   "outputs": [],
   "source": [
    "img2 = undoFourier(af, bf, xs, ys)"
   ]
  },
  {
   "cell_type": "code",
   "execution_count": null,
   "metadata": {
    "collapsed": false
   },
   "outputs": [],
   "source": [
    "plt.imshow(img2)"
   ]
  },
  {
   "cell_type": "markdown",
   "metadata": {},
   "source": [
    "### Okay, that's really slow!  Let's try something else. \n",
    "\n",
    "The [Fast Fourier Transform](https://en.wikipedia.org/wiki/Fast_Fourier_transform) is an alternative family of algorithms to compute Fourier series.  These algorithms are (usually) based on matrix algebra factorizations. \n",
    "\n",
    "Lucky for us, **numpy** has an [implementation](https://docs.scipy.org/doc/numpy/reference/routines.fft.html) implementation of the Fast Fourier Transform.  Let's try it. \n",
    "\n",
    "**What we need to know** the numpy 2-dimensional Fourier transform is called **fft2**.  It takes as input a numpy 2-dimensional array of floats.  \n",
    "\n",
    "The first thing we will need to do is split our **y by x by 3** numpy array into three **y by x** arrays, one for each color.  The [**numpy.moveaxis**](https://docs.scipy.org/doc/numpy/reference/generated/numpy.moveaxis.html#numpy.moveaxis) command is useful for this step. "
   ]
  },
  {
   "cell_type": "code",
   "execution_count": null,
   "metadata": {
    "collapsed": false
   },
   "outputs": [],
   "source": [
    "img = mpimg.imread('platypus_on_a_rock.png')\n",
    "print(type(img))\n",
    "print(img.shape)\n",
    "\n",
    "img2 = np.moveaxis(img, 2, 0)\n",
    "print(img2.shape)\n",
    "\n",
    "## blue part\n",
    "print(\"Blue field of image\")\n",
    "plt.imshow(img2[2], cmap='gray')"
   ]
  },
  {
   "cell_type": "code",
   "execution_count": null,
   "metadata": {
    "collapsed": false
   },
   "outputs": [],
   "source": [
    "plt.close()\n",
    "\n",
    "## Good, we have our three colour slices of the image now.\n",
    "imgFTS = [np.fft.fftshift(np.fft.fft2(img2[k])) for k in range(3)]\n",
    "\n",
    "ctr = img.shape[0]//2 ## row count\n",
    "ctc = img.shape[1]//2 ## column count\n",
    "\n",
    "## grab low frequencies from Fourier transform\n",
    "##  all fields zero, except low frequency.\n",
    "\n",
    "## technical detail disguised -- these need to be complex arrays, not\n",
    "## real floats!  \n",
    "imgFTSLF = [np.zeros_like(imgFTS[k]) for k in range(3)]\n",
    "## take the LowF smallest frequencies.\n",
    "LowF = 40\n",
    "for i in range(ctr-LowF, ctr+LowF+1):\n",
    "    for j in range(ctc-LowF, ctc+LowF+1):\n",
    "        for k in range(3):\n",
    "            imgFTSLF[k][i, j] = imgFTS[k][i,j]\n",
    "\n",
    "imgFTLF = [np.fft.ifftshift(imgFTSLF[k]) for k in range(3)]\n",
    "imgLowF = [np.abs(np.fft.ifft2(imgFTLF[k])) for k in range(3)]\n",
    "imgLowF = np.array(imgLowF)\n",
    "imgLowF = np.moveaxis(imgLowF, 0, 2)\n",
    "\n",
    "plt.imshow(imgLowF)"
   ]
  },
  {
   "cell_type": "code",
   "execution_count": null,
   "metadata": {
    "collapsed": false
   },
   "outputs": [],
   "source": [
    "from matplotlib import animation as ani\n",
    "\n",
    "plt.close()\n",
    "\n",
    "fig = plt.figure(figsize=(10,10))\n",
    "\n",
    "## Good, we have our three colour slices of the image now.\n",
    "imgFTS = [np.fft.fftshift(np.fft.fft2(img2[k])) for k in range(3)]\n",
    "\n",
    "ctr = img.shape[0]//2 ## row count\n",
    "ctc = img.shape[1]//2 ## column count\n",
    "\n",
    "pic = plt.imshow(img)\n",
    "\n",
    "def init():\n",
    "    pic.set_data(img)\n",
    "    return pic\n",
    "\n",
    "## grab low frequencies from Fourier transform\n",
    "##  all fields zero, except low frequency.\n",
    "def animate(res):\n",
    "    imgFTSLF = [np.zeros_like(imgFTS[k]) for k in range(3)]\n",
    "    ## take the LowF smallest frequencies.\n",
    "    LowF = res\n",
    "    for i in range(ctr-LowF, ctr+LowF+1):\n",
    "        for j in range(ctc-LowF, ctc+LowF+1):\n",
    "            for k in range(3):\n",
    "                imgFTSLF[k][i, j] = imgFTS[k][i,j]\n",
    "\n",
    "    imgFTLF = [np.fft.ifftshift(imgFTSLF[k]) for k in range(3)]\n",
    "    imgLowF = [np.abs(np.fft.ifft2(imgFTLF[k])) for k in range(3)]\n",
    "    imgLowF = np.array(imgLowF)\n",
    "    imgLowF = np.moveaxis(imgLowF, 0, 2)\n",
    "\n",
    "    pic.set_data(imgLowF)\n",
    "    return pic\n",
    "\n",
    "anim = ani.FuncAnimation(fig, animate, init_func=init,\\\n",
    "                         frames=[i+2 for i in range(100)], interval=1)\n",
    "plt.show()"
   ]
  },
  {
   "cell_type": "markdown",
   "metadata": {},
   "source": [
    "### Let's try the opposite, looking at the high frequencies. "
   ]
  },
  {
   "cell_type": "code",
   "execution_count": null,
   "metadata": {
    "collapsed": false
   },
   "outputs": [],
   "source": [
    "plt.close()\n",
    "\n",
    "## Good, we have our three colour slices of the image now.\n",
    "imgFTS = [np.fft.fftshift(np.fft.fft2(img2[k])) for k in range(3)]\n",
    "\n",
    "ctr = img.shape[0]//2 ## row count\n",
    "ctc = img.shape[1]//2 ## column count\n",
    "\n",
    "## grab low frequencies from Fourier transform\n",
    "##  all fields zero, except low frequency.\n",
    "\n",
    "LowF = 40\n",
    "for i in range(ctr-LowF, ctr+LowF+1):\n",
    "    for j in range(ctc-LowF, ctc+LowF+1):\n",
    "        for k in range(3):\n",
    "            imgFTS[k][i, j] = 0.0\n",
    "\n",
    "imgFTLF = [np.fft.ifftshift(imgFTS[k]) for k in range(3)]\n",
    "imgHighF = [np.abs(np.fft.ifft2(imgFTLF[k])) for k in range(3)]\n",
    "imgHighF = np.array(imgHighF)\n",
    "imgHighF = np.moveaxis(imgHighF, 0, 2)\n",
    "\n",
    "plt.imshow(imgHighF)"
   ]
  },
  {
   "cell_type": "markdown",
   "metadata": {},
   "source": [
    "### And again, let's animate it."
   ]
  },
  {
   "cell_type": "code",
   "execution_count": null,
   "metadata": {
    "collapsed": false
   },
   "outputs": [],
   "source": [
    "plt.close()\n",
    "\n",
    "fig = plt.figure(figsize=(10,10))\n",
    "\n",
    "## Good, we have our three colour slices of the image now.\n",
    "imgFTS = [np.fft.fftshift(np.fft.fft2(img2[k])) for k in range(3)]\n",
    "\n",
    "ctr = img.shape[0]//2 ## row count\n",
    "ctc = img.shape[1]//2 ## column count\n",
    "\n",
    "pic = plt.imshow(img)\n",
    "\n",
    "def init():\n",
    "    pic.set_data(img)\n",
    "    return pic\n",
    "\n",
    "## grab low frequencies from Fourier transform\n",
    "##  all fields zero, except low frequency.\n",
    "def animate(res):\n",
    "    imgFTSt = np.copy(imgFTS)\n",
    "    \n",
    "    ## take the LowF smallest frequencies.\n",
    "    LowF = res\n",
    "    for i in range(ctr-LowF, ctr+LowF+1):\n",
    "        for j in range(ctc-LowF, ctc+LowF+1):\n",
    "            for k in range(3):\n",
    "                imgFTSt[k][i, j] = 0.0\n",
    "\n",
    "    imgFTLF = [np.fft.ifftshift(imgFTSt[k]) for k in range(3)]\n",
    "    imgHighF = [np.abs(np.fft.ifft2(imgFTLF[k])) for k in range(3)]\n",
    "    imgHighF = np.array(imgHighF)\n",
    "    imgHighF = np.moveaxis(imgHighF, 0, 2)\n",
    "\n",
    "    pic.set_data(imgHighF)\n",
    "    return pic\n",
    "\n",
    "anim = ani.FuncAnimation(fig, animate, init_func=init,\\\n",
    "                         frames=[0 for i in range(100)], interval=1)\n",
    "plt.show()"
   ]
  },
  {
   "cell_type": "markdown",
   "metadata": {},
   "source": [
    "### the scikit-image library\n",
    "\n",
    "Is a useful resource for robustly-coded image manipulation algorithms."
   ]
  },
  {
   "cell_type": "code",
   "execution_count": null,
   "metadata": {
    "collapsed": false
   },
   "outputs": [],
   "source": [
    "from skimage import data, io, segmentation, color, transform\n",
    "from skimage.future import graph\n",
    "\n",
    "plt.close()\n",
    "img = mpimg.imread('platypus_on_a_rock.png')\n",
    "imgr = transform.resize(img, (400, 600))\n",
    "plt.imshow(imgr)"
   ]
  },
  {
   "cell_type": "code",
   "execution_count": null,
   "metadata": {
    "collapsed": false
   },
   "outputs": [],
   "source": [
    "from scipy import ndimage as ndi\n",
    "\n",
    "\n",
    "plt.close()\n",
    "\n",
    "im = ndi.rotate(img, 15, mode='constant')\n",
    "plt.imshow(im)"
   ]
  },
  {
   "cell_type": "markdown",
   "metadata": {},
   "source": [
    "[Canny Edge Detector](https://en.wikipedia.org/wiki/Canny_edge_detector)\n"
   ]
  },
  {
   "cell_type": "code",
   "execution_count": null,
   "metadata": {
    "collapsed": false
   },
   "outputs": [],
   "source": [
    "from skimage.color import rgb2gray\n",
    "from skimage import feature\n",
    "\n",
    "imG = rgb2gray(img) ## grayscale version \n",
    "\n",
    "edg1 = feature.canny(imG)\n",
    "edg2 = feature.canny(imG, sigma=3)\n",
    "\n",
    "plt.close()\n",
    "\n",
    "fig, (ax1, ax2, ax3) = plt.subplots(nrows=1, ncols=3)\n",
    "ax1.imshow(imG, cmap = plt.get_cmap('gray'))\n",
    "ax2.imshow(edg1, cmap = plt.get_cmap('gray'))\n",
    "ax3.imshow(edg2, cmap = plt.get_cmap('gray'))\n",
    "plt.show()"
   ]
  },
  {
   "cell_type": "markdown",
   "metadata": {},
   "source": [
    "[CENSURE feature detector](http://scikit-image.org/docs/dev/auto_examples/features_detection/plot_censure.html)"
   ]
  },
  {
   "cell_type": "code",
   "execution_count": null,
   "metadata": {
    "collapsed": false
   },
   "outputs": [],
   "source": [
    "## CENSURE feature detector\n",
    "from skimage import data\n",
    "from skimage import transform as tf\n",
    "from skimage.feature import CENSURE\n",
    "\n",
    "tform = tf.AffineTransform(scale=(1.2, 1.2), rotation=0.1,\n",
    "                           translation=(40, -80))\n",
    "img_warp = tf.warp(imG, tform)\n",
    "\n",
    "detector = CENSURE()\n",
    "\n",
    "fig, ax = plt.subplots(nrows=1, ncols=2, figsize=(12, 6))\n",
    "plt.tight_layout()\n",
    "\n",
    "detector.detect(imG)\n",
    "\n",
    "ax[0].imshow(imG, cmap=plt.cm.gray)\n",
    "ax[0].axis('off')\n",
    "ax[0].scatter(detector.keypoints[:, 1], detector.keypoints[:, 0],\n",
    "              2 ** detector.scales, facecolors='none', edgecolors='r')\n",
    "\n",
    "detector.detect(img_warp)\n",
    "\n",
    "ax[1].imshow(img_warp, cmap=plt.cm.gray)\n",
    "ax[1].axis('off')\n",
    "ax[1].scatter(detector.keypoints[:, 1], detector.keypoints[:, 0],\n",
    "              2 ** detector.scales, facecolors='none', edgecolors='r')\n",
    "\n",
    "plt.show()"
   ]
  },
  {
   "cell_type": "markdown",
   "metadata": {},
   "source": [
    "A suite of image processing examples:\n",
    "\n",
    "[Scikit-image examples](http://scikit-image.org/docs/dev/auto_examples/)\n",
    "\n",
    "[Scipy-lectures](http://www.scipy-lectures.org/advanced/image_processing/)\n",
    "\n",
    "[Pythonvision](http://pythonvision.org/basic-tutorial/)"
   ]
  },
  {
   "cell_type": "code",
   "execution_count": null,
   "metadata": {
    "collapsed": false
   },
   "outputs": [],
   "source": [
    "from skimage.filters import sobel\n",
    "from skimage.segmentation import slic, join_segmentations\n",
    "from skimage.morphology import watershed\n",
    "from skimage.color import label2rgb\n",
    "from skimage import data, img_as_float\n",
    "\n",
    "from skimage.morphology import disk\n",
    "from skimage.filters import threshold_otsu, rank\n",
    "from skimage.util import img_as_ubyte\n",
    "\n",
    "from skimage import io, segmentation, color\n",
    "from skimage.future import graph\n",
    "from skimage import data, filters, io\n",
    "from skimage.util.colormap import viridis\n",
    "\n",
    "import matplotlib\n",
    "import matplotlib.pyplot as plt"
   ]
  },
  {
   "cell_type": "markdown",
   "metadata": {},
   "source": [
    "### Otsu's method\n",
    "\n",
    "Otsu's method uses a clustering technique to turn grayscale images into *binary* images (color full 1.0 or color off 0.0). "
   ]
  },
  {
   "cell_type": "code",
   "execution_count": null,
   "metadata": {
    "collapsed": false
   },
   "outputs": [],
   "source": [
    "matplotlib.rcParams['font.size'] = 9\n",
    "img = img_as_ubyte(imG)\n",
    "\n",
    "radius = 15\n",
    "selem = disk(radius)\n",
    "\n",
    "local_otsu = rank.otsu(img, selem)\n",
    "threshold_global_otsu = threshold_otsu(img)\n",
    "global_otsu = img >= threshold_global_otsu\n",
    "\n",
    "fig, ax = plt.subplots(2, 2, figsize=(8, 5), sharex=True, sharey=True,\n",
    "                       subplot_kw={'adjustable': 'box-forced'})\n",
    "ax0, ax1, ax2, ax3 = ax.ravel()\n",
    "plt.tight_layout()\n",
    "\n",
    "fig.colorbar(ax0.imshow(img, cmap=plt.cm.gray),\n",
    "             ax=ax0, orientation='horizontal')\n",
    "ax0.set_title('Original')\n",
    "ax0.axis('off')\n",
    "\n",
    "fig.colorbar(ax1.imshow(local_otsu, cmap=plt.cm.gray),\n",
    "             ax=ax1, orientation='horizontal')\n",
    "ax1.set_title('Local Otsu (radius=%d)' % radius)\n",
    "ax1.axis('off')\n",
    "\n",
    "ax2.imshow(img >= local_otsu, cmap=plt.cm.gray)\n",
    "ax2.set_title('Original >= Local Otsu' % threshold_global_otsu)\n",
    "ax2.axis('off')\n",
    "\n",
    "ax3.imshow(global_otsu, cmap=plt.cm.gray)\n",
    "ax3.set_title('Global Otsu (threshold = %d)' % threshold_global_otsu)\n",
    "ax3.axis('off')\n",
    "\n",
    "plt.show()"
   ]
  },
  {
   "cell_type": "markdown",
   "metadata": {},
   "source": [
    "Segmentation example. "
   ]
  },
  {
   "cell_type": "code",
   "execution_count": null,
   "metadata": {
    "collapsed": false
   },
   "outputs": [],
   "source": [
    "img = mpimg.imread('platypus_on_a_rock.png')\n",
    "\n",
    "labels1 = segmentation.slic(img, compactness=20, n_segments=800)\n",
    "out1 = color.label2rgb(labels1, img, kind='avg')\n",
    "\n",
    "plt.figure()\n",
    "io.imshow(out1)\n",
    "io.show()"
   ]
  },
  {
   "cell_type": "markdown",
   "metadata": {},
   "source": [
    "Region adjacency graphs.  Technique for triangulating the image, *primary segmentation* terminology in the literature. "
   ]
  },
  {
   "cell_type": "code",
   "execution_count": null,
   "metadata": {
    "collapsed": false
   },
   "outputs": [],
   "source": [
    "plt.close()\n",
    "plt.figure()\n",
    "\n",
    "gimg = color.rgb2gray(img)\n",
    "\n",
    "labels = segmentation.slic(img, compactness=30, n_segments=400)\n",
    "edges = filters.sobel(gimg)\n",
    "edges_rgb = color.gray2rgb(edges)\n",
    "\n",
    "g = graph.rag_boundary(labels, edges)\n",
    "\n",
    "out = graph.draw_rag(labels, g, edges_rgb, node_color=\"#999999\",\n",
    "                     colormap=viridis)\n",
    "\n",
    "io.imshow(out)\n",
    "io.show()"
   ]
  },
  {
   "cell_type": "code",
   "execution_count": null,
   "metadata": {
    "collapsed": true
   },
   "outputs": [],
   "source": []
  }
 ],
 "metadata": {
  "anaconda-cloud": {},
  "kernelspec": {
   "display_name": "Python [default]",
   "language": "python",
   "name": "python3"
  },
  "language_info": {
   "codemirror_mode": {
    "name": "ipython",
    "version": 3
   },
   "file_extension": ".py",
   "mimetype": "text/x-python",
   "name": "python",
   "nbconvert_exporter": "python",
   "pygments_lexer": "ipython3",
   "version": "3.5.2"
  }
 },
 "nbformat": 4,
 "nbformat_minor": 1
}
