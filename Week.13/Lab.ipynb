{
 "cells": [
  {
   "cell_type": "markdown",
   "metadata": {},
   "source": [
    "# Labs\n",
    "\n",
    "## Lab 1 - Quiz.\n",
    "\n",
    "In today's lab we will have an exam-like quiz.  The first 30 minutes of the lab will be given to you to write the quiz. \n",
    "\n",
    "**Part 1**\n",
    "\n",
    "Define a Python function $$f(n)$$\n",
    "which takes as an argument an integer $n$, and returns an integer.  The output of $f$ is required to be half $n$ if $n$ is even.  If $n$ is odd, define $f$ to be $3n+1$, i.e.\n",
    "$$ f(n) = \\left\\{ \\matrix{n/2 & n \\text{ even} \\cr 3n+1 & n \\text{ odd}} \\right.$$"
   ]
  },
  {
   "cell_type": "code",
   "execution_count": null,
   "metadata": {
    "collapsed": true
   },
   "outputs": [],
   "source": []
  },
  {
   "cell_type": "markdown",
   "metadata": {},
   "source": [
    "**Part 2**\n",
    "\n",
    "A conjecture states that if you start off with any positive integer $n$\n",
    "\n",
    "$$ n \\in \\{ 1, 2, 3, 4, \\cdots \\} $$\n",
    "\n",
    "and apply $f$ recursively, then *eventually* you will produce the integer $1$. \n",
    "\n",
    "*A recursive application of f* means we produce a sequence of points $s_0 = n$, \n",
    "$s_1 = f(n)$, $s_2 = f(f(n))$.  In general, \n",
    "\n",
    "$$s_{k+1} = f(s_k) \\ \\ \\ if \\ \\ \\  k \\geq 0 \\ \\ \\ and \\hskip 1cm s_0 = n$$\n",
    "\n",
    "\n",
    "The conjecture is that, regardless of what *n* is, $s_k = 1$ for some $k$ that is perhaps very large. \n",
    "\n",
    "**Write a script** that *tests* this conjecture for the integers\n",
    "$$n = 2,3,4,5,\\cdots, 99, 100.$$\n",
    "\n",
    "**Moreover** create a list called *counts* that records the number of iterations it takes to verify this conjecture. i.e. *counts[k]* is the number of times one has to apply *f* recursively to *k+2* to produce *1*.\n",
    "\n",
    " - *counts[0]=1* because 2 is the first integer in our list, and *f(2)=1*. \n",
    " - *counts[1]=7* because 3 is the second integer in our list, and *f(3) = 10, f(10)=5, f(5) = 16, f(16)=8, f(8) = 4, f(4) = 2, f(2) = 1*. \n",
    " \n",
    "Print *counts* to the display.  This is for the grading script.\n"
   ]
  },
  {
   "cell_type": "code",
   "execution_count": null,
   "metadata": {
    "collapsed": false
   },
   "outputs": [],
   "source": []
  },
  {
   "cell_type": "markdown",
   "metadata": {},
   "source": [
    "**Part 3**\n",
    "\n",
    "In Part (2), for each **n** you discovered a minimum **k** such that $s_k=1$, with the sequence $s_i$ satisfying\n",
    "\n",
    "$$s_0=n \\text{ and } s_{i+1} = f(s_i) \\text{ for } i = 0, 1, 2, \\cdots $$\n",
    "\n",
    "Plot the pairs $(n,k)$. \n",
    "\n",
    " - (a) For n in the range $\\{2, 3, 4, \\cdots, 100\\}$, i.e. *counts* from part (2). \n",
    " - (b) For n in the range $\\{2, 3, 4, \\cdots, 100000\\}$ \n",
    " \n",
    "If you can **not** find $s_k=1$ you have either disproved the conjecture or made a mistake! "
   ]
  },
  {
   "cell_type": "code",
   "execution_count": null,
   "metadata": {
    "collapsed": false
   },
   "outputs": [],
   "source": []
  },
  {
   "cell_type": "markdown",
   "metadata": {
    "collapsed": false
   },
   "source": [
    "## Save your file, and push to your mp248 bitbucket repo!\n",
    "\n",
    "Save file as Quiz/quiz.3.ipynb\n",
    "\n",
    "## Lab 2\n",
    "\n",
    "Import the code from [Monday's lecture](Lecture.1.ipynb).  In this lab, you will attempt to develop a more refined edge-detection algorithm for images. \n",
    "\n",
    "Write a procedure that takes as input (a) a **.png** image as a 3-dimensional numpy array, and (b) a positive integer **k**.   The algorithm will return a **png** image, as a 3-dimensional numpy array. \n",
    "\n",
    "The return image will (we hope!) highlight the *edges* from the input image.   Here is the strategy.  Consider a $k \\times k$ *window* that moves throughout the input image.  For each such $k \\times k$ window, perform the Fast Fourier Transform on the data in the window.   Ignoring the *zero frequency term* (i.e. the average) look through the FFT to see if there is one primary direction, i.e. a *prominent wave*.  For example, compute the maximum (of the *abs*, these are complex numbers, recall) of the coefficients.  If the maximum is, say, more than twice the max of all the other coefficients, consider that to be a *prominent wave*.    Put an appropriate line segment into the new image.  If there is no such *prominent wave*, add nothing to the return image. \n",
    "\n",
    "You may want to try adjusting the threshold for deciding when a wave is *prominent* or not, to see how it affects the return image. \n"
   ]
  },
  {
   "cell_type": "markdown",
   "metadata": {},
   "source": []
  }
 ],
 "metadata": {
  "anaconda-cloud": {},
  "kernelspec": {
   "display_name": "Python [default]",
   "language": "python",
   "name": "python3"
  },
  "language_info": {
   "codemirror_mode": {
    "name": "ipython",
    "version": 3
   },
   "file_extension": ".py",
   "mimetype": "text/x-python",
   "name": "python",
   "nbconvert_exporter": "python",
   "pygments_lexer": "ipython3",
   "version": "3.5.2"
  }
 },
 "nbformat": 4,
 "nbformat_minor": 1
}
